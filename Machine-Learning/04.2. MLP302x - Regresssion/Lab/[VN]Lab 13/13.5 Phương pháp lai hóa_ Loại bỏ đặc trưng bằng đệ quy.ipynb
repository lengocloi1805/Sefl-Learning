{
 "cells": [
  {
   "cell_type": "markdown",
   "metadata": {
    "id": "nrKEv2gwkQs2"
   },
   "source": [
    "## Phương pháp lai hóa: Loại bỏ đặc trưng bằng đệ quy\n",
    "\n",
    "Phương pháp này gồm các bước sau:\n",
    "\n",
    "1) Xếp hạng các đặc trưng theo mức độ quan trọng của chúng từ thuật toán học máy: có thể là mức độ quan trọng của cây hoặc các hệ số thu được từ mô hình tuyến tính.\n",
    "\n",
    "2) Loại bỏ đặc trưng ít quan trọng nhất và xây dựng thuật toán học máy bằng với các đặc trưng còn lại.\n",
    "\n",
    "3) Tính toán phép đo chất lượng được lựa chọn: roc-auc, mse, rmse, accuracy,...\n",
    "\n",
    "4) Nếu phép đo giảm nhiều hơn ngưỡng được thiết lập tùy ý thì đặc trưng đó quan trọng và cần được giữ lại; nếu không, chúng ta có thể loại bỏ đặc trưng đó.\n",
    "\n",
    "5) Lặp lại các bước 2-4 cho đến khi tất cả các đặc trưng đã được đánh giá.\n",
    "\n",
    "\n",
    "Phương pháp này được gọi là phương pháp lai hóa vì:\n",
    "\n",
    "- nó lấy mức độ quan trọng từ thuật toán học máy như các phương pháp nhúng\n",
    "- nó xây dựng một số mô hình học máy như các phương pháp gói.\n",
    "\n",
    "Phương pháp này nhanh hơn các phương pháp gói và thường tốt hơn các phương pháp nhúng. Trên thực tế, nó hoạt động cực kỳ hiệu quả.\n",
    "\n",
    "Cần lưu ý là mức giảm chất lượng tối thiểu để quyết định xem có nên giữ lại một đặc trưng hay không được thiết lập tùy ý. Mức giảm càng nhỏ thì càng có nhiều đặc trưng được chọn và ngược lại.\n",
    "\n",
    "\n",
    "Chúng ta sẽ trình bày cách lựa chọn đặc trưng bằng phương pháp lai hóa trong bài toán hồi quy và phân loại. "
   ]
  },
  {
   "cell_type": "code",
   "execution_count": 1,
   "metadata": {
    "id": "7aMi6DDpkQs4"
   },
   "outputs": [],
   "source": [
    "import pandas as pd\n",
    "import numpy as np\n",
    "\n",
    "import matplotlib.pyplot as plt\n",
    "from sklearn.model_selection import train_test_split\n",
    "\n",
    "from sklearn.ensemble import GradientBoostingClassifier, GradientBoostingRegressor\n",
    "from sklearn.metrics import roc_auc_score, r2_score\n",
    "import warnings\n",
    "warnings.filterwarnings('ignore')"
   ]
  },
  {
   "cell_type": "markdown",
   "metadata": {
    "id": "Do6KH8VzkQtC"
   },
   "source": [
    "## Hồi quy"
   ]
  },
  {
   "cell_type": "code",
   "execution_count": 2,
   "metadata": {},
   "outputs": [],
   "source": [
    "data_path = 'D:\\\\FUNix\\\\04. Machine Learning\\\\04.2. MLP302x - Regresssion\\\\dataset'"
   ]
  },
  {
   "cell_type": "code",
   "execution_count": 3,
   "metadata": {
    "id": "LB7o04qbkQtC",
    "outputId": "b64c6294-3844-41fa-933e-528560a99e3f"
   },
   "outputs": [
    {
     "data": {
      "text/plain": [
       "(1460, 81)"
      ]
     },
     "execution_count": 3,
     "metadata": {},
     "output_type": "execute_result"
    }
   ],
   "source": [
    "# load tập dữ liệu\n",
    "\n",
    "data = pd.read_csv(data_path + '/houseprice.csv')\n",
    "data.shape"
   ]
  },
  {
   "cell_type": "code",
   "execution_count": 4,
   "metadata": {
    "id": "ReN7Z9G6kQtC",
    "outputId": "315c23cf-2bd2-49c6-ed97-2816cf98a7a4"
   },
   "outputs": [
    {
     "data": {
      "text/plain": [
       "(1460, 38)"
      ]
     },
     "execution_count": 4,
     "metadata": {},
     "output_type": "execute_result"
    }
   ],
   "source": [
    "# Trên thực tế, nên thực hiện lựa chọn đặc trưng sau khi tiền xử lý dữ liệu,\n",
    "# tất cả các biến hạng mục được mà hóa thành số,\n",
    "# và rồi chúng ta có thể đánh giá tính tất định của các mục tiêu\n",
    "\n",
    "# để đơn giản, chúng ta sẽ chỉ sử dụng biến dạng số\n",
    "# lựa chọn các cột số:\n",
    "\n",
    "numerics = ['int16', 'int32', 'int64', 'float16', 'float32', 'float64']\n",
    "numerical_vars = list(data.select_dtypes(include=numerics).columns)\n",
    "data = data[numerical_vars]\n",
    "data.shape"
   ]
  },
  {
   "cell_type": "code",
   "execution_count": 5,
   "metadata": {
    "id": "iWfeLjBFkQtD",
    "outputId": "201d2f54-bf49-40b6-c99a-1944b2b72912"
   },
   "outputs": [
    {
     "data": {
      "text/plain": [
       "((1022, 36), (438, 36))"
      ]
     },
     "execution_count": 5,
     "metadata": {},
     "output_type": "execute_result"
    }
   ],
   "source": [
    "# chia thành tập huấn luyện và tập kiểm tra\n",
    "X_train, X_test, y_train, y_test = train_test_split(\n",
    "    data.drop(labels=['Id','SalePrice'], axis=1),\n",
    "    data['SalePrice'],\n",
    "    test_size=0.3,\n",
    "    random_state=0)\n",
    "\n",
    "X_train.shape, X_test.shape"
   ]
  },
  {
   "cell_type": "code",
   "execution_count": null,
   "metadata": {
    "id": "iw7pANnNkQtD"
   },
   "outputs": [],
   "source": [
    "X_train = X_train.fillna(0)\n",
    "X_test = X_test.fillna(0)"
   ]
  },
  {
   "cell_type": "markdown",
   "metadata": {
    "id": "pgnNYBNQkQtD"
   },
   "source": [
    "### Xây dựng mô hình học máy với tất cả các đặc trưng"
   ]
  },
  {
   "cell_type": "code",
   "execution_count": null,
   "metadata": {
    "id": "nMZ16RV-kQtE",
    "outputId": "62042a34-9ee0-41d9-97db-d3779f61cefc",
    "scrolled": true
   },
   "outputs": [
    {
     "name": "stdout",
     "output_type": "stream",
     "text": [
      "Test full dataset R2 = 0.713130\n"
     ]
    }
   ],
   "source": [
    "# bước đầu tiên của quy trình này gồm xây dựng\n",
    "# một thuật toán học máy với tất cả các đặc trưng\n",
    "# rồi xác định mức độ quan trọng của các đặc trưng theo\n",
    "# thuật toán\n",
    "\n",
    "# xây dựng mô hình đầu tiên với tất cả các đặc trưng\n",
    "model_full = GradientBoostingRegressor(n_estimators=10, max_depth=4, random_state=10)\n",
    "\n",
    "model_full.fit(X_train, y_train)\n",
    "\n",
    "# tính r2 trong tập kiểm tra\n",
    "y_pred_test = model_full.predict(X_test)\n",
    "r2_full = r2_score(y_test, y_pred_test)\n",
    "\n",
    "print('Test full dataset R2 = %f' % (r2_full))"
   ]
  },
  {
   "cell_type": "markdown",
   "metadata": {
    "id": "o0sHLyjQkQtE"
   },
   "source": [
    "### Xếp hạng các đặc trưng theo mức độ quan trọng"
   ]
  },
  {
   "cell_type": "code",
   "execution_count": null,
   "metadata": {
    "id": "n4NEdob2kQtE",
    "outputId": "60b36087-e4d4-437e-ea4d-1b426eb8ce0b"
   },
   "outputs": [
    {
     "data": {
      "image/png": "[encoded data removed]",
      "text/plain": [
       "<Figure size 1440x432 with 1 Axes>"
      ]
     },
     "metadata": {
      "needs_background": "light",
      "tags": []
     },
     "output_type": "display_data"
    }
   ],
   "source": [
    "# bước thứ hai là lấy mức độ quan trọng của\n",
    "# từng đặc trưng và xếp hạng từ ít quan trọng nhất đến \n",
    "# quan trọng nhất\n",
    "\n",
    "# lấy tên đặc trưng và mức độ quan trọng\n",
    "features = pd.Series(model_full.feature_importances_)\n",
    "features.index = X_train.columns\n",
    "\n",
    "# sắp xếp đặc trưng theo mức độ quan trọng\n",
    "features.sort_values(ascending=True, inplace=True)\n",
    "\n",
    "# vẽ biểu đồ\n",
    "features.plot.bar(figsize=(20,6))\n",
    "plt.xlabel('Features')\n",
    "plt.ylabel('Importance')\n",
    "plt.show()"
   ]
  },
  {
   "cell_type": "code",
   "execution_count": null,
   "metadata": {
    "id": "zPVSriiBkQtE",
    "outputId": "3452e4c5-5cb3-4cfa-d274-6397ab9f8f56",
    "scrolled": true
   },
   "outputs": [
    {
     "data": {
      "text/plain": [
       "['BsmtHalfBath',\n",
       " 'LotFrontage',\n",
       " 'MiscVal',\n",
       " 'PoolArea',\n",
       " '3SsnPorch',\n",
       " 'EnclosedPorch',\n",
       " 'OpenPorchSF',\n",
       " 'TotRmsAbvGrd',\n",
       " 'KitchenAbvGr',\n",
       " 'BsmtFinSF2',\n",
       " 'BedroomAbvGr',\n",
       " 'HalfBath',\n",
       " 'BsmtFullBath',\n",
       " 'LowQualFinSF',\n",
       " 'YrSold',\n",
       " 'WoodDeckSF',\n",
       " 'BsmtUnfSF',\n",
       " 'ScreenPorch',\n",
       " 'MoSold',\n",
       " 'GarageYrBlt',\n",
       " 'MSSubClass',\n",
       " 'OverallCond',\n",
       " 'YearRemodAdd',\n",
       " 'Fireplaces',\n",
       " 'GarageArea',\n",
       " 'FullBath',\n",
       " 'YearBuilt',\n",
       " 'LotArea',\n",
       " 'MasVnrArea',\n",
       " '2ndFlrSF',\n",
       " '1stFlrSF',\n",
       " 'TotalBsmtSF',\n",
       " 'BsmtFinSF1',\n",
       " 'GarageCars',\n",
       " 'GrLivArea',\n",
       " 'OverallQual']"
      ]
     },
     "execution_count": 19,
     "metadata": {
      "tags": []
     },
     "output_type": "execute_result"
    }
   ],
   "source": [
    "# tạo một list với các đặc trưng đã sắp xếp\n",
    "features = list(features.index)\n",
    "features"
   ]
  },
  {
   "cell_type": "markdown",
   "metadata": {
    "id": "wW3yo8PGkQtF"
   },
   "source": [
    "### Lựa chọn đặc trưng"
   ]
  },
  {
   "cell_type": "code",
   "execution_count": null,
   "metadata": {
    "id": "63dV58ESkQtF",
    "outputId": "6edac233-0d55-4b31-d016-0317c67bd8d6",
    "scrolled": true
   },
   "outputs": [
    {
     "name": "stdout",
     "output_type": "stream",
     "text": [
      "doing recursive feature elimination\n",
      "\n",
      "testing feature:  BsmtHalfBath 1  out of  36\n",
      "New Test r2 = 0.7273575444777846\n",
      "All features Test r2 = 0.7131302556471364\n",
      "Drop in r2 = -0.014227288830648166\n",
      "remove:  BsmtHalfBath\n",
      "\n",
      "testing feature:  LotFrontage 2  out of  36\n",
      "New Test r2 = 0.718688691614447\n",
      "All features Test r2 = 0.7273575444777846\n",
      "Drop in r2 =0.008668852863337517\n",
      "keep:  LotFrontage\n",
      "\n",
      "testing feature:  MiscVal 3  out of  36\n",
      "New Test r2 = 0.7134932811944362\n",
      "All features Test r2 = 0.7273575444777846\n",
      "Drop in r2 =0.013864263283348333\n",
      "keep:  MiscVal\n",
      "\n",
      "testing feature:  PoolArea 4  out of  36\n",
      "New Test r2 = 0.7122308203172486\n",
      "All features Test r2 = 0.7273575444777846\n",
      "Drop in r2 =0.015126724160535954\n",
      "keep:  PoolArea\n",
      "\n",
      "testing feature:  3SsnPorch 5  out of  36\n",
      "New Test r2 = 0.7208667083658631\n",
      "All features Test r2 = 0.7273575444777846\n",
      "Drop in r2 =0.006490836111921472\n",
      "keep:  3SsnPorch\n",
      "\n",
      "testing feature:  EnclosedPorch 6  out of  36\n",
      "New Test r2 = 0.7173229445184786\n",
      "All features Test r2 = 0.7273575444777846\n",
      "Drop in r2 =0.010034599959306001\n",
      "keep:  EnclosedPorch\n",
      "\n",
      "testing feature:  OpenPorchSF 7  out of  36\n",
      "New Test r2 = 0.7142241328152739\n",
      "All features Test r2 = 0.7273575444777846\n",
      "Drop in r2 =0.013133411662510697\n",
      "keep:  OpenPorchSF\n",
      "\n",
      "testing feature:  TotRmsAbvGrd 8  out of  36\n",
      "New Test r2 = 0.7039742746083584\n",
      "All features Test r2 = 0.7273575444777846\n",
      "Drop in r2 =0.023383269869426182\n",
      "keep:  TotRmsAbvGrd\n",
      "\n",
      "testing feature:  KitchenAbvGr 9  out of  36\n",
      "New Test r2 = 0.7158212652543341\n",
      "All features Test r2 = 0.7273575444777846\n",
      "Drop in r2 =0.011536279223450463\n",
      "keep:  KitchenAbvGr\n",
      "\n",
      "testing feature:  BsmtFinSF2 10  out of  36\n",
      "New Test r2 = 0.7237574798437062\n",
      "All features Test r2 = 0.7273575444777846\n",
      "Drop in r2 =0.0036000646340783593\n",
      "keep:  BsmtFinSF2\n",
      "\n",
      "testing feature:  BedroomAbvGr 11  out of  36\n",
      "New Test r2 = 0.7207261897526756\n",
      "All features Test r2 = 0.7273575444777846\n",
      "Drop in r2 =0.006631354725109007\n",
      "keep:  BedroomAbvGr\n",
      "\n",
      "testing feature:  HalfBath 12  out of  36\n",
      "New Test r2 = 0.7207261897526756\n",
      "All features Test r2 = 0.7273575444777846\n",
      "Drop in r2 =0.006631354725109007\n",
      "keep:  HalfBath\n",
      "\n",
      "testing feature:  BsmtFullBath 13  out of  36\n",
      "New Test r2 = 0.7207261897526756\n",
      "All features Test r2 = 0.7273575444777846\n",
      "Drop in r2 =0.006631354725109007\n",
      "keep:  BsmtFullBath\n",
      "\n",
      "testing feature:  LowQualFinSF 14  out of  36\n",
      "New Test r2 = 0.7209187435797805\n",
      "All features Test r2 = 0.7273575444777846\n",
      "Drop in r2 =0.006438800898004082\n",
      "keep:  LowQualFinSF\n",
      "\n",
      "testing feature:  YrSold 15  out of  36\n",
      "New Test r2 = 0.7108029537894238\n",
      "All features Test r2 = 0.7273575444777846\n",
      "Drop in r2 =0.016554590688360737\n",
      "keep:  YrSold\n",
      "\n",
      "testing feature:  WoodDeckSF 16  out of  36\n",
      "New Test r2 = 0.7012752445433136\n",
      "All features Test r2 = 0.7273575444777846\n",
      "Drop in r2 =0.026082299934470976\n",
      "keep:  WoodDeckSF\n",
      "\n",
      "testing feature:  BsmtUnfSF 17  out of  36\n",
      "New Test r2 = 0.7264788324034315\n",
      "All features Test r2 = 0.7273575444777846\n",
      "Drop in r2 = 0.000878712074353083\n",
      "remove:  BsmtUnfSF\n",
      "\n",
      "testing feature:  ScreenPorch 18  out of  36\n",
      "New Test r2 = 0.7244064441838435\n",
      "All features Test r2 = 0.7264788324034315\n",
      "Drop in r2 =0.002072388219587995\n",
      "keep:  ScreenPorch\n",
      "\n",
      "testing feature:  MoSold 19  out of  36\n",
      "New Test r2 = 0.7267509916544868\n",
      "All features Test r2 = 0.7264788324034315\n",
      "Drop in r2 = -0.0002721592510552817\n",
      "remove:  MoSold\n",
      "\n",
      "testing feature:  GarageYrBlt 20  out of  36\n",
      "New Test r2 = 0.7258441093878714\n",
      "All features Test r2 = 0.7267509916544868\n",
      "Drop in r2 = 0.0009068822666153942\n",
      "remove:  GarageYrBlt\n",
      "\n",
      "testing feature:  MSSubClass 21  out of  36\n",
      "New Test r2 = 0.7174593051728644\n",
      "All features Test r2 = 0.7258441093878714\n",
      "Drop in r2 =0.00838480421500698\n",
      "keep:  MSSubClass\n",
      "\n",
      "testing feature:  OverallCond 22  out of  36\n",
      "New Test r2 = 0.7147536088672792\n",
      "All features Test r2 = 0.7258441093878714\n",
      "Drop in r2 =0.011090500520592128\n",
      "keep:  OverallCond\n",
      "\n",
      "testing feature:  YearRemodAdd 23  out of  36\n",
      "New Test r2 = 0.7065236132442687\n",
      "All features Test r2 = 0.7258441093878714\n",
      "Drop in r2 =0.01932049614360265\n",
      "keep:  YearRemodAdd\n",
      "\n",
      "testing feature:  Fireplaces 24  out of  36\n",
      "New Test r2 = 0.7250286036957919\n",
      "All features Test r2 = 0.7258441093878714\n",
      "Drop in r2 = 0.0008155056920794435\n",
      "remove:  Fireplaces\n",
      "\n",
      "testing feature:  GarageArea 25  out of  36\n",
      "New Test r2 = 0.7226877689784099\n",
      "All features Test r2 = 0.7250286036957919\n",
      "Drop in r2 =0.002340834717382001\n",
      "keep:  GarageArea\n",
      "\n",
      "testing feature:  FullBath 26  out of  36\n",
      "New Test r2 = 0.7232754266911559\n",
      "All features Test r2 = 0.7250286036957919\n",
      "Drop in r2 =0.001753177004636064\n",
      "keep:  FullBath\n",
      "\n",
      "testing feature:  YearBuilt 27  out of  36\n",
      "New Test r2 = 0.6989563215988124\n",
      "All features Test r2 = 0.7250286036957919\n",
      "Drop in r2 =0.026072282096979538\n",
      "keep:  YearBuilt\n",
      "\n",
      "testing feature:  LotArea 28  out of  36\n",
      "New Test r2 = 0.7099584133000495\n",
      "All features Test r2 = 0.7250286036957919\n",
      "Drop in r2 =0.015070190395742422\n",
      "keep:  LotArea\n",
      "\n",
      "testing feature:  MasVnrArea 29  out of  36\n",
      "New Test r2 = 0.7260423255585469\n",
      "All features Test r2 = 0.7250286036957919\n",
      "Drop in r2 = -0.001013721862754946\n",
      "remove:  MasVnrArea\n",
      "\n",
      "testing feature:  2ndFlrSF 30  out of  36\n",
      "New Test r2 = 0.734389962031819\n",
      "All features Test r2 = 0.7260423255585469\n",
      "Drop in r2 = -0.00834763647327219\n",
      "remove:  2ndFlrSF\n",
      "\n",
      "testing feature:  1stFlrSF 31  out of  36\n",
      "New Test r2 = 0.7215269443186569\n",
      "All features Test r2 = 0.734389962031819\n",
      "Drop in r2 =0.012863017713162117\n",
      "keep:  1stFlrSF\n",
      "\n",
      "testing feature:  TotalBsmtSF 32  out of  36\n",
      "New Test r2 = 0.7342030398813533\n",
      "All features Test r2 = 0.734389962031819\n",
      "Drop in r2 = 0.00018692215046578475\n",
      "remove:  TotalBsmtSF\n",
      "\n",
      "testing feature:  BsmtFinSF1 33  out of  36\n",
      "New Test r2 = 0.7270911602938694\n",
      "All features Test r2 = 0.7342030398813533\n",
      "Drop in r2 =0.007111879587483827\n",
      "keep:  BsmtFinSF1\n",
      "\n",
      "testing feature:  GarageCars 34  out of  36\n",
      "New Test r2 = 0.7249153731906235\n",
      "All features Test r2 = 0.7342030398813533\n",
      "Drop in r2 =0.009287666690729779\n",
      "keep:  GarageCars\n",
      "\n",
      "testing feature:  GrLivArea 35  out of  36\n",
      "New Test r2 = 0.7066440672307844\n",
      "All features Test r2 = 0.7342030398813533\n",
      "Drop in r2 =0.027558972650568836\n",
      "keep:  GrLivArea\n",
      "\n",
      "testing feature:  OverallQual 36  out of  36\n",
      "New Test r2 = 0.6661588757546772\n",
      "All features Test r2 = 0.7342030398813533\n",
      "Drop in r2 =0.06804416412667602\n",
      "keep:  OverallQual\n",
      "DONE!!\n",
      "total features to remove:  8\n",
      "total features to keep:  28\n"
     ]
    }
   ],
   "source": [
    "# bước cuối cùng là loại bỏ từng\n",
    "# đặc trưng, từ ít quan trọng nhất tới\n",
    "# quan trọng nhất và xây dựng mô hình ở mỗi vòng.\n",
    "\n",
    "# khi đã tạo mô hình, chúng ta tính r2 mới \n",
    "# nếu r2 mới nhỏ hơn r2 ban đầu\n",
    "# (với tất cả các đặc trưng) đặc trưng bị loại bỏ đó\n",
    "# nếu quan trọng thì giữ lại\n",
    "# nếu không thì loại bỏ đặc trưng\n",
    "\n",
    "# loại bỏ đặc trưng bằng đệ quy:\n",
    "\n",
    "# trước tiên thiết lập mức giảm tùy ý trong r2\n",
    "# nếu mức giảm thấp hơn ngưỡng này,\n",
    "# thì đặc trưng sẽ bị loại bỏ\n",
    "tol = 0.001\n",
    "\n",
    "print('doing recursive feature elimination')\n",
    "\n",
    "# khởi tạo một list để thu thập\n",
    "# các đặc trưng sẽ loại bỏ\n",
    "features_to_remove = []\n",
    "\n",
    "# thiết lập bộ đếm để biết đặc trưng nào đang được đánh giá\n",
    "count = 1\n",
    "\n",
    "# lặp qua tất cả các đặc trưng, theo thứ tự mức độ quan trọng:\n",
    "# các đặc trưng trong list đã được sắp xếp\n",
    "# theo mức độ quan trọng\n",
    "for feature in features:\n",
    "    print()\n",
    "    print('testing feature: ', feature, count, ' out of ', len(features))\n",
    "    count = count + 1\n",
    "\n",
    "    # khởi tạo mô hình\n",
    "    model_int = GradientBoostingRegressor(n_estimators=10, max_depth=4, random_state=10)\n",
    "\n",
    "    # khớp mô hình với tất cả các biến trừ đi các đặc trưng đã bị loại\n",
    "    # và đặc trưng được đánh giá\n",
    "    model_int.fit(\n",
    "        X_train.drop(features_to_remove + [feature], axis=1), y_train)\n",
    "\n",
    "    # đưa ra dự đoán trên tập kiểm tra\n",
    "    y_pred_test = model_int.predict(\n",
    "        X_test.drop(features_to_remove + [feature], axis=1))\n",
    "\n",
    "    # tính r2 mới\n",
    "    r2_int = r2_score(y_test, y_pred_test)\n",
    "    print('New Test r2 = {}'.format((r2_int)))\n",
    "\n",
    "    # in ra r2 ban đầu với tất cả các đặc trưng\n",
    "    print('All features Test r2 = {}'.format((r2_full)))\n",
    "\n",
    "    # xác định mức giảm trong r2\n",
    "    diff_r2 = r2_full - r2_int\n",
    "\n",
    "    # so sánh mức giảm trong r2 với dung sai\n",
    "    # chúng ta đã thiết lập trước đó\n",
    "    if diff_r2 >= tol:\n",
    "        print('Drop in r2 ={}'.format(diff_r2))\n",
    "        print('keep: ', feature)\n",
    "        print\n",
    "    else:\n",
    "        print('Drop in r2 = {}'.format(diff_r2))\n",
    "        print('remove: ', feature)\n",
    "        print\n",
    "        # nếu mức giảm trong r2 nhỏ và chúng ta loại\n",
    "        # đặc trưng, cần thiết lập r2 mới dựa trên\n",
    "        # các đặc trưng còn lại\n",
    "        r2_full = r2_int\n",
    "        \n",
    "        # và thêm đặc trưng loại bỏ vào list thu thập\n",
    "        features_to_remove.append(feature)\n",
    "\n",
    "# vòng lặp đã hoàn thành, chúng ta đánh giá mọi đặc trưng\n",
    "print('DONE!!')\n",
    "print('total features to remove: ', len(features_to_remove))\n",
    "\n",
    "# xác định các đặc trưng cần giữ (các đặc trưng không bị loại)\n",
    "features_to_keep = [x for x in features if x not in features_to_remove]\n",
    "print('total features to keep: ', len(features_to_keep))"
   ]
  },
  {
   "cell_type": "code",
   "execution_count": null,
   "metadata": {
    "id": "gdA9Qoq1kQtF",
    "outputId": "76844b38-cad4-4a2a-ca09-51783fcc46fe"
   },
   "outputs": [
    {
     "name": "stdout",
     "output_type": "stream",
     "text": [
      "Test selected features r2 = 0.732437\n",
      "Test all features r2 = 0.734203\n"
     ]
    }
   ],
   "source": [
    "# cuối cùng, kiểm tra chất lượng của mô hình\n",
    "# xây dựng trên các đặc trưng được chọn\n",
    "\n",
    "# xây dựng mô hình ban đầu\n",
    "model_final = GradientBoostingRegressor(n_estimators=10, max_depth=4, random_state=10)\n",
    "\n",
    "# khớp mô hình với các đặc trưng đã chọn\n",
    "model_final.fit(X_train[features_to_keep], y_train)\n",
    "\n",
    "# đưa ra dự đoán\n",
    "y_pred_test = model_final.predict(X_test[features_to_keep])\n",
    "\n",
    "# tính roc-auc\n",
    "r2_final = r2_score(y_test, y_pred_test)\n",
    "print('Test selected features r2 = %f' % (r2_final))"
   ]
  },
  {
   "cell_type": "markdown",
   "metadata": {
    "id": "ZrPqGLR_kQtF"
   },
   "source": [
    "Mô hình được tạo có 28 đặc trưng thể hiện chất lượng tương tự hoặc tốt hơn một chút! (cần kéo xuống để tìm giá trị này, chúng ta đã tính trong một số cell trước)"
   ]
  }
 ],
 "metadata": {
  "colab": {
   "collapsed_sections": [],
   "name": "13.5 Phương pháp lai hóa: Loại bỏ đặc trưng bằng đệ quy.ipynb",
   "provenance": []
  },
  "kernelspec": {
   "display_name": "pytorch",
   "language": "python",
   "name": "pytorch"
  },
  "language_info": {
   "codemirror_mode": {
    "name": "ipython",
    "version": 3
   },
   "file_extension": ".py",
   "mimetype": "text/x-python",
   "name": "python",
   "nbconvert_exporter": "python",
   "pygments_lexer": "ipython3",
   "version": "3.7.10"
  },
  "toc": {
   "base_numbering": 1,
   "nav_menu": {},
   "number_sections": true,
   "sideBar": true,
   "skip_h1_title": false,
   "title_cell": "Table of Contents",
   "title_sidebar": "Contents",
   "toc_cell": false,
   "toc_position": {},
   "toc_section_display": "block",
   "toc_window_display": true
  }
 },
 "nbformat": 4,
 "nbformat_minor": 1
}
