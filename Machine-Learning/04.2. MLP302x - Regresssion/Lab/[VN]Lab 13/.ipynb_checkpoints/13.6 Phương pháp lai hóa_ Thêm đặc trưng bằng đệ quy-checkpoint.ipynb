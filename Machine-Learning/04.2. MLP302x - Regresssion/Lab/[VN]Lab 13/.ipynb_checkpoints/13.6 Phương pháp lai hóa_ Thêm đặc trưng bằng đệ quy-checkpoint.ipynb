{
 "cells": [
  {
   "cell_type": "markdown",
   "metadata": {
    "id": "TnRKB4RJkTKU"
   },
   "source": [
    "## Phương pháp lai hóa: Thêm đặc trưng bằng đệ quy\n",
    "\n",
    "Phương pháp này gồm các bước sau:\n",
    "\n",
    "1) Xếp hạng các đặc trưng theo mức độ quan trọng của chúng từ thuật toán học máy: có thể là mức độ quan trọng của cây hoặc các hệ số thu được từ mô hình tuyến tính.\n",
    "\n",
    "2) Xây dựng mô hình học máy chỉ với 1 đặc trưng, đặc trưng quan trọng nhất và tính toán phép đo chất lượng.\n",
    "\n",
    "3) Thêm một đặc trưng - đặc trưng quan trọng nhất và xây dựng thuật toán học máy sử dụng đặc trưng đã thêm và bất kỳ đặc trưng nào từ các vòng trước đó.\n",
    "\n",
    "4) Tính toán phép đo chất lượng đã chọn chọn: roc-auc, mse, rmse, accuracy,...\n",
    "\n",
    "5) Nếu phép đo tăng nhiều hơn ngưỡng được thiết lập tùy ý thì đặc trưng đó quan trọng và cần được giữ lại; nếu không, chúng ta có thể loại bỏ đặc trưng đó.\n",
    "\n",
    "6) Lặp lại các bước 2-5 cho đến khi tất cả các đặc trưng đã được đánh giá.\n",
    "\n",
    "\n",
    "Phương pháp này được gọi là phương pháp lai hóa vì:\n",
    "\n",
    "- nó lấy mức độ quan trọng từ thuật toán học máy như các phương pháp nhúng\n",
    "- nó xây dựng một số mô hình học máy như các phương pháp gói.\n",
    "\n",
    "Phương pháp này nhanh hơn các phương pháp gói và thường tốt hơn các phương pháp nhúng. Trên thực tế, nó hoạt động cực kỳ hiệu quả.\n",
    "\n",
    "Cần lưu ý là mức giảm chất lượng tối thiểu để quyết định xem có nên giữ lại một đặc trưng hay không được thiết lập tùy ý. Mức giảm càng nhỏ thì càng có nhiều đặc trưng được chọn và ngược lại.\n",
    "\n",
    "Chúng ta sẽ trình bày cách lựa chọn đặc trưng bằng phương pháp lai hóa trong bài toán hồi quy và phân loại."
   ]
  },
  {
   "cell_type": "code",
   "execution_count": null,
   "metadata": {
    "id": "hDV-URIVkTKZ"
   },
   "outputs": [],
   "source": [
    "import pandas as pd\n",
    "import numpy as np\n",
    "\n",
    "import matplotlib.pyplot as plt\n",
    "from sklearn.model_selection import train_test_split\n",
    "\n",
    "from sklearn.ensemble import GradientBoostingClassifier, GradientBoostingRegressor\n",
    "from sklearn.metrics import roc_auc_score, r2_score"
   ]
  },
  {
   "cell_type": "markdown",
   "metadata": {
    "id": "WHfIGbclkTKq"
   },
   "source": [
    "## Hồi quy"
   ]
  },
  {
   "cell_type": "code",
   "execution_count": null,
   "metadata": {
    "id": "NPts_LMAkTKq",
    "outputId": "1292bc97-a48b-4f2e-cab9-3def9ea4fede"
   },
   "outputs": [
    {
     "data": {
      "text/plain": [
       "(1460, 81)"
      ]
     },
     "execution_count": 25,
     "metadata": {
      "tags": []
     },
     "output_type": "execute_result"
    }
   ],
   "source": [
    "# load tập dữ liệu\n",
    "data = pd.read_csv('../houseprice.csv')\n",
    "data.shape"
   ]
  },
  {
   "cell_type": "code",
   "execution_count": null,
   "metadata": {
    "id": "YozEJ8UPkTKq",
    "outputId": "0fb0186b-2d06-445f-f8ab-616726fa30d0"
   },
   "outputs": [
    {
     "data": {
      "text/plain": [
       "(1460, 38)"
      ]
     },
     "execution_count": 26,
     "metadata": {
      "tags": []
     },
     "output_type": "execute_result"
    }
   ],
   "source": [
    "# Trên thực tế, nên thực hiện lựa chọn đặc trưng sau khi tiền xử lý dữ liệu,\n",
    "# tất cả các biến hạng mục được mà hóa thành số,\n",
    "# và rồi chúng ta có thể đánh giá tính tất định của các mục tiêu\n",
    "\n",
    "# để đơn giản, chúng ta sẽ chỉ sử dụng biến dạng số\n",
    "# lựa chọn các cột số:\n",
    "\n",
    "numerics = ['int16', 'int32', 'int64', 'float16', 'float32', 'float64']\n",
    "numerical_vars = list(data.select_dtypes(include=numerics).columns)\n",
    "data = data[numerical_vars]\n",
    "data.shape"
   ]
  },
  {
   "cell_type": "code",
   "execution_count": null,
   "metadata": {
    "id": "V9e-7A6JkTKr",
    "outputId": "ba072bfb-8099-4b98-9016-8ab60e9c663f"
   },
   "outputs": [
    {
     "data": {
      "text/plain": [
       "((1022, 36), (438, 36))"
      ]
     },
     "execution_count": 27,
     "metadata": {
      "tags": []
     },
     "output_type": "execute_result"
    }
   ],
   "source": [
    "# chia thành tập huấn luyện và tập kiểm tra\n",
    "X_train, X_test, y_train, y_test = train_test_split(\n",
    "    data.drop(labels=['Id','SalePrice'], axis=1),\n",
    "    data['SalePrice'],\n",
    "    test_size=0.3,\n",
    "    random_state=0)\n",
    "\n",
    "X_train.shape, X_test.shape"
   ]
  },
  {
   "cell_type": "code",
   "execution_count": null,
   "metadata": {
    "id": "F39DAaT3kTKr"
   },
   "outputs": [],
   "source": [
    "X_train = X_train.fillna(0)\n",
    "X_test = X_test.fillna(0)"
   ]
  },
  {
   "cell_type": "markdown",
   "metadata": {
    "id": "rBDbAtqPkTKr"
   },
   "source": [
    "### Xếp hạng các đặc trưng theo mức độ quan trọng"
   ]
  },
  {
   "cell_type": "code",
   "execution_count": null,
   "metadata": {
    "id": "DQyxosKykTKs",
    "outputId": "4e06c433-a660-45f6-ef2a-8eba0d18fd3b",
    "scrolled": true
   },
   "outputs": [
    {
     "name": "stdout",
     "output_type": "stream",
     "text": [
      "Test full dataset R2 = 0.713130\n"
     ]
    }
   ],
   "source": [
    "# bước đầu tiên của quy trình này gồm xây dựng\n",
    "# một thuật toán học máy với tất cả các đặc trưng\n",
    "# rồi xác định mức độ quan trọng của các đặc trưng theo\n",
    "# thuật toán\n",
    "\n",
    "# xây dựng mô hình đầu tiên với tất cả các đặc trưng\n",
    "model_full = GradientBoostingRegressor(n_estimators=10, max_depth=4, random_state=10)\n",
    "\n",
    "model_full.fit(X_train, y_train)\n",
    "\n",
    "# tính r2 trong tập kiểm tra\n",
    "y_pred_test = model_full.predict(X_test)\n",
    "r2_full = r2_score(y_test, y_pred_test)\n",
    "\n",
    "print('Test full dataset R2 = %f' % (r2_full))"
   ]
  },
  {
   "cell_type": "code",
   "execution_count": null,
   "metadata": {
    "id": "duXswhmskTKs",
    "outputId": "8c267f83-71e7-4afa-96aa-0ab6d9f446d3"
   },
   "outputs": [
    {
     "data": {
      "text/plain": [
       "<matplotlib.axes._subplots.AxesSubplot at 0x203afd7f40>"
      ]
     },
     "execution_count": 33,
     "metadata": {
      "tags": []
     },
     "output_type": "execute_result"
    },
    {
     "data": {
      "image/png": "[encoded data removed]",
      "text/plain": [
       "<Figure size 1440x432 with 1 Axes>"
      ]
     },
     "metadata": {
      "needs_background": "light",
      "tags": []
     },
     "output_type": "display_data"
    }
   ],
   "source": [
    "# bước thứ hai là lấy mức độ quan trọng của\n",
    "# từng đặc trưng và xếp hạng từ quan trọng nhất đến \n",
    "# ít quan trọng nhất\n",
    "\n",
    "# lấy tên đặc trưng và mức độ quan trọng\n",
    "features = pd.Series(model_full.feature_importances_)\n",
    "features.index = X_train.columns\n",
    "\n",
    "# sắp xếp đặc trưng theo mức độ quan trọng\n",
    "features.sort_values(ascending=False, inplace=True)\n",
    "\n",
    "# vẽ biểu đồ\n",
    "features.plot.bar(figsize=(20,6))"
   ]
  },
  {
   "cell_type": "code",
   "execution_count": null,
   "metadata": {
    "id": "qgl--d8vkTKs",
    "outputId": "c104386b-c41f-4d24-deb2-1bd2ac8eae8a",
    "scrolled": true
   },
   "outputs": [
    {
     "data": {
      "text/plain": [
       "['OverallQual',\n",
       " 'GrLivArea',\n",
       " 'GarageCars',\n",
       " 'BsmtFinSF1',\n",
       " 'TotalBsmtSF',\n",
       " '1stFlrSF',\n",
       " '2ndFlrSF',\n",
       " 'MasVnrArea',\n",
       " 'LotArea',\n",
       " 'YearBuilt',\n",
       " 'FullBath',\n",
       " 'GarageArea',\n",
       " 'Fireplaces',\n",
       " 'YearRemodAdd',\n",
       " 'OverallCond',\n",
       " 'MSSubClass',\n",
       " 'GarageYrBlt',\n",
       " 'MoSold',\n",
       " 'ScreenPorch',\n",
       " 'BsmtUnfSF',\n",
       " 'WoodDeckSF',\n",
       " 'YrSold',\n",
       " 'LowQualFinSF',\n",
       " 'BsmtFullBath',\n",
       " 'HalfBath',\n",
       " 'BedroomAbvGr',\n",
       " 'BsmtFinSF2',\n",
       " 'KitchenAbvGr',\n",
       " 'TotRmsAbvGrd',\n",
       " 'OpenPorchSF',\n",
       " 'EnclosedPorch',\n",
       " '3SsnPorch',\n",
       " 'PoolArea',\n",
       " 'MiscVal',\n",
       " 'LotFrontage',\n",
       " 'BsmtHalfBath']"
      ]
     },
     "execution_count": 34,
     "metadata": {
      "tags": []
     },
     "output_type": "execute_result"
    }
   ],
   "source": [
    "# tạo một list với các đặc trưng đã sắp xếp\n",
    "features = list(features.index)\n",
    "features"
   ]
  },
  {
   "cell_type": "markdown",
   "metadata": {
    "id": "qx1-2XnEkTKs"
   },
   "source": [
    "### Xây dựng mô hình học máy với 1 đặc trưng"
   ]
  },
  {
   "cell_type": "code",
   "execution_count": null,
   "metadata": {
    "id": "MgCu1IQGkTKt",
    "outputId": "b18f3f4f-7d1e-4346-e8d9-0dcdc31f0be1"
   },
   "outputs": [
    {
     "name": "stdout",
     "output_type": "stream",
     "text": [
      "Test one feature R2=0.631051\n"
     ]
    }
   ],
   "source": [
    "# tiếp theo, chúng ta cần tạo thuật toán\n",
    "# học máy chỉ sử dụng đặc trưng quan trọng nhất\n",
    "\n",
    "# xây dựng mô hình ban đầu với 1 đặc trưng\n",
    "model_one_feature = GradientBoostingRegressor(n_estimators=10, max_depth=4, random_state=10)\n",
    "\n",
    "# huấn luyện chỉ sử dụng đặc trưng quan trọng nhất \n",
    "model_one_feature.fit(X_train[features[0]].to_frame(), y_train)\n",
    "\n",
    "# tính r2 trong tập kiểm tra\n",
    "y_pred_test = model_one_feature.predict(X_test[features[0]].to_frame())\n",
    "r2_first = r2_score(y_test, y_pred_test)\n",
    "print('Test one feature R2=%f' % (r2_first))"
   ]
  },
  {
   "cell_type": "markdown",
   "metadata": {
    "id": "whh2RpAjkTKt"
   },
   "source": [
    "### Lựa chọn đặc trưng"
   ]
  },
  {
   "cell_type": "code",
   "execution_count": null,
   "metadata": {
    "id": "uZ348rfZkTKt",
    "outputId": "92e1ce68-0191-4453-9593-8ccc8e4bdb42",
    "scrolled": true
   },
   "outputs": [
    {
     "name": "stdout",
     "output_type": "stream",
     "text": [
      "doing recursive feature addition\n",
      "\n",
      "testing feature:  GrLivArea 1  out of  36\n",
      "New Test R2=0.7059734876125235\n",
      "Previous round R2=0.6310512609331753\n",
      "Increase in r2 = 0.07492222667934822\n",
      "keep:  GrLivArea\n",
      "\n",
      "testing feature:  GarageCars 2  out of  36\n",
      "New Test R2=0.7163472150540834\n",
      "Previous round R2=0.7059734876125235\n",
      "Increase in r2 = 0.010373727441559843\n",
      "keep:  GarageCars\n",
      "\n",
      "testing feature:  BsmtFinSF1 3  out of  36\n",
      "New Test R2=0.7123499142207127\n",
      "Previous round R2=0.7163472150540834\n",
      "Increase in r2 = -0.003997300833370687\n",
      "remove:  BsmtFinSF1\n",
      "\n",
      "testing feature:  TotalBsmtSF 4  out of  36\n",
      "New Test R2=0.7340937364428985\n",
      "Previous round R2=0.7163472150540834\n",
      "Increase in r2 = 0.017746521388815162\n",
      "keep:  TotalBsmtSF\n",
      "\n",
      "testing feature:  1stFlrSF 5  out of  36\n",
      "New Test R2=0.7373851754622972\n",
      "Previous round R2=0.7340937364428985\n",
      "Increase in r2 = 0.0032914390193986565\n",
      "keep:  1stFlrSF\n",
      "\n",
      "testing feature:  2ndFlrSF 6  out of  36\n",
      "New Test R2=0.7453233235301489\n",
      "Previous round R2=0.7373851754622972\n",
      "Increase in r2 = 0.007938148067851647\n",
      "keep:  2ndFlrSF\n",
      "\n",
      "testing feature:  MasVnrArea 7  out of  36\n",
      "New Test R2=0.7234629028096601\n",
      "Previous round R2=0.7453233235301489\n",
      "Increase in r2 = -0.02186042072048877\n",
      "remove:  MasVnrArea\n",
      "\n",
      "testing feature:  LotArea 8  out of  36\n",
      "New Test R2=0.7384861658244354\n",
      "Previous round R2=0.7453233235301489\n",
      "Increase in r2 = -0.00683715770571347\n",
      "remove:  LotArea\n",
      "\n",
      "testing feature:  YearBuilt 9  out of  36\n",
      "New Test R2=0.7454822179872389\n",
      "Previous round R2=0.7453233235301489\n",
      "Increase in r2 = 0.000158894457090053\n",
      "remove:  YearBuilt\n",
      "\n",
      "testing feature:  FullBath 10  out of  36\n",
      "New Test R2=0.7438203530228553\n",
      "Previous round R2=0.7453233235301489\n",
      "Increase in r2 = -0.0015029705072935329\n",
      "remove:  FullBath\n",
      "\n",
      "testing feature:  GarageArea 11  out of  36\n",
      "New Test R2=0.7379912997835352\n",
      "Previous round R2=0.7453233235301489\n",
      "Increase in r2 = -0.007332023746613681\n",
      "remove:  GarageArea\n",
      "\n",
      "testing feature:  Fireplaces 12  out of  36\n",
      "New Test R2=0.7448093503149379\n",
      "Previous round R2=0.7453233235301489\n",
      "Increase in r2 = -0.0005139732152109611\n",
      "remove:  Fireplaces\n",
      "\n",
      "testing feature:  YearRemodAdd 13  out of  36\n",
      "New Test R2=0.739147409614411\n",
      "Previous round R2=0.7453233235301489\n",
      "Increase in r2 = -0.006175913915737796\n",
      "remove:  YearRemodAdd\n",
      "\n",
      "testing feature:  OverallCond 14  out of  36\n",
      "New Test R2=0.742180065923282\n",
      "Previous round R2=0.7453233235301489\n",
      "Increase in r2 = -0.003143257606866845\n",
      "remove:  OverallCond\n",
      "\n",
      "testing feature:  MSSubClass 15  out of  36\n",
      "New Test R2=0.7417794509862145\n",
      "Previous round R2=0.7453233235301489\n",
      "Increase in r2 = -0.003543872543934401\n",
      "remove:  MSSubClass\n",
      "\n",
      "testing feature:  GarageYrBlt 16  out of  36\n",
      "New Test R2=0.7423367650354256\n",
      "Previous round R2=0.7453233235301489\n",
      "Increase in r2 = -0.0029865584947232904\n",
      "remove:  GarageYrBlt\n",
      "\n",
      "testing feature:  MoSold 17  out of  36\n",
      "New Test R2=0.742539673868052\n",
      "Previous round R2=0.7453233235301489\n",
      "Increase in r2 = -0.0027836496620968765\n",
      "remove:  MoSold\n",
      "\n",
      "testing feature:  ScreenPorch 18  out of  36\n",
      "New Test R2=0.7457193147111647\n",
      "Previous round R2=0.7453233235301489\n",
      "Increase in r2 = 0.0003959911810158534\n",
      "remove:  ScreenPorch\n",
      "\n",
      "testing feature:  BsmtUnfSF 19  out of  36\n",
      "New Test R2=0.7439451468971476\n",
      "Previous round R2=0.7453233235301489\n",
      "Increase in r2 = -0.0013781766330012157\n",
      "remove:  BsmtUnfSF\n",
      "\n",
      "testing feature:  WoodDeckSF 20  out of  36\n",
      "New Test R2=0.7410399649796366\n",
      "Previous round R2=0.7453233235301489\n",
      "Increase in r2 = -0.004283358550512206\n",
      "remove:  WoodDeckSF\n",
      "\n",
      "testing feature:  YrSold 21  out of  36\n",
      "New Test R2=0.7439555478598046\n",
      "Previous round R2=0.7453233235301489\n",
      "Increase in r2 = -0.0013677756703442956\n",
      "remove:  YrSold\n",
      "\n",
      "testing feature:  LowQualFinSF 22  out of  36\n",
      "New Test R2=0.7414165675386106\n",
      "Previous round R2=0.7453233235301489\n",
      "Increase in r2 = -0.003906755991538224\n",
      "remove:  LowQualFinSF\n",
      "\n",
      "testing feature:  BsmtFullBath 23  out of  36\n",
      "New Test R2=0.7386701310022082\n",
      "Previous round R2=0.7453233235301489\n",
      "Increase in r2 = -0.00665319252794061\n",
      "remove:  BsmtFullBath\n",
      "\n",
      "testing feature:  HalfBath 24  out of  36\n",
      "New Test R2=0.7439555478598046\n",
      "Previous round R2=0.7453233235301489\n",
      "Increase in r2 = -0.0013677756703442956\n",
      "remove:  HalfBath\n",
      "\n",
      "testing feature:  BedroomAbvGr 25  out of  36\n",
      "New Test R2=0.7439555478598046\n",
      "Previous round R2=0.7453233235301489\n",
      "Increase in r2 = -0.0013677756703442956\n",
      "remove:  BedroomAbvGr\n",
      "\n",
      "testing feature:  BsmtFinSF2 26  out of  36\n",
      "New Test R2=0.7422805792042919\n",
      "Previous round R2=0.7453233235301489\n",
      "Increase in r2 = -0.0030427443258569387\n",
      "remove:  BsmtFinSF2\n",
      "\n",
      "testing feature:  KitchenAbvGr 27  out of  36\n",
      "New Test R2=0.7355900166910512\n",
      "Previous round R2=0.7453233235301489\n",
      "Increase in r2 = -0.009733306839097677\n",
      "remove:  KitchenAbvGr\n",
      "\n",
      "testing feature:  TotRmsAbvGrd 28  out of  36\n",
      "New Test R2=0.7457193147111647\n",
      "Previous round R2=0.7453233235301489\n",
      "Increase in r2 = 0.0003959911810158534\n",
      "remove:  TotRmsAbvGrd\n",
      "\n",
      "testing feature:  OpenPorchSF 29  out of  36\n",
      "New Test R2=0.732064984710669\n",
      "Previous round R2=0.7453233235301489\n",
      "Increase in r2 = -0.013258338819479798\n",
      "remove:  OpenPorchSF\n",
      "\n",
      "testing feature:  EnclosedPorch 30  out of  36\n",
      "New Test R2=0.7431068703321169\n",
      "Previous round R2=0.7453233235301489\n",
      "Increase in r2 = -0.002216453198031987\n",
      "remove:  EnclosedPorch\n",
      "\n",
      "testing feature:  3SsnPorch 31  out of  36\n",
      "New Test R2=0.7419376219930163\n",
      "Previous round R2=0.7453233235301489\n",
      "Increase in r2 = -0.0033857015371325794\n",
      "remove:  3SsnPorch\n",
      "\n",
      "testing feature:  PoolArea 32  out of  36\n",
      "New Test R2=0.7432394988570278\n",
      "Previous round R2=0.7453233235301489\n",
      "Increase in r2 = -0.0020838246731210708\n",
      "remove:  PoolArea\n",
      "\n",
      "testing feature:  MiscVal 33  out of  36\n",
      "New Test R2=0.7439555478598046\n",
      "Previous round R2=0.7453233235301489\n",
      "Increase in r2 = -0.0013677756703442956\n",
      "remove:  MiscVal\n",
      "\n",
      "testing feature:  LotFrontage 34  out of  36\n",
      "New Test R2=0.7291181983103534\n",
      "Previous round R2=0.7453233235301489\n",
      "Increase in r2 = -0.016205125219795447\n",
      "remove:  LotFrontage\n",
      "\n",
      "testing feature:  BsmtHalfBath 35  out of  36\n",
      "New Test R2=0.7363620538322881\n",
      "Previous round R2=0.7453233235301489\n",
      "Increase in r2 = -0.008961269697860708\n",
      "remove:  BsmtHalfBath\n",
      "DONE!!\n",
      "total features to keep:  6\n"
     ]
    }
   ],
   "source": [
    "# bước cuối cùng là thêm từng đặc trưng\n",
    "# từ quan trọng nhất tới ít quan trọng nhất,\n",
    "# xây dựng mô hình học máy và đánh giá chất lượng.\n",
    "\n",
    "# khi đã tạo mô hình, chúng ta tính r2 mới \n",
    "# nếu r2 mới lớn hơn r2 ban đầu\n",
    "# (với tất cả các đặc trưng) đặc trưng được thêm đó\n",
    "# nếu quan trọng thì giữ lại\n",
    "# nếu không thì loại bỏ đặc trưng\n",
    " \n",
    "# thêm đặc trưng bằng đệ quy:\n",
    "\n",
    "# trước tiên thiết lập mức tăng tùy ý trong r2\n",
    "# nếu mức tăng cao hơn ngưỡng này,\n",
    "# thì giữ đặc trưng lại\n",
    "tol = 0.001\n",
    "\n",
    "print('doing recursive feature addition')\n",
    "\n",
    "# khởi tạo một list để thu thập\n",
    "# các đặc trưng sẽ giữ lại\n",
    "features_to_keep = [features[0]]\n",
    "\n",
    "# thiết lập bộ đếm để biết vòng lặp sẽ đi bao xa\n",
    "count = 1\n",
    "\n",
    "# lặp qua tất cả các đặc trưng, theo thứ tự mức độ quan trọng:\n",
    "# các đặc trưng trong list đã được sắp xếp\n",
    "# theo mức độ quan trọng\n",
    "for feature in features[1:]:\n",
    "    print()\n",
    "    print('testing feature: ', feature, count, ' out of ', len(features))\n",
    "    count = count + 1\n",
    "\n",
    "    # khởi tạo mô hình\n",
    "    model_int = GradientBoostingRegressor(n_estimators=10, max_depth=4, random_state=10)\n",
    "\n",
    "    # khớp mô hình với các đặc trưng đã chọn\n",
    "    # và đặc trưng được đánh giá\n",
    "    model_int.fit(X_train[features_to_keep + [feature] ], y_train)\n",
    "\n",
    "    # đưa ra dự đoán trên tập kiểm tra\n",
    "    y_pred_test = model_int.predict(X_test[features_to_keep + [feature] ])\n",
    "\n",
    "    # tính r2 mới\n",
    "    r2_int = r2_score(y_test, y_pred_test)\n",
    "    print('New Test R2={}'.format((r2_int)))\n",
    "\n",
    "    # in ra roc-auc ban đầu với tất cả các đặc trưng\n",
    "    print('Previous round R2={}'.format((r2_first)))\n",
    "\n",
    "    # xác định mức giảm trong roc-auc\n",
    "    diff_r2 = r2_int - r2_first\n",
    "\n",
    "    # so sánh mức tăng trong r2 với dung sai\n",
    "    # chúng ta đã thiết lập trước đó\n",
    "    if diff_r2 >= tol:\n",
    "        print('Increase in r2 = {}'.format(diff_r2))\n",
    "        print('keep: ', feature)\n",
    "        print\n",
    "        # nếu mức tăng trong r2 lớn hơn ngưỡng \n",
    "        # giữ đặc trưng và điều chỉnh lại r2 theo giá trị mới\n",
    "        # dựa trên đặc trưng đã thêm\n",
    "        r2_first = r2_int\n",
    "        \n",
    "        # thêm đặc trưng cần giữ vào list\n",
    "        features_to_keep.append(feature)\n",
    "    else:\n",
    "        # bỏ qua đặc trưng\n",
    "        print('Increase in r2 = {}'.format(diff_r2))\n",
    "        print('remove: ', feature)\n",
    "        print\n",
    "\n",
    "\n",
    "# vòng lặp đã hoàn thành, chúng ta đánh giá mọi đặc trưng\n",
    "print('DONE!!')\n",
    "print('total features to keep: ', len(features_to_keep))"
   ]
  },
  {
   "cell_type": "code",
   "execution_count": null,
   "metadata": {
    "id": "IYK_3Yf0kTKt",
    "outputId": "7507b84e-5629-41ed-ee01-2c3e2e6c21de"
   },
   "outputs": [
    {
     "name": "stdout",
     "output_type": "stream",
     "text": [
      "Test selected features r2 = 0.745323\n"
     ]
    }
   ],
   "source": [
    "# cuối cùng, kiểm tra chất lượng của mô hình\n",
    "# xây dựng trên các đặc trưng được chọn\n",
    "\n",
    "# xây dựng mô hình ban đầu\n",
    "model_final = GradientBoostingRegressor(n_estimators=10, max_depth=4, random_state=10)\n",
    "\n",
    "# khớp mô hình với các đặc trưng đã chọn\n",
    "model_final.fit(X_train[features_to_keep], y_train)\n",
    "\n",
    "# đưa ra dự đoán\n",
    "y_pred_test = model_final.predict(X_test[features_to_keep])\n",
    "\n",
    "# tính roc-auc\n",
    "r2_final = r2_score(y_test, y_pred_test)\n",
    "print('Test selected features r2 = %f' % (r2_final))"
   ]
  },
  {
   "cell_type": "markdown",
   "metadata": {
    "id": "WdImbMqrkTKu"
   },
   "source": [
    "Mô hình đã xây có 12 đặc trưng thể hiện chất lượng tốt hơn! (cần kéo xuống để tìm giá trị này, chúng ta đã tính trong một số cell trước)\n",
    "\n",
    "Hãy thử các giá trị khác nhau để kiểm tra độ nhạy của thuật toán này."
   ]
  }
 ],
 "metadata": {
  "colab": {
   "collapsed_sections": [],
   "name": "13.6 Phương pháp lai hóa: Thêm đặc trưng bằng đệ quy.ipynb",
   "provenance": []
  },
  "kernelspec": {
   "display_name": "pytorch",
   "language": "python",
   "name": "pytorch"
  },
  "language_info": {
   "codemirror_mode": {
    "name": "ipython",
    "version": 3
   },
   "file_extension": ".py",
   "mimetype": "text/x-python",
   "name": "python",
   "nbconvert_exporter": "python",
   "pygments_lexer": "ipython3",
   "version": "3.7.10"
  },
  "toc": {
   "base_numbering": 1,
   "nav_menu": {},
   "number_sections": true,
   "sideBar": true,
   "skip_h1_title": false,
   "title_cell": "Table of Contents",
   "title_sidebar": "Contents",
   "toc_cell": false,
   "toc_position": {},
   "toc_section_display": "block",
   "toc_window_display": true
  }
 },
 "nbformat": 4,
 "nbformat_minor": 1
}
