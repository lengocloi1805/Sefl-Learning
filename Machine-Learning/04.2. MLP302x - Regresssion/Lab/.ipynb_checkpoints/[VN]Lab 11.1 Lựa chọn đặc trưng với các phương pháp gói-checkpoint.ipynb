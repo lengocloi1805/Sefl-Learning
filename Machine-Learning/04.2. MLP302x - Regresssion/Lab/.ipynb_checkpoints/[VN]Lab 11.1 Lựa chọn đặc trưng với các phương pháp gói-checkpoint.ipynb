{
 "cells": [
  {
   "cell_type": "markdown",
   "metadata": {
    "id": "zldVgslEFulY"
   },
   "source": [
    "## Lựa chọn đặc trưng theo các phương pháp xuôi\n",
    "\n",
    "Lựa chọn đặc trưng theo các phương pháp xuôi bắt đầu bằng cách huấn luyện mô hình học máy cho từng đặc trưng trong tập dữ liệu và lựa chọn đặc trưng mở đầu khiến mô hình hoạt động tốt nhất theo tiêu chí đánh giá nhất định.\n",
    "\n",
    "Ở bước thứ hai, nó tạo ra các mô hình học máy cho tất cả các tổ hợp đặc trưng đã chọn ở bước trước và đặc trưng thứ hai. Nó chọn cặp tạo ra thuật toán hoạt động tốt nhất.\n",
    "\n",
    "Phương pháp này tiếp tục bằng cách thêm mỗi lần 1 đặc trưng vào các đặc trưng đã chọn ở các bước trước cho đến khi xác định trước tiêu chí dừng.\n",
    "\n",
    "Về lý thuyết, các mô hình có nhiều đặc trưng hơn sẽ hoạt động tốt hơn. Thuật toán sẽ tiếp tục thêm các đặc trưng mới cho đến khi đáp ứng tiêu chí, chẳng hạn: cho đến khi chất lượng của mô hình không tăng vượt quá một ngưỡng nhất định hoặc cho đến khi lựa chọn được một số đặc trưng nhất định như được triển khai trong thư viện mà chúng ta sẽ thảo luận trong notebook này.\n",
    "\n",
    "Ví dụ, phép đo chất lượng mô hình có thể là roc_auc cho phân loại và r^2 cho hồi quy và nó do người dùng xác định.\n",
    "\n",
    "Lựa chọn đặc trưng theo các phương pháp xuôi được gọi là thủ tục tham lam vì nó đánh giá nhiều tổ hợp đối tượng có thể: đơn, đôi, ba,... Do đó, nó rất khó tính toán và thậm chí là không khả thi nếu không gian đặc trưng lớn.\n",
    "\n",
    "\n",
    "mlxtend là một gói đặc biệt trong Python thực hiện kiểu lựa chọn đặc trưng này: http://rasbt.github.io/mlxtend/\n",
    "\n",
    "\n",
    "Trong triển khai mlxtend của Lựa chọn đặc trưng theo các phương pháp xuôi, tiêu chí dừng là số lượng đặc trưng được đặt tùy ý. Do đó, việc tìm kiếm sẽ kết thúc khi chúng ta đạt được số lượng đặc trưng được chọn mong muốn.\n",
    "\n",
    "\n",
    "Điều này hơi tùy ý, chúng ta có thể đang chọn một số đặc trưng gần tối ưu hoặc tương tự như vậy, một số lượng lớn các đặc trưng. Tuy nhiên, bằng cách xem xét phép đo chất lượng mà thuật toán trả về khi lựa chọn đặc trưng, chúng ta có thể có biết liệu nhiều đặc trưng hơn có thêm giá trị không.\n",
    "\n",
    "\n",
    "\n",
    "**Lưu ý**\n",
    "Nếu muốn dừng tìm kiếm bằng cách sử dụng tiêu chí khác, chúng ta sẽ phải tự viết code thuật toán :(\n",
    "\n",
    "Chúng ta sẽ sử dụng thuật toán lựa chọn đặc trưng theo các phương pháp xuôi từ mlxtend trong tập dữ liệu phân loại và hồi quy. "
   ]
  },
  {
   "cell_type": "code",
   "execution_count": 1,
   "metadata": {
    "id": "4R3dcY-nFulc"
   },
   "outputs": [],
   "source": [
    "import pandas as pd\n",
    "import numpy as np\n",
    "\n",
    "from sklearn.model_selection import train_test_split\n",
    "\n",
    "from sklearn.ensemble import RandomForestRegressor, RandomForestClassifier\n",
    "from sklearn.metrics import roc_auc_score, r2_score\n",
    "\n",
    "from mlxtend.feature_selection import SequentialFeatureSelector as SFS\n",
    "\n",
    "import warnings\n",
    "warnings.filterwarnings('ignore')"
   ]
  },
  {
   "cell_type": "markdown",
   "metadata": {
    "id": "cjpwQQv-Fult"
   },
   "source": [
    "## Hồi quy\n",
    "\n",
    "Hãy lặp lại quy trình nhưng trong trường hợp hồi quy với tập dữ liệu giá nhà từ Kaggle để dự đoán các mục tiêu liên tục."
   ]
  },
  {
   "cell_type": "code",
   "execution_count": 3,
   "metadata": {},
   "outputs": [],
   "source": [
    "data_path = 'D:\\\\FUNix\\\\04. Machine Learning\\\\04.2. MLP302x - Regresssion\\\\dataset'"
   ]
  },
  {
   "cell_type": "code",
   "execution_count": 4,
   "metadata": {
    "id": "JFhPm-o1Fult",
    "outputId": "7c2aafb1-65c4-4041-9f50-b69fd18528f7"
   },
   "outputs": [
    {
     "data": {
      "text/plain": [
       "(1460, 81)"
      ]
     },
     "execution_count": 4,
     "metadata": {},
     "output_type": "execute_result"
    }
   ],
   "source": [
    "# load tập dữ liệu\n",
    "data = pd.read_csv(data_path + '/houseprice.csv')\n",
    "data.shape"
   ]
  },
  {
   "cell_type": "code",
   "execution_count": 5,
   "metadata": {
    "id": "_FS4gK8RFulu",
    "outputId": "eeab6124-fe28-488f-eeaa-fe4669092ab8"
   },
   "outputs": [
    {
     "data": {
      "text/plain": [
       "(1460, 38)"
      ]
     },
     "execution_count": 5,
     "metadata": {},
     "output_type": "execute_result"
    }
   ],
   "source": [
    "## Yêu cầu 1\n",
    "# Thực tế, nên thực hiện lựa chọn đặc trưng sau khi tiền xử lý dữ liệu, \n",
    "# mã hóa tất cả các biến hạng mục thành số, \n",
    "# sau đó chúng ta có thể đánh giá tính tất định của mục tiêu \n",
    "\n",
    "# để đơn giản, chúng ta sẽ chỉ sử dụng các biến dạng số\n",
    "# chọn các cột số\n",
    "\n",
    "numerics = ['int16', 'int32', 'int64', 'float16', 'float32', 'float64']\n",
    "## VIẾT CODE Ở ĐÂY:\n",
    "numerical_vars = list(data.select_dtypes(numerics).columns)\n",
    "data = data[numerical_vars]\n",
    "data.shape"
   ]
  },
  {
   "cell_type": "markdown",
   "metadata": {
    "id": "XmOX8ztm75Au"
   },
   "source": [
    "<details><summary> Gợi ý </summary>\n",
    "\n",
    "[select_dtypes()](https://pandas.pydata.org/docs/reference/api/pandas.DataFrame.select_dtypes.html)\n",
    "\n",
    "</details>"
   ]
  },
  {
   "cell_type": "code",
   "execution_count": 6,
   "metadata": {
    "id": "LGpIZHksFulu",
    "outputId": "80f1890d-6fe3-44ee-c917-e02e42eb88e1"
   },
   "outputs": [
    {
     "data": {
      "text/plain": [
       "((1022, 37), (438, 37))"
      ]
     },
     "execution_count": 6,
     "metadata": {},
     "output_type": "execute_result"
    }
   ],
   "source": [
    "# chia thành tập huấn luyện và tập kiểm tra\n",
    "\n",
    "X_train, X_test, y_train, y_test = train_test_split(\n",
    "    data.drop(labels=['SalePrice'], axis=1),\n",
    "    data['SalePrice'],\n",
    "    test_size=0.3,\n",
    "    random_state=0)\n",
    "\n",
    "X_train.shape, X_test.shape"
   ]
  },
  {
   "cell_type": "markdown",
   "metadata": {
    "id": "l2S5BMHxFulv"
   },
   "source": [
    "### Loại các đặc trưng tương quan"
   ]
  },
  {
   "cell_type": "markdown",
   "metadata": {
    "id": "n7vUhK65Hssu"
   },
   "source": [
    "Lựa chọn đặc trưng theo các phương pháp xuôi cần nhiều thời gian để chạy nên để tăng tốc độ, chúng ta sẽ giảm không gian đặc trưng bằng cách loại bỏ các đặc trưng tương quan đầu tiên."
   ]
  },
  {
   "cell_type": "code",
   "execution_count": 7,
   "metadata": {
    "id": "y3VX9gLzFulv",
    "outputId": "91cebf6f-9520-43d5-e0b3-f4a2f07537ee"
   },
   "outputs": [
    {
     "name": "stdout",
     "output_type": "stream",
     "text": [
      "correlated features:  3\n"
     ]
    }
   ],
   "source": [
    "# tìm và loại bỏ các đặc trưng tương quan\n",
    "\n",
    "def correlation(dataset, threshold):\n",
    "    col_corr = set()  # tập hợp tất cả tên của các cột tương quan tập hợp tất cả tên của các cột tương quan\n",
    "    corr_matrix = dataset.corr()\n",
    "    for i in range(len(corr_matrix.columns)):\n",
    "        for j in range(i):\n",
    "            if abs(corr_matrix.iloc[i, j]) > threshold: # cần quan tâm tới các giá trị hệ số tuyệt đối \n",
    "                colname = corr_matrix.columns[i]  # lấy tên cột \n",
    "                col_corr.add(colname)\n",
    "    return col_corr\n",
    "\n",
    "corr_features = correlation(X_train, 0.8)\n",
    "print('correlated features: ', len(set(corr_features)) )"
   ]
  },
  {
   "cell_type": "code",
   "execution_count": 8,
   "metadata": {
    "id": "mXHtJYODFulv",
    "outputId": "5aa47031-0692-4373-9c56-7adba7bc3236"
   },
   "outputs": [
    {
     "data": {
      "text/plain": [
       "((1022, 34), (438, 34))"
      ]
     },
     "execution_count": 8,
     "metadata": {},
     "output_type": "execute_result"
    }
   ],
   "source": [
    "# các đặc trưng tương quan đã loại bỏ\n",
    "X_train.drop(labels=corr_features, axis=1, inplace=True)\n",
    "X_test.drop(labels=corr_features, axis=1, inplace=True)\n",
    "\n",
    "X_train.shape, X_test.shape"
   ]
  },
  {
   "cell_type": "code",
   "execution_count": 9,
   "metadata": {
    "id": "oxr4u1DFFulv"
   },
   "outputs": [],
   "source": [
    "X_train.fillna(0, inplace=True)\n",
    "X_test.fillna(0, inplace=True)"
   ]
  },
  {
   "cell_type": "markdown",
   "metadata": {
    "id": "iOaZP1m_Fulv"
   },
   "source": [
    "### Lựa chọn đặc trưng theo các phương pháp xuôi"
   ]
  },
  {
   "cell_type": "markdown",
   "metadata": {
    "id": "BihUkkIyHvvb"
   },
   "source": [
    "Chúng ta sẽ sử dụng class SFS từ MLXtend để lựa chọn đặc trưng theo các phương pháp xuôi: http://rasbt.github.io/mlxtend/user_guide/feature_selection/SequentialFeatureSelector/"
   ]
  },
  {
   "cell_type": "code",
   "execution_count": 10,
   "metadata": {
    "id": "qzdrnfP_Fulw",
    "outputId": "474b13fe-99ac-4db6-e796-c441a1f39f20",
    "scrolled": true
   },
   "outputs": [
    {
     "name": "stderr",
     "output_type": "stream",
     "text": [
      "[Parallel(n_jobs=1)]: Using backend SequentialBackend with 1 concurrent workers.\n",
      "[Parallel(n_jobs=1)]: Done   1 out of   1 | elapsed:    4.8s remaining:    0.0s\n",
      "[Parallel(n_jobs=1)]: Done  34 out of  34 | elapsed:   16.5s finished\n",
      "\n",
      "[2021-09-03 19:37:43] Features: 1/20 -- score: 0.6448864917335086[Parallel(n_jobs=1)]: Using backend SequentialBackend with 1 concurrent workers.\n",
      "[Parallel(n_jobs=1)]: Done   1 out of   1 | elapsed:    0.3s remaining:    0.0s\n",
      "[Parallel(n_jobs=1)]: Done  33 out of  33 | elapsed:   11.4s finished\n",
      "\n",
      "[2021-09-03 19:37:54] Features: 2/20 -- score: 0.6946490592888617[Parallel(n_jobs=1)]: Using backend SequentialBackend with 1 concurrent workers.\n",
      "[Parallel(n_jobs=1)]: Done   1 out of   1 | elapsed:    0.3s remaining:    0.0s\n",
      "[Parallel(n_jobs=1)]: Done  32 out of  32 | elapsed:   11.5s finished\n",
      "\n",
      "[2021-09-03 19:38:06] Features: 3/20 -- score: 0.732141233157488[Parallel(n_jobs=1)]: Using backend SequentialBackend with 1 concurrent workers.\n",
      "[Parallel(n_jobs=1)]: Done   1 out of   1 | elapsed:    0.3s remaining:    0.0s\n",
      "[Parallel(n_jobs=1)]: Done  31 out of  31 | elapsed:   10.6s finished\n",
      "\n",
      "[2021-09-03 19:38:16] Features: 4/20 -- score: 0.7423196453374377[Parallel(n_jobs=1)]: Using backend SequentialBackend with 1 concurrent workers.\n",
      "[Parallel(n_jobs=1)]: Done   1 out of   1 | elapsed:    0.2s remaining:    0.0s\n",
      "[Parallel(n_jobs=1)]: Done  30 out of  30 | elapsed:   10.3s finished\n",
      "\n",
      "[2021-09-03 19:38:27] Features: 5/20 -- score: 0.7489702405093164[Parallel(n_jobs=1)]: Using backend SequentialBackend with 1 concurrent workers.\n",
      "[Parallel(n_jobs=1)]: Done   1 out of   1 | elapsed:    0.3s remaining:    0.0s\n",
      "[Parallel(n_jobs=1)]: Done  29 out of  29 | elapsed:   10.1s finished\n",
      "\n",
      "[2021-09-03 19:38:37] Features: 6/20 -- score: 0.7758111017343085[Parallel(n_jobs=1)]: Using backend SequentialBackend with 1 concurrent workers.\n",
      "[Parallel(n_jobs=1)]: Done   1 out of   1 | elapsed:    0.3s remaining:    0.0s\n",
      "[Parallel(n_jobs=1)]: Done  28 out of  28 | elapsed:   10.3s finished\n",
      "\n",
      "[2021-09-03 19:38:47] Features: 7/20 -- score: 0.7929944825142443[Parallel(n_jobs=1)]: Using backend SequentialBackend with 1 concurrent workers.\n",
      "[Parallel(n_jobs=1)]: Done   1 out of   1 | elapsed:    0.3s remaining:    0.0s\n",
      "[Parallel(n_jobs=1)]: Done  27 out of  27 | elapsed:    9.9s finished\n",
      "\n",
      "[2021-09-03 19:38:57] Features: 8/20 -- score: 0.8001157262251659[Parallel(n_jobs=1)]: Using backend SequentialBackend with 1 concurrent workers.\n",
      "[Parallel(n_jobs=1)]: Done   1 out of   1 | elapsed:    0.3s remaining:    0.0s\n",
      "[Parallel(n_jobs=1)]: Done  26 out of  26 | elapsed:    9.7s finished\n",
      "\n",
      "[2021-09-03 19:39:07] Features: 9/20 -- score: 0.8044090433577766[Parallel(n_jobs=1)]: Using backend SequentialBackend with 1 concurrent workers.\n",
      "[Parallel(n_jobs=1)]: Done   1 out of   1 | elapsed:    0.2s remaining:    0.0s\n",
      "[Parallel(n_jobs=1)]: Done  25 out of  25 | elapsed:    8.9s finished\n",
      "\n",
      "[2021-09-03 19:39:16] Features: 10/20 -- score: 0.804289727092082[Parallel(n_jobs=1)]: Using backend SequentialBackend with 1 concurrent workers.\n",
      "[Parallel(n_jobs=1)]: Done   1 out of   1 | elapsed:    0.2s remaining:    0.0s\n",
      "[Parallel(n_jobs=1)]: Done  24 out of  24 | elapsed:    8.2s finished\n",
      "\n",
      "[2021-09-03 19:39:24] Features: 11/20 -- score: 0.8049986229009377[Parallel(n_jobs=1)]: Using backend SequentialBackend with 1 concurrent workers.\n",
      "[Parallel(n_jobs=1)]: Done   1 out of   1 | elapsed:    0.3s remaining:    0.0s\n",
      "[Parallel(n_jobs=1)]: Done  23 out of  23 | elapsed:    7.9s finished\n",
      "\n",
      "[2021-09-03 19:39:32] Features: 12/20 -- score: 0.8079999508254482[Parallel(n_jobs=1)]: Using backend SequentialBackend with 1 concurrent workers.\n",
      "[Parallel(n_jobs=1)]: Done   1 out of   1 | elapsed:    0.3s remaining:    0.0s\n",
      "[Parallel(n_jobs=1)]: Done  22 out of  22 | elapsed:    7.7s finished\n",
      "\n",
      "[2021-09-03 19:39:40] Features: 13/20 -- score: 0.8086300806880972[Parallel(n_jobs=1)]: Using backend SequentialBackend with 1 concurrent workers.\n",
      "[Parallel(n_jobs=1)]: Done   1 out of   1 | elapsed:    0.3s remaining:    0.0s\n",
      "[Parallel(n_jobs=1)]: Done  21 out of  21 | elapsed:    7.5s finished\n",
      "\n",
      "[2021-09-03 19:39:48] Features: 14/20 -- score: 0.8079477641622586[Parallel(n_jobs=1)]: Using backend SequentialBackend with 1 concurrent workers.\n",
      "[Parallel(n_jobs=1)]: Done   1 out of   1 | elapsed:    0.2s remaining:    0.0s\n",
      "[Parallel(n_jobs=1)]: Done  20 out of  20 | elapsed:    6.7s finished\n",
      "\n",
      "[2021-09-03 19:39:55] Features: 15/20 -- score: 0.8108703232563307[Parallel(n_jobs=1)]: Using backend SequentialBackend with 1 concurrent workers.\n",
      "[Parallel(n_jobs=1)]: Done   1 out of   1 | elapsed:    0.3s remaining:    0.0s\n",
      "[Parallel(n_jobs=1)]: Done  19 out of  19 | elapsed:    6.7s finished\n",
      "\n",
      "[2021-09-03 19:40:01] Features: 16/20 -- score: 0.8288961238144907[Parallel(n_jobs=1)]: Using backend SequentialBackend with 1 concurrent workers.\n",
      "[Parallel(n_jobs=1)]: Done   1 out of   1 | elapsed:    0.3s remaining:    0.0s\n",
      "[Parallel(n_jobs=1)]: Done  18 out of  18 | elapsed:    6.4s finished\n",
      "\n",
      "[2021-09-03 19:40:08] Features: 17/20 -- score: 0.8294368373368814[Parallel(n_jobs=1)]: Using backend SequentialBackend with 1 concurrent workers.\n",
      "[Parallel(n_jobs=1)]: Done   1 out of   1 | elapsed:    0.2s remaining:    0.0s\n",
      "[Parallel(n_jobs=1)]: Done  17 out of  17 | elapsed:    5.9s finished\n",
      "\n",
      "[2021-09-03 19:40:14] Features: 18/20 -- score: 0.8366393151918193[Parallel(n_jobs=1)]: Using backend SequentialBackend with 1 concurrent workers.\n",
      "[Parallel(n_jobs=1)]: Done   1 out of   1 | elapsed:    0.3s remaining:    0.0s\n",
      "[Parallel(n_jobs=1)]: Done  16 out of  16 | elapsed:    5.7s finished\n",
      "\n",
      "[2021-09-03 19:40:20] Features: 19/20 -- score: 0.8360548783160211[Parallel(n_jobs=1)]: Using backend SequentialBackend with 1 concurrent workers.\n",
      "[Parallel(n_jobs=1)]: Done   1 out of   1 | elapsed:    0.2s remaining:    0.0s\n",
      "[Parallel(n_jobs=1)]: Done  15 out of  15 | elapsed:    5.2s finished\n",
      "\n",
      "[2021-09-03 19:40:25] Features: 20/20 -- score: 0.8306570411384331"
     ]
    }
   ],
   "source": [
    "\n",
    "# lựa chọn đặc trưng theo các phương pháp xuôi\n",
    "\n",
    "sfs = SFS(RandomForestRegressor(n_estimators=10, n_jobs=4, random_state=10), \n",
    "           k_features=20, \n",
    "           forward=True, \n",
    "           floating=False, \n",
    "           verbose=2,\n",
    "           scoring='r2',\n",
    "           cv=2)\n",
    "\n",
    "## Yêu cầu 2\n",
    "## VIẾT CODE Ở ĐÂY:\n",
    "sfs = sfs.fit(np.array(X_train), y_train)"
   ]
  },
  {
   "cell_type": "markdown",
   "metadata": {
    "id": "GCPV6aNMFulw"
   },
   "source": [
    "Từ các bản ghi trên, chúng ta thấy sau ~ 17 đặc trưng, việc thêm nhiều đặc trưng hơn không thực sự cải thiện chất lượng."
   ]
  },
  {
   "cell_type": "code",
   "execution_count": 11,
   "metadata": {
    "id": "zHAHFjCWFulw",
    "outputId": "097fb83a-518b-45a3-f164-00eacbb62c8e"
   },
   "outputs": [
    {
     "data": {
      "text/plain": [
       "(1, 3, 4, 5, 6, 7, 11, 12, 13, 14, 16, 17, 18, 19, 23, 24, 25, 28, 29, 30)"
      ]
     },
     "execution_count": 11,
     "metadata": {},
     "output_type": "execute_result"
    }
   ],
   "source": [
    "## Yêu cầu 3\n",
    "# chỉ số của các cột đã chọn \n",
    "## VIẾT CODE Ở ĐÂY:\n",
    "sfs.k_feature_idx_"
   ]
  },
  {
   "cell_type": "markdown",
   "metadata": {
    "id": "Zu0zx4fJ_dGe"
   },
   "source": [
    "<details><summary> Gợi ý </summary>\n",
    "\n",
    "Using ```k_feature_idx_``` attribute\n",
    "\n",
    "</details>"
   ]
  },
  {
   "cell_type": "code",
   "execution_count": 12,
   "metadata": {
    "id": "mF6IgqlPFulw",
    "outputId": "29858f29-3903-47fd-bcb3-a07369842891"
   },
   "outputs": [
    {
     "data": {
      "text/plain": [
       "Index(['MSSubClass', 'LotArea', 'OverallQual', 'OverallCond', 'YearBuilt',\n",
       "       'YearRemodAdd', 'BsmtUnfSF', 'TotalBsmtSF', '1stFlrSF', '2ndFlrSF',\n",
       "       'GrLivArea', 'BsmtFullBath', 'BsmtHalfBath', 'FullBath', 'Fireplaces',\n",
       "       'GarageCars', 'WoodDeckSF', '3SsnPorch', 'ScreenPorch', 'PoolArea'],\n",
       "      dtype='object')"
      ]
     },
     "execution_count": 12,
     "metadata": {},
     "output_type": "execute_result"
    }
   ],
   "source": [
    "## Yêu cầu 4\n",
    "# các cột đã chọn\n",
    "## VIẾT CODE Ở ĐÂY:\n",
    "X_train.columns[list(sfs.k_feature_idx_)]"
   ]
  },
  {
   "cell_type": "markdown",
   "metadata": {
    "id": "McZl8kJD_wRF"
   },
   "source": [
    "<details><summary> Gợi ý </summary>\n",
    "\n",
    "Using ```k_feature_idx_``` attribute\n",
    "\n",
    "</details>"
   ]
  },
  {
   "cell_type": "markdown",
   "metadata": {
    "id": "5OECHK8PFulx"
   },
   "source": [
    "### So sánh chất lượng của các tập con đặc trưng"
   ]
  },
  {
   "cell_type": "code",
   "execution_count": 13,
   "metadata": {
    "id": "0F9bLUEdFulx"
   },
   "outputs": [],
   "source": [
    "## Yêu cầu 5\n",
    "# hàm để huấn luyện rừng ngẫu nhiên và đánh giá chất lượng \n",
    "\n",
    "def run_randomForests(X_train, X_test, y_train, y_test):\n",
    "    \n",
    "    rf = RandomForestRegressor(n_estimators=200, random_state=39, max_depth=4)\n",
    "    rf.fit(X_train, y_train)\n",
    "\n",
    "    print('Train set')\n",
    "    ## VIẾT CODE Ở ĐÂY:\n",
    "    pred = rf.predict(X_train)\n",
    "    print('Random Forests r2 score: {}'.format(r2_score(y_train, pred)))\n",
    "    \n",
    "    print('Test set')\n",
    "    ## VIẾT CODE Ở ĐÂY:\n",
    "    pred = rf.predict(X_test)\n",
    "    print('Random Forests r2 score: {}'.format(r2_score(y_test, pred)))"
   ]
  },
  {
   "cell_type": "code",
   "execution_count": 14,
   "metadata": {
    "id": "R7P1Im0RFulx"
   },
   "outputs": [],
   "source": [
    "selected_feat = X_train.columns[list(sfs.k_feature_idx_)]"
   ]
  },
  {
   "cell_type": "code",
   "execution_count": 15,
   "metadata": {
    "id": "6y8W6R59Fulx",
    "outputId": "5f573c91-c368-4a01-b1f3-0056ec3374ac"
   },
   "outputs": [
    {
     "name": "stdout",
     "output_type": "stream",
     "text": [
      "Train set\n",
      "Random Forests r2 score: 0.8629621682457452\n",
      "Test set\n",
      "Random Forests r2 score: 0.8246015925536159\n"
     ]
    }
   ],
   "source": [
    "## Yêu cầu 6\n",
    "# đánh giá chất lượng của thuật toán đã xây \n",
    "# sử dụng các đặc trưng đã chọn\n",
    "\n",
    "## VIẾT CODE Ở ĐÂY:\n",
    "run_randomForests(X_train[selected_feat],\n",
    "                  X_test[selected_feat],\n",
    "                  y_train, y_test)"
   ]
  },
  {
   "cell_type": "code",
   "execution_count": 16,
   "metadata": {
    "id": "Z5jsiPRsFuly",
    "outputId": "c9349049-6b51-46bf-e115-5ed6bcea9ef7"
   },
   "outputs": [
    {
     "name": "stdout",
     "output_type": "stream",
     "text": [
      "Train set\n",
      "Random Forests r2 score: 0.8699152317492538\n",
      "Test set\n",
      "Random Forests r2 score: 0.8190809813112794\n"
     ]
    }
   ],
   "source": [
    "## Yêu cầu 7\n",
    "# để so sánh, chúng ta huấn luyện rừng ngẫu nhiên sử dụng \n",
    "# tất cả các đặc trưng (trừ các đặc trưng tương quan đã bị loại bỏ) \n",
    "\n",
    "## VIẾT CODE Ở ĐÂY:\n",
    "run_randomForests(X_train,\n",
    "                  X_test,\n",
    "                  y_train, y_test)"
   ]
  },
  {
   "cell_type": "markdown",
   "metadata": {
    "collapsed": true,
    "id": "WHr1gWyvFuly"
   },
   "source": [
    "Chúng ta thấy thuật toán có 20 đặc trưng thực hiện cũng tốt như thuật toán có 24 đặc trưng."
   ]
  },
  {
   "cell_type": "markdown",
   "metadata": {
    "id": "CpOFCO4d9A-6"
   },
   "source": [
    "## Lựa chọn đặc trưng theo các phương pháp ngược\n",
    "\n",
    "Lựa chọn đặc trưng theo các phương pháp ngược bắt đầu bằng cách khớp mô hình học máy sử dụng tất cả các đặc trưng trong tập dữ liệu và xác đinh chất lượng mô hình.\n",
    "\n",
    "Sau đó, nó huấn luyện mô hình trên tất cả các tổ hợp có thể có của tất cả các đặc trưng - 1, loại bỏ đặc trưng trả về mô hình có chất lượng thấp cao nhất khi bỏ đặc trưng đó đi.\n",
    "\n",
    "Ở bước thứ ba, huấn luyện các mô hình trong tất cả các tổ hợp có thể của các đặc trưng còn lại từ bước hai bớt đi 1 đặc trưng và loại bỏ đặc trưng khiến mô hình hoạt động tốt nhất.\n",
    "\n",
    "Thuật toán dừng theo một tiêu chí do người dùng xác định. Tiêu chí này có thể là chất lượng mô hình không giảm vượt quá một ngưỡng nhất định hoặc đạt tới số lượng đặc trưng đã chọn nhất định như trong triển khai mlxtend.\n",
    " \n",
    "\n",
    "Ví dụ, phép đo chất lượng mô hình có thể là roc_auc cho phân loại và r^2 cho hồi quy và nó do người dùng xác định.\n",
    "\n",
    "Lựa chọn đặc trưng theo các phương pháp ngược được gọi là thủ tục tham lam vì nó đánh giá tất cả các tổ hợp đặc trưng n, rồi n-1, n-2,... Do đó, nó rất khó tính toán và thậm chí là không khả thi nếu không gian đặc trưng lớn.\n",
    "\n",
    "mlxtend là một gói đặc biệt trong Python thực hiện kiểu lựa chọn đặc trưng này: http://rasbt.github.io/mlxtend/\n",
    "\n",
    "Trong triển khai mlxtend của Lựa chọn đặc trưng theo các phương pháp ngược, tiêu chí dừng là số lượng đặc trưng được đặt tùy ý. Do đó, việc tìm kiếm sẽ kết thúc khi chúng ta đạt được số lượng đặc trưng được chọn mong muốn.\n",
    "\n",
    "Điều này hơi tùy ý, chúng ta có thể đang chọn một số đặc trưng gần tối ưu hoặc tương tự như vậy, một số lượng lớn các đặc trưng. Tuy nhiên, bằng cách xem xét phép đo chất lượng mà thuật toán trả về khi lựa chọn đặc trưng, chúng ta có thể có biết liệu nhiều đặc trưng hơn có thêm giá trị không.\n",
    "\n",
    "\n",
    "**Lưu ý:**\n",
    "Nếu muốn dừng tìm kiếm bằng cách sử dụng tiêu chí khác, chúng ta sẽ phải tự viết code thuật toán :(\n",
    "\n",
    "Chúng ta sẽ sử dụng thuật toán lựa chọn đặc trưng theo các phương pháp ngược từ mlxtend trong tập dữ liệu phân loại và hồi quy."
   ]
  },
  {
   "cell_type": "markdown",
   "metadata": {
    "id": "rFnCZM-e9EZH"
   },
   "source": [
    "## Hồi quy\n",
    "\n",
    "Hãy lặp lại quy trình nhưng trong trường hợp hồi quy với tập dữ liệu giá nhà từ Kaggle để dự đoán các mục tiêu liên tục: giá nhà"
   ]
  },
  {
   "cell_type": "code",
   "execution_count": 17,
   "metadata": {
    "id": "5YE1_GU497gy",
    "outputId": "e0a44773-3963-4f59-8f87-243263d2886d"
   },
   "outputs": [
    {
     "data": {
      "text/plain": [
       "(1460, 81)"
      ]
     },
     "execution_count": 17,
     "metadata": {},
     "output_type": "execute_result"
    }
   ],
   "source": [
    "# load tập dữ liệu\n",
    "\n",
    "data = pd.read_csv(data_path + '/houseprice.csv')\n",
    "data.shape"
   ]
  },
  {
   "cell_type": "code",
   "execution_count": 18,
   "metadata": {
    "id": "By4n_HmG97jW",
    "outputId": "6d6f8216-8a88-49d0-8096-09ade78bc77a"
   },
   "outputs": [
    {
     "data": {
      "text/plain": [
       "(1460, 38)"
      ]
     },
     "execution_count": 18,
     "metadata": {},
     "output_type": "execute_result"
    }
   ],
   "source": [
    "# Thực tế, nên thực hiện lựa chọn đặc trưng sau khi tiền xử lý dữ liệu,\n",
    "# mã hóa tất cả các biến hạng mục thành số,\n",
    "# sau đó chúng ta có thể đánh giá tính tất định của mục tiêu\n",
    "\n",
    "# để đơn giản, chúng ta sẽ chỉ sử dụng các biến dạng số\n",
    "# chọn các cột số\n",
    "\n",
    "numerics = ['int16', 'int32', 'int64', 'float16', 'float32', 'float64']\n",
    "numerical_vars = list(data.select_dtypes(include=numerics).columns)\n",
    "data = data[numerical_vars]\n",
    "data.shape"
   ]
  },
  {
   "cell_type": "code",
   "execution_count": 19,
   "metadata": {
    "id": "k42MVFrM97l9",
    "outputId": "f312d025-a4ff-4f89-81ff-dab08b69e2e7"
   },
   "outputs": [
    {
     "data": {
      "text/plain": [
       "((1022, 37), (438, 37))"
      ]
     },
     "execution_count": 19,
     "metadata": {},
     "output_type": "execute_result"
    }
   ],
   "source": [
    "# chia thành tập huấn luyện và tập kiểm tra\n",
    "X_train, X_test, y_train, y_test = train_test_split(\n",
    "    data.drop(labels=['SalePrice'], axis=1),\n",
    "    data['SalePrice'],\n",
    "    test_size=0.3,\n",
    "    random_state=0)\n",
    "\n",
    "X_train.shape, X_test.shape"
   ]
  },
  {
   "cell_type": "markdown",
   "metadata": {
    "id": "boK97BRr-BIG"
   },
   "source": [
    "### Loại các đặc trưng tương quan"
   ]
  },
  {
   "cell_type": "markdown",
   "metadata": {
    "id": "TI9qLhHh-DUn"
   },
   "source": [
    "Lựa chọn đặc trưng theo các phương pháp ngược cần nhiều thời gian để chạy nên để tăng tốc độ, chúng ta sẽ giảm không gian đặc trưng bằng cách loại bỏ các đặc trưng tương quan đầu tiên."
   ]
  },
  {
   "cell_type": "code",
   "execution_count": 20,
   "metadata": {
    "id": "IP660nw89_xl",
    "outputId": "de1e36ea-fdfd-405c-fd71-bb2d5ad089a2"
   },
   "outputs": [
    {
     "name": "stdout",
     "output_type": "stream",
     "text": [
      "correlated features:  3\n"
     ]
    }
   ],
   "source": [
    "# tìm và loại bỏ các đặc trưng tương quan\n",
    "\n",
    "def correlation(dataset, threshold):\n",
    "    col_corr = set()  # tập hợp tất cả tên của các cột tương quan\n",
    "    corr_matrix = dataset.corr()\n",
    "    for i in range(len(corr_matrix.columns)):\n",
    "        for j in range(i):\n",
    "            if abs(corr_matrix.iloc[i, j]) > threshold: # cần quan tâm tới các giá trị hệ số tuyệt đối\n",
    "                colname = corr_matrix.columns[i]  # lấy tên cột\n",
    "                col_corr.add(colname)\n",
    "    return col_corr\n",
    "\n",
    "corr_features = correlation(X_train, 0.8)\n",
    "print('correlated features: ', len(set(corr_features)) )"
   ]
  },
  {
   "cell_type": "code",
   "execution_count": 21,
   "metadata": {
    "id": "DYBEr2Yb-FSh",
    "outputId": "24c80d49-5062-4874-cf21-382c98a0d593"
   },
   "outputs": [
    {
     "data": {
      "text/plain": [
       "((1022, 34), (438, 34))"
      ]
     },
     "execution_count": 21,
     "metadata": {},
     "output_type": "execute_result"
    }
   ],
   "source": [
    "# các đặc trưng tương quan đã loại bỏ\n",
    "X_train.drop(labels=corr_features, axis=1, inplace=True)\n",
    "X_test.drop(labels=corr_features, axis=1, inplace=True)\n",
    "\n",
    "X_train.shape, X_test.shape"
   ]
  },
  {
   "cell_type": "code",
   "execution_count": 22,
   "metadata": {
    "id": "LQAAm_0k9_0S"
   },
   "outputs": [],
   "source": [
    "X_train.fillna(0, inplace=True)\n",
    "X_test.fillna(0, inplace=True)"
   ]
  },
  {
   "cell_type": "markdown",
   "metadata": {
    "id": "4bEaUtqT-Hkb"
   },
   "source": [
    "### Lựa chọn đặc trưng theo các phương pháp ngược\n"
   ]
  },
  {
   "cell_type": "markdown",
   "metadata": {
    "id": "boQTdRvq-Ine"
   },
   "source": [
    "Chúng ta sẽ sử dụng class SFS từ MLXtend để lựa chọn đặc trưng theo các phương pháp ngược: http://rasbt.github.io/mlxtend/user_guide/feature_selection/SequentialFeatureSelector/"
   ]
  },
  {
   "cell_type": "code",
   "execution_count": 23,
   "metadata": {
    "id": "9-Op_Otl9_2Z",
    "outputId": "16b59d71-00d9-4fe5-fdb6-7b906fe52b99",
    "scrolled": true
   },
   "outputs": [
    {
     "name": "stderr",
     "output_type": "stream",
     "text": [
      "[Parallel(n_jobs=1)]: Using backend SequentialBackend with 1 concurrent workers.\n",
      "[Parallel(n_jobs=1)]: Done   1 out of   1 | elapsed:    0.3s remaining:    0.0s\n",
      "[Parallel(n_jobs=1)]: Done  34 out of  34 | elapsed:   12.1s finished\n",
      "\n",
      "[2021-09-03 19:48:38] Features: 33/20 -- score: 0.825434533342885[Parallel(n_jobs=1)]: Using backend SequentialBackend with 1 concurrent workers.\n",
      "[Parallel(n_jobs=1)]: Done   1 out of   1 | elapsed:    0.3s remaining:    0.0s\n",
      "[Parallel(n_jobs=1)]: Done  33 out of  33 | elapsed:   11.6s finished\n",
      "\n",
      "[2021-09-03 19:48:49] Features: 32/20 -- score: 0.8269182238540728[Parallel(n_jobs=1)]: Using backend SequentialBackend with 1 concurrent workers.\n",
      "[Parallel(n_jobs=1)]: Done   1 out of   1 | elapsed:    0.3s remaining:    0.0s\n",
      "[Parallel(n_jobs=1)]: Done  32 out of  32 | elapsed:   11.2s finished\n",
      "\n",
      "[2021-09-03 19:49:01] Features: 31/20 -- score: 0.8321203993856869[Parallel(n_jobs=1)]: Using backend SequentialBackend with 1 concurrent workers.\n",
      "[Parallel(n_jobs=1)]: Done   1 out of   1 | elapsed:    0.3s remaining:    0.0s\n",
      "[Parallel(n_jobs=1)]: Done  31 out of  31 | elapsed:   11.4s finished\n",
      "\n",
      "[2021-09-03 19:49:12] Features: 30/20 -- score: 0.826565096160356[Parallel(n_jobs=1)]: Using backend SequentialBackend with 1 concurrent workers.\n",
      "[Parallel(n_jobs=1)]: Done   1 out of   1 | elapsed:    0.4s remaining:    0.0s\n",
      "[Parallel(n_jobs=1)]: Done  30 out of  30 | elapsed:   12.1s finished\n",
      "\n",
      "[2021-09-03 19:49:24] Features: 29/20 -- score: 0.8297349081341103[Parallel(n_jobs=1)]: Using backend SequentialBackend with 1 concurrent workers.\n",
      "[Parallel(n_jobs=1)]: Done   1 out of   1 | elapsed:    0.2s remaining:    0.0s\n",
      "[Parallel(n_jobs=1)]: Done  29 out of  29 | elapsed:   10.3s finished\n",
      "\n",
      "[2021-09-03 19:49:35] Features: 28/20 -- score: 0.8347342098816987[Parallel(n_jobs=1)]: Using backend SequentialBackend with 1 concurrent workers.\n",
      "[Parallel(n_jobs=1)]: Done   1 out of   1 | elapsed:    0.3s remaining:    0.0s\n",
      "[Parallel(n_jobs=1)]: Done  28 out of  28 | elapsed:    9.6s finished\n",
      "\n",
      "[2021-09-03 19:49:45] Features: 27/20 -- score: 0.8330866197775185[Parallel(n_jobs=1)]: Using backend SequentialBackend with 1 concurrent workers.\n",
      "[Parallel(n_jobs=1)]: Done   1 out of   1 | elapsed:    0.3s remaining:    0.0s\n",
      "[Parallel(n_jobs=1)]: Done  27 out of  27 | elapsed:    9.5s finished\n",
      "\n",
      "[2021-09-03 19:49:54] Features: 26/20 -- score: 0.8384069806635874[Parallel(n_jobs=1)]: Using backend SequentialBackend with 1 concurrent workers.\n",
      "[Parallel(n_jobs=1)]: Done   1 out of   1 | elapsed:    0.3s remaining:    0.0s\n",
      "[Parallel(n_jobs=1)]: Done  26 out of  26 | elapsed:    9.3s finished\n",
      "\n",
      "[2021-09-03 19:50:04] Features: 25/20 -- score: 0.8332772032724493[Parallel(n_jobs=1)]: Using backend SequentialBackend with 1 concurrent workers.\n",
      "[Parallel(n_jobs=1)]: Done   1 out of   1 | elapsed:    0.2s remaining:    0.0s\n",
      "[Parallel(n_jobs=1)]: Done  25 out of  25 | elapsed:    9.1s finished\n",
      "\n",
      "[2021-09-03 19:50:13] Features: 24/20 -- score: 0.8369514759762875[Parallel(n_jobs=1)]: Using backend SequentialBackend with 1 concurrent workers.\n",
      "[Parallel(n_jobs=1)]: Done   1 out of   1 | elapsed:    0.2s remaining:    0.0s\n",
      "[Parallel(n_jobs=1)]: Done  24 out of  24 | elapsed:    8.2s finished\n",
      "\n",
      "[2021-09-03 19:50:21] Features: 23/20 -- score: 0.8445883592176333[Parallel(n_jobs=1)]: Using backend SequentialBackend with 1 concurrent workers.\n",
      "[Parallel(n_jobs=1)]: Done   1 out of   1 | elapsed:    0.2s remaining:    0.0s\n",
      "[Parallel(n_jobs=1)]: Done  23 out of  23 | elapsed:    7.9s finished\n",
      "\n",
      "[2021-09-03 19:50:29] Features: 22/20 -- score: 0.8366958736874247[Parallel(n_jobs=1)]: Using backend SequentialBackend with 1 concurrent workers.\n",
      "[Parallel(n_jobs=1)]: Done   1 out of   1 | elapsed:    0.3s remaining:    0.0s\n",
      "[Parallel(n_jobs=1)]: Done  22 out of  22 | elapsed:    7.8s finished\n",
      "\n",
      "[2021-09-03 19:50:37] Features: 21/20 -- score: 0.8420599404686491[Parallel(n_jobs=1)]: Using backend SequentialBackend with 1 concurrent workers.\n",
      "[Parallel(n_jobs=1)]: Done   1 out of   1 | elapsed:    0.3s remaining:    0.0s\n",
      "[Parallel(n_jobs=1)]: Done  21 out of  21 | elapsed:    7.3s finished\n",
      "\n",
      "[2021-09-03 19:50:44] Features: 20/20 -- score: 0.8384558070101512"
     ]
    }
   ],
   "source": [
    "# thuật toán lựa chọn đặc trưng theo các phương pháp ngược\n",
    "\n",
    "sfs = SFS(RandomForestRegressor(n_estimators=10, n_jobs=4, random_state=10), \n",
    "           k_features=20, \n",
    "           forward=False, \n",
    "           floating=False, \n",
    "           verbose=2,\n",
    "           scoring='r2',\n",
    "           cv=2)\n",
    "\n",
    "## Yêu cầu 8\n",
    "## VIẾT CODE Ở ĐÂY:\n",
    "sfs = sfs.fit(np.array(X_train), y_train)"
   ]
  },
  {
   "cell_type": "code",
   "execution_count": 24,
   "metadata": {
    "id": "yBhzssBj9_47",
    "outputId": "3623679a-7e29-43d0-c7e5-f437a1cdf4bd"
   },
   "outputs": [
    {
     "data": {
      "text/plain": [
       "(0, 3, 4, 5, 6, 7, 9, 12, 14, 16, 18, 20, 22, 23, 24, 26, 27, 28, 31, 32)"
      ]
     },
     "execution_count": 24,
     "metadata": {},
     "output_type": "execute_result"
    }
   ],
   "source": [
    "## Yêu cầu 9\n",
    "## VIẾT CODE Ở ĐÂY:\n",
    "sfs.k_feature_idx_"
   ]
  },
  {
   "cell_type": "markdown",
   "metadata": {
    "id": "2SQyKmCEMuKm"
   },
   "source": [
    "<details><summary> Gợi ý </summary>\n",
    "\n",
    "Using ```k_feature_idx_``` attribute\n",
    "\n",
    "</details>"
   ]
  },
  {
   "cell_type": "code",
   "execution_count": 25,
   "metadata": {
    "id": "M6bsK0xJ97ov",
    "outputId": "142e8258-fca9-4371-ca61-470159e2aeab"
   },
   "outputs": [
    {
     "data": {
      "text/plain": [
       "Index(['Id', 'LotArea', 'OverallQual', 'OverallCond', 'YearBuilt',\n",
       "       'YearRemodAdd', 'BsmtFinSF1', 'TotalBsmtSF', '2ndFlrSF', 'GrLivArea',\n",
       "       'BsmtHalfBath', 'HalfBath', 'KitchenAbvGr', 'Fireplaces', 'GarageCars',\n",
       "       'OpenPorchSF', 'EnclosedPorch', '3SsnPorch', 'MiscVal', 'MoSold'],\n",
       "      dtype='object')"
      ]
     },
     "execution_count": 25,
     "metadata": {},
     "output_type": "execute_result"
    }
   ],
   "source": [
    "## Yêu cầu 10\n",
    "## VIẾT CODE Ở ĐÂY:\n",
    "X_train.columns[list(sfs.k_feature_idx_)]"
   ]
  },
  {
   "cell_type": "markdown",
   "metadata": {
    "id": "QRuaGgXoMvXy"
   },
   "source": [
    "<details><summary> Gợi ý </summary>\n",
    "\n",
    "Using ```k_feature_idx_``` attribute\n",
    "\n",
    "</details>"
   ]
  },
  {
   "cell_type": "markdown",
   "metadata": {
    "id": "SUrbOEHc-Smv"
   },
   "source": [
    "### So sánh chất lượng của các tập con đặc trưng"
   ]
  },
  {
   "cell_type": "code",
   "execution_count": 26,
   "metadata": {
    "id": "76jAUkfq-Thp"
   },
   "outputs": [],
   "source": [
    "# hàm để huấn luyện rừng ngẫu nhiên và đánh giá chất lượng\n",
    "\n",
    "def run_randomForests(X_train, X_test, y_train, y_test):\n",
    "    \n",
    "    rf = RandomForestRegressor(n_estimators=200, random_state=39, max_depth=4)\n",
    "    rf.fit(X_train, y_train)\n",
    "\n",
    "    print('Train set')\n",
    "    pred = rf.predict(X_train)\n",
    "    print('Random Forests r2: {}'.format(r2_score(y_train, pred)))\n",
    "    \n",
    "    print('Test set')\n",
    "    pred = rf.predict(X_test)\n",
    "    print('Random Forests r2: {}'.format(r2_score(y_test, pred)))"
   ]
  },
  {
   "cell_type": "code",
   "execution_count": 27,
   "metadata": {
    "id": "M4-2MLEu-TkV"
   },
   "outputs": [],
   "source": [
    "## Yêu cầu 11\n",
    "## VIẾT CODE Ở ĐÂY:\n",
    "selected_feat = X_train.columns[list(sfs.k_feature_idx_)]"
   ]
  },
  {
   "cell_type": "markdown",
   "metadata": {
    "id": "bjYYnSeyMybN"
   },
   "source": [
    "<details><summary> Gợi ý </summary>\n",
    "\n",
    "Using ```k_feature_idx_``` attribute\n",
    "\n",
    "</details>"
   ]
  },
  {
   "cell_type": "code",
   "execution_count": 28,
   "metadata": {
    "id": "iEm4JQzW-TnE",
    "outputId": "bb7b95c7-8c56-4685-ab61-40de51d724ef"
   },
   "outputs": [
    {
     "name": "stdout",
     "output_type": "stream",
     "text": [
      "Train set\n",
      "Random Forests r2: 0.8702345974928545\n",
      "Test set\n",
      "Random Forests r2: 0.8240294353877188\n"
     ]
    }
   ],
   "source": [
    "# đánh giá chất lượng của thuật toán đã xây\n",
    "# sử dụng các đặc trưng đã chọn\n",
    "\n",
    "run_randomForests(X_train[selected_feat],\n",
    "                  X_test[selected_feat],\n",
    "                  y_train, y_test)"
   ]
  },
  {
   "cell_type": "code",
   "execution_count": 29,
   "metadata": {
    "id": "u72c7PB3-TqN",
    "outputId": "6d6ca39d-91fb-49dd-fc0c-43830202cb86"
   },
   "outputs": [
    {
     "name": "stdout",
     "output_type": "stream",
     "text": [
      "Train set\n",
      "Random Forests r2: 0.8699152317492538\n",
      "Test set\n",
      "Random Forests r2: 0.8190809813112794\n"
     ]
    }
   ],
   "source": [
    "# để so sánh, chúng ta huấn luyện rừng ngẫu nhiên sử dụng\n",
    "# tất cả các đặc trưng (trừ các đặc trưng tương quan đã bị loại bỏ)\n",
    "\n",
    "run_randomForests(X_train,\n",
    "                  X_test,\n",
    "                  y_train, y_test)"
   ]
  },
  {
   "cell_type": "markdown",
   "metadata": {
    "id": "vf639RXy-ZT_"
   },
   "source": [
    "## Tìm kiếm đầy đủ\n",
    "\n",
    "Tìm kiếm đầy đủ tìm tập hợp con các đặc trưng tốt nhất trong số tất cả các tập hợp con đặc trưng có thể theo một phép đo đặc trưng xác định cho một thuật toán học máy nhất định.\n",
    "\n",
    " Ví dụ: nếu chúng ta huấn luyện hồi quy logistic và tập dữ liệu gồm 4 đặc trưng, thuật toán sẽ đánh giá tất cả **15** tổ hợp đặc trưng như sau:\n",
    "\n",
    "- tất cả các tổ hợp có thể của 1 đặc trưng\n",
    "- tất cả các tổ hợp có thể của 2 đặc trưng\n",
    "- tất cả các tổ hợp có thể của 3 đặc trưng\n",
    "- tất cả 4 đặc trưng\n",
    "\n",
    "và chọn tổ hợp dẫn đến chất lượng tốt nhất (ví dụ: độ chính xác của phân loại) của hồi quy logistic.\n",
    "\n",
    "Tìm kiếm đầy đủ là một thuật toán tham lam vì nó đánh giá tất cả các kết hợp đặc trưng có thể có. Nó rất khó tính toán và thậm chí là không khả thi nếu không gian đặc trưng lớn.\n",
    "\n",
    "mlxtend là một gói đặc biệt trong Python thực hiện kiểu lựa chọn đặc trưng này: http://rasbt.github.io/mlxtend/\n",
    "\n",
    "Trong triển khai mlxtend của Tìm kiếm đầy đủ, tiêu chí dừng là số lượng đặc trưng được đặt tùy ý. Do đó, việc tìm kiếm sẽ kết thúc khi chúng ta đạt được số lượng đặc trưng được chọn mong muốn.\n",
    "\n",
    "Điều này hơi tùy ý, chúng ta có thể đang chọn một số đặc trưng gần tối ưu hoặc tương tự như vậy, một số lượng lớn các đặc trưng. Tuy nhiên, bằng cách xem xét phép đo chất lượng mà thuật toán trả về khi lựa chọn đặc trưng, chúng ta có thể có biết liệu nhiều đặc trưng hơn có thêm giá trị không.\n",
    "\n",
    "\n",
    "**Lưu ý:**\n",
    "Nếu muốn dừng tìm kiếm bằng cách sử dụng tiêu chí khác, chúng ta sẽ phải tự viết code thuật toán :(\n",
    "\n",
    "Chúng ta sẽ sử dụng thuật toán lựa chọn đặc trưng theo các phương pháp xuôi từ mlxtend trong tập dữ liệu phân loại và hồi quy."
   ]
  },
  {
   "cell_type": "code",
   "execution_count": 30,
   "metadata": {
    "id": "uRpg3_Ch-eew"
   },
   "outputs": [],
   "source": [
    "from mlxtend.feature_selection import ExhaustiveFeatureSelector as EFS"
   ]
  },
  {
   "cell_type": "markdown",
   "metadata": {
    "id": "11Mk9HE7-jGC"
   },
   "source": [
    "## Hồi quy\n",
    "\n",
    "Hãy lặp lại quy trình nhưng trong trường hợp hồi quy với tập dữ liệu giá nhà từ Kaggle để dự đoán các mục tiêu liên tục: giá nhà"
   ]
  },
  {
   "cell_type": "code",
   "execution_count": 31,
   "metadata": {
    "id": "R_VXaMQL-mct",
    "outputId": "31c08760-68c4-4e72-cf78-b34d4e40dc7c"
   },
   "outputs": [
    {
     "data": {
      "text/plain": [
       "(1460, 81)"
      ]
     },
     "execution_count": 31,
     "metadata": {},
     "output_type": "execute_result"
    }
   ],
   "source": [
    "# load tập dữ liệu\n",
    "data = pd.read_csv(data_path + '/houseprice.csv')\n",
    "data.shape"
   ]
  },
  {
   "cell_type": "code",
   "execution_count": 32,
   "metadata": {
    "id": "fnTZ8M7z-mgX",
    "outputId": "f12e9e1f-1130-4145-9cb1-7d5587093a84"
   },
   "outputs": [
    {
     "data": {
      "text/plain": [
       "(1460, 38)"
      ]
     },
     "execution_count": 32,
     "metadata": {},
     "output_type": "execute_result"
    }
   ],
   "source": [
    "# Thực tế, nên thực hiện lựa chọn đặc trưng sau khi tiền xử lý dữ liệu,\n",
    "# mã hóa tất cả các biến hạng mục thành số,\n",
    "# sau đó chúng ta có thể đánh giá tính tất định của mục tiêu\n",
    "\n",
    "# để đơn giản, chúng ta sẽ chỉ sử dụng các biến dạng số\n",
    "# chọn các cột số\n",
    "\n",
    "numerics = ['int16', 'int32', 'int64', 'float16', 'float32', 'float64']\n",
    "numerical_vars = list(data.select_dtypes(include=numerics).columns)\n",
    "data = data[numerical_vars]\n",
    "data.shape"
   ]
  },
  {
   "cell_type": "code",
   "execution_count": 33,
   "metadata": {
    "id": "NPG4sOVp-mkx",
    "outputId": "208b053c-0beb-4bc5-c54f-1ec442b83219"
   },
   "outputs": [
    {
     "data": {
      "text/plain": [
       "((1022, 37), (438, 37))"
      ]
     },
     "execution_count": 33,
     "metadata": {},
     "output_type": "execute_result"
    }
   ],
   "source": [
    "# chia thành tập huấn luyện và tập kiểm tra\n",
    "X_train, X_test, y_train, y_test = train_test_split(\n",
    "    data.drop(labels=['SalePrice'], axis=1),\n",
    "    data['SalePrice'],\n",
    "    test_size=0.3,\n",
    "    random_state=0)\n",
    "\n",
    "X_train.shape, X_test.shape"
   ]
  },
  {
   "cell_type": "markdown",
   "metadata": {
    "id": "Ea_gGK9o-qaS"
   },
   "source": [
    "### Loại các đặc trưng tương quan"
   ]
  },
  {
   "cell_type": "code",
   "execution_count": 34,
   "metadata": {
    "id": "9iDye-7P-uW6",
    "outputId": "21ab52f4-d543-4599-8cd9-a7212aa38f6f"
   },
   "outputs": [
    {
     "name": "stdout",
     "output_type": "stream",
     "text": [
      "correlated features:  9\n"
     ]
    }
   ],
   "source": [
    "# tìm và loại bỏ các đặc trưng tương quan\n",
    "\n",
    "def correlation(dataset, threshold):\n",
    "    col_corr = set()  # tập hợp tất cả tên của các cột tương quan\n",
    "    corr_matrix = dataset.corr()\n",
    "    for i in range(len(corr_matrix.columns)):\n",
    "        for j in range(i):\n",
    "            if abs(corr_matrix.iloc[i, j]) > threshold: # cần quan tâm tới các giá trị hệ số tuyệt đối\n",
    "                colname = corr_matrix.columns[i]  # lấy tên cột\n",
    "                col_corr.add(colname)\n",
    "    return col_corr\n",
    "\n",
    "# lưu ý: chúng ta giảm ngưỡng để loại bỏ các đặc trưng\n",
    "corr_features = correlation(X_train, 0.6)\n",
    "print('correlated features: ', len(set(corr_features)))"
   ]
  },
  {
   "cell_type": "code",
   "execution_count": 35,
   "metadata": {
    "id": "SfnoC8Hb-wUm",
    "outputId": "ee9367f2-f0b0-4598-80b7-61c0e29df5af"
   },
   "outputs": [
    {
     "data": {
      "text/plain": [
       "((1022, 28), (438, 28))"
      ]
     },
     "execution_count": 35,
     "metadata": {},
     "output_type": "execute_result"
    }
   ],
   "source": [
    "# các đặc trưng tương quan đã bị loại\n",
    "X_train.drop(labels=corr_features, axis=1, inplace=True)\n",
    "X_test.drop(labels=corr_features, axis=1, inplace=True)\n",
    "\n",
    "X_train.shape, X_test.shape"
   ]
  },
  {
   "cell_type": "code",
   "execution_count": 36,
   "metadata": {
    "id": "T3BQj_1L-wtS"
   },
   "outputs": [],
   "source": [
    "X_train.fillna(0, inplace=True)\n",
    "X_test.fillna(0, inplace=True)"
   ]
  },
  {
   "cell_type": "markdown",
   "metadata": {
    "id": "2mBjRTic-y8z"
   },
   "source": [
    "###  Tìm kiếm đầy đủ"
   ]
  },
  {
   "cell_type": "code",
   "execution_count": 37,
   "metadata": {
    "id": "wT-pBhBV-0JI",
    "outputId": "aad0f1b7-9ce0-434a-b9cc-3f8900929a8c"
   },
   "outputs": [
    {
     "name": "stderr",
     "output_type": "stream",
     "text": [
      "Features: 406/406"
     ]
    }
   ],
   "source": [
    "# tìm kiếm đầy đủ\n",
    "\n",
    "# để thời gian tìm kiếm ngắn hơn cho minh họa\n",
    "# chúng ta sẽ yêu cầu thuật toán thử tất cả\n",
    "# các tổ hợp có thể của 10 và 11 đặc trưng\n",
    "\n",
    "# nếu truy cập vào máy tính vào hệ thống máy tính đa lõi hoặc phân tán\n",
    "# chúng ta có thể thử tìm kiếm tham lam nhiều hơn\n",
    "\n",
    "efs = EFS(RandomForestRegressor(n_estimators=5,\n",
    "                                n_jobs=4,\n",
    "                                random_state=0,\n",
    "                                max_depth=2),\n",
    "          min_features=1,\n",
    "          max_features=2,\n",
    "          scoring='r2',\n",
    "          print_progress=True,\n",
    "          cv=2)\n",
    "## Yêu cầu 12\n",
    "## VIẾT CODE Ở ĐÂY:\n",
    "efs = efs.fit(np.array(X_train), y_train)"
   ]
  },
  {
   "cell_type": "markdown",
   "metadata": {
    "id": "s26nqNsV-3eI"
   },
   "source": [
    "Tìm thấy 406 tổ hợp đặc trưng!"
   ]
  },
  {
   "cell_type": "code",
   "execution_count": 38,
   "metadata": {
    "id": "3gKm5hKx-0To",
    "outputId": "690575fc-fa2d-4bcc-cfbc-a137a5c7eac3"
   },
   "outputs": [
    {
     "data": {
      "text/plain": [
       "(4, 9)"
      ]
     },
     "execution_count": 38,
     "metadata": {},
     "output_type": "execute_result"
    }
   ],
   "source": [
    "## Yêu cầu 13\n",
    "## VIẾT CODE Ở ĐÂY:\n",
    "efs.best_idx_"
   ]
  },
  {
   "cell_type": "markdown",
   "metadata": {
    "id": "dFpWwjkdNJp4"
   },
   "source": [
    "<details><summary> Gợi ý </summary>\n",
    "\n",
    "Using ```best_idx_``` attribute\n",
    "\n",
    "</details>"
   ]
  },
  {
   "cell_type": "code",
   "execution_count": 39,
   "metadata": {
    "id": "8EPtskX2-0Zh",
    "outputId": "602684ee-05b8-4645-ffab-70cc78317463"
   },
   "outputs": [
    {
     "data": {
      "text/plain": [
       "Index(['OverallQual', 'BsmtFinSF1'], dtype='object')"
      ]
     },
     "execution_count": 39,
     "metadata": {},
     "output_type": "execute_result"
    }
   ],
   "source": [
    "## Yêu cầu 14\n",
    "## VIẾT CODE Ở ĐÂY:\n",
    "X_train.columns[list(efs.best_idx_)]"
   ]
  },
  {
   "cell_type": "markdown",
   "metadata": {
    "id": "Q1RnEGtrNP2R"
   },
   "source": [
    "<details><summary> Gợi ý </summary>\n",
    "\n",
    "Sử dụng thuộc tính ```best_idx_```\n",
    "\n",
    "</details>"
   ]
  },
  {
   "cell_type": "markdown",
   "metadata": {
    "id": "mY9glpE8--aY"
   },
   "source": [
    "### So sánh chất lượng của các tập con đặc trưng"
   ]
  },
  {
   "cell_type": "code",
   "execution_count": 40,
   "metadata": {
    "id": "_7ak1EMZ-_Lu"
   },
   "outputs": [],
   "source": [
    "# hàm để huấn luyện rừng ngẫu nhiên và đánh giá chất lượng\n",
    "\n",
    "def run_randomForests(X_train, X_test, y_train, y_test):\n",
    "    \n",
    "    rf = RandomForestRegressor(n_estimators=200, random_state=39, max_depth=4)\n",
    "    rf.fit(X_train, y_train)\n",
    "\n",
    "    print('Train set')\n",
    "    pred = rf.predict(X_train)\n",
    "    print('Random Forests r2: {}'.format(r2_score(y_train, pred)))\n",
    "    \n",
    "    print('Test set')\n",
    "    pred = rf.predict(X_test)\n",
    "    print('Random Forests r2 : {}'.format(r2_score(y_test, pred)))"
   ]
  },
  {
   "cell_type": "code",
   "execution_count": 41,
   "metadata": {
    "id": "EyVjBdtK_Bab"
   },
   "outputs": [],
   "source": [
    "## Yêu cầu 15\n",
    "## VIẾT CODE Ở ĐÂY:\n",
    "selected_feat = X_train.columns[list(efs.best_idx_)]"
   ]
  },
  {
   "cell_type": "markdown",
   "metadata": {
    "id": "CQZkuJbDNRYV"
   },
   "source": [
    "<details><summary> Gợi ý </summary>\n",
    "\n",
    "Using ```best_idx_``` attribute\n",
    "\n",
    "</details>"
   ]
  },
  {
   "cell_type": "code",
   "execution_count": 42,
   "metadata": {
    "id": "yndFxGCM_Bc9",
    "outputId": "cacc8c40-f3ff-4889-9cec-2184ac79f837"
   },
   "outputs": [
    {
     "name": "stdout",
     "output_type": "stream",
     "text": [
      "Train set\n",
      "Random Forests r2: 0.7598962603686706\n",
      "Test set\n",
      "Random Forests r2 : 0.6856450799849569\n"
     ]
    }
   ],
   "source": [
    "# đánh giá chất lượng của thuật toán đã xây\n",
    "# sử dụng các đặc trưng đã chọn\n",
    "\n",
    "run_randomForests(X_train[selected_feat],\n",
    "                  X_test[selected_feat],\n",
    "                  y_train, y_test)"
   ]
  },
  {
   "cell_type": "code",
   "execution_count": 43,
   "metadata": {
    "id": "SXatbfhh_BfV",
    "outputId": "d3641029-f2fb-415d-c185-5b6d3579e99c"
   },
   "outputs": [
    {
     "name": "stdout",
     "output_type": "stream",
     "text": [
      "Train set\n",
      "Random Forests r2: 0.8454047044087043\n",
      "Test set\n",
      "Random Forests r2 : 0.7806708079073277\n"
     ]
    }
   ],
   "source": [
    "# để so sánh, chúng ta huấn luyện rừng ngẫu nhiên sử dụng\n",
    "# tất cả các đặc trưng (trừ các đặc trưng tương quan đã bị loại bỏ)\n",
    "\n",
    "run_randomForests(X_train,\n",
    "                  X_test,\n",
    "                  y_train, y_test)"
   ]
  },
  {
   "cell_type": "markdown",
   "metadata": {
    "id": "Kwz06lPzFuly"
   },
   "source": [
    "Trong trường hợp này, chất lượng giảm rất nhiều nên có các đặc trưng bổ sung là các yếu tố dự báo tốt của mục tiêu.\n",
    "\n",
    "Tìm kiếm đầy đủ rất khó tính toán, chúng ta không thường sử dụng quy trình này cho những lý do tương tự, nhưng nếu truy cập tới các siêu máy tính thì có thể thử.\n"
   ]
  }
 ],
 "metadata": {
  "colab": {
   "collapsed_sections": [],
   "name": "11.1 Lựa chọn đặc trưng với các phương pháp gói.ipynb",
   "provenance": []
  },
  "kernelspec": {
   "display_name": "pytorch",
   "language": "python",
   "name": "pytorch"
  },
  "language_info": {
   "codemirror_mode": {
    "name": "ipython",
    "version": 3
   },
   "file_extension": ".py",
   "mimetype": "text/x-python",
   "name": "python",
   "nbconvert_exporter": "python",
   "pygments_lexer": "ipython3",
   "version": "3.7.10"
  },
  "toc": {
   "base_numbering": 1,
   "nav_menu": {},
   "number_sections": true,
   "sideBar": true,
   "skip_h1_title": false,
   "title_cell": "Table of Contents",
   "title_sidebar": "Contents",
   "toc_cell": false,
   "toc_position": {},
   "toc_section_display": "block",
   "toc_window_display": true
  }
 },
 "nbformat": 4,
 "nbformat_minor": 1
}
