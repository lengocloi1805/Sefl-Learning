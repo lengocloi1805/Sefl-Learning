{
 "cells": [
  {
   "cell_type": "markdown",
   "metadata": {
    "id": "cnD1ecF0Mw0u"
   },
   "source": [
    "# Lựa chọn đặc trưng and LASSO"
   ]
  },
  {
   "cell_type": "markdown",
   "metadata": {
    "id": "N6oYlO_fMw0z"
   },
   "source": [
    "Trong notebook này, chúng ta sẽ sử dụng LASSO để lựa chọn đặc trưng, xây dựng solver đã triển khai trước cho LASSO (trong sklearn). Cụ thể, chúng ta sẽ:  \n",
    "* Chạy LASSO với các L1 penalty khác nhau.\n",
    "* Chọn L1 penalty tốt nhất sử dụng tập kiểm định.\n",
    "* Chọn L1 penalty tốt nhất sử dụng tập kiểm định với ràng buộc bổ sung về kích thước tập con. \n",
    "\n",
    "Trong bài tập tiếp theo, chúng ta sẽ tạo LASSO solver sử dụng coordinate descent."
   ]
  },
  {
   "cell_type": "markdown",
   "metadata": {
    "id": "wRSBur8HMw02"
   },
   "source": [
    "## Thư viện"
   ]
  },
  {
   "cell_type": "code",
   "execution_count": 102,
   "metadata": {
    "id": "MjaAEidBMw05"
   },
   "outputs": [],
   "source": [
    "import sklearn\n",
    "import pandas\n",
    "import numpy as np\n",
    "\n",
    "import warnings\n",
    "\n",
    "warnings.filterwarnings('ignore')"
   ]
  },
  {
   "cell_type": "markdown",
   "metadata": {
    "id": "JBmiSN8sMw1A"
   },
   "source": [
    "## Load tập dữ liệu doanh số bán nhà\n",
    "\n",
    "Tập dữ liệu từ doanh số bán nhà quận King, Seatle, WA."
   ]
  },
  {
   "cell_type": "code",
   "execution_count": 103,
   "metadata": {
    "id": "7cDLiqAIMw1D",
    "scrolled": true
   },
   "outputs": [],
   "source": [
    "full_data = pandas.read_csv(\"kc_house_data.csv\", index_col=0)"
   ]
  },
  {
   "cell_type": "markdown",
   "metadata": {
    "id": "nyLeYGvlMw1J"
   },
   "source": [
    "## Tạo các đặc trung mới"
   ]
  },
  {
   "cell_type": "markdown",
   "metadata": {
    "id": "XSMOdbHVMw1L"
   },
   "source": [
    "Như ở lab 2 (*Lab-2.ipynb*), chúng ta sẽ xem xét các đặc trưng có các biến đổi đầu vào."
   ]
  },
  {
   "cell_type": "code",
   "execution_count": 104,
   "metadata": {
    "id": "mYzffDTvMw1M"
   },
   "outputs": [],
   "source": [
    "from math import log, sqrt\n",
    "full_data['sqft_living_sqrt'] = full_data['sqft_living'].map(sqrt)\n",
    "full_data['sqft_lot_sqrt'] = full_data['sqft_lot'].map(sqrt)\n",
    "full_data['bedrooms_square'] = full_data['bedrooms'] ** 2\n",
    "\n",
    "# Trong tập dữ liệu, 'floors' được xác định là type string, \n",
    "# nên chúng ta sẽ chuyển chúng thành float trước khi tạo đặc trưng mới. \n",
    "full_data['floors'] = full_data['floors'].astype(float) \n",
    "full_data['floors_square'] = full_data['floors'] ** 2"
   ]
  },
  {
   "cell_type": "markdown",
   "metadata": {
    "id": "z672nh0kMw1S"
   },
   "source": [
    "* Bình phương bedrooms sẽ tăng phân tách giữa ít phòng ngủ (chẳng hạn 1) và nhiều phòng ngủ (chẳng hạn 4) vì 1^2 = 1 còn 4^2 = 16. Do đó, biến này sẽ ảnh hưởng lớn tới các ngôi nhà có nhiều phòng ngủ.\n",
    "* Mặt khác, căn bậc hai của sqft_living sẽ giảm phân tách giữa nhà lớn và nhà nhỏ. Chủ ngôi nhà cũng sẽ không vui hơn nếu nhà rộng gấp đôi."
   ]
  },
  {
   "cell_type": "markdown",
   "metadata": {
    "id": "VDo2w5chMw1U"
   },
   "source": [
    "# Tìm hiểu trọng số hồi quy với L1 penalty"
   ]
  },
  {
   "cell_type": "markdown",
   "metadata": {
    "id": "u-xMl9bUMw1V"
   },
   "source": [
    "Hãy khớp mô hình với tất cả đặc trưng hiện có cộng với các đặc trưng vừa tạo."
   ]
  },
  {
   "cell_type": "code",
   "execution_count": 105,
   "metadata": {
    "id": "OYAUT1PLMw1W"
   },
   "outputs": [],
   "source": [
    "all_features = ['bedrooms', 'bedrooms_square',\n",
    "            'bathrooms',\n",
    "            'sqft_living', 'sqft_living_sqrt',\n",
    "            'sqft_lot', 'sqft_lot_sqrt',\n",
    "            'floors', 'floors_square',\n",
    "            'waterfront', 'view', 'condition', 'grade',\n",
    "            'sqft_above',\n",
    "            'sqft_basement',\n",
    "            'yr_built', 'yr_renovated']"
   ]
  },
  {
   "cell_type": "markdown",
   "metadata": {
    "id": "D7-592ikMw1e"
   },
   "source": [
    "Áp dụng L1 penalty cần thêm tham số (`alpha=l1_penalty`) cho mô hình  `Lasso` của Sklearn. (Các công cụ khác cũng phân tách các triển khai của LASSO). Khá giống Hồi quy Ridge/L2, các đặc trưng cũng cần được co giãn để đảm bảo đồng đều ở giữa."
   ]
  },
  {
   "cell_type": "code",
   "execution_count": 106,
   "metadata": {
    "id": "KlTbDC0RMw1g"
   },
   "outputs": [],
   "source": [
    "from sklearn.linear_model import Lasso\n",
    "from sklearn.preprocessing import StandardScaler\n",
    "scaler = StandardScaler()\n",
    "l1_penalty=5e4\n",
    "full_features = scaler.fit_transform(full_data[all_features].values)\n",
    "full_labels = full_data['price'].values\n",
    "model = Lasso(alpha=l1_penalty).fit(full_features, full_labels)"
   ]
  },
  {
   "cell_type": "markdown",
   "metadata": {
    "id": "rH4847CcMw1m"
   },
   "source": [
    "Tìm các đặc trưng có trọng số khác 0."
   ]
  },
  {
   "cell_type": "code",
   "execution_count": 109,
   "metadata": {
    "id": "HElqPj8LMw1n"
   },
   "outputs": [],
   "source": [
    "# Bạn có biết numpy cũng có boolean selector tích hợp sẵn?\n",
    "def non_zero(model):\n",
    "    coefs = model.coef_\n",
    "    index_selected_feature = [x for x,v in enumerate(coefs) if abs(v) !=0]\n",
    "    return index_selected_feature"
   ]
  },
  {
   "cell_type": "markdown",
   "metadata": {
    "id": "Z0gF5MD_Mw1r"
   },
   "source": [
    "Lưu ý rằng phần lớn trọng số được đặt thành 0. Vì vậy, bằng cách đặt L1 penalty đủ lớn, chúng ta có thể thực hiện lựa chọn tập con.\n",
    "\n",
    "***QUIZ***:\n",
    "Theo list các trọng số này, những đặc trưng nào đã được chọn?"
   ]
  },
  {
   "cell_type": "code",
   "execution_count": 111,
   "metadata": {},
   "outputs": [
    {
     "name": "stdout",
     "output_type": "stream",
     "text": [
      "[3, 9, 10, 12, 15]\n",
      "['sqft_living', 'waterfront', 'view', 'grade', 'yr_built']\n"
     ]
    }
   ],
   "source": [
    "index_selected_feature = non_zero(model)\n",
    "selected_feature = [all_features[x] for x in index_selected_feature]\n",
    "print(index_selected_feature)\n",
    "print(selected_feature)"
   ]
  },
  {
   "cell_type": "markdown",
   "metadata": {
    "id": "9Zv3CFZBMw1s"
   },
   "source": [
    "# Lựa chọn L1 penalty"
   ]
  },
  {
   "cell_type": "markdown",
   "metadata": {
    "id": "Oc6Vm3RfMw1t"
   },
   "source": [
    "Để tìm một L1 penalty tốt, chúng ta sẽ khám phá nhiều giá trị sử dụng tập kiểm định. Hãy chia dữ liệu thành tập huấn luyện, tập kiểm định và tập kiểm tra:\n",
    "* Chia dữ liệu bán hàng thành 2 tập: tập huấn luyện và tập kiểm tra (9/1)\n",
    "* Chia tiếp tập huấn luyện thành 2 tập: tập huấn luyện và kiểm định (5/5)\n",
    "\n",
    "Hãy dùng seed = 1 để có cùng kết quả!"
   ]
  },
  {
   "cell_type": "code",
   "execution_count": 112,
   "metadata": {
    "id": "U41_wuIcMw1v"
   },
   "outputs": [],
   "source": [
    "from sklearn.model_selection import train_test_split\n",
    "# Cookie cho những ai cần copy cell \n",
    "train_and_validation, test = train_test_split(full_data, train_size=0.9, random_state=1)\n",
    "train, valid = train_test_split(train_and_validation, train_size=0.5, random_state=1)"
   ]
  },
  {
   "cell_type": "markdown",
   "metadata": {
    "id": "7kCoG3VwMw10"
   },
   "source": [
    "Tiếp theo, chúng ta sẽ viết một vòng lặp như sau: \n",
    "* Với `l1_penalty` trong phạm vi 21 bước giữa [1, 10^9] (sử dụng `np.logspace(0, 9, num=21)`.)\n",
    "    * Khớp mô hình hồi quy với `l1_penalty` trong dữ liệu HUẤN LUYỆN. Chỉ định `alpha=l1_penalty` trong tham số.\n",
    "    * Tính RSS trên dữ liệu KIỂM ĐỊNH (sử dụng `.predict()`) cho `l1_penalty`\n",
    "* Báo lại `l1_penalty` nào cho RSS thấp nhất trong dữ liệu KIỂM ĐỊNH."
   ]
  },
  {
   "cell_type": "code",
   "execution_count": 117,
   "metadata": {
    "id": "kYf8zDJtMw11"
   },
   "outputs": [],
   "source": [
    "# Mức độ trợ giúp: Bình thường.\n",
    "l1_penalty_values = np.logspace(0, 9, num=21)\n",
    "def train_model(data_train, data_test, in_features, out_feature, l1_penalty_values, max_nonzero = None, list_l1_penalty = []):\n",
    "    best_l1_penalty = None\n",
    "    min_RSS = np.Inf\n",
    "    best_model = None\n",
    "    \n",
    "    for l1_penalty in l1_penalty_values:\n",
    "        X_train = scaler.fit_transform(train[all_features].values)\n",
    "        y_train = train['price'].values\n",
    "        model = Lasso(alpha=l1_penalty).fit(X_train, y_train)\n",
    "        \n",
    "        if max_nonzero is not None:\n",
    "            non_zeros = len(non_zero(model))\n",
    "            if non_zeros == max_nonzeros:\n",
    "                list_l1_penalty.append(l1_penalty)\n",
    "        \n",
    "        X_valid = scaler.fit_transform(valid[all_features].values)\n",
    "        y_valid = valid['price'].values\n",
    "\n",
    "        prediction = model.predict(X_valid)\n",
    "        RSS = ((y_valid - prediction)**2).sum()\n",
    "        \n",
    "        if RSS < min_RSS:\n",
    "            min_RSS = RSS\n",
    "            best_l1_penalty = l1_penalty\n",
    "            best_model = model\n",
    "    non_zeros = non_zero(best_model)  \n",
    "    return best_l1_penalty, min_RSS, non_zeros, list_l1_penalty\n",
    "\n",
    "best_l1_penalty, min_RSS, non_zeros, list_l1_penalty = train_model(train, test, all_features,'price', l1_penalty_values)"
   ]
  },
  {
   "cell_type": "code",
   "execution_count": 120,
   "metadata": {},
   "outputs": [
    {
     "name": "stdout",
     "output_type": "stream",
     "text": [
      "min_RSS: 414402087272830.1 at best l1_penalty: 501.18723362727246 and no.nonzeros: 17\n",
      "[]\n"
     ]
    }
   ],
   "source": [
    "print(f'min_RSS: {min_RSS} at best l1_penalty: {best_l1_penalty} and no.nonzeros: {len(non_zeros)}')\n",
    "print(list_l1_penalty)"
   ]
  },
  {
   "cell_type": "markdown",
   "metadata": {
    "id": "wAneHq6LMw15"
   },
   "source": [
    "***QUIZ:*** Giá trị tốt nhất cho `l1_penalty` là bao nhiêu?<br>\n"
   ]
  },
  {
   "cell_type": "code",
   "execution_count": 94,
   "metadata": {
    "id": "oZ1BXWL7Mw16"
   },
   "outputs": [],
   "source": [
    "# Qua quan sát hay tính toán?"
   ]
  },
  {
   "cell_type": "markdown",
   "metadata": {
    "id": "PcnSvUHyMw19"
   },
   "source": [
    "***QUIZ***\n",
    "Với giá trị L1 penalty này, chúng ta có bao nhiêu trọng số khác 0?"
   ]
  },
  {
   "cell_type": "code",
   "execution_count": 95,
   "metadata": {
    "id": "Od-dOA-IMw1-"
   },
   "outputs": [],
   "source": [
    "# Thú vị phải không?"
   ]
  },
  {
   "cell_type": "markdown",
   "metadata": {
    "id": "_zNo9ywLMw2F"
   },
   "source": [
    "# Limit the number of nonzero weights Giới hạn số trọng số khác 0\n",
    "\n",
    "Sẽ ra sao nếu chúng ta muốn giới hạn, 5 đặc trưng chẳng hạn? Điều này quan trọng nếu chúng ta muốn suy ra \"quy tắc ngón tay cái\" --- mô hình có thể diễn giải chỉ với một vài đặc trưng."
   ]
  },
  {
   "cell_type": "markdown",
   "metadata": {
    "id": "jLijk-3UMw2G"
   },
   "source": [
    "Trong phần này, chúng ta sẽ triển khai quy trình đơn giản gồm 2 giai đoạn :\n",
    "1. Thăm dò phạm vi lớn các giá trị `l1_penalty` để tìm vùng các giá trị `l1_penalty` hẹp hơn mà mô hình chắc chắn sẽ có số lượng trọng số khác 0 mong muốn.\n",
    "2. Thăm dò tiếp vùng hẹp đã thấy để tìm gái trị tốt cho `l1_penalty` đạt được độ thưa thớt mong muốn. Ở đây chúng ta sử dụng tập kiểm định để chọn giá trị tốt nhất cho `l1_penalty`. "
   ]
  },
  {
   "cell_type": "code",
   "execution_count": 121,
   "metadata": {
    "id": "kOwQHIzMMw2H"
   },
   "outputs": [],
   "source": [
    "max_nonzeros = 5"
   ]
  },
  {
   "cell_type": "markdown",
   "metadata": {
    "id": "KMv9UnluMw2N"
   },
   "source": [
    "## Khám phá phạm vi giá trị lớn hơn để tìm phạm vi hẹp với độ thưa thớt mong muốn\n",
    "\n",
    "Hãy xác định một loạt các `l1_penalty_values` có thể:"
   ]
  },
  {
   "cell_type": "code",
   "execution_count": 123,
   "metadata": {
    "id": "vEaNt8VHMw2O"
   },
   "outputs": [],
   "source": [
    "l1_penalty_values = np.logspace(3, 5, num=21)"
   ]
  },
  {
   "cell_type": "markdown",
   "metadata": {
    "id": "Mxrj8371Mw2S"
   },
   "source": [
    "Giờ hãy triển khi vòng lặp tìm kiếm trong không gian có các giá trị `l1_penalty` có thể:\n",
    "\n",
    "* Với `l1_penalty` trong `np.logspace(3, 5, num=21)`:\n",
    "    * Khớp mô hình hồi quy với `l1_penalty` đã biết trong dữ liệu HUẤN LUYỆN. Chỉ định `alpha=l1_penalty` trong tham số.\n",
    "    * Trích xuất trọng số của mô hình và đếm số trọng số khác 0. Lưu con số này vào một list. \n",
    "        * Gợi ý: `model.coef_` cho các tham số/hệ số đã tìm thấy (intercept) ở dạng mảng numpy. Sau đó có thể dùng array\\[condition\\] cho list các giá trị truyền điều kiện, hoặc chỉ dùng `np.count_nonzero()` có sẵn."
   ]
  },
  {
   "cell_type": "code",
   "execution_count": 124,
   "metadata": {},
   "outputs": [],
   "source": [
    "best_l1_penalty, min_RSS, non_zeros, list_l1_penalty = train_model(train, test, all_features,'price', l1_penalty_values, max_nonzeros)"
   ]
  },
  {
   "cell_type": "code",
   "execution_count": 126,
   "metadata": {},
   "outputs": [
    {
     "name": "stdout",
     "output_type": "stream",
     "text": [
      "[25118.864315095823, 31622.776601683792, 39810.71705534969, 50118.72336272725]\n"
     ]
    }
   ],
   "source": [
    "print(list_l1_penalty)"
   ]
  },
  {
   "cell_type": "markdown",
   "metadata": {
    "id": "ucgWXpj9Mw2Z"
   },
   "source": [
    "Trong phạm vi lớn này, chúng ta có thể tìm 2 đầu phạm vi hẹp mong muốn của `l1_penalty`. Ở một đầu, các giá trị `l1_penalty` có quá ít giá trị khác 0, còn đầu kia lại có quá nhiều giá trị khác 0.\n",
    "\n",
    "Hãy tìm:\n",
    "* `l1_penalty` nhỏ nhất có các số khác 0 bằng `max_nonzeros` (nếu chọn penalty nhỏ hơn giá trị này chắc chắn sẽ có rất nhiều trọng số khác 0).\n",
    "    * Lưu giá trị này trong biến `l1_penalty_min` (sẽ sử dụng nó sau).\n",
    "* `l1_penalty` lớn nhất có các số khác 0 bằng `max_nonzeros` (nếu chọn penalty lớn hơn giá trị này chắc chắn sẽ có rất ít trọng số khác 0).\n",
    "    * Lưu giá trị này trong biến `l1_penalty_max` (sẽ sử dụng nó sau).\n",
    "\n",
    "\n",
    "*Gợi ý: có nhiều cách để thực hiện, chẳng hạn:*\n",
    "* Lập trình trong vòng lặp trên.\n",
    "* Tạo một list với số lượng khác 0 cho từng giá trị `l1_penalty` và kiểm tra nó để tìm ranh giới thích hợp."
   ]
  },
  {
   "cell_type": "code",
   "execution_count": 127,
   "metadata": {
    "id": "UBpwiXEVMw2b"
   },
   "outputs": [],
   "source": [
    "l1_penalty_min = list_l1_penalty[0]\n",
    "l1_penalty_max = list_l1_penalty[-1]"
   ]
  },
  {
   "cell_type": "markdown",
   "metadata": {
    "id": "-S2jtklaMw2g"
   },
   "source": [
    "***QUIZ.*** Chúng ta tìm thấy các giá trị nào lần lượt cho `l1_penalty_min` và `l1_penalty_max`? "
   ]
  },
  {
   "cell_type": "markdown",
   "metadata": {
    "id": "-T_xUbJ5Mw2i"
   },
   "source": [
    "## Khám phá phạm vi nhỏ các giá trị để tìm giải pháp với đúng số lượng các số khác 0 có RSS trong tập kiểm định nhỏ nhất\n",
    "\n",
    "Chúng ta sẽ khám phá vùng hẹp các giá trị `l1_penalty` đã tìm thấy:"
   ]
  },
  {
   "cell_type": "code",
   "execution_count": 128,
   "metadata": {
    "id": "mEICQwrAMw2k"
   },
   "outputs": [
    {
     "name": "stdout",
     "output_type": "stream",
     "text": [
      "[25118.8643151  26434.64637023 27750.42842537 29066.21048051\n",
      " 30381.99253565 31697.77459079 33013.55664593 34329.33870107\n",
      " 35645.1207562  36960.90281134 38276.68486648 39592.46692162\n",
      " 40908.24897676 42224.0310319  43539.81308703 44855.59514217\n",
      " 46171.37719731 47487.15925245 48802.94130759 50118.72336273]\n"
     ]
    }
   ],
   "source": [
    "l1_penalty_values = np.linspace(l1_penalty_min,l1_penalty_max,20)\n",
    "print(l1_penalty_values)"
   ]
  },
  {
   "cell_type": "markdown",
   "metadata": {
    "id": "IVkWedu9Mw2p"
   },
   "source": [
    "* Với `l1_penalty` trong `np.linspace(l1_penalty_min,l1_penalty_max,20)`:\n",
    "    * Khớp mô hình hồi quy với `l1_penalty` đã biết trong dữ liệu HUẤN LUYỆN. Chỉ định `alpha=l1_penalty`.\n",
    "    * Đo lường RSS của mô hình đã tìm hiểu trong tập KIỂM ĐỊNH.\n",
    "\n",
    "Tìm mô hình có RSS nhỏ nhất trong tập KIỂM ĐỊNH và độ thưa thớt *bằng*  `max_nonzeros`."
   ]
  },
  {
   "cell_type": "code",
   "execution_count": 129,
   "metadata": {
    "id": "gKsCKTP3Mw2q"
   },
   "outputs": [
    {
     "name": "stdout",
     "output_type": "stream",
     "text": [
      "min_RSS: 491275148416788.25 at l1_penalty: 25118.864315095823\n",
      "[3, 9, 10, 12, 15]\n"
     ]
    }
   ],
   "source": [
    "# Xem quiz bên dưới\n",
    "best_l1_penalty, min_RSS, non_zeros, list_l1_penalty = train_model(train, test, all_features,'price', l1_penalty_values)\n",
    "print(f'min_RSS: {min_RSS} at l1_penalty: {best_l1_penalty}')\n",
    "print(non_zeros)"
   ]
  },
  {
   "cell_type": "markdown",
   "metadata": {
    "id": "b4vAuKXfMw2u"
   },
   "source": [
    "***QUIZ***\n",
    "1. Giá trị của `l1_penalty` trong phạm vi hẹp hơn có RSS thấp nhất trong tập KIỂM ĐỊNH và độ thưa *bằng* `max_nonzeros` là?\n",
    "2. Các đặc trung nào trong mô hình này có các hệ số khác 0?"
   ]
  },
  {
   "cell_type": "code",
   "execution_count": 131,
   "metadata": {
    "id": "VISUoAMIMw2v"
   },
   "outputs": [
    {
     "name": "stdout",
     "output_type": "stream",
     "text": [
      "['sqft_living', 'waterfront', 'view', 'grade', 'yr_built']\n"
     ]
    }
   ],
   "source": [
    "selected_feature = [all_features[x] for x in non_zeros]\n",
    "print(selected_feature)"
   ]
  },
  {
   "cell_type": "markdown",
   "metadata": {},
   "source": [
    "==========================End=========================="
   ]
  }
 ],
 "metadata": {
  "colab": {
   "collapsed_sections": [],
   "name": "[VN]Lab-5.ipynb",
   "provenance": []
  },
  "kernelspec": {
   "display_name": "pytorch",
   "language": "python",
   "name": "pytorch"
  },
  "language_info": {
   "codemirror_mode": {
    "name": "ipython",
    "version": 3
   },
   "file_extension": ".py",
   "mimetype": "text/x-python",
   "name": "python",
   "nbconvert_exporter": "python",
   "pygments_lexer": "ipython3",
   "version": "3.7.10"
  }
 },
 "nbformat": 4,
 "nbformat_minor": 1
}
