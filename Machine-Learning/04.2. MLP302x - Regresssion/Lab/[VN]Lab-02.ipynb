{
 "cells": [
  {
   "cell_type": "markdown",
   "metadata": {
    "id": "UuojO3VSzL_o"
   },
   "source": [
    "# Hồi quy đa biến Multiple Regression (Diễn giải)"
   ]
  },
  {
   "cell_type": "markdown",
   "metadata": {
    "id": "mSbS1z5MzL_q"
   },
   "source": [
    "Trong notebook này, chúng ta sẽ sử dụng dữ liệu doanh số bán nhà ở Quận King để dự đoán giá nhà sử dụng hồi quy tuyến tính đa biến. Chúng ta sẽ:\n",
    "* Thực hiện một số thiết kế đặc trưng bằng các hàm DataFrame nội bộ.\n",
    "* Sử dụng các hàm sklearn có sẵn để tính hồi quy và truy cập các tham số của nó (hệ số).\n",
    "* Viết hàm tính RSS với các trọng số hồi quy, yếu tố dự báo và đầu ra đã cho.\n",
    "* Xem các hệ số và diễn giải ý nghĩa của chúng.\n",
    "* Đánh giá mô hình đa biến qua RSS."
   ]
  },
  {
   "cell_type": "markdown",
   "metadata": {
    "id": "KdF3Vw8dzL_r"
   },
   "source": [
    "## Import thư viện"
   ]
  },
  {
   "cell_type": "code",
   "execution_count": 69,
   "metadata": {
    "id": "Uw5wbG3XzL_s"
   },
   "outputs": [],
   "source": [
    "import sklearn, pandas\n",
    "import numpy as np\n",
    "import warnings\n",
    "\n",
    "warnings.filterwarnings(\"ignore\")"
   ]
  },
  {
   "cell_type": "markdown",
   "metadata": {
    "id": "PMBGrgxGzL_s"
   },
   "source": [
    "## Load dữ liệu bán nhà\n",
    "\n",
    "Tập dữ liệu từ doanh số bán nhà quận King, Seatle, WA."
   ]
  },
  {
   "cell_type": "code",
   "execution_count": 70,
   "metadata": {
    "id": "Spz6werbzL_s",
    "scrolled": true
   },
   "outputs": [],
   "source": [
    "full_data = pandas.read_csv(\"kc_house_data.csv\", index_col=0)"
   ]
  },
  {
   "cell_type": "code",
   "execution_count": 71,
   "metadata": {},
   "outputs": [
    {
     "data": {
      "text/html": [
       "<div>\n",
       "<style scoped>\n",
       "    .dataframe tbody tr th:only-of-type {\n",
       "        vertical-align: middle;\n",
       "    }\n",
       "\n",
       "    .dataframe tbody tr th {\n",
       "        vertical-align: top;\n",
       "    }\n",
       "\n",
       "    .dataframe thead th {\n",
       "        text-align: right;\n",
       "    }\n",
       "</style>\n",
       "<table border=\"1\" class=\"dataframe\">\n",
       "  <thead>\n",
       "    <tr style=\"text-align: right;\">\n",
       "      <th></th>\n",
       "      <th>date</th>\n",
       "      <th>price</th>\n",
       "      <th>bedrooms</th>\n",
       "      <th>bathrooms</th>\n",
       "      <th>sqft_living</th>\n",
       "      <th>sqft_lot</th>\n",
       "      <th>floors</th>\n",
       "      <th>waterfront</th>\n",
       "      <th>view</th>\n",
       "      <th>condition</th>\n",
       "      <th>grade</th>\n",
       "      <th>sqft_above</th>\n",
       "      <th>sqft_basement</th>\n",
       "      <th>yr_built</th>\n",
       "      <th>yr_renovated</th>\n",
       "      <th>zipcode</th>\n",
       "      <th>lat</th>\n",
       "      <th>long</th>\n",
       "      <th>sqft_living15</th>\n",
       "      <th>sqft_lot15</th>\n",
       "    </tr>\n",
       "    <tr>\n",
       "      <th>id</th>\n",
       "      <th></th>\n",
       "      <th></th>\n",
       "      <th></th>\n",
       "      <th></th>\n",
       "      <th></th>\n",
       "      <th></th>\n",
       "      <th></th>\n",
       "      <th></th>\n",
       "      <th></th>\n",
       "      <th></th>\n",
       "      <th></th>\n",
       "      <th></th>\n",
       "      <th></th>\n",
       "      <th></th>\n",
       "      <th></th>\n",
       "      <th></th>\n",
       "      <th></th>\n",
       "      <th></th>\n",
       "      <th></th>\n",
       "      <th></th>\n",
       "    </tr>\n",
       "  </thead>\n",
       "  <tbody>\n",
       "    <tr>\n",
       "      <th>7129300520</th>\n",
       "      <td>20141013T000000</td>\n",
       "      <td>221900.0</td>\n",
       "      <td>3</td>\n",
       "      <td>1.00</td>\n",
       "      <td>1180</td>\n",
       "      <td>5650</td>\n",
       "      <td>1.0</td>\n",
       "      <td>0</td>\n",
       "      <td>0</td>\n",
       "      <td>3</td>\n",
       "      <td>7</td>\n",
       "      <td>1180</td>\n",
       "      <td>0</td>\n",
       "      <td>1955</td>\n",
       "      <td>0</td>\n",
       "      <td>98178</td>\n",
       "      <td>47.5112</td>\n",
       "      <td>-122.257</td>\n",
       "      <td>1340</td>\n",
       "      <td>5650</td>\n",
       "    </tr>\n",
       "    <tr>\n",
       "      <th>6414100192</th>\n",
       "      <td>20141209T000000</td>\n",
       "      <td>538000.0</td>\n",
       "      <td>3</td>\n",
       "      <td>2.25</td>\n",
       "      <td>2570</td>\n",
       "      <td>7242</td>\n",
       "      <td>2.0</td>\n",
       "      <td>0</td>\n",
       "      <td>0</td>\n",
       "      <td>3</td>\n",
       "      <td>7</td>\n",
       "      <td>2170</td>\n",
       "      <td>400</td>\n",
       "      <td>1951</td>\n",
       "      <td>1991</td>\n",
       "      <td>98125</td>\n",
       "      <td>47.7210</td>\n",
       "      <td>-122.319</td>\n",
       "      <td>1690</td>\n",
       "      <td>7639</td>\n",
       "    </tr>\n",
       "    <tr>\n",
       "      <th>5631500400</th>\n",
       "      <td>20150225T000000</td>\n",
       "      <td>180000.0</td>\n",
       "      <td>2</td>\n",
       "      <td>1.00</td>\n",
       "      <td>770</td>\n",
       "      <td>10000</td>\n",
       "      <td>1.0</td>\n",
       "      <td>0</td>\n",
       "      <td>0</td>\n",
       "      <td>3</td>\n",
       "      <td>6</td>\n",
       "      <td>770</td>\n",
       "      <td>0</td>\n",
       "      <td>1933</td>\n",
       "      <td>0</td>\n",
       "      <td>98028</td>\n",
       "      <td>47.7379</td>\n",
       "      <td>-122.233</td>\n",
       "      <td>2720</td>\n",
       "      <td>8062</td>\n",
       "    </tr>\n",
       "    <tr>\n",
       "      <th>2487200875</th>\n",
       "      <td>20141209T000000</td>\n",
       "      <td>604000.0</td>\n",
       "      <td>4</td>\n",
       "      <td>3.00</td>\n",
       "      <td>1960</td>\n",
       "      <td>5000</td>\n",
       "      <td>1.0</td>\n",
       "      <td>0</td>\n",
       "      <td>0</td>\n",
       "      <td>5</td>\n",
       "      <td>7</td>\n",
       "      <td>1050</td>\n",
       "      <td>910</td>\n",
       "      <td>1965</td>\n",
       "      <td>0</td>\n",
       "      <td>98136</td>\n",
       "      <td>47.5208</td>\n",
       "      <td>-122.393</td>\n",
       "      <td>1360</td>\n",
       "      <td>5000</td>\n",
       "    </tr>\n",
       "    <tr>\n",
       "      <th>1954400510</th>\n",
       "      <td>20150218T000000</td>\n",
       "      <td>510000.0</td>\n",
       "      <td>3</td>\n",
       "      <td>2.00</td>\n",
       "      <td>1680</td>\n",
       "      <td>8080</td>\n",
       "      <td>1.0</td>\n",
       "      <td>0</td>\n",
       "      <td>0</td>\n",
       "      <td>3</td>\n",
       "      <td>8</td>\n",
       "      <td>1680</td>\n",
       "      <td>0</td>\n",
       "      <td>1987</td>\n",
       "      <td>0</td>\n",
       "      <td>98074</td>\n",
       "      <td>47.6168</td>\n",
       "      <td>-122.045</td>\n",
       "      <td>1800</td>\n",
       "      <td>7503</td>\n",
       "    </tr>\n",
       "  </tbody>\n",
       "</table>\n",
       "</div>"
      ],
      "text/plain": [
       "                       date     price  bedrooms  bathrooms  sqft_living  \\\n",
       "id                                                                        \n",
       "7129300520  20141013T000000  221900.0         3       1.00         1180   \n",
       "6414100192  20141209T000000  538000.0         3       2.25         2570   \n",
       "5631500400  20150225T000000  180000.0         2       1.00          770   \n",
       "2487200875  20141209T000000  604000.0         4       3.00         1960   \n",
       "1954400510  20150218T000000  510000.0         3       2.00         1680   \n",
       "\n",
       "            sqft_lot  floors  waterfront  view  condition  grade  sqft_above  \\\n",
       "id                                                                             \n",
       "7129300520      5650     1.0           0     0          3      7        1180   \n",
       "6414100192      7242     2.0           0     0          3      7        2170   \n",
       "5631500400     10000     1.0           0     0          3      6         770   \n",
       "2487200875      5000     1.0           0     0          5      7        1050   \n",
       "1954400510      8080     1.0           0     0          3      8        1680   \n",
       "\n",
       "            sqft_basement  yr_built  yr_renovated  zipcode      lat     long  \\\n",
       "id                                                                             \n",
       "7129300520              0      1955             0    98178  47.5112 -122.257   \n",
       "6414100192            400      1951          1991    98125  47.7210 -122.319   \n",
       "5631500400              0      1933             0    98028  47.7379 -122.233   \n",
       "2487200875            910      1965             0    98136  47.5208 -122.393   \n",
       "1954400510              0      1987             0    98074  47.6168 -122.045   \n",
       "\n",
       "            sqft_living15  sqft_lot15  \n",
       "id                                     \n",
       "7129300520           1340        5650  \n",
       "6414100192           1690        7639  \n",
       "5631500400           2720        8062  \n",
       "2487200875           1360        5000  \n",
       "1954400510           1800        7503  "
      ]
     },
     "execution_count": 71,
     "metadata": {},
     "output_type": "execute_result"
    }
   ],
   "source": [
    "full_data.head()"
   ]
  },
  {
   "cell_type": "markdown",
   "metadata": {
    "id": "r1KXSBqZzL_t"
   },
   "source": [
    "## Chia dữ liệu thành tập huấn luyện và kiểm tra.\n",
    "Chúng ta sử dụng seed=0 để mọi người chạy notebook này có đều được kết quả tương tự. Thực tế, các bạn có thể thiết lập seed ngẫu nhiên để đảm bảo tính nhất quán. "
   ]
  },
  {
   "cell_type": "code",
   "execution_count": 72,
   "metadata": {
    "id": "aHStoQZezL_t"
   },
   "outputs": [],
   "source": [
    "from sklearn.model_selection import train_test_split\n",
    "train_data, test_data = train_test_split(full_data, train_size=0.8, test_size=0.2, random_state=0)\n",
    "# train_data = train_data.copy()\n",
    "# test_data = test_data.copy()"
   ]
  },
  {
   "cell_type": "markdown",
   "metadata": {
    "id": "J_bWDhltzL_t"
   },
   "source": [
    "# Tìm hiểu mô hình hồi quy đa biến"
   ]
  },
  {
   "cell_type": "markdown",
   "metadata": {
    "id": "A_ZM4QM6zL_u"
   },
   "source": [
    "Chúng ta có thể sử dụng code sau để tìm hiểu mô hình hồi quy đa biến dự đoán 'price' dựa trên các đặc trưng sau: example_features = ['sqft_living', 'bedrooms', 'bathrooms'] trong dữ liệu huấn luyện với code:"
   ]
  },
  {
   "cell_type": "code",
   "execution_count": 73,
   "metadata": {
    "id": "fBKTyCQTzL_u"
   },
   "outputs": [],
   "source": [
    "def extract_features(data, features_title):\n",
    "    # nhận các đặc trưng từ DataFrame\n",
    "    features = [data[title].values for title in features_title]\n",
    "    # xếp chồng chúng thành 2d [examples, properties]\n",
    "    return np.stack(features, axis=-1)"
   ]
  },
  {
   "cell_type": "code",
   "execution_count": 74,
   "metadata": {
    "id": "w3vPgycwzL_u"
   },
   "outputs": [],
   "source": [
    "from sklearn.linear_model import LinearRegression\n",
    "\n",
    "example_features_title = ['sqft_living', 'bedrooms', 'bathrooms']\n",
    "# trích xuất đặc trưng thành các mảng numpy và xếp chồng chúng mỗi example \n",
    "example_features = extract_features(train_data, example_features_title)\n",
    "example_labels = train_data['price']\n",
    "example_model = LinearRegression().fit(example_features, example_labels)"
   ]
  },
  {
   "cell_type": "markdown",
   "metadata": {
    "id": "vkvZ3tQLzL_v"
   },
   "source": [
    "Chúng ta đã khớp mô hình, giờ có thể trích xuất các trọng số mô hình (hệ số) từ mô hình như sau:"
   ]
  },
  {
   "cell_type": "code",
   "execution_count": 75,
   "metadata": {
    "id": "PYq-n6gmzL_v",
    "outputId": "8e67f020-657d-4e46-bd0a-c9eda1b30c97"
   },
   "outputs": [
    {
     "name": "stdout",
     "output_type": "stream",
     "text": [
      "[   313.17055038 -56754.66651422   6887.71910816]\n"
     ]
    }
   ],
   "source": [
    "example_weight_summary = example_model.coef_\n",
    "print(example_weight_summary)"
   ]
  },
  {
   "cell_type": "markdown",
   "metadata": {
    "id": "JrPSX8P8zL_w"
   },
   "source": [
    "## Đưa ra dự đoán\n",
    "\n",
    "Trong notebook về gradient descent, chúng ta sử dụng numpy để thực hiện hồi quy. Trong notebook này, chúng ta sẽ sử dụng các hàm giao diện của mô hình sklearn hiện có để phân tích hồi quy đa biến.\n",
    "\n",
    "Khi mô hình đã xây, chúng ta có thể sử dụng hàm `predict` để tìm các giá trị dự đoán cho dữ liệu mà chúng ta truyền vào. Ví dụ: sử dụng example_model trên: "
   ]
  },
  {
   "cell_type": "code",
   "execution_count": 76,
   "metadata": {
    "id": "ddZiuCWszL_w",
    "outputId": "bf5701c3-472b-405d-a371-fe16db5af27d"
   },
   "outputs": [
    {
     "name": "stdout",
     "output_type": "stream",
     "text": [
      "395813.4988028938\n"
     ]
    }
   ],
   "source": [
    "example_predictions = example_model.predict(example_features)\n",
    "print(example_predictions[0]) # should be 395813.499"
   ]
  },
  {
   "cell_type": "markdown",
   "metadata": {
    "id": "eVZ3wPEyzL_w"
   },
   "source": [
    "## Tính RSS"
   ]
  },
  {
   "cell_type": "markdown",
   "metadata": {
    "id": "Hc0JjiYqzL_x"
   },
   "source": [
    "Bây giờ chúng ta có thể đưa ra các dự đoán cho mô hình, hãy viết một hàm tính RSS của mô hình. Hoàn thành hàm dưới đây để tính RSS với mô hình, dữ liệu và đầu ra đã biết."
   ]
  },
  {
   "cell_type": "code",
   "execution_count": 77,
   "metadata": {
    "id": "JMqfzD8zzL_x"
   },
   "outputs": [],
   "source": [
    "def get_residual_sum_of_squares(model, data, outcome):\n",
    "    # Trước tiên lấy các dự đoán\n",
    "    prediction = model.predict(data)\n",
    "    # Sau đó tính các phần dư/lỗi\n",
    "    residual = outcome - prediction\n",
    "    # Bình phương lên và cộng tổng \n",
    "    RSS = (residual**2).sum()\n",
    "    return(RSS)    "
   ]
  },
  {
   "cell_type": "markdown",
   "metadata": {
    "id": "_R4UCYFdzL_x"
   },
   "source": [
    "Kiểm tra hàm bằng cách tính RSS trong dữ liệu KIỂM TRA cho mô hình mẫu:"
   ]
  },
  {
   "cell_type": "code",
   "execution_count": 78,
   "metadata": {
    "id": "EfnouG3BzL_x",
    "outputId": "5a23d795-5222-4135-9b87-8b79217fb9ec"
   },
   "outputs": [
    {
     "name": "stdout",
     "output_type": "stream",
     "text": [
      "259213572106085.38\n"
     ]
    }
   ],
   "source": [
    "example_test_features = extract_features(test_data, example_features_title)\n",
    "example_test_labels = test_data['price']\n",
    "rss_example_test = get_residual_sum_of_squares(example_model, example_test_features, example_test_labels)\n",
    "print(rss_example_test) # should be ~ 2.5921e+14"
   ]
  },
  {
   "cell_type": "markdown",
   "metadata": {
    "id": "FxZYgpiSzL_x"
   },
   "source": [
    "# Tạo một số đặc trưng mới"
   ]
  },
  {
   "cell_type": "markdown",
   "metadata": {
    "id": "pUrv_M43zL_y"
   },
   "source": [
    "Chúng ta thường nghĩ hồi quy đa biến gồm nhiều đặc trưng khác nhau (ví dụ: số phòng ngủ, diện tích và số phòng tắm), nhưng chúng ta cũng có thể xem xét việc biến đổi các đối đặc trưng hiện có, ví dụ: log của squarefeet hoặc thậm chí các đặc trưng \"tương tác\" như tích của số phòng ngủ và số phòng tắm."
   ]
  },
  {
   "cell_type": "markdown",
   "metadata": {
    "id": "pZRDPwVwzL_y"
   },
   "source": [
    "Giờ chúng ta sẽ sử dụng hàm logarit mặc định của python để tạo đặc trưng mới. Chúng ta cần import nó từ thư viện math."
   ]
  },
  {
   "cell_type": "code",
   "execution_count": 79,
   "metadata": {
    "id": "uxVRXzdczL_y"
   },
   "outputs": [],
   "source": [
    "from math import log"
   ]
  },
  {
   "cell_type": "markdown",
   "metadata": {
    "id": "N4HSOc4YzL_y"
   },
   "source": [
    "Tiếp theo, chúng ta sẽ tạo 4 đặc trưng mới sau làm cột trong cả dữ liệu HUẤN LUYỆN và KIỂM TRA:\n",
    "* bedrooms_squared = bedrooms\\*bedrooms\n",
    "* bed_bath_rooms = bedrooms\\*bathrooms\n",
    "* log_sqft_living = log(sqft_living)\n",
    "* lat_plus_long = lat + long \n",
    "\n",
    "Ví dụ như sau:"
   ]
  },
  {
   "cell_type": "code",
   "execution_count": 80,
   "metadata": {
    "id": "VuOR_azCzL_y"
   },
   "outputs": [],
   "source": [
    "train_data['bedrooms_squared'] = train_data['bedrooms'].map(lambda x: x**2)\n",
    "test_data['bedrooms_squared'] = test_data['bedrooms'].map(lambda x: x**2)"
   ]
  },
  {
   "cell_type": "code",
   "execution_count": 81,
   "metadata": {},
   "outputs": [
    {
     "data": {
      "text/plain": [
       "Index(['date', 'price', 'bedrooms', 'bathrooms', 'sqft_living', 'sqft_lot',\n",
       "       'floors', 'waterfront', 'view', 'condition', 'grade', 'sqft_above',\n",
       "       'sqft_basement', 'yr_built', 'yr_renovated', 'zipcode', 'lat', 'long',\n",
       "       'sqft_living15', 'sqft_lot15'],\n",
       "      dtype='object')"
      ]
     },
     "execution_count": 81,
     "metadata": {},
     "output_type": "execute_result"
    }
   ],
   "source": [
    "full_data.columns"
   ]
  },
  {
   "cell_type": "code",
   "execution_count": 82,
   "metadata": {
    "id": "20ou7f3CzL_z"
   },
   "outputs": [],
   "source": [
    "# tạo 3 đặc trưng còn lại trong cả dữ liệu HUẤN LUYỆN và KIỂM TRA\n",
    "train_data['bed_bath_rooms'] = train_data['bedrooms']*train_data['bathrooms']\n",
    "test_data['bed_bath_rooms'] = test_data['bedrooms']*test_data['bathrooms']\n",
    "\n",
    "train_data['log_sqft_living'] = train_data['sqft_living'].map(lambda x: log(x))\n",
    "test_data['log_sqft_living'] = test_data['sqft_living'].map(lambda x: log(x))\n",
    "\n",
    "train_data['lat_plus_long'] = train_data['lat'] + train_data['long']\n",
    "test_data['lat_plus_long'] = test_data['lat'] + test_data['long']"
   ]
  },
  {
   "cell_type": "markdown",
   "metadata": {
    "id": "XzffD5s3zL_z"
   },
   "source": [
    "* bedrooms*bedrooms sẽ tăng phân tách giữa ít phòng ngủ (chẳng hạn: 1) và nhiều phòng ngủ (chẳng hạn: 4). Do đó, đặc trưng này phần lớn sẽ ảnh hưởng với nhiều phòng ngủ.\n",
    "* bedrooms*bathrooms cho đặc trưng \"tương tác\", nó sẽ lớn khi cả hai đều lớn.\n",
    "* log(sqft_living) khiến các giá trị lớn hơn gần nhau hơn và lan ra các giá trị nhỏ.\n",
    "* lat + long hoàn toàn không có ý nghĩa nhưng chúng ta vẫn thực hiện (bạn sẽ biết lý do sau)."
   ]
  },
  {
   "cell_type": "markdown",
   "metadata": {
    "id": "U1HAP2BEzL_z"
   },
   "source": [
    "**Quiz: Giá trị trung bình cộng của 4 đặc trưng mới trong dữ liệu KIỂM TRA là bao nhiêu? (làm tròn tới 2 chữ số thập phân)**"
   ]
  },
  {
   "cell_type": "code",
   "execution_count": 83,
   "metadata": {
    "id": "Kp3D1mlnzL_0"
   },
   "outputs": [
    {
     "name": "stdout",
     "output_type": "stream",
     "text": [
      "-47.45\n"
     ]
    }
   ],
   "source": [
    "# pandas.Series có hàm gọi chính xác như vậy.\n",
    "features_avr = (test_data['bedrooms_squared'] + test_data['bed_bath_rooms'] + test_data['log_sqft_living'] + test_data['lat_plus_long']).mean()\n",
    "print(f'{features_avr:.2f}')"
   ]
  },
  {
   "cell_type": "markdown",
   "metadata": {
    "id": "oSvBL-zkzL_0"
   },
   "source": [
    "## Tìm hiểu mô hình đa biến"
   ]
  },
  {
   "cell_type": "markdown",
   "metadata": {
    "id": "v5lRGSFszL_0"
   },
   "source": [
    "Bây giờ chúng ta sẽ tìm hiểu trọng số của ba mô hình (lồng nhau) dự đoán giá nhà. Mô hình đầu tiên sẽ ít đặc trưng nhất, mô hình thứ hai sẽ thêm một đặc trưng và mô hình thứ ba sẽ thêm vài đặc trưng khác:\n",
    "* Mô hình 1: sqft_living, # bedrooms, # bathrooms, lat & long\n",
    "* Mô hình 2: thêm bedrooms\\*bathrooms\n",
    "* Mô hình 3: thêm log_sqft, bedrooms_squared, và lat_plus_long"
   ]
  },
  {
   "cell_type": "code",
   "execution_count": 84,
   "metadata": {
    "id": "xBmapYryzL_0"
   },
   "outputs": [],
   "source": [
    "model_1_features = ['sqft_living', 'bedrooms', 'bathrooms', 'lat', 'long']\n",
    "model_2_features = model_1_features + ['bed_bath_rooms']\n",
    "model_3_features = model_2_features + ['bedrooms_squared', 'log_sqft_living', 'lat_plus_long']"
   ]
  },
  {
   "cell_type": "code",
   "execution_count": 93,
   "metadata": {},
   "outputs": [
    {
     "data": {
      "text/html": [
       "<div>\n",
       "<style scoped>\n",
       "    .dataframe tbody tr th:only-of-type {\n",
       "        vertical-align: middle;\n",
       "    }\n",
       "\n",
       "    .dataframe tbody tr th {\n",
       "        vertical-align: top;\n",
       "    }\n",
       "\n",
       "    .dataframe thead th {\n",
       "        text-align: right;\n",
       "    }\n",
       "</style>\n",
       "<table border=\"1\" class=\"dataframe\">\n",
       "  <thead>\n",
       "    <tr style=\"text-align: right;\">\n",
       "      <th></th>\n",
       "      <th>sqft_living</th>\n",
       "      <th>bedrooms</th>\n",
       "      <th>bathrooms</th>\n",
       "      <th>lat</th>\n",
       "      <th>long</th>\n",
       "      <th>bed_bath_rooms</th>\n",
       "    </tr>\n",
       "    <tr>\n",
       "      <th>id</th>\n",
       "      <th></th>\n",
       "      <th></th>\n",
       "      <th></th>\n",
       "      <th></th>\n",
       "      <th></th>\n",
       "      <th></th>\n",
       "    </tr>\n",
       "  </thead>\n",
       "  <tbody>\n",
       "    <tr>\n",
       "      <th>5100402668</th>\n",
       "      <td>1570</td>\n",
       "      <td>3</td>\n",
       "      <td>1.0</td>\n",
       "      <td>47.6942</td>\n",
       "      <td>-122.319</td>\n",
       "      <td>3.0</td>\n",
       "    </tr>\n",
       "    <tr>\n",
       "      <th>7856560480</th>\n",
       "      <td>1780</td>\n",
       "      <td>3</td>\n",
       "      <td>2.5</td>\n",
       "      <td>47.5574</td>\n",
       "      <td>-122.149</td>\n",
       "      <td>7.5</td>\n",
       "    </tr>\n",
       "    <tr>\n",
       "      <th>2872900010</th>\n",
       "      <td>1090</td>\n",
       "      <td>3</td>\n",
       "      <td>1.5</td>\n",
       "      <td>47.6256</td>\n",
       "      <td>-122.036</td>\n",
       "      <td>4.5</td>\n",
       "    </tr>\n",
       "    <tr>\n",
       "      <th>3216900070</th>\n",
       "      <td>2210</td>\n",
       "      <td>4</td>\n",
       "      <td>2.5</td>\n",
       "      <td>47.4206</td>\n",
       "      <td>-122.183</td>\n",
       "      <td>10.0</td>\n",
       "    </tr>\n",
       "    <tr>\n",
       "      <th>976000790</th>\n",
       "      <td>1800</td>\n",
       "      <td>3</td>\n",
       "      <td>2.5</td>\n",
       "      <td>47.6460</td>\n",
       "      <td>-122.362</td>\n",
       "      <td>7.5</td>\n",
       "    </tr>\n",
       "  </tbody>\n",
       "</table>\n",
       "</div>"
      ],
      "text/plain": [
       "            sqft_living  bedrooms  bathrooms      lat     long  bed_bath_rooms\n",
       "id                                                                            \n",
       "5100402668         1570         3        1.0  47.6942 -122.319             3.0\n",
       "7856560480         1780         3        2.5  47.5574 -122.149             7.5\n",
       "2872900010         1090         3        1.5  47.6256 -122.036             4.5\n",
       "3216900070         2210         4        2.5  47.4206 -122.183            10.0\n",
       "976000790          1800         3        2.5  47.6460 -122.362             7.5"
      ]
     },
     "execution_count": 93,
     "metadata": {},
     "output_type": "execute_result"
    }
   ],
   "source": [
    "train_data[model_2_features].head()"
   ]
  },
  {
   "cell_type": "markdown",
   "metadata": {
    "id": "-YSVzznJzL_0"
   },
   "source": [
    "Bạn đã có các đặc trưng, trọng số cho 3 mô hình khác nhau dự đoán target = 'price' sử dụng LinearRegression của sklearn và thấy giá trị trọng số/hệ số:\n",
    "\n",
    "*Lưu ý: mô hình hồi quy trong khóa này thường có `coef_`*"
   ]
  },
  {
   "cell_type": "code",
   "execution_count": 89,
   "metadata": {
    "id": "PUJvPZyAzL_1"
   },
   "outputs": [],
   "source": [
    "# Tìm hiểu 3 mô hình. Trích xuất đặc trưng và khớp mô hình với các đặc trưng tương ứng. \n",
    "# Nếu không nhớ, hãy xem example_model bên trên\n",
    "model_1 = LinearRegression().fit(train_data[model_1_features], example_labels)\n",
    "model_2 = LinearRegression().fit(train_data[model_2_features], example_labels)\n",
    "model_3 = LinearRegression().fit(train_data[model_3_features], example_labels)"
   ]
  },
  {
   "cell_type": "code",
   "execution_count": 90,
   "metadata": {
    "id": "bjisQIWLzL_1"
   },
   "outputs": [
    {
     "name": "stdout",
     "output_type": "stream",
     "text": [
      "model_1: [ 3.12942010e+02 -5.30962691e+04  1.47770428e+04  6.53983343e+05\n",
      " -3.25707336e+05] \n",
      "model_2: [ 3.06819573e+02 -1.04604718e+05 -7.01815289e+04  6.50590952e+05\n",
      " -3.09965751e+05  2.49441497e+04] \n",
      "model_3: [ 5.37808086e+02  2.78047910e+03  1.01363766e+05  5.30798406e+05\n",
      " -4.09655435e+05 -1.81822552e+04  7.24579939e+02 -5.71030023e+05\n",
      "  1.21142971e+05]\n"
     ]
    }
   ],
   "source": [
    "# Kiểm tra/trích xuất từng hệ số của mô hình. Nếu nghi ngỡ, hãy tham khảo tài liệu của sklearn. \n",
    "weight_summary_1 = model_1.coef_\n",
    "weight_summary_2 = model_2.coef_\n",
    "weight_summary_3 = model_3.coef_\n",
    "print(f'model_1: {weight_summary_1} \\nmodel_2: {weight_summary_2} \\nmodel_3: {weight_summary_3}')"
   ]
  },
  {
   "cell_type": "markdown",
   "metadata": {
    "id": "HPhXwCQHzL_1"
   },
   "source": [
    "**Quiz: Dấu (dương hoặc âm) của hệ số/trọng số cho 'bathrooms' trong mô hình 1 là gì?**<br>\n",
    "Answer: Dấu âm thể hiện sự tỷ lệ nghịch<br>\n",
    "**Quiz: Dấu (dương hoặc âm) của hệ số/trọng số cho 'bathrooms' trong mô hình 2 là gì?**<br>\n",
    "Answer: Dấu dương thể hiện sự tỷ lệ thuận<br>\n",
    "Hãy nghĩ xem điều này có ý nghĩa gì."
   ]
  },
  {
   "cell_type": "markdown",
   "metadata": {
    "id": "xYtwMSZLzL_1"
   },
   "source": [
    "## So sánh các mô hình đa biến\n",
    "\n",
    "Chúng ta đã nghiên cứu 3 mô hình và trích xuất trong số mô hình mà chúng ta muốn đánh giá là tốt nhất."
   ]
  },
  {
   "cell_type": "markdown",
   "metadata": {
    "id": "3ZrqppoOzL_1"
   },
   "source": [
    "Trước tiên sử dụng các hàm trước đó để tính RSS trong dữ liệu HUẤN LUYỆN cho từng mô hình."
   ]
  },
  {
   "cell_type": "code",
   "execution_count": 101,
   "metadata": {
    "id": "h8g78DvSzL_1"
   },
   "outputs": [
    {
     "name": "stdout",
     "output_type": "stream",
     "text": [
      "model_1: 244960899397082.38 \n",
      "model_2: 242699799932394.72 \n",
      "model_3: 228413411243739.44\n"
     ]
    }
   ],
   "source": [
    "# Tính RSS trong dữ liệu HUẤN LUYỆN cho từng mô hình và hiển thị các giá trị. \n",
    "# Xem lab trước nếu quên cách làm.\n",
    "rss_train_model_1 = get_residual_sum_of_squares(model_1, train_data[model_1_features], example_labels)\n",
    "rss_train_model_2 = get_residual_sum_of_squares(model_2, train_data[model_2_features], example_labels)\n",
    "rss_train_model_3 = get_residual_sum_of_squares(model_3, train_data[model_3_features], example_labels)\n",
    "print(f'model_1: {rss_train_model_1} \\nmodel_2: {rss_train_model_2} \\nmodel_3: {rss_train_model_3}')"
   ]
  },
  {
   "cell_type": "markdown",
   "metadata": {
    "id": "MYUCyGjozL_2"
   },
   "source": [
    "**Quiz: Mô hình nào (1, 2 hay 3) có RSSS thấp nhất trong dữ liệu HUẤN LUYỆN?** Đây có phải điều chúng ta dự kiến?<br>\n",
    "Answer: mô hình 3"
   ]
  },
  {
   "cell_type": "markdown",
   "metadata": {
    "id": "jtJJMcjtzL_2"
   },
   "source": [
    "Bây giờ hãy tính RSS trong dữ liệu KIỂM TRA cho từng mô hình. "
   ]
  },
  {
   "cell_type": "code",
   "execution_count": 97,
   "metadata": {
    "id": "yHBiUB1FzL_2"
   },
   "outputs": [
    {
     "name": "stdout",
     "output_type": "stream",
     "text": [
      "model_1: 213487129319106.66 \n",
      "model_2: 210778544168943.94 \n",
      "model_3: 203972051917615.38\n"
     ]
    }
   ],
   "source": [
    "# Tính RSS trong dữ liệu KIỂM TRA cho từng mô hình và hiển thị các giá trị.\n",
    "rss_test_model_1 = get_residual_sum_of_squares(model_1, test_data[model_1_features], example_test_labels)\n",
    "rss_test_model_2 = get_residual_sum_of_squares(model_2, test_data[model_2_features], example_test_labels)\n",
    "rss_test_model_3 = get_residual_sum_of_squares(model_3, test_data[model_3_features], example_test_labels)\n",
    "print(f'model_1: {rss_test_model_1} \\nmodel_2: {rss_test_model_2} \\nmodel_3: {rss_test_model_3}')"
   ]
  },
  {
   "cell_type": "markdown",
   "metadata": {
    "id": "DA9Ge-fNzL_2"
   },
   "source": [
    "**Quiz: Mô hình nào (1, 2 hay 3) có RSSS thấp nhất trong dữ liệu KIỂM TRA?** Đây có phải điều chúng ta dự kiến? Nghĩ về các đặc trưng đã thêm vào từng mô hình trước đó. <br>\n",
    "Answer: mô hình 3"
   ]
  },
  {
   "cell_type": "markdown",
   "metadata": {
    "id": "fHoHmYWHzL_2"
   },
   "source": [
    "======================================End============================="
   ]
  }
 ],
 "metadata": {
  "colab": {
   "collapsed_sections": [],
   "name": "[VN]Lab-2.ipynb",
   "provenance": []
  },
  "kernelspec": {
   "display_name": "pytorch",
   "language": "python",
   "name": "pytorch"
  },
  "language_info": {
   "codemirror_mode": {
    "name": "ipython",
    "version": 3
   },
   "file_extension": ".py",
   "mimetype": "text/x-python",
   "name": "python",
   "nbconvert_exporter": "python",
   "pygments_lexer": "ipython3",
   "version": "3.7.10"
  }
 },
 "nbformat": 4,
 "nbformat_minor": 1
}
