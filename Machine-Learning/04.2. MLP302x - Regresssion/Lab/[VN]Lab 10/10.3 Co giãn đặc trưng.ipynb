{
 "cells": [
  {
   "cell_type": "markdown",
   "metadata": {
    "id": "rjq6-dq9QTAx"
   },
   "source": [
    "## Co giãn đặc trưng (Feature Scaling)\n",
    "\n",
    "Trước đó chúng ta đã thảo luận rằng tỷ lệ đặc trưng khá quan trọng khi xây dựng các mô hình học máy. Cụ thể:\n",
    "\n",
    "\n",
    "### Độ lớn của đặc trưng quan trọng vì:\n",
    "\n",
    "- Các hệ số hồi quy của mô hình tuyến tính bị ảnh hưởng trực tiếp bởi phép biến đổi tỷ lệ của biến.\n",
    "- Các biến có độ lớn/phạm vi giá trị lớn hơn sẽ vượt trội hơn so với các biến có độ lớn/phạm vi giá trị nhỏ hơn.\n",
    "- Gradient descent hội tụ nhanh hơn khi các đặc trưng có cùng thang đo.\n",
    "- Co giãn đặc trưng giúp làm giảm thời gian tìm các vectơ hỗ trợ cho SVM.\n",
    "- Khoảng cách Euclid nhạy với độ lớn của đặc trưng.\n",
    "- Một số thuật toán như PAC yêu cầu các đặc trưng tập trung ở 0.\n",
    "\n",
    "\n",
    "### Các mô hình học máy bị ảnh hưởng trực tiếp bởi co giãn đặc trưng:\n",
    "\n",
    "- Hồi quy tuyến tính và Hồi quy Logistic \n",
    "- Mạng nơ-ron\n",
    "- Máy vectơ hỗ trợ (SVM)\n",
    "- KNN \n",
    "- Phân cụm K-means\n",
    "- Phân tích phân biệt tuyến tính (LDA)\n",
    "- Phân tích thành phần chính (PCA)\n",
    "\n",
    "\n",
    "### Co giãn đặc trưng\n",
    "\n",
    "**Co giãn đặc trưng** đề cập đến các phương pháp hoặc kỹ thuật chuẩn hóa phạm vi của các biến độc lập trong dữ liệu hay nói cách khác, các phương pháp đặt phạm vi giá trị đặc trưng trong cùng một phép chia tỷ lệ. Co giãn đặc trưng thường là bước cuối cùng trong quy trình tiền xử lý dữ liệu, được thực hiện **ngay trước khi huấn luyện các thuật toán học máy**.\n",
    "\n",
    " Chúng ta sẽ bàn về một số kỹ thuật Co giãn đặc trưng:\n",
    "\n",
    "- Chuẩn tắc hóa (Standardisation)\n",
    "- Chuẩn hóa trung bình (Mean normalisation)\n",
    "- Co giãn về min/max - MinMaxScaling\n",
    "- Co giãn về giá trị lớn nhất tuyệt đối - MaxAbsScaling\n",
    "- Co giãn về trung vị và phân vị - RobustScaling\n",
    "- Chuẩn hóa độ dài vectơ đơn vị"
   ]
  },
  {
   "cell_type": "code",
   "execution_count": 30,
   "metadata": {
    "id": "tzlbXWYHQTA3"
   },
   "outputs": [],
   "source": [
    "import pandas as pd\n",
    "import matplotlib.pyplot as plt\n",
    "import numpy as np\n",
    "import seaborn as sns\n",
    "\n",
    "# tập dữ liệu cho mô phỏng \n",
    "from sklearn.datasets import load_boston\n",
    "from sklearn.model_selection import train_test_split\n",
    "\n",
    "# scaler - cho chuẩn tắc hóa\n",
    "from sklearn.preprocessing import StandardScaler\n",
    "\n",
    "# scaler - cho chuẩn hóa trung bình\n",
    "from sklearn.preprocessing import StandardScaler, RobustScaler\n",
    "\n",
    "# scaler - cho MaxAbsScaling, có chỉnh tâm\n",
    "from sklearn.preprocessing import MaxAbsScaler, StandardScaler\n",
    "\n",
    "# scaler - cho robustscaling\n",
    "from sklearn.preprocessing import RobustScaler\n",
    "\n",
    "# scaler - cho robustscaling\n",
    "from sklearn.preprocessing import Normalizer\n",
    "\n",
    "# the scaler - for min-max scaling\n",
    "from sklearn.preprocessing import MinMaxScaler\n",
    "\n",
    "import warnings\n",
    "warnings.filterwarnings('ignore')"
   ]
  },
  {
   "cell_type": "code",
   "execution_count": 2,
   "metadata": {
    "id": "6ydeeF2WQTA5",
    "outputId": "f3582d58-e1c7-4c74-d0c6-d6a68b905c76"
   },
   "outputs": [
    {
     "data": {
      "text/html": [
       "<div>\n",
       "<style scoped>\n",
       "    .dataframe tbody tr th:only-of-type {\n",
       "        vertical-align: middle;\n",
       "    }\n",
       "\n",
       "    .dataframe tbody tr th {\n",
       "        vertical-align: top;\n",
       "    }\n",
       "\n",
       "    .dataframe thead th {\n",
       "        text-align: right;\n",
       "    }\n",
       "</style>\n",
       "<table border=\"1\" class=\"dataframe\">\n",
       "  <thead>\n",
       "    <tr style=\"text-align: right;\">\n",
       "      <th></th>\n",
       "      <th>CRIM</th>\n",
       "      <th>ZN</th>\n",
       "      <th>INDUS</th>\n",
       "      <th>CHAS</th>\n",
       "      <th>NOX</th>\n",
       "      <th>RM</th>\n",
       "      <th>AGE</th>\n",
       "      <th>DIS</th>\n",
       "      <th>RAD</th>\n",
       "      <th>TAX</th>\n",
       "      <th>PTRATIO</th>\n",
       "      <th>B</th>\n",
       "      <th>LSTAT</th>\n",
       "      <th>MEDV</th>\n",
       "    </tr>\n",
       "  </thead>\n",
       "  <tbody>\n",
       "    <tr>\n",
       "      <th>0</th>\n",
       "      <td>0.00632</td>\n",
       "      <td>18.0</td>\n",
       "      <td>2.31</td>\n",
       "      <td>0.0</td>\n",
       "      <td>0.538</td>\n",
       "      <td>6.575</td>\n",
       "      <td>65.2</td>\n",
       "      <td>4.0900</td>\n",
       "      <td>1.0</td>\n",
       "      <td>296.0</td>\n",
       "      <td>15.3</td>\n",
       "      <td>396.90</td>\n",
       "      <td>4.98</td>\n",
       "      <td>24.0</td>\n",
       "    </tr>\n",
       "    <tr>\n",
       "      <th>1</th>\n",
       "      <td>0.02731</td>\n",
       "      <td>0.0</td>\n",
       "      <td>7.07</td>\n",
       "      <td>0.0</td>\n",
       "      <td>0.469</td>\n",
       "      <td>6.421</td>\n",
       "      <td>78.9</td>\n",
       "      <td>4.9671</td>\n",
       "      <td>2.0</td>\n",
       "      <td>242.0</td>\n",
       "      <td>17.8</td>\n",
       "      <td>396.90</td>\n",
       "      <td>9.14</td>\n",
       "      <td>21.6</td>\n",
       "    </tr>\n",
       "    <tr>\n",
       "      <th>2</th>\n",
       "      <td>0.02729</td>\n",
       "      <td>0.0</td>\n",
       "      <td>7.07</td>\n",
       "      <td>0.0</td>\n",
       "      <td>0.469</td>\n",
       "      <td>7.185</td>\n",
       "      <td>61.1</td>\n",
       "      <td>4.9671</td>\n",
       "      <td>2.0</td>\n",
       "      <td>242.0</td>\n",
       "      <td>17.8</td>\n",
       "      <td>392.83</td>\n",
       "      <td>4.03</td>\n",
       "      <td>34.7</td>\n",
       "    </tr>\n",
       "    <tr>\n",
       "      <th>3</th>\n",
       "      <td>0.03237</td>\n",
       "      <td>0.0</td>\n",
       "      <td>2.18</td>\n",
       "      <td>0.0</td>\n",
       "      <td>0.458</td>\n",
       "      <td>6.998</td>\n",
       "      <td>45.8</td>\n",
       "      <td>6.0622</td>\n",
       "      <td>3.0</td>\n",
       "      <td>222.0</td>\n",
       "      <td>18.7</td>\n",
       "      <td>394.63</td>\n",
       "      <td>2.94</td>\n",
       "      <td>33.4</td>\n",
       "    </tr>\n",
       "    <tr>\n",
       "      <th>4</th>\n",
       "      <td>0.06905</td>\n",
       "      <td>0.0</td>\n",
       "      <td>2.18</td>\n",
       "      <td>0.0</td>\n",
       "      <td>0.458</td>\n",
       "      <td>7.147</td>\n",
       "      <td>54.2</td>\n",
       "      <td>6.0622</td>\n",
       "      <td>3.0</td>\n",
       "      <td>222.0</td>\n",
       "      <td>18.7</td>\n",
       "      <td>396.90</td>\n",
       "      <td>5.33</td>\n",
       "      <td>36.2</td>\n",
       "    </tr>\n",
       "  </tbody>\n",
       "</table>\n",
       "</div>"
      ],
      "text/plain": [
       "      CRIM    ZN  INDUS  CHAS    NOX     RM   AGE     DIS  RAD    TAX  \\\n",
       "0  0.00632  18.0   2.31   0.0  0.538  6.575  65.2  4.0900  1.0  296.0   \n",
       "1  0.02731   0.0   7.07   0.0  0.469  6.421  78.9  4.9671  2.0  242.0   \n",
       "2  0.02729   0.0   7.07   0.0  0.469  7.185  61.1  4.9671  2.0  242.0   \n",
       "3  0.03237   0.0   2.18   0.0  0.458  6.998  45.8  6.0622  3.0  222.0   \n",
       "4  0.06905   0.0   2.18   0.0  0.458  7.147  54.2  6.0622  3.0  222.0   \n",
       "\n",
       "   PTRATIO       B  LSTAT  MEDV  \n",
       "0     15.3  396.90   4.98  24.0  \n",
       "1     17.8  396.90   9.14  21.6  \n",
       "2     17.8  392.83   4.03  34.7  \n",
       "3     18.7  394.63   2.94  33.4  \n",
       "4     18.7  396.90   5.33  36.2  "
      ]
     },
     "execution_count": 2,
     "metadata": {},
     "output_type": "execute_result"
    }
   ],
   "source": [
    "# load dữ liệu giá nhà ở Boston\n",
    "\n",
    "# cách chúng ta load tập dữ liệu boston từ sklearn\n",
    "boston_dataset = load_boston()\n",
    "\n",
    "# tạo một dataframe với các biến độc lập\n",
    "data = pd.DataFrame(boston_dataset.data,\n",
    "                      columns=boston_dataset.feature_names)\n",
    "\n",
    "# thêm target\n",
    "data['MEDV'] = boston_dataset.target\n",
    "\n",
    "data.head()"
   ]
  },
  {
   "cell_type": "code",
   "execution_count": 3,
   "metadata": {
    "id": "f1uNYI2_QTA7",
    "outputId": "5cc26dfa-f8b7-4523-daaf-568c9fc880ce"
   },
   "outputs": [
    {
     "name": "stdout",
     "output_type": "stream",
     "text": [
      ".. _boston_dataset:\n",
      "\n",
      "Boston house prices dataset\n",
      "---------------------------\n",
      "\n",
      "**Data Set Characteristics:**  \n",
      "\n",
      "    :Number of Instances: 506 \n",
      "\n",
      "    :Number of Attributes: 13 numeric/categorical predictive. Median Value (attribute 14) is usually the target.\n",
      "\n",
      "    :Attribute Information (in order):\n",
      "        - CRIM     per capita crime rate by town\n",
      "        - ZN       proportion of residential land zoned for lots over 25,000 sq.ft.\n",
      "        - INDUS    proportion of non-retail business acres per town\n",
      "        - CHAS     Charles River dummy variable (= 1 if tract bounds river; 0 otherwise)\n",
      "        - NOX      nitric oxides concentration (parts per 10 million)\n",
      "        - RM       average number of rooms per dwelling\n",
      "        - AGE      proportion of owner-occupied units built prior to 1940\n",
      "        - DIS      weighted distances to five Boston employment centres\n",
      "        - RAD      index of accessibility to radial highways\n",
      "        - TAX      full-value property-tax rate per $10,000\n",
      "        - PTRATIO  pupil-teacher ratio by town\n",
      "        - B        1000(Bk - 0.63)^2 where Bk is the proportion of blacks by town\n",
      "        - LSTAT    % lower status of the population\n",
      "        - MEDV     Median value of owner-occupied homes in $1000's\n",
      "\n",
      "    :Missing Attribute Values: None\n",
      "\n",
      "    :Creator: Harrison, D. and Rubinfeld, D.L.\n",
      "\n",
      "This is a copy of UCI ML housing dataset.\n",
      "https://archive.ics.uci.edu/ml/machine-learning-databases/housing/\n",
      "\n",
      "\n",
      "This dataset was taken from the StatLib library which is maintained at Carnegie Mellon University.\n",
      "\n",
      "The Boston house-price data of Harrison, D. and Rubinfeld, D.L. 'Hedonic\n",
      "prices and the demand for clean air', J. Environ. Economics & Management,\n",
      "vol.5, 81-102, 1978.   Used in Belsley, Kuh & Welsch, 'Regression diagnostics\n",
      "...', Wiley, 1980.   N.B. Various transformations are used in the table on\n",
      "pages 244-261 of the latter.\n",
      "\n",
      "The Boston house-price data has been used in many machine learning papers that address regression\n",
      "problems.   \n",
      "     \n",
      ".. topic:: References\n",
      "\n",
      "   - Belsley, Kuh & Welsch, 'Regression diagnostics: Identifying Influential Data and Sources of Collinearity', Wiley, 1980. 244-261.\n",
      "   - Quinlan,R. (1993). Combining Instance-Based and Model-Based Learning. In Proceedings on the Tenth International Conference of Machine Learning, 236-243, University of Massachusetts, Amherst. Morgan Kaufmann.\n",
      "\n"
     ]
    }
   ],
   "source": [
    "# Thông tin về tập dữ liệu giá nhà ở boston\n",
    "# chúng ta sẽ thấy thông tin chi tiết về các biến khác nhau\n",
    "\n",
    "# mục đích là đoán \"giá trị trung bình của các ngôi nhà\"\n",
    "# cột MEDV trong tập dữ liệu này\n",
    "\n",
    "# và có các biến với đặc điểm về\n",
    "# nhà và khu dân cư\n",
    "\n",
    "# in ra mô tả tập dữ liệu\n",
    "print(boston_dataset.DESCR)"
   ]
  },
  {
   "cell_type": "code",
   "execution_count": 4,
   "metadata": {
    "id": "HCNGX-X2QTA9",
    "outputId": "12652c99-892a-4275-b70f-b20b6f716959"
   },
   "outputs": [
    {
     "data": {
      "text/html": [
       "<div>\n",
       "<style scoped>\n",
       "    .dataframe tbody tr th:only-of-type {\n",
       "        vertical-align: middle;\n",
       "    }\n",
       "\n",
       "    .dataframe tbody tr th {\n",
       "        vertical-align: top;\n",
       "    }\n",
       "\n",
       "    .dataframe thead th {\n",
       "        text-align: right;\n",
       "    }\n",
       "</style>\n",
       "<table border=\"1\" class=\"dataframe\">\n",
       "  <thead>\n",
       "    <tr style=\"text-align: right;\">\n",
       "      <th></th>\n",
       "      <th>CRIM</th>\n",
       "      <th>ZN</th>\n",
       "      <th>INDUS</th>\n",
       "      <th>CHAS</th>\n",
       "      <th>NOX</th>\n",
       "      <th>RM</th>\n",
       "      <th>AGE</th>\n",
       "      <th>DIS</th>\n",
       "      <th>RAD</th>\n",
       "      <th>TAX</th>\n",
       "      <th>PTRATIO</th>\n",
       "      <th>B</th>\n",
       "      <th>LSTAT</th>\n",
       "      <th>MEDV</th>\n",
       "    </tr>\n",
       "  </thead>\n",
       "  <tbody>\n",
       "    <tr>\n",
       "      <th>count</th>\n",
       "      <td>506.000000</td>\n",
       "      <td>506.000000</td>\n",
       "      <td>506.000000</td>\n",
       "      <td>506.000000</td>\n",
       "      <td>506.000000</td>\n",
       "      <td>506.000000</td>\n",
       "      <td>506.000000</td>\n",
       "      <td>506.000000</td>\n",
       "      <td>506.000000</td>\n",
       "      <td>506.000000</td>\n",
       "      <td>506.000000</td>\n",
       "      <td>506.000000</td>\n",
       "      <td>506.000000</td>\n",
       "      <td>506.000000</td>\n",
       "    </tr>\n",
       "    <tr>\n",
       "      <th>mean</th>\n",
       "      <td>3.613524</td>\n",
       "      <td>11.363636</td>\n",
       "      <td>11.136779</td>\n",
       "      <td>0.069170</td>\n",
       "      <td>0.554695</td>\n",
       "      <td>6.284634</td>\n",
       "      <td>68.574901</td>\n",
       "      <td>3.795043</td>\n",
       "      <td>9.549407</td>\n",
       "      <td>408.237154</td>\n",
       "      <td>18.455534</td>\n",
       "      <td>356.674032</td>\n",
       "      <td>12.653063</td>\n",
       "      <td>22.532806</td>\n",
       "    </tr>\n",
       "    <tr>\n",
       "      <th>std</th>\n",
       "      <td>8.601545</td>\n",
       "      <td>23.322453</td>\n",
       "      <td>6.860353</td>\n",
       "      <td>0.253994</td>\n",
       "      <td>0.115878</td>\n",
       "      <td>0.702617</td>\n",
       "      <td>28.148861</td>\n",
       "      <td>2.105710</td>\n",
       "      <td>8.707259</td>\n",
       "      <td>168.537116</td>\n",
       "      <td>2.164946</td>\n",
       "      <td>91.294864</td>\n",
       "      <td>7.141062</td>\n",
       "      <td>9.197104</td>\n",
       "    </tr>\n",
       "    <tr>\n",
       "      <th>min</th>\n",
       "      <td>0.006320</td>\n",
       "      <td>0.000000</td>\n",
       "      <td>0.460000</td>\n",
       "      <td>0.000000</td>\n",
       "      <td>0.385000</td>\n",
       "      <td>3.561000</td>\n",
       "      <td>2.900000</td>\n",
       "      <td>1.129600</td>\n",
       "      <td>1.000000</td>\n",
       "      <td>187.000000</td>\n",
       "      <td>12.600000</td>\n",
       "      <td>0.320000</td>\n",
       "      <td>1.730000</td>\n",
       "      <td>5.000000</td>\n",
       "    </tr>\n",
       "    <tr>\n",
       "      <th>25%</th>\n",
       "      <td>0.082045</td>\n",
       "      <td>0.000000</td>\n",
       "      <td>5.190000</td>\n",
       "      <td>0.000000</td>\n",
       "      <td>0.449000</td>\n",
       "      <td>5.885500</td>\n",
       "      <td>45.025000</td>\n",
       "      <td>2.100175</td>\n",
       "      <td>4.000000</td>\n",
       "      <td>279.000000</td>\n",
       "      <td>17.400000</td>\n",
       "      <td>375.377500</td>\n",
       "      <td>6.950000</td>\n",
       "      <td>17.025000</td>\n",
       "    </tr>\n",
       "    <tr>\n",
       "      <th>50%</th>\n",
       "      <td>0.256510</td>\n",
       "      <td>0.000000</td>\n",
       "      <td>9.690000</td>\n",
       "      <td>0.000000</td>\n",
       "      <td>0.538000</td>\n",
       "      <td>6.208500</td>\n",
       "      <td>77.500000</td>\n",
       "      <td>3.207450</td>\n",
       "      <td>5.000000</td>\n",
       "      <td>330.000000</td>\n",
       "      <td>19.050000</td>\n",
       "      <td>391.440000</td>\n",
       "      <td>11.360000</td>\n",
       "      <td>21.200000</td>\n",
       "    </tr>\n",
       "    <tr>\n",
       "      <th>75%</th>\n",
       "      <td>3.677083</td>\n",
       "      <td>12.500000</td>\n",
       "      <td>18.100000</td>\n",
       "      <td>0.000000</td>\n",
       "      <td>0.624000</td>\n",
       "      <td>6.623500</td>\n",
       "      <td>94.075000</td>\n",
       "      <td>5.188425</td>\n",
       "      <td>24.000000</td>\n",
       "      <td>666.000000</td>\n",
       "      <td>20.200000</td>\n",
       "      <td>396.225000</td>\n",
       "      <td>16.955000</td>\n",
       "      <td>25.000000</td>\n",
       "    </tr>\n",
       "    <tr>\n",
       "      <th>max</th>\n",
       "      <td>88.976200</td>\n",
       "      <td>100.000000</td>\n",
       "      <td>27.740000</td>\n",
       "      <td>1.000000</td>\n",
       "      <td>0.871000</td>\n",
       "      <td>8.780000</td>\n",
       "      <td>100.000000</td>\n",
       "      <td>12.126500</td>\n",
       "      <td>24.000000</td>\n",
       "      <td>711.000000</td>\n",
       "      <td>22.000000</td>\n",
       "      <td>396.900000</td>\n",
       "      <td>37.970000</td>\n",
       "      <td>50.000000</td>\n",
       "    </tr>\n",
       "  </tbody>\n",
       "</table>\n",
       "</div>"
      ],
      "text/plain": [
       "             CRIM          ZN       INDUS        CHAS         NOX          RM  \\\n",
       "count  506.000000  506.000000  506.000000  506.000000  506.000000  506.000000   \n",
       "mean     3.613524   11.363636   11.136779    0.069170    0.554695    6.284634   \n",
       "std      8.601545   23.322453    6.860353    0.253994    0.115878    0.702617   \n",
       "min      0.006320    0.000000    0.460000    0.000000    0.385000    3.561000   \n",
       "25%      0.082045    0.000000    5.190000    0.000000    0.449000    5.885500   \n",
       "50%      0.256510    0.000000    9.690000    0.000000    0.538000    6.208500   \n",
       "75%      3.677083   12.500000   18.100000    0.000000    0.624000    6.623500   \n",
       "max     88.976200  100.000000   27.740000    1.000000    0.871000    8.780000   \n",
       "\n",
       "              AGE         DIS         RAD         TAX     PTRATIO           B  \\\n",
       "count  506.000000  506.000000  506.000000  506.000000  506.000000  506.000000   \n",
       "mean    68.574901    3.795043    9.549407  408.237154   18.455534  356.674032   \n",
       "std     28.148861    2.105710    8.707259  168.537116    2.164946   91.294864   \n",
       "min      2.900000    1.129600    1.000000  187.000000   12.600000    0.320000   \n",
       "25%     45.025000    2.100175    4.000000  279.000000   17.400000  375.377500   \n",
       "50%     77.500000    3.207450    5.000000  330.000000   19.050000  391.440000   \n",
       "75%     94.075000    5.188425   24.000000  666.000000   20.200000  396.225000   \n",
       "max    100.000000   12.126500   24.000000  711.000000   22.000000  396.900000   \n",
       "\n",
       "            LSTAT        MEDV  \n",
       "count  506.000000  506.000000  \n",
       "mean    12.653063   22.532806  \n",
       "std      7.141062    9.197104  \n",
       "min      1.730000    5.000000  \n",
       "25%      6.950000   17.025000  \n",
       "50%     11.360000   21.200000  \n",
       "75%     16.955000   25.000000  \n",
       "max     37.970000   50.000000  "
      ]
     },
     "execution_count": 4,
     "metadata": {},
     "output_type": "execute_result"
    }
   ],
   "source": [
    "# hãy xem các tham số thông kê chính của các biến\n",
    "# để biết độ lớn của các đặc trưng\n",
    "\n",
    "data.describe()"
   ]
  },
  {
   "cell_type": "markdown",
   "metadata": {
    "id": "xjmNzl7eQTA_"
   },
   "source": [
    "Các biến khác nhau thể hiện các phạm vi giá trị khác nhau: mean, max, min, độ lệch chuẩn,... Nói cách khác, chúng hiển thị các độ lớn hoặc thang đo khác nhau. Lưu ý cách **các giá trị trung bình không được căn giữa ở 0 và độ lệch chuẩn không được co giãn thành 1** với bản mô phỏng này."
   ]
  },
  {
   "cell_type": "code",
   "execution_count": 5,
   "metadata": {
    "id": "Z7KYzGu9QTBD",
    "outputId": "8e690a2e-4bf8-4cf8-813c-73796597ca6e"
   },
   "outputs": [
    {
     "data": {
      "text/plain": [
       "((354, 13), (152, 13))"
      ]
     },
     "execution_count": 5,
     "metadata": {},
     "output_type": "execute_result"
    }
   ],
   "source": [
    "# hãy chia thành tập huấn luyện và tập kiểm tra\n",
    "X_train, X_test, y_train, y_test = train_test_split(data.drop('MEDV', axis=1),\n",
    "                                                    data['MEDV'],\n",
    "                                                    test_size=0.3,\n",
    "                                                    random_state=0)\n",
    "\n",
    "X_train.shape, X_test.shape"
   ]
  },
  {
   "cell_type": "markdown",
   "metadata": {
    "id": "hrxWETDlBXnT"
   },
   "source": [
    "Trong phần này, chúng ta sẽ bàn về **chuẩn tắc hóa**.\n",
    "\n",
    "=================================================================\n",
    "\n",
    "## Chuẩn tắc hóa \n",
    "\n",
    "Chuẩn tắc hóa gồm căn giữa biến ở 0 và chuẩn tắc hóa phương sai thành 1. Quy trình là trừ đi mean của mỗi quan sát rồi chia cho độ lệch chuẩn:\n",
    "\n",
    "**z = (x - x_mean)/std**\n",
    "\n",
    "Kết quả của phép biến đổi trên là **z**, được gọi là z-score thể hiện độ lệch chuẩn mà một quan sát nhất định lệch khỏi mean. z-score xác định vị trí của quan sát trong một phân phối (theo số lượng độ lệch chuẩn với giá trị trung bình của phân phối). Dấu của z-score (+ hoặc -) cho biết quan sát nằm trên (+) hay dưới (-) mean.\n",
    "\n",
    "\n",
    "Hình dạng của phân phối chuẩn tắc hóa (hoặc chuẩn hóa z-score) sẽ giống với phân phối ban đầu của biến. Nếu phân phối ban đầu là chuẩn thì phân phối chuẩn tắc hóa sẽ là chuẩn. Nhưng nếu phân phối ban đầu bị lệch thì phân phối chuẩn tắc hóa của biến cũng sẽ bị lệch. Nói cách khác, **chuẩn tắc hóa một biến không chuẩn hóa phân phối của dữ liệu** và nếu đây là kết quả mong muốn, chúng ta nên thực hiện bất kỳ kỹ thuật nào được thảo luận trong phần 7 của khóa học.\n",
    "\n",
    "\n",
    "Tóm lại, chuẩn tắc hóa:\n",
    "\n",
    "- căn giữa mean ở 0\n",
    "- co giãn phương sai ở 1\n",
    "- duy trì hình dạng của phân phối ban đầu\n",
    "- giá trị min/max của các biến khác nhau thay đổi\n",
    "- duy trì outlier\n",
    "\n",
    "Chuẩn tắc hóa tốt với các thuật toán yêu cầu đặc trung tập trung ở 0.\n",
    "\n",
    "## Trong bản mô phỏng này\n",
    "\n",
    "Chúng ta sẽ thực hiện chuẩn tắc hóa sử dụng tập dữ liệu giá nhà ở Boston cùng với Scikit-learn."
   ]
  },
  {
   "cell_type": "markdown",
   "metadata": {
    "id": "onCYJxQ5IeRR"
   },
   "source": [
    "Khi chuẩn tắc hóa tập dữ liệu, trước tiên chúng ta cần xác định giá trị trung bình và độ lệch chuẩn của các biến. Các tham số này cần được lấy từ tập huấn luyện, lưu trữ rồi sử dụng để kiểm tra quy mô và dữ liệu trong tương lai. Vậy trước tiên, chúng ta sẽ chia dữ liệu thành tập huấn luyện và tập kiểm tra."
   ]
  },
  {
   "cell_type": "markdown",
   "metadata": {
    "id": "YN_t45hmQTBE"
   },
   "source": [
    "### Chuẩn tắc hóa\n",
    "\n",
    "StandardScaler từ scikit-learn loại bỏ mean và co giãn dữ liệu thành phương sai đơn vị. Thêm vào đó, nó tìm hiểu và lưu trữ các tham số cần thiết để co giãn. Do đó, đây là lựa chọn hàng đầu cho kỹ thuật co giãn đặc trưng.\n",
    "\n",
    "Mặt khác, chúng ta không thể lựa chọn trực tiếp co giãn các biến, nó sẽ co giãn toàn bộ tập dữ liệu và trả về một mảng NumPy mà không có các giá trị biến. "
   ]
  },
  {
   "cell_type": "code",
   "execution_count": 7,
   "metadata": {
    "id": "GSgU_uwTQTBF"
   },
   "outputs": [],
   "source": [
    "## Yêu cầu 1\n",
    "# chuẩn tắc hóa: với StandardScaler từ sklearn\n",
    "\n",
    "# thiết lập StandardScaler\n",
    "## VIẾT CODE Ở ĐÂY:\n",
    "scaler = StandardScaler()\n",
    "\n",
    "# khớp scaler với tập huấn luyện, nó sẽ học các tham số\n",
    "## VIẾT CODE Ở ĐÂY:\n",
    "scaler.fit_transform(X_train)\n",
    "\n",
    "# biến đổi tập huấn luyện và tập kiểm tra\n",
    "## VIẾT CODE Ở ĐÂY:\n",
    "X_train_scaled = scaler.transform(X_train)\n",
    "X_test_scaled = scaler.transform(X_test)"
   ]
  },
  {
   "cell_type": "markdown",
   "metadata": {
    "id": "uY2N_qoqLfj-"
   },
   "source": [
    "<details><summary> Gợi ý </summary>\n",
    "\n",
    "[StandardScaler()](https://scikit-learn.org/stable/modules/generated/sklearn.preprocessing.StandardScaler.html)\n",
    "\n",
    "</details>"
   ]
  },
  {
   "cell_type": "code",
   "execution_count": 8,
   "metadata": {
    "id": "TmdH0pE6QTBG",
    "outputId": "f5f149bc-1886-4d33-c7d5-3433aa5907e7"
   },
   "outputs": [
    {
     "data": {
      "text/plain": [
       "array([3.35828432e+00, 1.18093220e+01, 1.10787571e+01, 6.49717514e-02,\n",
       "       5.56098305e-01, 6.30842655e+00, 6.89940678e+01, 3.76245876e+00,\n",
       "       9.35310734e+00, 4.01782486e+02, 1.84734463e+01, 3.60601186e+02,\n",
       "       1.24406497e+01])"
      ]
     },
     "execution_count": 8,
     "metadata": {},
     "output_type": "execute_result"
    }
   ],
   "source": [
    "# scaler lưu trữ mean của các đặc trưng đã học từ tập huấn luyện\n",
    "\n",
    "scaler.mean_"
   ]
  },
  {
   "cell_type": "code",
   "execution_count": 9,
   "metadata": {
    "id": "qfPykDuYQTBG",
    "outputId": "690b11fa-b11a-4292-d0ff-9c819ddf52b2"
   },
   "outputs": [
    {
     "data": {
      "text/plain": [
       "array([8.34141658e+00, 2.36196246e+01, 6.98393565e+00, 2.46476009e-01,\n",
       "       1.15437239e-01, 7.01016354e-01, 2.79987983e+01, 2.06473886e+00,\n",
       "       8.65974217e+00, 1.70351284e+02, 2.22166426e+00, 8.55009244e+01,\n",
       "       7.06848020e+00])"
      ]
     },
     "execution_count": 9,
     "metadata": {},
     "output_type": "execute_result"
    }
   ],
   "source": [
    "# scaler lưu trữ độ lệch chuẩn của các đặc trưng\n",
    "# đã học từ tập huấn luyện\n",
    "\n",
    "scaler.scale_"
   ]
  },
  {
   "cell_type": "code",
   "execution_count": 10,
   "metadata": {
    "id": "v3ghgml4QTBH"
   },
   "outputs": [],
   "source": [
    "# biến đổi các mảng NumPy đã trả về vào các dataframe cho phần còn lại của\n",
    "# bản mô phỏng\n",
    "\n",
    "X_train_scaled = pd.DataFrame(X_train_scaled, columns=X_train.columns)\n",
    "X_test_scaled = pd.DataFrame(X_test_scaled, columns=X_test.columns)"
   ]
  },
  {
   "cell_type": "code",
   "execution_count": 11,
   "metadata": {
    "id": "17Dpk1fGQTBH",
    "outputId": "fbdc826b-5d05-418a-e906-354f5f2da22a"
   },
   "outputs": [
    {
     "data": {
      "text/html": [
       "<div>\n",
       "<style scoped>\n",
       "    .dataframe tbody tr th:only-of-type {\n",
       "        vertical-align: middle;\n",
       "    }\n",
       "\n",
       "    .dataframe tbody tr th {\n",
       "        vertical-align: top;\n",
       "    }\n",
       "\n",
       "    .dataframe thead th {\n",
       "        text-align: right;\n",
       "    }\n",
       "</style>\n",
       "<table border=\"1\" class=\"dataframe\">\n",
       "  <thead>\n",
       "    <tr style=\"text-align: right;\">\n",
       "      <th></th>\n",
       "      <th>CRIM</th>\n",
       "      <th>ZN</th>\n",
       "      <th>INDUS</th>\n",
       "      <th>CHAS</th>\n",
       "      <th>NOX</th>\n",
       "      <th>RM</th>\n",
       "      <th>AGE</th>\n",
       "      <th>DIS</th>\n",
       "      <th>RAD</th>\n",
       "      <th>TAX</th>\n",
       "      <th>PTRATIO</th>\n",
       "      <th>B</th>\n",
       "      <th>LSTAT</th>\n",
       "    </tr>\n",
       "  </thead>\n",
       "  <tbody>\n",
       "    <tr>\n",
       "      <th>count</th>\n",
       "      <td>354.0</td>\n",
       "      <td>354.0</td>\n",
       "      <td>354.0</td>\n",
       "      <td>354.0</td>\n",
       "      <td>354.0</td>\n",
       "      <td>354.0</td>\n",
       "      <td>354.0</td>\n",
       "      <td>354.0</td>\n",
       "      <td>354.0</td>\n",
       "      <td>354.0</td>\n",
       "      <td>354.0</td>\n",
       "      <td>354.0</td>\n",
       "      <td>354.0</td>\n",
       "    </tr>\n",
       "    <tr>\n",
       "      <th>mean</th>\n",
       "      <td>3.4</td>\n",
       "      <td>11.8</td>\n",
       "      <td>11.1</td>\n",
       "      <td>0.1</td>\n",
       "      <td>0.6</td>\n",
       "      <td>6.3</td>\n",
       "      <td>69.0</td>\n",
       "      <td>3.8</td>\n",
       "      <td>9.4</td>\n",
       "      <td>401.8</td>\n",
       "      <td>18.5</td>\n",
       "      <td>360.6</td>\n",
       "      <td>12.4</td>\n",
       "    </tr>\n",
       "    <tr>\n",
       "      <th>std</th>\n",
       "      <td>8.4</td>\n",
       "      <td>23.7</td>\n",
       "      <td>7.0</td>\n",
       "      <td>0.2</td>\n",
       "      <td>0.1</td>\n",
       "      <td>0.7</td>\n",
       "      <td>28.0</td>\n",
       "      <td>2.1</td>\n",
       "      <td>8.7</td>\n",
       "      <td>170.6</td>\n",
       "      <td>2.2</td>\n",
       "      <td>85.6</td>\n",
       "      <td>7.1</td>\n",
       "    </tr>\n",
       "    <tr>\n",
       "      <th>min</th>\n",
       "      <td>0.0</td>\n",
       "      <td>0.0</td>\n",
       "      <td>0.5</td>\n",
       "      <td>0.0</td>\n",
       "      <td>0.4</td>\n",
       "      <td>3.6</td>\n",
       "      <td>2.9</td>\n",
       "      <td>1.2</td>\n",
       "      <td>1.0</td>\n",
       "      <td>187.0</td>\n",
       "      <td>12.6</td>\n",
       "      <td>0.3</td>\n",
       "      <td>1.7</td>\n",
       "    </tr>\n",
       "    <tr>\n",
       "      <th>25%</th>\n",
       "      <td>0.1</td>\n",
       "      <td>0.0</td>\n",
       "      <td>5.0</td>\n",
       "      <td>0.0</td>\n",
       "      <td>0.4</td>\n",
       "      <td>5.9</td>\n",
       "      <td>45.2</td>\n",
       "      <td>2.1</td>\n",
       "      <td>4.0</td>\n",
       "      <td>276.0</td>\n",
       "      <td>17.4</td>\n",
       "      <td>376.1</td>\n",
       "      <td>6.7</td>\n",
       "    </tr>\n",
       "    <tr>\n",
       "      <th>50%</th>\n",
       "      <td>0.3</td>\n",
       "      <td>0.0</td>\n",
       "      <td>8.6</td>\n",
       "      <td>0.0</td>\n",
       "      <td>0.5</td>\n",
       "      <td>6.2</td>\n",
       "      <td>79.4</td>\n",
       "      <td>3.2</td>\n",
       "      <td>5.0</td>\n",
       "      <td>311.0</td>\n",
       "      <td>19.1</td>\n",
       "      <td>391.6</td>\n",
       "      <td>11.2</td>\n",
       "    </tr>\n",
       "    <tr>\n",
       "      <th>75%</th>\n",
       "      <td>3.1</td>\n",
       "      <td>20.0</td>\n",
       "      <td>18.1</td>\n",
       "      <td>0.0</td>\n",
       "      <td>0.6</td>\n",
       "      <td>6.6</td>\n",
       "      <td>93.8</td>\n",
       "      <td>5.1</td>\n",
       "      <td>24.0</td>\n",
       "      <td>666.0</td>\n",
       "      <td>20.2</td>\n",
       "      <td>395.7</td>\n",
       "      <td>16.7</td>\n",
       "    </tr>\n",
       "    <tr>\n",
       "      <th>max</th>\n",
       "      <td>89.0</td>\n",
       "      <td>100.0</td>\n",
       "      <td>27.7</td>\n",
       "      <td>1.0</td>\n",
       "      <td>0.9</td>\n",
       "      <td>8.8</td>\n",
       "      <td>100.0</td>\n",
       "      <td>12.1</td>\n",
       "      <td>24.0</td>\n",
       "      <td>711.0</td>\n",
       "      <td>22.0</td>\n",
       "      <td>396.9</td>\n",
       "      <td>37.0</td>\n",
       "    </tr>\n",
       "  </tbody>\n",
       "</table>\n",
       "</div>"
      ],
      "text/plain": [
       "        CRIM     ZN  INDUS   CHAS    NOX     RM    AGE    DIS    RAD    TAX  \\\n",
       "count  354.0  354.0  354.0  354.0  354.0  354.0  354.0  354.0  354.0  354.0   \n",
       "mean     3.4   11.8   11.1    0.1    0.6    6.3   69.0    3.8    9.4  401.8   \n",
       "std      8.4   23.7    7.0    0.2    0.1    0.7   28.0    2.1    8.7  170.6   \n",
       "min      0.0    0.0    0.5    0.0    0.4    3.6    2.9    1.2    1.0  187.0   \n",
       "25%      0.1    0.0    5.0    0.0    0.4    5.9   45.2    2.1    4.0  276.0   \n",
       "50%      0.3    0.0    8.6    0.0    0.5    6.2   79.4    3.2    5.0  311.0   \n",
       "75%      3.1   20.0   18.1    0.0    0.6    6.6   93.8    5.1   24.0  666.0   \n",
       "max     89.0  100.0   27.7    1.0    0.9    8.8  100.0   12.1   24.0  711.0   \n",
       "\n",
       "       PTRATIO      B  LSTAT  \n",
       "count    354.0  354.0  354.0  \n",
       "mean      18.5  360.6   12.4  \n",
       "std        2.2   85.6    7.1  \n",
       "min       12.6    0.3    1.7  \n",
       "25%       17.4  376.1    6.7  \n",
       "50%       19.1  391.6   11.2  \n",
       "75%       20.2  395.7   16.7  \n",
       "max       22.0  396.9   37.0  "
      ]
     },
     "execution_count": 11,
     "metadata": {},
     "output_type": "execute_result"
    }
   ],
   "source": [
    "# hãy xem tập dữ liệu huấn luyện ban đầu: giá trị trung bình và độ lệch chuẩn\n",
    "# sử dụng np.round để giảm số lượng thập phân xuống 1.\n",
    "\n",
    "np.round(X_train.describe(), 1)"
   ]
  },
  {
   "cell_type": "code",
   "execution_count": 12,
   "metadata": {
    "id": "1-VhFMOkQTBI",
    "outputId": "e11a245e-77b8-48b9-e975-76a6cc2c032c"
   },
   "outputs": [
    {
     "data": {
      "text/html": [
       "<div>\n",
       "<style scoped>\n",
       "    .dataframe tbody tr th:only-of-type {\n",
       "        vertical-align: middle;\n",
       "    }\n",
       "\n",
       "    .dataframe tbody tr th {\n",
       "        vertical-align: top;\n",
       "    }\n",
       "\n",
       "    .dataframe thead th {\n",
       "        text-align: right;\n",
       "    }\n",
       "</style>\n",
       "<table border=\"1\" class=\"dataframe\">\n",
       "  <thead>\n",
       "    <tr style=\"text-align: right;\">\n",
       "      <th></th>\n",
       "      <th>CRIM</th>\n",
       "      <th>ZN</th>\n",
       "      <th>INDUS</th>\n",
       "      <th>CHAS</th>\n",
       "      <th>NOX</th>\n",
       "      <th>RM</th>\n",
       "      <th>AGE</th>\n",
       "      <th>DIS</th>\n",
       "      <th>RAD</th>\n",
       "      <th>TAX</th>\n",
       "      <th>PTRATIO</th>\n",
       "      <th>B</th>\n",
       "      <th>LSTAT</th>\n",
       "    </tr>\n",
       "  </thead>\n",
       "  <tbody>\n",
       "    <tr>\n",
       "      <th>count</th>\n",
       "      <td>354.0</td>\n",
       "      <td>354.0</td>\n",
       "      <td>354.0</td>\n",
       "      <td>354.0</td>\n",
       "      <td>354.0</td>\n",
       "      <td>354.0</td>\n",
       "      <td>354.0</td>\n",
       "      <td>354.0</td>\n",
       "      <td>354.0</td>\n",
       "      <td>354.0</td>\n",
       "      <td>354.0</td>\n",
       "      <td>354.0</td>\n",
       "      <td>354.0</td>\n",
       "    </tr>\n",
       "    <tr>\n",
       "      <th>mean</th>\n",
       "      <td>-0.0</td>\n",
       "      <td>0.0</td>\n",
       "      <td>-0.0</td>\n",
       "      <td>-0.0</td>\n",
       "      <td>-0.0</td>\n",
       "      <td>-0.0</td>\n",
       "      <td>0.0</td>\n",
       "      <td>0.0</td>\n",
       "      <td>0.0</td>\n",
       "      <td>-0.0</td>\n",
       "      <td>0.0</td>\n",
       "      <td>-0.0</td>\n",
       "      <td>-0.0</td>\n",
       "    </tr>\n",
       "    <tr>\n",
       "      <th>std</th>\n",
       "      <td>1.0</td>\n",
       "      <td>1.0</td>\n",
       "      <td>1.0</td>\n",
       "      <td>1.0</td>\n",
       "      <td>1.0</td>\n",
       "      <td>1.0</td>\n",
       "      <td>1.0</td>\n",
       "      <td>1.0</td>\n",
       "      <td>1.0</td>\n",
       "      <td>1.0</td>\n",
       "      <td>1.0</td>\n",
       "      <td>1.0</td>\n",
       "      <td>1.0</td>\n",
       "    </tr>\n",
       "    <tr>\n",
       "      <th>min</th>\n",
       "      <td>-0.4</td>\n",
       "      <td>-0.5</td>\n",
       "      <td>-1.5</td>\n",
       "      <td>-0.3</td>\n",
       "      <td>-1.5</td>\n",
       "      <td>-3.9</td>\n",
       "      <td>-2.4</td>\n",
       "      <td>-1.3</td>\n",
       "      <td>-1.0</td>\n",
       "      <td>-1.3</td>\n",
       "      <td>-2.6</td>\n",
       "      <td>-4.2</td>\n",
       "      <td>-1.5</td>\n",
       "    </tr>\n",
       "    <tr>\n",
       "      <th>25%</th>\n",
       "      <td>-0.4</td>\n",
       "      <td>-0.5</td>\n",
       "      <td>-0.9</td>\n",
       "      <td>-0.3</td>\n",
       "      <td>-0.9</td>\n",
       "      <td>-0.6</td>\n",
       "      <td>-0.9</td>\n",
       "      <td>-0.8</td>\n",
       "      <td>-0.6</td>\n",
       "      <td>-0.7</td>\n",
       "      <td>-0.5</td>\n",
       "      <td>0.2</td>\n",
       "      <td>-0.8</td>\n",
       "    </tr>\n",
       "    <tr>\n",
       "      <th>50%</th>\n",
       "      <td>-0.4</td>\n",
       "      <td>-0.5</td>\n",
       "      <td>-0.4</td>\n",
       "      <td>-0.3</td>\n",
       "      <td>-0.2</td>\n",
       "      <td>-0.1</td>\n",
       "      <td>0.4</td>\n",
       "      <td>-0.3</td>\n",
       "      <td>-0.5</td>\n",
       "      <td>-0.5</td>\n",
       "      <td>0.3</td>\n",
       "      <td>0.4</td>\n",
       "      <td>-0.2</td>\n",
       "    </tr>\n",
       "    <tr>\n",
       "      <th>75%</th>\n",
       "      <td>-0.0</td>\n",
       "      <td>0.3</td>\n",
       "      <td>1.0</td>\n",
       "      <td>-0.3</td>\n",
       "      <td>0.6</td>\n",
       "      <td>0.5</td>\n",
       "      <td>0.9</td>\n",
       "      <td>0.6</td>\n",
       "      <td>1.7</td>\n",
       "      <td>1.6</td>\n",
       "      <td>0.8</td>\n",
       "      <td>0.4</td>\n",
       "      <td>0.6</td>\n",
       "    </tr>\n",
       "    <tr>\n",
       "      <th>max</th>\n",
       "      <td>10.3</td>\n",
       "      <td>3.7</td>\n",
       "      <td>2.4</td>\n",
       "      <td>3.8</td>\n",
       "      <td>2.7</td>\n",
       "      <td>3.5</td>\n",
       "      <td>1.1</td>\n",
       "      <td>4.1</td>\n",
       "      <td>1.7</td>\n",
       "      <td>1.8</td>\n",
       "      <td>1.6</td>\n",
       "      <td>0.4</td>\n",
       "      <td>3.5</td>\n",
       "    </tr>\n",
       "  </tbody>\n",
       "</table>\n",
       "</div>"
      ],
      "text/plain": [
       "        CRIM     ZN  INDUS   CHAS    NOX     RM    AGE    DIS    RAD    TAX  \\\n",
       "count  354.0  354.0  354.0  354.0  354.0  354.0  354.0  354.0  354.0  354.0   \n",
       "mean    -0.0    0.0   -0.0   -0.0   -0.0   -0.0    0.0    0.0    0.0   -0.0   \n",
       "std      1.0    1.0    1.0    1.0    1.0    1.0    1.0    1.0    1.0    1.0   \n",
       "min     -0.4   -0.5   -1.5   -0.3   -1.5   -3.9   -2.4   -1.3   -1.0   -1.3   \n",
       "25%     -0.4   -0.5   -0.9   -0.3   -0.9   -0.6   -0.9   -0.8   -0.6   -0.7   \n",
       "50%     -0.4   -0.5   -0.4   -0.3   -0.2   -0.1    0.4   -0.3   -0.5   -0.5   \n",
       "75%     -0.0    0.3    1.0   -0.3    0.6    0.5    0.9    0.6    1.7    1.6   \n",
       "max     10.3    3.7    2.4    3.8    2.7    3.5    1.1    4.1    1.7    1.8   \n",
       "\n",
       "       PTRATIO      B  LSTAT  \n",
       "count    354.0  354.0  354.0  \n",
       "mean       0.0   -0.0   -0.0  \n",
       "std        1.0    1.0    1.0  \n",
       "min       -2.6   -4.2   -1.5  \n",
       "25%       -0.5    0.2   -0.8  \n",
       "50%        0.3    0.4   -0.2  \n",
       "75%        0.8    0.4    0.6  \n",
       "max        1.6    0.4    3.5  "
      ]
     },
     "execution_count": 12,
     "metadata": {},
     "output_type": "execute_result"
    }
   ],
   "source": [
    "# hãy xem tập dữ liệu huấn luyện sau khi đã co giãn: giá trị trung bình và độ lệch chuẩn\n",
    "# sử dụng np.round để giảm số lượng thập phân xuống 1.\n",
    "\n",
    "np.round(X_train_scaled.describe(), 1)"
   ]
  },
  {
   "cell_type": "markdown",
   "metadata": {
    "id": "RB_OFZAiQTBI"
   },
   "source": [
    "Như dự kiến, giá trị trung bình của từng biến trước đó không căn giữa ở 0 giờ đã ở quanh 0 và độ lệch chuẩn được đặt thành 1. Tuy nhiên, lưu ý rằng giá trị min/max thay đổi tùy theo mức độ lan truyền của biến và bị ảnh hưởng lớn bởi sự có mặt của các outlier."
   ]
  },
  {
   "cell_type": "code",
   "execution_count": 13,
   "metadata": {
    "id": "ZR-FkgMDQTBJ",
    "outputId": "cff3376b-7b49-4622-cef0-a721f46b7da5"
   },
   "outputs": [
    {
     "data": {
      "image/png": "[encoded data removed]",
      "text/plain": [
       "<Figure size 864x360 with 2 Axes>"
      ]
     },
     "metadata": {
      "needs_background": "light"
     },
     "output_type": "display_data"
    }
   ],
   "source": [
    "# so sánh phân phối của biến trước và sau khi co giãn\n",
    "\n",
    "fig, (ax1, ax2) = plt.subplots(ncols=2, figsize=(12, 5))\n",
    "\n",
    "# trước khi co giãn\n",
    "ax1.set_title('Before Scaling')\n",
    "sns.kdeplot(X_train['RM'], ax=ax1)\n",
    "sns.kdeplot(X_train['LSTAT'], ax=ax1)\n",
    "sns.kdeplot(X_train['CRIM'], ax=ax1)\n",
    "\n",
    "# sau khi co giãn\n",
    "ax2.set_title('After Standard Scaling')\n",
    "sns.kdeplot(X_train_scaled['RM'], ax=ax2)\n",
    "sns.kdeplot(X_train_scaled['LSTAT'], ax=ax2)\n",
    "sns.kdeplot(X_train_scaled['CRIM'], ax=ax2)\n",
    "plt.show()"
   ]
  },
  {
   "cell_type": "markdown",
   "metadata": {
    "id": "rgO4Al5dQTBJ"
   },
   "source": [
    "Từ các biểu đồ trên, chuẩn tắc hóa tập trung tất cả các phân phối ở 0 nhưng vẫn giữ nguyên phân phối ban đầu của chúng. Phạm vi giá trị không giống nhau, nhưng nó trông đồng nhất hơn trên các biến.\n",
    "\n",
    "Chú ý một số điều thú vị trong biểu đồ sau:"
   ]
  },
  {
   "cell_type": "code",
   "execution_count": 14,
   "metadata": {
    "id": "2vq7hw-CQTBK",
    "outputId": "3d840fd5-f6de-4c4e-fd82-ab2c00047a34"
   },
   "outputs": [
    {
     "data": {
      "image/png": "[encoded data removed]",
      "text/plain": [
       "<Figure size 864x360 with 2 Axes>"
      ]
     },
     "metadata": {
      "needs_background": "light"
     },
     "output_type": "display_data"
    }
   ],
   "source": [
    "# so sánh phân phối của biến trước và sau khi co giãn\n",
    "\n",
    "fig, (ax1, ax2) = plt.subplots(ncols=2, figsize=(12, 5))\n",
    "\n",
    "# trước khi co giãn\n",
    "ax1.set_title('Before Scaling')\n",
    "sns.kdeplot(X_train['AGE'], ax=ax1)\n",
    "sns.kdeplot(X_train['DIS'], ax=ax1)\n",
    "sns.kdeplot(X_train['NOX'], ax=ax1)\n",
    "\n",
    "# sau khi co giãn\n",
    "ax2.set_title('After Standard Scaling')\n",
    "sns.kdeplot(X_train_scaled['AGE'], ax=ax2)\n",
    "sns.kdeplot(X_train_scaled['DIS'], ax=ax2)\n",
    "sns.kdeplot(X_train_scaled['NOX'], ax=ax2)\n",
    "plt.show()"
   ]
  },
  {
   "cell_type": "code",
   "execution_count": 15,
   "metadata": {
    "id": "hF0salc8QTBK",
    "outputId": "692ce41b-905c-452c-e573-f1940a30528c"
   },
   "outputs": [
    {
     "data": {
      "text/plain": [
       "(2.9, 100.0)"
      ]
     },
     "execution_count": 15,
     "metadata": {},
     "output_type": "execute_result"
    }
   ],
   "source": [
    "X_train['AGE'].min(), X_train['AGE'].max(), "
   ]
  },
  {
   "cell_type": "markdown",
   "metadata": {
    "id": "hinLKa7AQTBK"
   },
   "source": [
    "Trong biểu đồ trên, chúng ta thấy biến NOX thay đổi trong một phạm vi giá trị rất hẹp [0-1] và AGE thay đổi trong phạm vi [0-100] khi co giãn, giờ đây đã trải rộng trên phạm vi các giá trị đồng nhất hơn, do đó chúng ta có thể so sánh chúng trực tiếp trong một biểu đồ, trong khi trước đây điều này rất khó thực hiện. Trong mô hình tuyến tính, AGE sẽ chi phối đầu ra nhưng sau khi chuẩn tắc hóa, cả hai biến đều có đầu vào (giả sử cả 2 đều mang tính dự đoán)."
   ]
  },
  {
   "cell_type": "code",
   "execution_count": 16,
   "metadata": {
    "id": "ZX8hTxjJQTBL",
    "outputId": "78fdf616-da84-489e-88a9-9d2936ed48cf"
   },
   "outputs": [
    {
     "data": {
      "text/plain": [
       "<matplotlib.collections.PathCollection at 0x1ae2bb97c08>"
      ]
     },
     "execution_count": 16,
     "metadata": {},
     "output_type": "execute_result"
    },
    {
     "data": {
      "image/png": "[encoded data removed]",
      "text/plain": [
       "<Figure size 432x288 with 1 Axes>"
      ]
     },
     "metadata": {
      "needs_background": "light"
     },
     "output_type": "display_data"
    }
   ],
   "source": [
    "plt.scatter(X_train['AGE'], X_train['NOX'])"
   ]
  },
  {
   "cell_type": "code",
   "execution_count": 17,
   "metadata": {
    "id": "-cuong6eQTBL",
    "outputId": "0289e4ce-2eaf-466b-88bd-23bf3afc1bbe"
   },
   "outputs": [
    {
     "data": {
      "image/png": "[encoded data removed]",
      "text/plain": [
       "<Figure size 432x288 with 1 Axes>"
      ]
     },
     "metadata": {
      "needs_background": "light"
     },
     "output_type": "display_data"
    }
   ],
   "source": [
    "plt.scatter(X_train_scaled['AGE'], X_train_scaled['NOX']);"
   ]
  },
  {
   "cell_type": "markdown",
   "metadata": {
    "id": "AXfyqRlsBkGq"
   },
   "source": [
    "Ở phần này, chúng ta sẽ bàn về **Chuẩn hóa trung bình**.\n",
    "\n",
    "=================================================================\n",
    "\n",
    "## Chuẩn hóa trung bình\n",
    "\n",
    "\n",
    "Chuẩn hóa trung bình gồm việc căn giữa các biến ở 0 và điều chỉnh lại phạm vi giá trị. Quy trình gồm việc trừ đi giá trị trung bình của mỗi quan sát rồi chia cho hiệu giữa max và min:\n",
    "\n",
    "**x_scaled = (x - x_mean)/( x_max - x_min)**\n",
    "\n",
    "\n",
    "Kết quả của phép biến đổi trên là một phân phối căn giữa 0 và min/max nằm trong phạm vi từ -1 đến 1. Hình dạng của phân phối chuẩn hóa trung bình sẽ tương tự như của phân phối ban đầu, nhưng phương sai có thể thay đổi nên sẽ không giống hệt nhau.\n",
    "\n",
    "\n",
    "Một lần nữa, kỹ thuật này sẽ không **chuẩn hóa phân phối của dữ liệu**, do đó nếu đây là kết quả mong muốn, chúng ta nên thực hiện thêm bất kỳ kỹ thuật nào đã thảo luận trong phần 7 của khóa học.\n",
    "\n",
    "Tóm lại, chuẩn hóa trung bình:\n",
    "\n",
    "- tập trung mean ở 0\n",
    "- variance will be different phương sai sẽ khác\n",
    "- may alter the shape of the original distribution có thể thay đổi hình dạng của phân phối ban đầu\n",
    "- min và max nằm trong khoảng từ -1 đến 1\n",
    "- duy trì các outlier\n",
    "\n",
    "Chuẩn hóa trung bình khá tốt với các thuật toán yêu cầu đặc trưng căn giữa ở 0.\n",
    "\n",
    "\n",
    "## Trong mô phỏng này\n",
    "\n",
    "Chúng ta sẽ thực hiện chuẩn hóa trung bình sử dụng tập dữ liệu giá nhà ở Boston với Scikit-learn.\n",
    "\n",
    "Scikit-learn không có transformer cho chuẩn hóa trung bình nhưng chúng ta có thể triển khai bằng cách sử dụng tổ hợp 2 transformer khác mà chúng ta sẽ thảo luận trong notebook tới. Chúng ta cũng sẽ thực hiện thủ công với pandas."
   ]
  },
  {
   "cell_type": "markdown",
   "metadata": {
    "id": "7cJRNgS2Gu11"
   },
   "source": [
    "Khi thực hiện chuẩn hóa trung bình trên tập dữ liệu, trước tiên chúng ta cần xác định các giá trị mean, max, min của các biến. Các tham số này cần được học từ tập huấn luyện, lưu trữ rồi sử dụng để kiểm tra quy mô và dữ liệu trong tương lai. Vậy trước tiên, chúng ta sẽ chia dữ liệu thành tập huấn luyện và tập kiểm tra như đã làm trong suốt khóa học."
   ]
  },
  {
   "cell_type": "markdown",
   "metadata": {
    "id": "HK7_X3PSCrYU"
   },
   "source": [
    "### Chuẩn hóa trung bình với pandas"
   ]
  },
  {
   "cell_type": "code",
   "execution_count": 18,
   "metadata": {
    "id": "rFzGqTUBCZKn"
   },
   "outputs": [
    {
     "data": {
      "text/plain": [
       "CRIM         3.358284\n",
       "ZN          11.809322\n",
       "INDUS       11.078757\n",
       "CHAS         0.064972\n",
       "NOX          0.556098\n",
       "RM           6.308427\n",
       "AGE         68.994068\n",
       "DIS          3.762459\n",
       "RAD          9.353107\n",
       "TAX        401.782486\n",
       "PTRATIO     18.473446\n",
       "B          360.601186\n",
       "LSTAT       12.440650\n",
       "dtype: float64"
      ]
     },
     "execution_count": 18,
     "metadata": {},
     "output_type": "execute_result"
    }
   ],
   "source": [
    "## Yêu cầu 2\n",
    "# trước tiên tìm hiểu mean từ tập huấn luyện\n",
    "\n",
    "## VIẾT CODE Ở ĐÂY:\n",
    "means = X_train.mean(axis=0)\n",
    "means"
   ]
  },
  {
   "cell_type": "code",
   "execution_count": 19,
   "metadata": {
    "id": "Eg-idDuICtgR"
   },
   "outputs": [
    {
     "data": {
      "text/plain": [
       "CRIM        88.96988\n",
       "ZN         100.00000\n",
       "INDUS       27.28000\n",
       "CHAS         1.00000\n",
       "NOX          0.48600\n",
       "RM           5.21900\n",
       "AGE         97.10000\n",
       "DIS         10.95230\n",
       "RAD         23.00000\n",
       "TAX        524.00000\n",
       "PTRATIO      9.40000\n",
       "B          396.58000\n",
       "LSTAT       35.25000\n",
       "dtype: float64"
      ]
     },
     "execution_count": 19,
     "metadata": {},
     "output_type": "execute_result"
    }
   ],
   "source": [
    "## Yêu cầu 3\n",
    "# giờ hãy tìm hiểu min, max và phạm vi giá trị\n",
    "# from the train set\n",
    "\n",
    "## VIẾT CODE Ở ĐÂY:\n",
    "ranges = X_train.max(axis=0)-X_train.min(axis=0)\n",
    "ranges"
   ]
  },
  {
   "cell_type": "code",
   "execution_count": 20,
   "metadata": {
    "id": "cmW4CPWPCthy"
   },
   "outputs": [],
   "source": [
    "## Yêu cầu 4\n",
    "# chúng ta đã sẵn sàng để chuấn hóa trung bình:\n",
    "\n",
    "## VIẾT CODE Ở ĐÂY:\n",
    "X_train_scaled = (X_train - means) / ranges\n",
    "X_test_scaled = (X_test - means) / ranges"
   ]
  },
  {
   "cell_type": "code",
   "execution_count": 21,
   "metadata": {
    "id": "peCltS0qCws-"
   },
   "outputs": [
    {
     "data": {
      "text/html": [
       "<div>\n",
       "<style scoped>\n",
       "    .dataframe tbody tr th:only-of-type {\n",
       "        vertical-align: middle;\n",
       "    }\n",
       "\n",
       "    .dataframe tbody tr th {\n",
       "        vertical-align: top;\n",
       "    }\n",
       "\n",
       "    .dataframe thead th {\n",
       "        text-align: right;\n",
       "    }\n",
       "</style>\n",
       "<table border=\"1\" class=\"dataframe\">\n",
       "  <thead>\n",
       "    <tr style=\"text-align: right;\">\n",
       "      <th></th>\n",
       "      <th>CRIM</th>\n",
       "      <th>ZN</th>\n",
       "      <th>INDUS</th>\n",
       "      <th>CHAS</th>\n",
       "      <th>NOX</th>\n",
       "      <th>RM</th>\n",
       "      <th>AGE</th>\n",
       "      <th>DIS</th>\n",
       "      <th>RAD</th>\n",
       "      <th>TAX</th>\n",
       "      <th>PTRATIO</th>\n",
       "      <th>B</th>\n",
       "      <th>LSTAT</th>\n",
       "    </tr>\n",
       "  </thead>\n",
       "  <tbody>\n",
       "    <tr>\n",
       "      <th>count</th>\n",
       "      <td>354.0</td>\n",
       "      <td>354.0</td>\n",
       "      <td>354.0</td>\n",
       "      <td>354.0</td>\n",
       "      <td>354.0</td>\n",
       "      <td>354.0</td>\n",
       "      <td>354.0</td>\n",
       "      <td>354.0</td>\n",
       "      <td>354.0</td>\n",
       "      <td>354.0</td>\n",
       "      <td>354.0</td>\n",
       "      <td>354.0</td>\n",
       "      <td>354.0</td>\n",
       "    </tr>\n",
       "    <tr>\n",
       "      <th>mean</th>\n",
       "      <td>3.4</td>\n",
       "      <td>11.8</td>\n",
       "      <td>11.1</td>\n",
       "      <td>0.1</td>\n",
       "      <td>0.6</td>\n",
       "      <td>6.3</td>\n",
       "      <td>69.0</td>\n",
       "      <td>3.8</td>\n",
       "      <td>9.4</td>\n",
       "      <td>401.8</td>\n",
       "      <td>18.5</td>\n",
       "      <td>360.6</td>\n",
       "      <td>12.4</td>\n",
       "    </tr>\n",
       "    <tr>\n",
       "      <th>std</th>\n",
       "      <td>8.4</td>\n",
       "      <td>23.7</td>\n",
       "      <td>7.0</td>\n",
       "      <td>0.2</td>\n",
       "      <td>0.1</td>\n",
       "      <td>0.7</td>\n",
       "      <td>28.0</td>\n",
       "      <td>2.1</td>\n",
       "      <td>8.7</td>\n",
       "      <td>170.6</td>\n",
       "      <td>2.2</td>\n",
       "      <td>85.6</td>\n",
       "      <td>7.1</td>\n",
       "    </tr>\n",
       "    <tr>\n",
       "      <th>min</th>\n",
       "      <td>0.0</td>\n",
       "      <td>0.0</td>\n",
       "      <td>0.5</td>\n",
       "      <td>0.0</td>\n",
       "      <td>0.4</td>\n",
       "      <td>3.6</td>\n",
       "      <td>2.9</td>\n",
       "      <td>1.2</td>\n",
       "      <td>1.0</td>\n",
       "      <td>187.0</td>\n",
       "      <td>12.6</td>\n",
       "      <td>0.3</td>\n",
       "      <td>1.7</td>\n",
       "    </tr>\n",
       "    <tr>\n",
       "      <th>25%</th>\n",
       "      <td>0.1</td>\n",
       "      <td>0.0</td>\n",
       "      <td>5.0</td>\n",
       "      <td>0.0</td>\n",
       "      <td>0.4</td>\n",
       "      <td>5.9</td>\n",
       "      <td>45.2</td>\n",
       "      <td>2.1</td>\n",
       "      <td>4.0</td>\n",
       "      <td>276.0</td>\n",
       "      <td>17.4</td>\n",
       "      <td>376.1</td>\n",
       "      <td>6.7</td>\n",
       "    </tr>\n",
       "    <tr>\n",
       "      <th>50%</th>\n",
       "      <td>0.3</td>\n",
       "      <td>0.0</td>\n",
       "      <td>8.6</td>\n",
       "      <td>0.0</td>\n",
       "      <td>0.5</td>\n",
       "      <td>6.2</td>\n",
       "      <td>79.4</td>\n",
       "      <td>3.2</td>\n",
       "      <td>5.0</td>\n",
       "      <td>311.0</td>\n",
       "      <td>19.1</td>\n",
       "      <td>391.6</td>\n",
       "      <td>11.2</td>\n",
       "    </tr>\n",
       "    <tr>\n",
       "      <th>75%</th>\n",
       "      <td>3.1</td>\n",
       "      <td>20.0</td>\n",
       "      <td>18.1</td>\n",
       "      <td>0.0</td>\n",
       "      <td>0.6</td>\n",
       "      <td>6.6</td>\n",
       "      <td>93.8</td>\n",
       "      <td>5.1</td>\n",
       "      <td>24.0</td>\n",
       "      <td>666.0</td>\n",
       "      <td>20.2</td>\n",
       "      <td>395.7</td>\n",
       "      <td>16.7</td>\n",
       "    </tr>\n",
       "    <tr>\n",
       "      <th>max</th>\n",
       "      <td>89.0</td>\n",
       "      <td>100.0</td>\n",
       "      <td>27.7</td>\n",
       "      <td>1.0</td>\n",
       "      <td>0.9</td>\n",
       "      <td>8.8</td>\n",
       "      <td>100.0</td>\n",
       "      <td>12.1</td>\n",
       "      <td>24.0</td>\n",
       "      <td>711.0</td>\n",
       "      <td>22.0</td>\n",
       "      <td>396.9</td>\n",
       "      <td>37.0</td>\n",
       "    </tr>\n",
       "  </tbody>\n",
       "</table>\n",
       "</div>"
      ],
      "text/plain": [
       "        CRIM     ZN  INDUS   CHAS    NOX     RM    AGE    DIS    RAD    TAX  \\\n",
       "count  354.0  354.0  354.0  354.0  354.0  354.0  354.0  354.0  354.0  354.0   \n",
       "mean     3.4   11.8   11.1    0.1    0.6    6.3   69.0    3.8    9.4  401.8   \n",
       "std      8.4   23.7    7.0    0.2    0.1    0.7   28.0    2.1    8.7  170.6   \n",
       "min      0.0    0.0    0.5    0.0    0.4    3.6    2.9    1.2    1.0  187.0   \n",
       "25%      0.1    0.0    5.0    0.0    0.4    5.9   45.2    2.1    4.0  276.0   \n",
       "50%      0.3    0.0    8.6    0.0    0.5    6.2   79.4    3.2    5.0  311.0   \n",
       "75%      3.1   20.0   18.1    0.0    0.6    6.6   93.8    5.1   24.0  666.0   \n",
       "max     89.0  100.0   27.7    1.0    0.9    8.8  100.0   12.1   24.0  711.0   \n",
       "\n",
       "       PTRATIO      B  LSTAT  \n",
       "count    354.0  354.0  354.0  \n",
       "mean      18.5  360.6   12.4  \n",
       "std        2.2   85.6    7.1  \n",
       "min       12.6    0.3    1.7  \n",
       "25%       17.4  376.1    6.7  \n",
       "50%       19.1  391.6   11.2  \n",
       "75%       20.2  395.7   16.7  \n",
       "max       22.0  396.9   37.0  "
      ]
     },
     "execution_count": 21,
     "metadata": {},
     "output_type": "execute_result"
    }
   ],
   "source": [
    "# hãy xem tập dữ liệu huấn luyện ban đầu: các giá trị mean, min, max\n",
    "# sử dụng np.round để giảm số lượng số thập phân xuống còn 1\n",
    "\n",
    "np.round(X_train.describe(), 1)"
   ]
  },
  {
   "cell_type": "code",
   "execution_count": 22,
   "metadata": {
    "id": "nrXmeZlqCw1Z"
   },
   "outputs": [
    {
     "data": {
      "text/html": [
       "<div>\n",
       "<style scoped>\n",
       "    .dataframe tbody tr th:only-of-type {\n",
       "        vertical-align: middle;\n",
       "    }\n",
       "\n",
       "    .dataframe tbody tr th {\n",
       "        vertical-align: top;\n",
       "    }\n",
       "\n",
       "    .dataframe thead th {\n",
       "        text-align: right;\n",
       "    }\n",
       "</style>\n",
       "<table border=\"1\" class=\"dataframe\">\n",
       "  <thead>\n",
       "    <tr style=\"text-align: right;\">\n",
       "      <th></th>\n",
       "      <th>CRIM</th>\n",
       "      <th>ZN</th>\n",
       "      <th>INDUS</th>\n",
       "      <th>CHAS</th>\n",
       "      <th>NOX</th>\n",
       "      <th>RM</th>\n",
       "      <th>AGE</th>\n",
       "      <th>DIS</th>\n",
       "      <th>RAD</th>\n",
       "      <th>TAX</th>\n",
       "      <th>PTRATIO</th>\n",
       "      <th>B</th>\n",
       "      <th>LSTAT</th>\n",
       "    </tr>\n",
       "  </thead>\n",
       "  <tbody>\n",
       "    <tr>\n",
       "      <th>count</th>\n",
       "      <td>354.0</td>\n",
       "      <td>354.0</td>\n",
       "      <td>354.0</td>\n",
       "      <td>354.0</td>\n",
       "      <td>354.0</td>\n",
       "      <td>354.0</td>\n",
       "      <td>354.0</td>\n",
       "      <td>354.0</td>\n",
       "      <td>354.0</td>\n",
       "      <td>354.0</td>\n",
       "      <td>354.0</td>\n",
       "      <td>354.0</td>\n",
       "      <td>354.0</td>\n",
       "    </tr>\n",
       "    <tr>\n",
       "      <th>mean</th>\n",
       "      <td>-0.0</td>\n",
       "      <td>0.0</td>\n",
       "      <td>-0.0</td>\n",
       "      <td>0.0</td>\n",
       "      <td>-0.0</td>\n",
       "      <td>-0.0</td>\n",
       "      <td>0.0</td>\n",
       "      <td>0.0</td>\n",
       "      <td>0.0</td>\n",
       "      <td>-0.0</td>\n",
       "      <td>0.0</td>\n",
       "      <td>-0.0</td>\n",
       "      <td>-0.0</td>\n",
       "    </tr>\n",
       "    <tr>\n",
       "      <th>std</th>\n",
       "      <td>0.1</td>\n",
       "      <td>0.2</td>\n",
       "      <td>0.3</td>\n",
       "      <td>0.2</td>\n",
       "      <td>0.2</td>\n",
       "      <td>0.1</td>\n",
       "      <td>0.3</td>\n",
       "      <td>0.2</td>\n",
       "      <td>0.4</td>\n",
       "      <td>0.3</td>\n",
       "      <td>0.2</td>\n",
       "      <td>0.2</td>\n",
       "      <td>0.2</td>\n",
       "    </tr>\n",
       "    <tr>\n",
       "      <th>min</th>\n",
       "      <td>-0.0</td>\n",
       "      <td>-0.1</td>\n",
       "      <td>-0.4</td>\n",
       "      <td>-0.1</td>\n",
       "      <td>-0.4</td>\n",
       "      <td>-0.5</td>\n",
       "      <td>-0.7</td>\n",
       "      <td>-0.2</td>\n",
       "      <td>-0.4</td>\n",
       "      <td>-0.4</td>\n",
       "      <td>-0.6</td>\n",
       "      <td>-0.9</td>\n",
       "      <td>-0.3</td>\n",
       "    </tr>\n",
       "    <tr>\n",
       "      <th>25%</th>\n",
       "      <td>-0.0</td>\n",
       "      <td>-0.1</td>\n",
       "      <td>-0.2</td>\n",
       "      <td>-0.1</td>\n",
       "      <td>-0.2</td>\n",
       "      <td>-0.1</td>\n",
       "      <td>-0.2</td>\n",
       "      <td>-0.2</td>\n",
       "      <td>-0.2</td>\n",
       "      <td>-0.2</td>\n",
       "      <td>-0.1</td>\n",
       "      <td>0.0</td>\n",
       "      <td>-0.2</td>\n",
       "    </tr>\n",
       "    <tr>\n",
       "      <th>50%</th>\n",
       "      <td>-0.0</td>\n",
       "      <td>-0.1</td>\n",
       "      <td>-0.1</td>\n",
       "      <td>-0.1</td>\n",
       "      <td>-0.0</td>\n",
       "      <td>-0.0</td>\n",
       "      <td>0.1</td>\n",
       "      <td>-0.0</td>\n",
       "      <td>-0.2</td>\n",
       "      <td>-0.2</td>\n",
       "      <td>0.1</td>\n",
       "      <td>0.1</td>\n",
       "      <td>-0.0</td>\n",
       "    </tr>\n",
       "    <tr>\n",
       "      <th>75%</th>\n",
       "      <td>-0.0</td>\n",
       "      <td>0.1</td>\n",
       "      <td>0.3</td>\n",
       "      <td>-0.1</td>\n",
       "      <td>0.2</td>\n",
       "      <td>0.1</td>\n",
       "      <td>0.3</td>\n",
       "      <td>0.1</td>\n",
       "      <td>0.6</td>\n",
       "      <td>0.5</td>\n",
       "      <td>0.2</td>\n",
       "      <td>0.1</td>\n",
       "      <td>0.1</td>\n",
       "    </tr>\n",
       "    <tr>\n",
       "      <th>max</th>\n",
       "      <td>1.0</td>\n",
       "      <td>0.9</td>\n",
       "      <td>0.6</td>\n",
       "      <td>0.9</td>\n",
       "      <td>0.6</td>\n",
       "      <td>0.5</td>\n",
       "      <td>0.3</td>\n",
       "      <td>0.8</td>\n",
       "      <td>0.6</td>\n",
       "      <td>0.6</td>\n",
       "      <td>0.4</td>\n",
       "      <td>0.1</td>\n",
       "      <td>0.7</td>\n",
       "    </tr>\n",
       "  </tbody>\n",
       "</table>\n",
       "</div>"
      ],
      "text/plain": [
       "        CRIM     ZN  INDUS   CHAS    NOX     RM    AGE    DIS    RAD    TAX  \\\n",
       "count  354.0  354.0  354.0  354.0  354.0  354.0  354.0  354.0  354.0  354.0   \n",
       "mean    -0.0    0.0   -0.0    0.0   -0.0   -0.0    0.0    0.0    0.0   -0.0   \n",
       "std      0.1    0.2    0.3    0.2    0.2    0.1    0.3    0.2    0.4    0.3   \n",
       "min     -0.0   -0.1   -0.4   -0.1   -0.4   -0.5   -0.7   -0.2   -0.4   -0.4   \n",
       "25%     -0.0   -0.1   -0.2   -0.1   -0.2   -0.1   -0.2   -0.2   -0.2   -0.2   \n",
       "50%     -0.0   -0.1   -0.1   -0.1   -0.0   -0.0    0.1   -0.0   -0.2   -0.2   \n",
       "75%     -0.0    0.1    0.3   -0.1    0.2    0.1    0.3    0.1    0.6    0.5   \n",
       "max      1.0    0.9    0.6    0.9    0.6    0.5    0.3    0.8    0.6    0.6   \n",
       "\n",
       "       PTRATIO      B  LSTAT  \n",
       "count    354.0  354.0  354.0  \n",
       "mean       0.0   -0.0   -0.0  \n",
       "std        0.2    0.2    0.2  \n",
       "min       -0.6   -0.9   -0.3  \n",
       "25%       -0.1    0.0   -0.2  \n",
       "50%        0.1    0.1   -0.0  \n",
       "75%        0.2    0.1    0.1  \n",
       "max        0.4    0.1    0.7  "
      ]
     },
     "execution_count": 22,
     "metadata": {},
     "output_type": "execute_result"
    }
   ],
   "source": [
    "# hãy xem tập dữ liệu huấn luyện đã co giãn:  các giá trị mean, min, max\n",
    "# sử dụng np.round để giảm số lượng số thập phân xuống còn 1\n",
    "\n",
    "np.round(X_train_scaled.describe(), 1)"
   ]
  },
  {
   "cell_type": "markdown",
   "metadata": {
    "id": "CE6_GrftC0vT"
   },
   "source": [
    "Như dự kiến, giá trị trung bình của từng biến trước đó không căn giữa ở 0 thì giờ ở quanh 0, và các giá trị min, max thay đổi trong khoảng từ -1 đến 1. Tuy nhiên, độ lệch chuẩn thay đổi tùy theo mức độ lan truyền của biến đó và bị ảnh hưởng nhiều bởi sự có mặt của các outlier."
   ]
  },
  {
   "cell_type": "code",
   "execution_count": 23,
   "metadata": {
    "id": "Mtq5SDbPCtkU"
   },
   "outputs": [
    {
     "data": {
      "image/png": "[encoded data removed]",
      "text/plain": [
       "<Figure size 864x360 with 2 Axes>"
      ]
     },
     "metadata": {
      "needs_background": "light"
     },
     "output_type": "display_data"
    }
   ],
   "source": [
    "# so sánh phân phối của biến trước và sau khi co giãn\n",
    "\n",
    "fig, (ax1, ax2) = plt.subplots(ncols=2, figsize=(12, 5))\n",
    "\n",
    "# trước khi co giãn\n",
    "ax1.set_title('Before Scaling')\n",
    "sns.kdeplot(X_train['RM'], ax=ax1)\n",
    "sns.kdeplot(X_train['LSTAT'], ax=ax1)\n",
    "sns.kdeplot(X_train['CRIM'], ax=ax1)\n",
    "\n",
    "# sau khi co giãn\n",
    "ax2.set_title('After Mean Normalisation')\n",
    "sns.kdeplot(X_train_scaled['RM'], ax=ax2)\n",
    "sns.kdeplot(X_train_scaled['LSTAT'], ax=ax2)\n",
    "sns.kdeplot(X_train_scaled['CRIM'], ax=ax2)\n",
    "plt.show()"
   ]
  },
  {
   "cell_type": "markdown",
   "metadata": {
    "id": "osn7_0ySC77F"
   },
   "source": [
    "Chúng ta thấy tác động chính của chuẩn hóa trung bình là tập trung tất cả các phân phối ở 0 và các giá trị thay đổi giữa -1 và 1."
   ]
  },
  {
   "cell_type": "code",
   "execution_count": 24,
   "metadata": {
    "id": "9YWeilIYC3Pp"
   },
   "outputs": [
    {
     "data": {
      "image/png": "[encoded data removed]",
      "text/plain": [
       "<Figure size 864x360 with 2 Axes>"
      ]
     },
     "metadata": {
      "needs_background": "light"
     },
     "output_type": "display_data"
    }
   ],
   "source": [
    "# so sánh phân phối của biến trước và sau khi co giãn\n",
    "\n",
    "fig, (ax1, ax2) = plt.subplots(ncols=2, figsize=(12, 5))\n",
    "\n",
    "# trước khi co giãn\n",
    "ax1.set_title('Before Scaling')\n",
    "sns.kdeplot(X_train['AGE'], ax=ax1)\n",
    "sns.kdeplot(X_train['DIS'], ax=ax1)\n",
    "sns.kdeplot(X_train['NOX'], ax=ax1)\n",
    "\n",
    "# sau khi co giãn\n",
    "ax2.set_title('After Mean Normalisation')\n",
    "sns.kdeplot(X_train_scaled['AGE'], ax=ax2)\n",
    "sns.kdeplot(X_train_scaled['DIS'], ax=ax2)\n",
    "sns.kdeplot(X_train_scaled['NOX'], ax=ax2)\n",
    "plt.show()"
   ]
  },
  {
   "cell_type": "markdown",
   "metadata": {
    "id": "0dwFtr_JC_TI"
   },
   "source": [
    "So sánh các biểu đồ này với các biểu đồ thu được bằng cách chuẩn tắc hóa để hiểu các quy trình này không giống nhau."
   ]
  },
  {
   "cell_type": "markdown",
   "metadata": {
    "id": "aso8HPOkDB1Q"
   },
   "source": [
    "### Chuẩn hóa trung bình với Scikit-learn: giải pháp thay thế\n",
    "\n",
    "Chúng ta có thể triển khai chuẩn hóa trung bình bằng cách kết hợp sử dụng 2 transformer nếu muốn thực hiện kỹ thuật này với sklearn."
   ]
  },
  {
   "cell_type": "code",
   "execution_count": 26,
   "metadata": {
    "id": "yND-Zs6UC3Zy"
   },
   "outputs": [],
   "source": [
    "## Yêu cầu 5\n",
    "# thiết lập StandardScaler để nó loại bỏ mean\n",
    "# nhưng không chia cho độ lêch chuẩn\n",
    "\n",
    "## VIẾT CODE Ở ĐÂY:\n",
    "scaler_mean = StandardScaler(with_mean=True, with_std=False)\n",
    "\n",
    "# thiết lập robustscaler để nó KHÔNG loại median\n",
    "# nhưng chuẩn hóa bằng max()-min(), quan trọng với\n",
    "# phạm vi quantile từ 0-100, thể hiện min và max\n",
    "\n",
    "## VIẾT CODE Ở ĐÂY:\n",
    "scaler_minmax = RobustScaler(with_centering=False,\n",
    "                             with_scaling=True,\n",
    "                             quantile_range=(0, 100))\n",
    "\n",
    "# khớp scaler với tập huấn luyện để nó học các tham số\n",
    "## VIẾT CODE Ở ĐÂY:\n",
    "scaler_mean.fit(X_train)\n",
    "scaler_minmax.fit(X_train)\n",
    "\n",
    "# biến đổi tập huấn luyện và tập kiểm tra\n",
    "## VIẾT CODE Ở ĐÂY:\n",
    "X_train_scaled = scaler_minmax.transform(scaler_mean.transform(X_train))\n",
    "X_test_scaled = scaler_minmax.transform(scaler_mean.transform(X_test))"
   ]
  },
  {
   "cell_type": "markdown",
   "metadata": {
    "id": "omjje_-zLvpH"
   },
   "source": [
    "<details><summary> Gợi ý </summary>\n",
    "\n",
    "[StandardScaler()](https://scikit-learn.org/stable/modules/generated/sklearn.preprocessing.StandardScaler.html)\n",
    "\n",
    "[RobustScaler()](https://scikit-learn.org/stable/modules/generated/sklearn.preprocessing.RobustScaler.html)\n",
    "\n",
    "</details>"
   ]
  },
  {
   "cell_type": "code",
   "execution_count": 27,
   "metadata": {
    "id": "WUAqGj9QDGZl"
   },
   "outputs": [],
   "source": [
    "# biến đổi các mảng NumPy đã trả về vào các dataframe cho phần còn lại của\n",
    "# bản mô phỏng\n",
    "\n",
    "X_train_scaled = pd.DataFrame(X_train_scaled, columns=X_train.columns)\n",
    "X_test_scaled = pd.DataFrame(X_test_scaled, columns=X_test.columns)"
   ]
  },
  {
   "cell_type": "code",
   "execution_count": 28,
   "metadata": {
    "id": "-J5bykZ1DIql"
   },
   "outputs": [
    {
     "data": {
      "text/html": [
       "<div>\n",
       "<style scoped>\n",
       "    .dataframe tbody tr th:only-of-type {\n",
       "        vertical-align: middle;\n",
       "    }\n",
       "\n",
       "    .dataframe tbody tr th {\n",
       "        vertical-align: top;\n",
       "    }\n",
       "\n",
       "    .dataframe thead th {\n",
       "        text-align: right;\n",
       "    }\n",
       "</style>\n",
       "<table border=\"1\" class=\"dataframe\">\n",
       "  <thead>\n",
       "    <tr style=\"text-align: right;\">\n",
       "      <th></th>\n",
       "      <th>CRIM</th>\n",
       "      <th>ZN</th>\n",
       "      <th>INDUS</th>\n",
       "      <th>CHAS</th>\n",
       "      <th>NOX</th>\n",
       "      <th>RM</th>\n",
       "      <th>AGE</th>\n",
       "      <th>DIS</th>\n",
       "      <th>RAD</th>\n",
       "      <th>TAX</th>\n",
       "      <th>PTRATIO</th>\n",
       "      <th>B</th>\n",
       "      <th>LSTAT</th>\n",
       "    </tr>\n",
       "  </thead>\n",
       "  <tbody>\n",
       "    <tr>\n",
       "      <th>count</th>\n",
       "      <td>354.0</td>\n",
       "      <td>354.0</td>\n",
       "      <td>354.0</td>\n",
       "      <td>354.0</td>\n",
       "      <td>354.0</td>\n",
       "      <td>354.0</td>\n",
       "      <td>354.0</td>\n",
       "      <td>354.0</td>\n",
       "      <td>354.0</td>\n",
       "      <td>354.0</td>\n",
       "      <td>354.0</td>\n",
       "      <td>354.0</td>\n",
       "      <td>354.0</td>\n",
       "    </tr>\n",
       "    <tr>\n",
       "      <th>mean</th>\n",
       "      <td>-0.0</td>\n",
       "      <td>0.0</td>\n",
       "      <td>-0.0</td>\n",
       "      <td>0.0</td>\n",
       "      <td>-0.0</td>\n",
       "      <td>-0.0</td>\n",
       "      <td>0.0</td>\n",
       "      <td>0.0</td>\n",
       "      <td>0.0</td>\n",
       "      <td>-0.0</td>\n",
       "      <td>0.0</td>\n",
       "      <td>-0.0</td>\n",
       "      <td>-0.0</td>\n",
       "    </tr>\n",
       "    <tr>\n",
       "      <th>std</th>\n",
       "      <td>0.1</td>\n",
       "      <td>0.2</td>\n",
       "      <td>0.3</td>\n",
       "      <td>0.2</td>\n",
       "      <td>0.2</td>\n",
       "      <td>0.1</td>\n",
       "      <td>0.3</td>\n",
       "      <td>0.2</td>\n",
       "      <td>0.4</td>\n",
       "      <td>0.3</td>\n",
       "      <td>0.2</td>\n",
       "      <td>0.2</td>\n",
       "      <td>0.2</td>\n",
       "    </tr>\n",
       "    <tr>\n",
       "      <th>min</th>\n",
       "      <td>-0.0</td>\n",
       "      <td>-0.1</td>\n",
       "      <td>-0.4</td>\n",
       "      <td>-0.1</td>\n",
       "      <td>-0.4</td>\n",
       "      <td>-0.5</td>\n",
       "      <td>-0.7</td>\n",
       "      <td>-0.2</td>\n",
       "      <td>-0.4</td>\n",
       "      <td>-0.4</td>\n",
       "      <td>-0.6</td>\n",
       "      <td>-0.9</td>\n",
       "      <td>-0.3</td>\n",
       "    </tr>\n",
       "    <tr>\n",
       "      <th>25%</th>\n",
       "      <td>-0.0</td>\n",
       "      <td>-0.1</td>\n",
       "      <td>-0.2</td>\n",
       "      <td>-0.1</td>\n",
       "      <td>-0.2</td>\n",
       "      <td>-0.1</td>\n",
       "      <td>-0.2</td>\n",
       "      <td>-0.2</td>\n",
       "      <td>-0.2</td>\n",
       "      <td>-0.2</td>\n",
       "      <td>-0.1</td>\n",
       "      <td>0.0</td>\n",
       "      <td>-0.2</td>\n",
       "    </tr>\n",
       "    <tr>\n",
       "      <th>50%</th>\n",
       "      <td>-0.0</td>\n",
       "      <td>-0.1</td>\n",
       "      <td>-0.1</td>\n",
       "      <td>-0.1</td>\n",
       "      <td>-0.0</td>\n",
       "      <td>-0.0</td>\n",
       "      <td>0.1</td>\n",
       "      <td>-0.0</td>\n",
       "      <td>-0.2</td>\n",
       "      <td>-0.2</td>\n",
       "      <td>0.1</td>\n",
       "      <td>0.1</td>\n",
       "      <td>-0.0</td>\n",
       "    </tr>\n",
       "    <tr>\n",
       "      <th>75%</th>\n",
       "      <td>-0.0</td>\n",
       "      <td>0.1</td>\n",
       "      <td>0.3</td>\n",
       "      <td>-0.1</td>\n",
       "      <td>0.2</td>\n",
       "      <td>0.1</td>\n",
       "      <td>0.3</td>\n",
       "      <td>0.1</td>\n",
       "      <td>0.6</td>\n",
       "      <td>0.5</td>\n",
       "      <td>0.2</td>\n",
       "      <td>0.1</td>\n",
       "      <td>0.1</td>\n",
       "    </tr>\n",
       "    <tr>\n",
       "      <th>max</th>\n",
       "      <td>1.0</td>\n",
       "      <td>0.9</td>\n",
       "      <td>0.6</td>\n",
       "      <td>0.9</td>\n",
       "      <td>0.6</td>\n",
       "      <td>0.5</td>\n",
       "      <td>0.3</td>\n",
       "      <td>0.8</td>\n",
       "      <td>0.6</td>\n",
       "      <td>0.6</td>\n",
       "      <td>0.4</td>\n",
       "      <td>0.1</td>\n",
       "      <td>0.7</td>\n",
       "    </tr>\n",
       "  </tbody>\n",
       "</table>\n",
       "</div>"
      ],
      "text/plain": [
       "        CRIM     ZN  INDUS   CHAS    NOX     RM    AGE    DIS    RAD    TAX  \\\n",
       "count  354.0  354.0  354.0  354.0  354.0  354.0  354.0  354.0  354.0  354.0   \n",
       "mean    -0.0    0.0   -0.0    0.0   -0.0   -0.0    0.0    0.0    0.0   -0.0   \n",
       "std      0.1    0.2    0.3    0.2    0.2    0.1    0.3    0.2    0.4    0.3   \n",
       "min     -0.0   -0.1   -0.4   -0.1   -0.4   -0.5   -0.7   -0.2   -0.4   -0.4   \n",
       "25%     -0.0   -0.1   -0.2   -0.1   -0.2   -0.1   -0.2   -0.2   -0.2   -0.2   \n",
       "50%     -0.0   -0.1   -0.1   -0.1   -0.0   -0.0    0.1   -0.0   -0.2   -0.2   \n",
       "75%     -0.0    0.1    0.3   -0.1    0.2    0.1    0.3    0.1    0.6    0.5   \n",
       "max      1.0    0.9    0.6    0.9    0.6    0.5    0.3    0.8    0.6    0.6   \n",
       "\n",
       "       PTRATIO      B  LSTAT  \n",
       "count    354.0  354.0  354.0  \n",
       "mean       0.0   -0.0   -0.0  \n",
       "std        0.2    0.2    0.2  \n",
       "min       -0.6   -0.9   -0.3  \n",
       "25%       -0.1    0.0   -0.2  \n",
       "50%        0.1    0.1   -0.0  \n",
       "75%        0.2    0.1    0.1  \n",
       "max        0.4    0.1    0.7  "
      ]
     },
     "execution_count": 28,
     "metadata": {},
     "output_type": "execute_result"
    }
   ],
   "source": [
    "np.round(X_train_scaled.describe(), 1)"
   ]
  },
  {
   "cell_type": "markdown",
   "metadata": {
    "id": "i8UMoQBtDLaI"
   },
   "source": [
    "Đầu ra này giống với đầu ra của cell 10, khi chúng ta đã thực hiện co giãn theo cách thủ công."
   ]
  },
  {
   "cell_type": "markdown",
   "metadata": {
    "id": "SRmTs2b0Dhon"
   },
   "source": [
    "Trong phần này, chúng ta sẽ bàn về **MinMaxScaling**.\n",
    "\n",
    "=================================================================\n",
    "\n",
    "## Co giãn về min/max - MinMaxScaling\n",
    "\n",
    "Co giãn về min-max các giá trị từ 0 đến 1. Nó trừ min từ tất cả các quan sát rồi chia cho phạm vi giá trị:\n",
    "\n",
    "X_scaled = (X - X.min / (X.max - X.min)\n",
    "\n",
    "\n",
    "Kết quả của phép biến đổi trên là phân phối có các giá trị thay đổi trong phạm vi từ 0 đến 1. Nhưng giá trị trung bình không tập trung ở 0 và độ lệch chuẩn cũng thay đổi trong các biến. Hình dạng của phân phối khi co giãn max/min sẽ tương tự như phân phối ban đầu, nhưng phương sai có thể thay đổi nên chúng sẽ không giống nhau. Kỹ thuật co giãn này cũng nhạy với các outlier.\n",
    "\n",
    "Kỹ thuật này sẽ không **chuẩn hóa phân phối của dữ liệu** do đó nếu đây là kết quả mong muốn, chúng ta nên thực hiện bất kỳ kỹ thuật nào đã thảo luận trong phần 7 của khóa học.\n",
    "\n",
    "Tóm lại, MinMaxScaling:\n",
    "\n",
    "- không tập trung mean ở 0\n",
    "- phương sai thay đổi trên các biến\n",
    "- có thể không duy trì hình dạng của phân phối ban đầu\n",
    "- các giá trị min và max là 0  và 1 \n",
    "- nhạy với outlier\n",
    "\n",
    "\n",
    "## Trong bản mô phỏng này\n",
    "\n",
    "Chúng ta sẽ thực hiện co giãn về min-max sử dụng tập dữ liệu giá nhà ở Boston với Scikit-learn."
   ]
  },
  {
   "cell_type": "markdown",
   "metadata": {
    "id": "vScOBBHXG0L4"
   },
   "source": [
    "Khi thực hiện co giãn về min-max trên tập dữ liệu, trước tiên chúng ta cần xác định min, max của các biến. Các tham số này cần được học từ tập huấn luyện, lưu trữ rồi sử dụng để kiểm tra quy mô và dữ liệu trong tương lai. Vậy trước tiên, chúng ta sẽ chia dữ liệu thành huấn luyện và tập kiểm tra như đã làm trong suốt khóa học."
   ]
  },
  {
   "cell_type": "markdown",
   "metadata": {
    "id": "Qd51dUAnDxDU"
   },
   "source": [
    "### MinMaxScaling\n",
    "\n",
    "MinMaxScaler từ scikit-learn trừ min và chia lại tỷ lệ phạm vi giá trị, hiển thị các giá trị biến trong khoảng từ 0 đến 1."
   ]
  },
  {
   "cell_type": "code",
   "execution_count": 31,
   "metadata": {
    "id": "LBrFgtF_DItA"
   },
   "outputs": [],
   "source": [
    "## Yêu cầu 6\n",
    "# thiết lập MinMaxScaler\n",
    "scaler = MinMaxScaler()\n",
    "\n",
    "# khớp scaler với tập huấn luyện, nó sẽ học các tham số\n",
    "## VIẾT CODE Ở ĐÂY:\n",
    "scaler.fit(X_train)\n",
    "\n",
    "# biến đổi tập huấn luyện và tập kiểm tra\n",
    "## VIẾT CODE Ở ĐÂY:\n",
    "X_train_scaled = scaler.transform(X_train)\n",
    "X_test_scaled = scaler.transform(X_test)"
   ]
  },
  {
   "cell_type": "markdown",
   "metadata": {
    "id": "4gxCYo4cMW64"
   },
   "source": [
    "<details><summary> Gợi ý </summary>\n",
    "\n",
    "[MinMaxScaler()](https://scikit-learn.org/stable/modules/generated/sklearn.preprocessing.MinMaxScaler.html)\n",
    "\n",
    "</details>"
   ]
  },
  {
   "cell_type": "code",
   "execution_count": 32,
   "metadata": {
    "id": "JGo35u3bDIvI"
   },
   "outputs": [
    {
     "data": {
      "text/plain": [
       "array([ 88.9762, 100.    ,  27.74  ,   1.    ,   0.871 ,   8.78  ,\n",
       "       100.    ,  12.1265,  24.    , 711.    ,  22.    , 396.9   ,\n",
       "        36.98  ])"
      ]
     },
     "execution_count": 32,
     "metadata": {},
     "output_type": "execute_result"
    }
   ],
   "source": [
    "# scaler lưu trữ max của các đặc trưng đã học từ tập huấn luyện\n",
    "scaler.data_max_"
   ]
  },
  {
   "cell_type": "code",
   "execution_count": 33,
   "metadata": {
    "id": "b4TSr4YrDGgy"
   },
   "outputs": [
    {
     "data": {
      "text/plain": [
       "array([-7.10352762e-05,  0.00000000e+00, -1.68621701e-02,  0.00000000e+00,\n",
       "       -7.92181070e-01, -6.82314620e-01, -2.98661174e-02, -1.07210358e-01,\n",
       "       -4.34782609e-02, -3.56870229e-01, -1.34042553e+00, -8.06898986e-04,\n",
       "       -4.90780142e-02])"
      ]
     },
     "execution_count": 33,
     "metadata": {},
     "output_type": "execute_result"
    }
   ],
   "source": [
    "# scaler lưu trữ min của các đặc trưng đã học từ tập huấn luyện\n",
    "scaler.min_"
   ]
  },
  {
   "cell_type": "code",
   "execution_count": 34,
   "metadata": {
    "id": "XQNt3bu5FCUD"
   },
   "outputs": [
    {
     "data": {
      "text/plain": [
       "array([8.896988e+01, 1.000000e+02, 2.728000e+01, 1.000000e+00,\n",
       "       4.860000e-01, 5.219000e+00, 9.710000e+01, 1.095230e+01,\n",
       "       2.300000e+01, 5.240000e+02, 9.400000e+00, 3.965800e+02,\n",
       "       3.525000e+01])"
      ]
     },
     "execution_count": 34,
     "metadata": {},
     "output_type": "execute_result"
    }
   ],
   "source": [
    "# scaler cũng lưu trữ phạm vi giá trị (max - min)\n",
    "\n",
    "scaler.data_range_"
   ]
  },
  {
   "cell_type": "code",
   "execution_count": 35,
   "metadata": {
    "id": "B9M80lAlFCWn"
   },
   "outputs": [],
   "source": [
    "# biến đổi các mảng NumPy đã trả về vào các dataframe cho phần còn lại của\n",
    "# bản mô phỏng\n",
    "\n",
    "X_train_scaled = pd.DataFrame(X_train_scaled, columns=X_train.columns)\n",
    "X_test_scaled = pd.DataFrame(X_test_scaled, columns=X_test.columns)"
   ]
  },
  {
   "cell_type": "code",
   "execution_count": 36,
   "metadata": {
    "id": "3HRKbynoFCYz"
   },
   "outputs": [
    {
     "data": {
      "text/html": [
       "<div>\n",
       "<style scoped>\n",
       "    .dataframe tbody tr th:only-of-type {\n",
       "        vertical-align: middle;\n",
       "    }\n",
       "\n",
       "    .dataframe tbody tr th {\n",
       "        vertical-align: top;\n",
       "    }\n",
       "\n",
       "    .dataframe thead th {\n",
       "        text-align: right;\n",
       "    }\n",
       "</style>\n",
       "<table border=\"1\" class=\"dataframe\">\n",
       "  <thead>\n",
       "    <tr style=\"text-align: right;\">\n",
       "      <th></th>\n",
       "      <th>CRIM</th>\n",
       "      <th>ZN</th>\n",
       "      <th>INDUS</th>\n",
       "      <th>CHAS</th>\n",
       "      <th>NOX</th>\n",
       "      <th>RM</th>\n",
       "      <th>AGE</th>\n",
       "      <th>DIS</th>\n",
       "      <th>RAD</th>\n",
       "      <th>TAX</th>\n",
       "      <th>PTRATIO</th>\n",
       "      <th>B</th>\n",
       "      <th>LSTAT</th>\n",
       "    </tr>\n",
       "  </thead>\n",
       "  <tbody>\n",
       "    <tr>\n",
       "      <th>count</th>\n",
       "      <td>354.0</td>\n",
       "      <td>354.0</td>\n",
       "      <td>354.0</td>\n",
       "      <td>354.0</td>\n",
       "      <td>354.0</td>\n",
       "      <td>354.0</td>\n",
       "      <td>354.0</td>\n",
       "      <td>354.0</td>\n",
       "      <td>354.0</td>\n",
       "      <td>354.0</td>\n",
       "      <td>354.0</td>\n",
       "      <td>354.0</td>\n",
       "      <td>354.0</td>\n",
       "    </tr>\n",
       "    <tr>\n",
       "      <th>mean</th>\n",
       "      <td>3.4</td>\n",
       "      <td>11.8</td>\n",
       "      <td>11.1</td>\n",
       "      <td>0.1</td>\n",
       "      <td>0.6</td>\n",
       "      <td>6.3</td>\n",
       "      <td>69.0</td>\n",
       "      <td>3.8</td>\n",
       "      <td>9.4</td>\n",
       "      <td>401.8</td>\n",
       "      <td>18.5</td>\n",
       "      <td>360.6</td>\n",
       "      <td>12.4</td>\n",
       "    </tr>\n",
       "    <tr>\n",
       "      <th>std</th>\n",
       "      <td>8.4</td>\n",
       "      <td>23.7</td>\n",
       "      <td>7.0</td>\n",
       "      <td>0.2</td>\n",
       "      <td>0.1</td>\n",
       "      <td>0.7</td>\n",
       "      <td>28.0</td>\n",
       "      <td>2.1</td>\n",
       "      <td>8.7</td>\n",
       "      <td>170.6</td>\n",
       "      <td>2.2</td>\n",
       "      <td>85.6</td>\n",
       "      <td>7.1</td>\n",
       "    </tr>\n",
       "    <tr>\n",
       "      <th>min</th>\n",
       "      <td>0.0</td>\n",
       "      <td>0.0</td>\n",
       "      <td>0.5</td>\n",
       "      <td>0.0</td>\n",
       "      <td>0.4</td>\n",
       "      <td>3.6</td>\n",
       "      <td>2.9</td>\n",
       "      <td>1.2</td>\n",
       "      <td>1.0</td>\n",
       "      <td>187.0</td>\n",
       "      <td>12.6</td>\n",
       "      <td>0.3</td>\n",
       "      <td>1.7</td>\n",
       "    </tr>\n",
       "    <tr>\n",
       "      <th>25%</th>\n",
       "      <td>0.1</td>\n",
       "      <td>0.0</td>\n",
       "      <td>5.0</td>\n",
       "      <td>0.0</td>\n",
       "      <td>0.4</td>\n",
       "      <td>5.9</td>\n",
       "      <td>45.2</td>\n",
       "      <td>2.1</td>\n",
       "      <td>4.0</td>\n",
       "      <td>276.0</td>\n",
       "      <td>17.4</td>\n",
       "      <td>376.1</td>\n",
       "      <td>6.7</td>\n",
       "    </tr>\n",
       "    <tr>\n",
       "      <th>50%</th>\n",
       "      <td>0.3</td>\n",
       "      <td>0.0</td>\n",
       "      <td>8.6</td>\n",
       "      <td>0.0</td>\n",
       "      <td>0.5</td>\n",
       "      <td>6.2</td>\n",
       "      <td>79.4</td>\n",
       "      <td>3.2</td>\n",
       "      <td>5.0</td>\n",
       "      <td>311.0</td>\n",
       "      <td>19.1</td>\n",
       "      <td>391.6</td>\n",
       "      <td>11.2</td>\n",
       "    </tr>\n",
       "    <tr>\n",
       "      <th>75%</th>\n",
       "      <td>3.1</td>\n",
       "      <td>20.0</td>\n",
       "      <td>18.1</td>\n",
       "      <td>0.0</td>\n",
       "      <td>0.6</td>\n",
       "      <td>6.6</td>\n",
       "      <td>93.8</td>\n",
       "      <td>5.1</td>\n",
       "      <td>24.0</td>\n",
       "      <td>666.0</td>\n",
       "      <td>20.2</td>\n",
       "      <td>395.7</td>\n",
       "      <td>16.7</td>\n",
       "    </tr>\n",
       "    <tr>\n",
       "      <th>max</th>\n",
       "      <td>89.0</td>\n",
       "      <td>100.0</td>\n",
       "      <td>27.7</td>\n",
       "      <td>1.0</td>\n",
       "      <td>0.9</td>\n",
       "      <td>8.8</td>\n",
       "      <td>100.0</td>\n",
       "      <td>12.1</td>\n",
       "      <td>24.0</td>\n",
       "      <td>711.0</td>\n",
       "      <td>22.0</td>\n",
       "      <td>396.9</td>\n",
       "      <td>37.0</td>\n",
       "    </tr>\n",
       "  </tbody>\n",
       "</table>\n",
       "</div>"
      ],
      "text/plain": [
       "        CRIM     ZN  INDUS   CHAS    NOX     RM    AGE    DIS    RAD    TAX  \\\n",
       "count  354.0  354.0  354.0  354.0  354.0  354.0  354.0  354.0  354.0  354.0   \n",
       "mean     3.4   11.8   11.1    0.1    0.6    6.3   69.0    3.8    9.4  401.8   \n",
       "std      8.4   23.7    7.0    0.2    0.1    0.7   28.0    2.1    8.7  170.6   \n",
       "min      0.0    0.0    0.5    0.0    0.4    3.6    2.9    1.2    1.0  187.0   \n",
       "25%      0.1    0.0    5.0    0.0    0.4    5.9   45.2    2.1    4.0  276.0   \n",
       "50%      0.3    0.0    8.6    0.0    0.5    6.2   79.4    3.2    5.0  311.0   \n",
       "75%      3.1   20.0   18.1    0.0    0.6    6.6   93.8    5.1   24.0  666.0   \n",
       "max     89.0  100.0   27.7    1.0    0.9    8.8  100.0   12.1   24.0  711.0   \n",
       "\n",
       "       PTRATIO      B  LSTAT  \n",
       "count    354.0  354.0  354.0  \n",
       "mean      18.5  360.6   12.4  \n",
       "std        2.2   85.6    7.1  \n",
       "min       12.6    0.3    1.7  \n",
       "25%       17.4  376.1    6.7  \n",
       "50%       19.1  391.6   11.2  \n",
       "75%       20.2  395.7   16.7  \n",
       "max       22.0  396.9   37.0  "
      ]
     },
     "execution_count": 36,
     "metadata": {},
     "output_type": "execute_result"
    }
   ],
   "source": [
    "# hãy xem tập dữ liệu huấn luyện ban đầu: các giá trị min, max\n",
    "# sử dụng np.round để giảm số lượng số thập phân xuống còn 1\n",
    "\n",
    "np.round(X_train.describe(), 1)"
   ]
  },
  {
   "cell_type": "code",
   "execution_count": 37,
   "metadata": {
    "id": "KoRvINEYFE6a"
   },
   "outputs": [
    {
     "data": {
      "text/html": [
       "<div>\n",
       "<style scoped>\n",
       "    .dataframe tbody tr th:only-of-type {\n",
       "        vertical-align: middle;\n",
       "    }\n",
       "\n",
       "    .dataframe tbody tr th {\n",
       "        vertical-align: top;\n",
       "    }\n",
       "\n",
       "    .dataframe thead th {\n",
       "        text-align: right;\n",
       "    }\n",
       "</style>\n",
       "<table border=\"1\" class=\"dataframe\">\n",
       "  <thead>\n",
       "    <tr style=\"text-align: right;\">\n",
       "      <th></th>\n",
       "      <th>CRIM</th>\n",
       "      <th>ZN</th>\n",
       "      <th>INDUS</th>\n",
       "      <th>CHAS</th>\n",
       "      <th>NOX</th>\n",
       "      <th>RM</th>\n",
       "      <th>AGE</th>\n",
       "      <th>DIS</th>\n",
       "      <th>RAD</th>\n",
       "      <th>TAX</th>\n",
       "      <th>PTRATIO</th>\n",
       "      <th>B</th>\n",
       "      <th>LSTAT</th>\n",
       "    </tr>\n",
       "  </thead>\n",
       "  <tbody>\n",
       "    <tr>\n",
       "      <th>count</th>\n",
       "      <td>354.0</td>\n",
       "      <td>354.0</td>\n",
       "      <td>354.0</td>\n",
       "      <td>354.0</td>\n",
       "      <td>354.0</td>\n",
       "      <td>354.0</td>\n",
       "      <td>354.0</td>\n",
       "      <td>354.0</td>\n",
       "      <td>354.0</td>\n",
       "      <td>354.0</td>\n",
       "      <td>354.0</td>\n",
       "      <td>354.0</td>\n",
       "      <td>354.0</td>\n",
       "    </tr>\n",
       "    <tr>\n",
       "      <th>mean</th>\n",
       "      <td>0.0</td>\n",
       "      <td>0.1</td>\n",
       "      <td>0.4</td>\n",
       "      <td>0.1</td>\n",
       "      <td>0.4</td>\n",
       "      <td>0.5</td>\n",
       "      <td>0.7</td>\n",
       "      <td>0.2</td>\n",
       "      <td>0.4</td>\n",
       "      <td>0.4</td>\n",
       "      <td>0.6</td>\n",
       "      <td>0.9</td>\n",
       "      <td>0.3</td>\n",
       "    </tr>\n",
       "    <tr>\n",
       "      <th>std</th>\n",
       "      <td>0.1</td>\n",
       "      <td>0.2</td>\n",
       "      <td>0.3</td>\n",
       "      <td>0.2</td>\n",
       "      <td>0.2</td>\n",
       "      <td>0.1</td>\n",
       "      <td>0.3</td>\n",
       "      <td>0.2</td>\n",
       "      <td>0.4</td>\n",
       "      <td>0.3</td>\n",
       "      <td>0.2</td>\n",
       "      <td>0.2</td>\n",
       "      <td>0.2</td>\n",
       "    </tr>\n",
       "    <tr>\n",
       "      <th>min</th>\n",
       "      <td>0.0</td>\n",
       "      <td>0.0</td>\n",
       "      <td>0.0</td>\n",
       "      <td>0.0</td>\n",
       "      <td>0.0</td>\n",
       "      <td>0.0</td>\n",
       "      <td>0.0</td>\n",
       "      <td>0.0</td>\n",
       "      <td>0.0</td>\n",
       "      <td>0.0</td>\n",
       "      <td>0.0</td>\n",
       "      <td>0.0</td>\n",
       "      <td>0.0</td>\n",
       "    </tr>\n",
       "    <tr>\n",
       "      <th>25%</th>\n",
       "      <td>0.0</td>\n",
       "      <td>0.0</td>\n",
       "      <td>0.2</td>\n",
       "      <td>0.0</td>\n",
       "      <td>0.1</td>\n",
       "      <td>0.4</td>\n",
       "      <td>0.4</td>\n",
       "      <td>0.1</td>\n",
       "      <td>0.1</td>\n",
       "      <td>0.2</td>\n",
       "      <td>0.5</td>\n",
       "      <td>0.9</td>\n",
       "      <td>0.1</td>\n",
       "    </tr>\n",
       "    <tr>\n",
       "      <th>50%</th>\n",
       "      <td>0.0</td>\n",
       "      <td>0.0</td>\n",
       "      <td>0.3</td>\n",
       "      <td>0.0</td>\n",
       "      <td>0.3</td>\n",
       "      <td>0.5</td>\n",
       "      <td>0.8</td>\n",
       "      <td>0.2</td>\n",
       "      <td>0.2</td>\n",
       "      <td>0.2</td>\n",
       "      <td>0.7</td>\n",
       "      <td>1.0</td>\n",
       "      <td>0.3</td>\n",
       "    </tr>\n",
       "    <tr>\n",
       "      <th>75%</th>\n",
       "      <td>0.0</td>\n",
       "      <td>0.2</td>\n",
       "      <td>0.6</td>\n",
       "      <td>0.0</td>\n",
       "      <td>0.5</td>\n",
       "      <td>0.6</td>\n",
       "      <td>0.9</td>\n",
       "      <td>0.4</td>\n",
       "      <td>1.0</td>\n",
       "      <td>0.9</td>\n",
       "      <td>0.8</td>\n",
       "      <td>1.0</td>\n",
       "      <td>0.4</td>\n",
       "    </tr>\n",
       "    <tr>\n",
       "      <th>max</th>\n",
       "      <td>1.0</td>\n",
       "      <td>1.0</td>\n",
       "      <td>1.0</td>\n",
       "      <td>1.0</td>\n",
       "      <td>1.0</td>\n",
       "      <td>1.0</td>\n",
       "      <td>1.0</td>\n",
       "      <td>1.0</td>\n",
       "      <td>1.0</td>\n",
       "      <td>1.0</td>\n",
       "      <td>1.0</td>\n",
       "      <td>1.0</td>\n",
       "      <td>1.0</td>\n",
       "    </tr>\n",
       "  </tbody>\n",
       "</table>\n",
       "</div>"
      ],
      "text/plain": [
       "        CRIM     ZN  INDUS   CHAS    NOX     RM    AGE    DIS    RAD    TAX  \\\n",
       "count  354.0  354.0  354.0  354.0  354.0  354.0  354.0  354.0  354.0  354.0   \n",
       "mean     0.0    0.1    0.4    0.1    0.4    0.5    0.7    0.2    0.4    0.4   \n",
       "std      0.1    0.2    0.3    0.2    0.2    0.1    0.3    0.2    0.4    0.3   \n",
       "min      0.0    0.0    0.0    0.0    0.0    0.0    0.0    0.0    0.0    0.0   \n",
       "25%      0.0    0.0    0.2    0.0    0.1    0.4    0.4    0.1    0.1    0.2   \n",
       "50%      0.0    0.0    0.3    0.0    0.3    0.5    0.8    0.2    0.2    0.2   \n",
       "75%      0.0    0.2    0.6    0.0    0.5    0.6    0.9    0.4    1.0    0.9   \n",
       "max      1.0    1.0    1.0    1.0    1.0    1.0    1.0    1.0    1.0    1.0   \n",
       "\n",
       "       PTRATIO      B  LSTAT  \n",
       "count    354.0  354.0  354.0  \n",
       "mean       0.6    0.9    0.3  \n",
       "std        0.2    0.2    0.2  \n",
       "min        0.0    0.0    0.0  \n",
       "25%        0.5    0.9    0.1  \n",
       "50%        0.7    1.0    0.3  \n",
       "75%        0.8    1.0    0.4  \n",
       "max        1.0    1.0    1.0  "
      ]
     },
     "execution_count": 37,
     "metadata": {},
     "output_type": "execute_result"
    }
   ],
   "source": [
    "# hãy xem tập dữ liệu huấn luyện đã co giãn: các giá trị min, max\n",
    "# sử dụng np.round để giảm số lượng số thập phân xuống còn 1\n",
    "\n",
    "np.round(X_train_scaled.describe(), 1)"
   ]
  },
  {
   "cell_type": "markdown",
   "metadata": {
    "id": "LWQE6N0OFIiN"
   },
   "source": [
    "Như dự tính, min và max cho tất cả các biến tương ứng là 0 và 1. Giá trị trung bình không được căn giữa ở 0 và phương sai thay đổi."
   ]
  },
  {
   "cell_type": "code",
   "execution_count": 38,
   "metadata": {
    "id": "TjJvHghOFE8x"
   },
   "outputs": [
    {
     "data": {
      "image/png": "[encoded data removed]",
      "text/plain": [
       "<Figure size 864x360 with 2 Axes>"
      ]
     },
     "metadata": {
      "needs_background": "light"
     },
     "output_type": "display_data"
    }
   ],
   "source": [
    "# so sánh phân phối của biến trước và sau khi co giãn\n",
    "\n",
    "fig, (ax1, ax2) = plt.subplots(ncols=2, figsize=(12, 5))\n",
    "\n",
    "# trước khi co giãn\n",
    "ax1.set_title('Before Scaling')\n",
    "sns.kdeplot(X_train['RM'], ax=ax1)\n",
    "sns.kdeplot(X_train['LSTAT'], ax=ax1)\n",
    "sns.kdeplot(X_train['CRIM'], ax=ax1)\n",
    "\n",
    "# sau khi co giãn\n",
    "ax2.set_title('After Min-Max Scaling')\n",
    "sns.kdeplot(X_train_scaled['RM'], ax=ax2)\n",
    "sns.kdeplot(X_train_scaled['LSTAT'], ax=ax2)\n",
    "sns.kdeplot(X_train_scaled['CRIM'], ax=ax2)\n",
    "plt.show()"
   ]
  },
  {
   "cell_type": "markdown",
   "metadata": {
    "id": "ruWQHjLDFNJM"
   },
   "source": [
    "Các giá trị hiện bị giới hạn ở 1 nhưng các phân phối vẫn không căn căn giữa."
   ]
  },
  {
   "cell_type": "code",
   "execution_count": 39,
   "metadata": {
    "id": "vrWUrt0aFE_M"
   },
   "outputs": [
    {
     "data": {
      "image/png": "[encoded data removed]",
      "text/plain": [
       "<Figure size 864x360 with 2 Axes>"
      ]
     },
     "metadata": {
      "needs_background": "light"
     },
     "output_type": "display_data"
    }
   ],
   "source": [
    "# so sánh phân phối của biến trước và sau khi co giãn\n",
    "\n",
    "fig, (ax1, ax2) = plt.subplots(ncols=2, figsize=(12, 5))\n",
    "\n",
    "# trước khi co giãn\n",
    "ax1.set_title('Before Scaling')\n",
    "sns.kdeplot(X_train['AGE'], ax=ax1)\n",
    "sns.kdeplot(X_train['DIS'], ax=ax1)\n",
    "sns.kdeplot(X_train['NOX'], ax=ax1)\n",
    "\n",
    "# sau khi co giãn\n",
    "ax2.set_title('After Min-Max Scaling')\n",
    "sns.kdeplot(X_train_scaled['AGE'], ax=ax2)\n",
    "sns.kdeplot(X_train_scaled['DIS'], ax=ax2)\n",
    "sns.kdeplot(X_train_scaled['NOX'], ax=ax2)\n",
    "plt.show()"
   ]
  },
  {
   "cell_type": "markdown",
   "metadata": {
    "id": "gu0pDg-lFQiF"
   },
   "source": [
    "So sánh MaxAbsScaling và MinMaxScaling để xem khác biệt trong các phân phối trả về."
   ]
  },
  {
   "cell_type": "markdown",
   "metadata": {
    "id": "jyXkJ5NxFTI6"
   },
   "source": [
    "Ở phần này, chúng ta sẽ bàn về **Co giãn giá trị tuyệt đối lớn nhất**.\n",
    "\n",
    "=================================================================\n",
    "\n",
    "## Co giãn giá trị tuyệt đối lớn nhất - MaxAbsScaling\n",
    "\n",
    "MaxAbsScaling co giãn dữ liệu thành giá trị tuyệt đối lớn nhất.\n",
    "\n",
    "X_scaled = X / abs(X.max)\n",
    "\n",
    "Kết quả của phép biến đổi trên là phân phối có các giá trị thay đổi trong khoảng từ -1 đến 1, nhưng giá trị trung bình không căn giữa ở 0 và độ lệch chuẩn thay đổi trên các biến.\n",
    "\n",
    "Scikit-learn gợi ý sử dụng transformer có ý nghĩa với dữ liệu, với các dữ liệu thưa thớt và căn giữa ở 0.\n",
    " \n",
    "\n",
    "Tóm lại, MaxAbsScaling:\n",
    "\n",
    "- Không căn giữa ở 0 (nhưng có thể với một phương pháp khác)\n",
    "- phương sai thay đổi trên các biến\n",
    "- không giữ hình dạng của phân phối ban đầu\n",
    "- nhạy với outlier\n",
    "\n",
    "\n",
    "## Trong bản mô phỏng này\n",
    "\n",
    "Chúng ta sẽ thực hiện co giãn về giá trị tuyệt đối lớn nhất sử dụng tập dữ liệu giá nhà ở boston với Scikit-learn."
   ]
  },
  {
   "cell_type": "markdown",
   "metadata": {
    "id": "mXQKQ1JpG6hk"
   },
   "source": [
    "Khi thực hiện co giãn giá trị tuyệt đối lớn nhất tập dữ liệu, trước tiên chúng ta cần xác định các giá trị lớn nhất của các biến. Các tham số này cần được học từ tập huấn luyện, lưu trữ rồi sử dụng để kiểm tra quy mô và dữ liệu trong tương lai. Vậy trước tiên, chúng ta sẽ chia dữ liệu thành tập huấn luyện và tập kiểm tra như đã thực hiện trong suốt khóa học."
   ]
  },
  {
   "cell_type": "markdown",
   "metadata": {
    "id": "Alr3-FjMFhIp"
   },
   "source": [
    "### MaxAbsScaling\n",
    "\n",
    "MaxAbsScaler từ scikit-learn co giãn lại các đặc trưng tới max mới là 1."
   ]
  },
  {
   "cell_type": "code",
   "execution_count": 40,
   "metadata": {
    "id": "pTs-65S1FFBx"
   },
   "outputs": [],
   "source": [
    "# thiết lập scaler\n",
    "scaler = MaxAbsScaler()\n",
    "\n",
    "# khớp scaler với tập huấn luyện, nó sẽ học các tham số\n",
    "scaler.fit(X_train)\n",
    "\n",
    "# biến đổi tập huấn luyện và tập kiểm tra\n",
    "X_train_scaled = scaler.transform(X_train)\n",
    "X_test_scaled = scaler.transform(X_test)"
   ]
  },
  {
   "cell_type": "code",
   "execution_count": 41,
   "metadata": {
    "id": "iXeDVPovFj01"
   },
   "outputs": [
    {
     "data": {
      "text/plain": [
       "array([ 88.9762, 100.    ,  27.74  ,   1.    ,   0.871 ,   8.78  ,\n",
       "       100.    ,  12.1265,  24.    , 711.    ,  22.    , 396.9   ,\n",
       "        36.98  ])"
      ]
     },
     "execution_count": 41,
     "metadata": {},
     "output_type": "execute_result"
    }
   ],
   "source": [
    "# scaler lưu trữ max của các đặc trưng đã học từ tập huấn luyện\n",
    "scaler.max_abs_"
   ]
  },
  {
   "cell_type": "code",
   "execution_count": 42,
   "metadata": {
    "id": "8Bn_f1_8Fj3E"
   },
   "outputs": [],
   "source": [
    "# biến đổi các mảng NumPy đã trả về vào các dataframe cho phần còn lại của\n",
    "# bản mô phỏng\n",
    "\n",
    "X_train_scaled = pd.DataFrame(X_train_scaled, columns=X_train.columns)\n",
    "X_test_scaled = pd.DataFrame(X_test_scaled, columns=X_test.columns)"
   ]
  },
  {
   "cell_type": "code",
   "execution_count": 43,
   "metadata": {
    "id": "qCUAldiEFj5I"
   },
   "outputs": [
    {
     "data": {
      "text/html": [
       "<div>\n",
       "<style scoped>\n",
       "    .dataframe tbody tr th:only-of-type {\n",
       "        vertical-align: middle;\n",
       "    }\n",
       "\n",
       "    .dataframe tbody tr th {\n",
       "        vertical-align: top;\n",
       "    }\n",
       "\n",
       "    .dataframe thead th {\n",
       "        text-align: right;\n",
       "    }\n",
       "</style>\n",
       "<table border=\"1\" class=\"dataframe\">\n",
       "  <thead>\n",
       "    <tr style=\"text-align: right;\">\n",
       "      <th></th>\n",
       "      <th>CRIM</th>\n",
       "      <th>ZN</th>\n",
       "      <th>INDUS</th>\n",
       "      <th>CHAS</th>\n",
       "      <th>NOX</th>\n",
       "      <th>RM</th>\n",
       "      <th>AGE</th>\n",
       "      <th>DIS</th>\n",
       "      <th>RAD</th>\n",
       "      <th>TAX</th>\n",
       "      <th>PTRATIO</th>\n",
       "      <th>B</th>\n",
       "      <th>LSTAT</th>\n",
       "    </tr>\n",
       "  </thead>\n",
       "  <tbody>\n",
       "    <tr>\n",
       "      <th>count</th>\n",
       "      <td>354.0</td>\n",
       "      <td>354.0</td>\n",
       "      <td>354.0</td>\n",
       "      <td>354.0</td>\n",
       "      <td>354.0</td>\n",
       "      <td>354.0</td>\n",
       "      <td>354.0</td>\n",
       "      <td>354.0</td>\n",
       "      <td>354.0</td>\n",
       "      <td>354.0</td>\n",
       "      <td>354.0</td>\n",
       "      <td>354.0</td>\n",
       "      <td>354.0</td>\n",
       "    </tr>\n",
       "    <tr>\n",
       "      <th>mean</th>\n",
       "      <td>3.4</td>\n",
       "      <td>11.8</td>\n",
       "      <td>11.1</td>\n",
       "      <td>0.1</td>\n",
       "      <td>0.6</td>\n",
       "      <td>6.3</td>\n",
       "      <td>69.0</td>\n",
       "      <td>3.8</td>\n",
       "      <td>9.4</td>\n",
       "      <td>401.8</td>\n",
       "      <td>18.5</td>\n",
       "      <td>360.6</td>\n",
       "      <td>12.4</td>\n",
       "    </tr>\n",
       "    <tr>\n",
       "      <th>std</th>\n",
       "      <td>8.4</td>\n",
       "      <td>23.7</td>\n",
       "      <td>7.0</td>\n",
       "      <td>0.2</td>\n",
       "      <td>0.1</td>\n",
       "      <td>0.7</td>\n",
       "      <td>28.0</td>\n",
       "      <td>2.1</td>\n",
       "      <td>8.7</td>\n",
       "      <td>170.6</td>\n",
       "      <td>2.2</td>\n",
       "      <td>85.6</td>\n",
       "      <td>7.1</td>\n",
       "    </tr>\n",
       "    <tr>\n",
       "      <th>min</th>\n",
       "      <td>0.0</td>\n",
       "      <td>0.0</td>\n",
       "      <td>0.5</td>\n",
       "      <td>0.0</td>\n",
       "      <td>0.4</td>\n",
       "      <td>3.6</td>\n",
       "      <td>2.9</td>\n",
       "      <td>1.2</td>\n",
       "      <td>1.0</td>\n",
       "      <td>187.0</td>\n",
       "      <td>12.6</td>\n",
       "      <td>0.3</td>\n",
       "      <td>1.7</td>\n",
       "    </tr>\n",
       "    <tr>\n",
       "      <th>25%</th>\n",
       "      <td>0.1</td>\n",
       "      <td>0.0</td>\n",
       "      <td>5.0</td>\n",
       "      <td>0.0</td>\n",
       "      <td>0.4</td>\n",
       "      <td>5.9</td>\n",
       "      <td>45.2</td>\n",
       "      <td>2.1</td>\n",
       "      <td>4.0</td>\n",
       "      <td>276.0</td>\n",
       "      <td>17.4</td>\n",
       "      <td>376.1</td>\n",
       "      <td>6.7</td>\n",
       "    </tr>\n",
       "    <tr>\n",
       "      <th>50%</th>\n",
       "      <td>0.3</td>\n",
       "      <td>0.0</td>\n",
       "      <td>8.6</td>\n",
       "      <td>0.0</td>\n",
       "      <td>0.5</td>\n",
       "      <td>6.2</td>\n",
       "      <td>79.4</td>\n",
       "      <td>3.2</td>\n",
       "      <td>5.0</td>\n",
       "      <td>311.0</td>\n",
       "      <td>19.1</td>\n",
       "      <td>391.6</td>\n",
       "      <td>11.2</td>\n",
       "    </tr>\n",
       "    <tr>\n",
       "      <th>75%</th>\n",
       "      <td>3.1</td>\n",
       "      <td>20.0</td>\n",
       "      <td>18.1</td>\n",
       "      <td>0.0</td>\n",
       "      <td>0.6</td>\n",
       "      <td>6.6</td>\n",
       "      <td>93.8</td>\n",
       "      <td>5.1</td>\n",
       "      <td>24.0</td>\n",
       "      <td>666.0</td>\n",
       "      <td>20.2</td>\n",
       "      <td>395.7</td>\n",
       "      <td>16.7</td>\n",
       "    </tr>\n",
       "    <tr>\n",
       "      <th>max</th>\n",
       "      <td>89.0</td>\n",
       "      <td>100.0</td>\n",
       "      <td>27.7</td>\n",
       "      <td>1.0</td>\n",
       "      <td>0.9</td>\n",
       "      <td>8.8</td>\n",
       "      <td>100.0</td>\n",
       "      <td>12.1</td>\n",
       "      <td>24.0</td>\n",
       "      <td>711.0</td>\n",
       "      <td>22.0</td>\n",
       "      <td>396.9</td>\n",
       "      <td>37.0</td>\n",
       "    </tr>\n",
       "  </tbody>\n",
       "</table>\n",
       "</div>"
      ],
      "text/plain": [
       "        CRIM     ZN  INDUS   CHAS    NOX     RM    AGE    DIS    RAD    TAX  \\\n",
       "count  354.0  354.0  354.0  354.0  354.0  354.0  354.0  354.0  354.0  354.0   \n",
       "mean     3.4   11.8   11.1    0.1    0.6    6.3   69.0    3.8    9.4  401.8   \n",
       "std      8.4   23.7    7.0    0.2    0.1    0.7   28.0    2.1    8.7  170.6   \n",
       "min      0.0    0.0    0.5    0.0    0.4    3.6    2.9    1.2    1.0  187.0   \n",
       "25%      0.1    0.0    5.0    0.0    0.4    5.9   45.2    2.1    4.0  276.0   \n",
       "50%      0.3    0.0    8.6    0.0    0.5    6.2   79.4    3.2    5.0  311.0   \n",
       "75%      3.1   20.0   18.1    0.0    0.6    6.6   93.8    5.1   24.0  666.0   \n",
       "max     89.0  100.0   27.7    1.0    0.9    8.8  100.0   12.1   24.0  711.0   \n",
       "\n",
       "       PTRATIO      B  LSTAT  \n",
       "count    354.0  354.0  354.0  \n",
       "mean      18.5  360.6   12.4  \n",
       "std        2.2   85.6    7.1  \n",
       "min       12.6    0.3    1.7  \n",
       "25%       17.4  376.1    6.7  \n",
       "50%       19.1  391.6   11.2  \n",
       "75%       20.2  395.7   16.7  \n",
       "max       22.0  396.9   37.0  "
      ]
     },
     "execution_count": 43,
     "metadata": {},
     "output_type": "execute_result"
    }
   ],
   "source": [
    "# hãy xem tập dữ liệu huấn luyện ban đầu: các giá trị tối đa\n",
    "# sử dụng np.round để giảm số lượng số thập phân xuống còn 1\n",
    "\n",
    "np.round(X_train.describe(), 1)"
   ]
  },
  {
   "cell_type": "code",
   "execution_count": 44,
   "metadata": {
    "id": "6HLIaGUAFpR_"
   },
   "outputs": [
    {
     "data": {
      "text/html": [
       "<div>\n",
       "<style scoped>\n",
       "    .dataframe tbody tr th:only-of-type {\n",
       "        vertical-align: middle;\n",
       "    }\n",
       "\n",
       "    .dataframe tbody tr th {\n",
       "        vertical-align: top;\n",
       "    }\n",
       "\n",
       "    .dataframe thead th {\n",
       "        text-align: right;\n",
       "    }\n",
       "</style>\n",
       "<table border=\"1\" class=\"dataframe\">\n",
       "  <thead>\n",
       "    <tr style=\"text-align: right;\">\n",
       "      <th></th>\n",
       "      <th>CRIM</th>\n",
       "      <th>ZN</th>\n",
       "      <th>INDUS</th>\n",
       "      <th>CHAS</th>\n",
       "      <th>NOX</th>\n",
       "      <th>RM</th>\n",
       "      <th>AGE</th>\n",
       "      <th>DIS</th>\n",
       "      <th>RAD</th>\n",
       "      <th>TAX</th>\n",
       "      <th>PTRATIO</th>\n",
       "      <th>B</th>\n",
       "      <th>LSTAT</th>\n",
       "    </tr>\n",
       "  </thead>\n",
       "  <tbody>\n",
       "    <tr>\n",
       "      <th>count</th>\n",
       "      <td>354.0</td>\n",
       "      <td>354.0</td>\n",
       "      <td>354.0</td>\n",
       "      <td>354.0</td>\n",
       "      <td>354.0</td>\n",
       "      <td>354.0</td>\n",
       "      <td>354.0</td>\n",
       "      <td>354.0</td>\n",
       "      <td>354.0</td>\n",
       "      <td>354.0</td>\n",
       "      <td>354.0</td>\n",
       "      <td>354.0</td>\n",
       "      <td>354.0</td>\n",
       "    </tr>\n",
       "    <tr>\n",
       "      <th>mean</th>\n",
       "      <td>0.0</td>\n",
       "      <td>0.1</td>\n",
       "      <td>0.4</td>\n",
       "      <td>0.1</td>\n",
       "      <td>0.6</td>\n",
       "      <td>0.7</td>\n",
       "      <td>0.7</td>\n",
       "      <td>0.3</td>\n",
       "      <td>0.4</td>\n",
       "      <td>0.6</td>\n",
       "      <td>0.8</td>\n",
       "      <td>0.9</td>\n",
       "      <td>0.3</td>\n",
       "    </tr>\n",
       "    <tr>\n",
       "      <th>std</th>\n",
       "      <td>0.1</td>\n",
       "      <td>0.2</td>\n",
       "      <td>0.3</td>\n",
       "      <td>0.2</td>\n",
       "      <td>0.1</td>\n",
       "      <td>0.1</td>\n",
       "      <td>0.3</td>\n",
       "      <td>0.2</td>\n",
       "      <td>0.4</td>\n",
       "      <td>0.2</td>\n",
       "      <td>0.1</td>\n",
       "      <td>0.2</td>\n",
       "      <td>0.2</td>\n",
       "    </tr>\n",
       "    <tr>\n",
       "      <th>min</th>\n",
       "      <td>0.0</td>\n",
       "      <td>0.0</td>\n",
       "      <td>0.0</td>\n",
       "      <td>0.0</td>\n",
       "      <td>0.4</td>\n",
       "      <td>0.4</td>\n",
       "      <td>0.0</td>\n",
       "      <td>0.1</td>\n",
       "      <td>0.0</td>\n",
       "      <td>0.3</td>\n",
       "      <td>0.6</td>\n",
       "      <td>0.0</td>\n",
       "      <td>0.0</td>\n",
       "    </tr>\n",
       "    <tr>\n",
       "      <th>25%</th>\n",
       "      <td>0.0</td>\n",
       "      <td>0.0</td>\n",
       "      <td>0.2</td>\n",
       "      <td>0.0</td>\n",
       "      <td>0.5</td>\n",
       "      <td>0.7</td>\n",
       "      <td>0.5</td>\n",
       "      <td>0.2</td>\n",
       "      <td>0.2</td>\n",
       "      <td>0.4</td>\n",
       "      <td>0.8</td>\n",
       "      <td>0.9</td>\n",
       "      <td>0.2</td>\n",
       "    </tr>\n",
       "    <tr>\n",
       "      <th>50%</th>\n",
       "      <td>0.0</td>\n",
       "      <td>0.0</td>\n",
       "      <td>0.3</td>\n",
       "      <td>0.0</td>\n",
       "      <td>0.6</td>\n",
       "      <td>0.7</td>\n",
       "      <td>0.8</td>\n",
       "      <td>0.3</td>\n",
       "      <td>0.2</td>\n",
       "      <td>0.4</td>\n",
       "      <td>0.9</td>\n",
       "      <td>1.0</td>\n",
       "      <td>0.3</td>\n",
       "    </tr>\n",
       "    <tr>\n",
       "      <th>75%</th>\n",
       "      <td>0.0</td>\n",
       "      <td>0.2</td>\n",
       "      <td>0.7</td>\n",
       "      <td>0.0</td>\n",
       "      <td>0.7</td>\n",
       "      <td>0.8</td>\n",
       "      <td>0.9</td>\n",
       "      <td>0.4</td>\n",
       "      <td>1.0</td>\n",
       "      <td>0.9</td>\n",
       "      <td>0.9</td>\n",
       "      <td>1.0</td>\n",
       "      <td>0.5</td>\n",
       "    </tr>\n",
       "    <tr>\n",
       "      <th>max</th>\n",
       "      <td>1.0</td>\n",
       "      <td>1.0</td>\n",
       "      <td>1.0</td>\n",
       "      <td>1.0</td>\n",
       "      <td>1.0</td>\n",
       "      <td>1.0</td>\n",
       "      <td>1.0</td>\n",
       "      <td>1.0</td>\n",
       "      <td>1.0</td>\n",
       "      <td>1.0</td>\n",
       "      <td>1.0</td>\n",
       "      <td>1.0</td>\n",
       "      <td>1.0</td>\n",
       "    </tr>\n",
       "  </tbody>\n",
       "</table>\n",
       "</div>"
      ],
      "text/plain": [
       "        CRIM     ZN  INDUS   CHAS    NOX     RM    AGE    DIS    RAD    TAX  \\\n",
       "count  354.0  354.0  354.0  354.0  354.0  354.0  354.0  354.0  354.0  354.0   \n",
       "mean     0.0    0.1    0.4    0.1    0.6    0.7    0.7    0.3    0.4    0.6   \n",
       "std      0.1    0.2    0.3    0.2    0.1    0.1    0.3    0.2    0.4    0.2   \n",
       "min      0.0    0.0    0.0    0.0    0.4    0.4    0.0    0.1    0.0    0.3   \n",
       "25%      0.0    0.0    0.2    0.0    0.5    0.7    0.5    0.2    0.2    0.4   \n",
       "50%      0.0    0.0    0.3    0.0    0.6    0.7    0.8    0.3    0.2    0.4   \n",
       "75%      0.0    0.2    0.7    0.0    0.7    0.8    0.9    0.4    1.0    0.9   \n",
       "max      1.0    1.0    1.0    1.0    1.0    1.0    1.0    1.0    1.0    1.0   \n",
       "\n",
       "       PTRATIO      B  LSTAT  \n",
       "count    354.0  354.0  354.0  \n",
       "mean       0.8    0.9    0.3  \n",
       "std        0.1    0.2    0.2  \n",
       "min        0.6    0.0    0.0  \n",
       "25%        0.8    0.9    0.2  \n",
       "50%        0.9    1.0    0.3  \n",
       "75%        0.9    1.0    0.5  \n",
       "max        1.0    1.0    1.0  "
      ]
     },
     "execution_count": 44,
     "metadata": {},
     "output_type": "execute_result"
    }
   ],
   "source": [
    "# hãy xem tập dữ liệu huấn luyện đã co giãn: các giá trị tối đa\n",
    "# sử dụng np.round để giảm số lượng số thập phân xuống còn 1\n",
    "\n",
    "np.round(X_train_scaled.describe(), 1)"
   ]
  },
  {
   "cell_type": "markdown",
   "metadata": {
    "id": "6KD0kzi2Fssa"
   },
   "source": [
    "Các giá trị tối đa được điều chỉnh lại thành 1. Các tham số khác thay đổi trên các biến."
   ]
  },
  {
   "cell_type": "code",
   "execution_count": 45,
   "metadata": {
    "id": "mcJzrcCVFpwn"
   },
   "outputs": [
    {
     "data": {
      "image/png": "[encoded data removed]",
      "text/plain": [
       "<Figure size 864x360 with 2 Axes>"
      ]
     },
     "metadata": {
      "needs_background": "light"
     },
     "output_type": "display_data"
    }
   ],
   "source": [
    "# so sánh phân phối của biến trước và sau khi co giãn\n",
    "\n",
    "fig, (ax1, ax2) = plt.subplots(ncols=2, figsize=(12, 5))\n",
    "\n",
    "# trước khi co giãn\n",
    "ax1.set_title('Before Scaling')\n",
    "sns.kdeplot(X_train['RM'], ax=ax1)\n",
    "sns.kdeplot(X_train['LSTAT'], ax=ax1)\n",
    "sns.kdeplot(X_train['CRIM'], ax=ax1)\n",
    "\n",
    "# sau khi co giãn\n",
    "ax2.set_title('After Max Abs Scaling')\n",
    "sns.kdeplot(X_train_scaled['RM'], ax=ax2)\n",
    "sns.kdeplot(X_train_scaled['LSTAT'], ax=ax2)\n",
    "sns.kdeplot(X_train_scaled['CRIM'], ax=ax2)\n",
    "plt.show()"
   ]
  },
  {
   "cell_type": "code",
   "execution_count": 46,
   "metadata": {
    "id": "8rTxQfXcFvg0"
   },
   "outputs": [
    {
     "data": {
      "image/png": "[encoded data removed]",
      "text/plain": [
       "<Figure size 864x360 with 2 Axes>"
      ]
     },
     "metadata": {
      "needs_background": "light"
     },
     "output_type": "display_data"
    }
   ],
   "source": [
    "# so sánh phân phối của biến trước và sau khi co giãn\n",
    "\n",
    "fig, (ax1, ax2) = plt.subplots(ncols=2, figsize=(12, 5))\n",
    "\n",
    "# trước khi co giãn\n",
    "ax1.set_title('Before Scaling')\n",
    "sns.kdeplot(X_train['AGE'], ax=ax1)\n",
    "sns.kdeplot(X_train['DIS'], ax=ax1)\n",
    "sns.kdeplot(X_train['NOX'], ax=ax1)\n",
    "\n",
    "# sau khi co giãn\n",
    "ax2.set_title('After Max Abs Scaling')\n",
    "sns.kdeplot(X_train_scaled['AGE'], ax=ax2)\n",
    "sns.kdeplot(X_train_scaled['DIS'], ax=ax2)\n",
    "sns.kdeplot(X_train_scaled['NOX'], ax=ax2)\n",
    "plt.show()"
   ]
  },
  {
   "cell_type": "markdown",
   "metadata": {
    "id": "_QwNjdLpFyBh"
   },
   "source": [
    "### Căn giữa + MaxAbsScaling\n",
    "\n",
    "Chúng ta có thể căn giữa các phân phối ở 0 rồi co lại thành giá trị tuyệt đối lơn nhất, như Scikit-learn gợi ý bằng cách kết hợp sử dụng 2 transformer."
   ]
  },
  {
   "cell_type": "code",
   "execution_count": 47,
   "metadata": {
    "id": "XR99xsRXFyqd"
   },
   "outputs": [],
   "source": [
    "# thiết lập StandardScaler để nó loại bỏ mean\n",
    "# nhưng không chia cho độ lệch chuẩn\n",
    "scaler_mean = StandardScaler(with_mean=True, with_std=False)\n",
    "\n",
    "# thiết lập MaxAbsScaler chuẩn hóa\n",
    "scaler_maxabs = MaxAbsScaler()\n",
    "\n",
    "# khớp scaler với tập huấn luyện để nó học các tham số\n",
    "scaler_mean.fit(X_train)\n",
    "scaler_maxabs.fit(X_train)\n",
    "\n",
    "# biến đổi tập huấn luyện và tập kiểm tra\n",
    "X_train_scaled = scaler_maxabs.transform(scaler_mean.transform(X_train))\n",
    "X_test_scaled = scaler_maxabs.transform(scaler_mean.transform(X_test))"
   ]
  },
  {
   "cell_type": "code",
   "execution_count": 48,
   "metadata": {
    "id": "carmdB81F0la"
   },
   "outputs": [],
   "source": [
    "# biến đổi các mảng NumPy đã trả về vào các dataframe cho phần còn lại của\n",
    "# bản mô phỏng\n",
    "\n",
    "X_train_scaled = pd.DataFrame(X_train_scaled, columns=X_train.columns)\n",
    "X_test_scaled = pd.DataFrame(X_test_scaled, columns=X_test.columns)"
   ]
  },
  {
   "cell_type": "code",
   "execution_count": 49,
   "metadata": {
    "id": "S-5jrZXNF0nv"
   },
   "outputs": [
    {
     "data": {
      "image/png": "[encoded data removed]",
      "text/plain": [
       "<Figure size 864x360 with 2 Axes>"
      ]
     },
     "metadata": {
      "needs_background": "light"
     },
     "output_type": "display_data"
    }
   ],
   "source": [
    "# so sánh phân phối của biến trước và sau khi co giãn\n",
    "\n",
    "fig, (ax1, ax2) = plt.subplots(ncols=2, figsize=(12, 5))\n",
    "\n",
    "# trước khi co giãn\n",
    "ax1.set_title('Before Scaling')\n",
    "sns.kdeplot(X_train['AGE'], ax=ax1)\n",
    "sns.kdeplot(X_train['DIS'], ax=ax1)\n",
    "sns.kdeplot(X_train['NOX'], ax=ax1)\n",
    "\n",
    "# sau khi co giãn\n",
    "ax2.set_title('After Max Abs Scaling')\n",
    "sns.kdeplot(X_train_scaled['AGE'], ax=ax2)\n",
    "sns.kdeplot(X_train_scaled['DIS'], ax=ax2)\n",
    "sns.kdeplot(X_train_scaled['NOX'], ax=ax2)\n",
    "plt.show()"
   ]
  },
  {
   "cell_type": "markdown",
   "metadata": {
    "id": "3_UskUvmF4ti"
   },
   "source": [
    "Kết quả cũng tương tự chuẩn hóa trung bình, nhưng trong trường hợp này, các giá trị thay đổi trong một phạm vi hẹp hơn."
   ]
  },
  {
   "cell_type": "markdown",
   "metadata": {
    "id": "LL_Zv-4oGJ9-"
   },
   "source": [
    "Ở phần này, chúng ta sẽ bàn về **Co giãn về trung vị và phân vị**\n",
    "\n",
    "=================================================================\n",
    "\n",
    "## Co giãn về trung vị và phân vị - RobustScaling\n",
    "\n",
    "Trong quy trình này, median bị loại khỏi các quan sát rồi bị co lại lệ thành IQR. IQR là phạm vi giữa quartile thứ nhất (quantile thứ 25) và quartile thứ ba (quantile thứ 75).\n",
    "\n",
    "X_scaled = X - X_median / ( X.quantile(0.75) - X.quantile(0.25) )\n",
    "\n",
    "Phương pháp RobustScaling này tạo ra các ước tính mạnh mẽ hơn cho trung tâm và phạm vi của biến, và được khuyến nghị dùng nếu dữ liệu hiển thị outlier.\n",
    "\n",
    "Tóm lại, RobustScaling:\n",
    "\n",
    "- căn giữa ở 0\n",
    "- phương sai thay đổi trên các biến\n",
    "- không giữ hình dạng của phân phối ban đầu.\n",
    "- các giá trị min, max thay đổi\n",
    "- outlier mạnh mẽ\n",
    "\n",
    "\n",
    "## Trong mô phỏng này\n",
    "\n",
    "Chúng ta sẽ thực hiện RobustScaling sử dụng tập dữ liệu giá nhà ở Boston với Scikit-learn."
   ]
  },
  {
   "cell_type": "markdown",
   "metadata": {
    "id": "emjFHaDXHDfQ"
   },
   "source": [
    "Khi thực hiện RobustScaling, trước tiên chúng ta cần xác định giá trị median và quantile của các biến. Các tham số này cần được học từ tập huấn luyện, lưu trữ rồi sử dụng để kiểm tra quy mô và dữ liệu trong tương lai. Vậy trước tiên, chúng ta sẽ chia dữ liệu thành huấn luyện và tập kiểm tra như đã thực hiện trong suốt khóa học."
   ]
  },
  {
   "cell_type": "markdown",
   "metadata": {
    "id": "-ab6xjIrHMUq"
   },
   "source": [
    "### RobustScaling\n",
    "\n",
    "MaxAbsScaler từ scikit-learn co các đặc trưng lại thành giá trị lớn nhất của chúng nên max mới là 1. "
   ]
  },
  {
   "cell_type": "code",
   "execution_count": 50,
   "metadata": {
    "id": "IyEgX2tSF0qK"
   },
   "outputs": [],
   "source": [
    "## Yêu cầu 7\n",
    "# thiết lập RobustScaler\n",
    "scaler = RobustScaler()\n",
    "\n",
    "# khớp scaler với tập huấn luyện, nó sẽ học các tham số\n",
    "## VIẾT CODE Ở ĐÂY:\n",
    "scaler.fit(X_train)\n",
    "\n",
    "# biến đổi tập huấn luyện và tập kiểm tra\n",
    "## VIẾT CODE Ở ĐÂY:\n",
    "X_train_scaled = scaler.transform(X_train)\n",
    "X_test_scaled = scaler.transform(X_test)"
   ]
  },
  {
   "cell_type": "markdown",
   "metadata": {
    "id": "z5wyuhzEMl8j"
   },
   "source": [
    "<details><summary> Gợi ý </summary>\n",
    "\n",
    "[RobustScaler()](https://scikit-learn.org/stable/modules/generated/sklearn.preprocessing.RobustScaler.html)\n",
    "\n",
    "</details>"
   ]
  },
  {
   "cell_type": "code",
   "execution_count": 51,
   "metadata": {
    "id": "puGZY_kmHOc0"
   },
   "outputs": [
    {
     "data": {
      "text/plain": [
       "array([2.62660e-01, 0.00000e+00, 8.56000e+00, 0.00000e+00, 5.38000e-01,\n",
       "       6.21550e+00, 7.94500e+01, 3.21570e+00, 5.00000e+00, 3.11000e+02,\n",
       "       1.91000e+01, 3.91605e+02, 1.11600e+01])"
      ]
     },
     "execution_count": 51,
     "metadata": {},
     "output_type": "execute_result"
    }
   ],
   "source": [
    "# scaler lưu trữ giá trị median của các đặc trưng đã học từ tập huấn luyện\n",
    "scaler.center_"
   ]
  },
  {
   "cell_type": "code",
   "execution_count": 52,
   "metadata": {
    "id": "vfBQJgMKHOew"
   },
   "outputs": [
    {
     "data": {
      "text/plain": [
       "array([3.030275e+00, 2.000000e+01, 1.315000e+01, 1.000000e+00,\n",
       "       1.792500e-01, 7.520000e-01, 4.857500e+01, 2.971650e+00,\n",
       "       2.000000e+01, 3.900000e+02, 2.800000e+00, 1.963250e+01,\n",
       "       9.982500e+00])"
      ]
     },
     "execution_count": 52,
     "metadata": {},
     "output_type": "execute_result"
    }
   ],
   "source": [
    "# scaler lưu trữ giá trị IQR của các đặc trưng đã học từ tập huấn luyện\n",
    "\n",
    "scaler.scale_"
   ]
  },
  {
   "cell_type": "code",
   "execution_count": 53,
   "metadata": {
    "id": "7l9JNxBEHOhP"
   },
   "outputs": [],
   "source": [
    "# biến đổi các mảng NumPy đã trả về vào các dataframe cho phần còn lại của\n",
    "# bản mô phỏng\n",
    "\n",
    "X_train_scaled = pd.DataFrame(X_train_scaled, columns=X_train.columns)\n",
    "X_test_scaled = pd.DataFrame(X_test_scaled, columns=X_test.columns)"
   ]
  },
  {
   "cell_type": "code",
   "execution_count": 54,
   "metadata": {
    "id": "r3h5iJISHOjp"
   },
   "outputs": [
    {
     "data": {
      "text/plain": [
       "CRIM         0.3\n",
       "ZN           0.0\n",
       "INDUS        8.6\n",
       "CHAS         0.0\n",
       "NOX          0.5\n",
       "RM           6.2\n",
       "AGE         79.4\n",
       "DIS          3.2\n",
       "RAD          5.0\n",
       "TAX        311.0\n",
       "PTRATIO     19.1\n",
       "B          391.6\n",
       "LSTAT       11.2\n",
       "dtype: float64"
      ]
     },
     "execution_count": 54,
     "metadata": {},
     "output_type": "execute_result"
    }
   ],
   "source": [
    "# hãy xem tập dữ liệu huấn luyện ban đầu: các giá trị median\n",
    "# sử dụng np.round để giảm số lượng số thập phân xuống còn 1\n",
    "\n",
    "np.round(X_train.median(), 1)"
   ]
  },
  {
   "cell_type": "code",
   "execution_count": 55,
   "metadata": {
    "id": "2cnOqbcIHTht"
   },
   "outputs": [
    {
     "data": {
      "text/plain": [
       "CRIM      -0.0\n",
       "ZN         0.0\n",
       "INDUS      0.0\n",
       "CHAS       0.0\n",
       "NOX        0.0\n",
       "RM        -0.0\n",
       "AGE        0.0\n",
       "DIS        0.0\n",
       "RAD        0.0\n",
       "TAX        0.0\n",
       "PTRATIO    0.0\n",
       "B         -0.0\n",
       "LSTAT      0.0\n",
       "dtype: float64"
      ]
     },
     "execution_count": 55,
     "metadata": {},
     "output_type": "execute_result"
    }
   ],
   "source": [
    "# hãy xem tập dữ liệu huấn luyện đã co giãn: các giá trị median\n",
    "# sử dụng np.round để giảm số lượng số thập phân xuống còn 1\n",
    "\n",
    "np.round(X_train_scaled.median(), 1)"
   ]
  },
  {
   "cell_type": "markdown",
   "metadata": {
    "id": "W9qCciDkHYe0"
   },
   "source": [
    "Các biến tập trung vào các median."
   ]
  },
  {
   "cell_type": "code",
   "execution_count": 56,
   "metadata": {
    "id": "y8WYB3BcHTkS"
   },
   "outputs": [
    {
     "data": {
      "image/png": "[encoded data removed]",
      "text/plain": [
       "<Figure size 864x360 with 2 Axes>"
      ]
     },
     "metadata": {
      "needs_background": "light"
     },
     "output_type": "display_data"
    }
   ],
   "source": [
    "# so sánh phân phối của biến trước và sau khi co giãn\n",
    "\n",
    "fig, (ax1, ax2) = plt.subplots(ncols=2, figsize=(12, 5))\n",
    "\n",
    "# trước khi co giãn\n",
    "ax1.set_title('Before Scaling')\n",
    "sns.kdeplot(X_train['RM'], ax=ax1)\n",
    "sns.kdeplot(X_train['LSTAT'], ax=ax1)\n",
    "sns.kdeplot(X_train['CRIM'], ax=ax1)\n",
    "\n",
    "# sau khi co giãn\n",
    "ax2.set_title('After Robust Scaling')\n",
    "sns.kdeplot(X_train_scaled['RM'], ax=ax2)\n",
    "sns.kdeplot(X_train_scaled['LSTAT'], ax=ax2)\n",
    "sns.kdeplot(X_train_scaled['CRIM'], ax=ax2)\n",
    "plt.show()"
   ]
  },
  {
   "cell_type": "markdown",
   "metadata": {
    "id": "V8ZZWxIfHbWr"
   },
   "source": [
    "Median của các phân phối được căn giữa ở 0, nhưng mọi tham số khác có thể thay đổi theo các biến khác nhau. Tuy nhiên, nó nén phạm vi giá trị trong các biến ban đầu, đặc biệt là với những biến bị lệch nhiều như CRIM."
   ]
  },
  {
   "cell_type": "code",
   "execution_count": 57,
   "metadata": {
    "id": "fHHv83CWHTmm"
   },
   "outputs": [
    {
     "data": {
      "image/png": "[encoded data removed]",
      "text/plain": [
       "<Figure size 864x360 with 2 Axes>"
      ]
     },
     "metadata": {
      "needs_background": "light"
     },
     "output_type": "display_data"
    }
   ],
   "source": [
    "# so sánh phân phối của biến trước và sau khi co giãn\n",
    "\n",
    "fig, (ax1, ax2) = plt.subplots(ncols=2, figsize=(12, 5))\n",
    "\n",
    "# trước khi co giãn\n",
    "ax1.set_title('Before Scaling')\n",
    "sns.kdeplot(X_train['AGE'], ax=ax1)\n",
    "sns.kdeplot(X_train['DIS'], ax=ax1)\n",
    "sns.kdeplot(X_train['NOX'], ax=ax1)\n",
    "\n",
    "# sau khi co giãn\n",
    "ax2.set_title('After Robust Scaling')\n",
    "sns.kdeplot(X_train_scaled['AGE'], ax=ax2)\n",
    "sns.kdeplot(X_train_scaled['DIS'], ax=ax2)\n",
    "sns.kdeplot(X_train_scaled['NOX'], ax=ax2)\n",
    "plt.show()"
   ]
  },
  {
   "cell_type": "markdown",
   "metadata": {
    "id": "WswVEADDHfFR"
   },
   "source": [
    "So sánh co giãn này với chuẩn hóa trung bình để xem quy trình này tác động thế nào tới hình dạng của phân phối."
   ]
  },
  {
   "cell_type": "markdown",
   "metadata": {
    "id": "bXnAFPwsHsrM"
   },
   "source": [
    "Trong notebook này, chúng ta sẽ bàn về **Co giãn về độ dài vectơ đơn vị**.\n",
    "\n",
    "=================================================================\n",
    "\n",
    "## Co giãn về độ dài vectơ đơn vị/chuẩn đơn vị\n",
    "\n",
    "Trong quy trình này, chúng ta co giãn các thành phần của vectơ đặc trưng sao cho vectơ hoàn chỉnh có độ dài là 1, hoặc nói cách khác, có chuẩn là 1. **Lưu ý** rằng quy trình chuẩn hóa này sẽ chuẩn hóa vectơ **đặc trưng** chứ không phải vectơ **quan sát**. Vì vậy, chúng ta chia chuẩn của vectơ đặc trưng cho từng quan sát trên các biến khác nhau mà không phải chia chuẩn của vectơ **quan sát** cho các quan sát có cùng đối tượng.\n",
    "\n",
    "Trước tiên, chúng ta hãy xem công thức rồi minh họa với một ví dụ.\n",
    "\n",
    "### Công thức Co giãn về vectơ đơn vị \n",
    "\n",
    "Co giãn về vectơ đơn vị được tính bằng cách chia từng vectơ đặc trưng cho khoảng cách Manhattan (chuẩn l1) hoặc khoảng cách Euclid của vectơ (chuẩn l2):\n",
    "\n",
    "X_scaled_l1 = X / l1(X)\n",
    "\n",
    "X_scaled_l2 = X / l2(X)\n",
    "\n",
    "\n",
    "**Khoảng cách Manhattan** là tổng các thành phần tuyệt đối của vectơ:  \n",
    "\n",
    "l1(X) = |x1| + |x2| + ... + |xn|\n",
    "\n",
    "\n",
    "Còn **khoảng cách Euclid** được tính bằng căn bậc hai của tổng các thành phần của vectơ:\n",
    "\n",
    "l2(X) = sqr( x1^2 + x2^2 + ... + xn^2 )\n",
    "\n",
    "\n",
    "Trong ví dụ trên, x1 là biến 1, x2 là biến 2 và xn là biến n; X là dữ liệu cho 1 quan sát trên các biến (hay 1 hàng).\n",
    "\n",
    "Cũng **lưu ý** rằng khi khoảng cách Euclid bình phương các giá trị của các thành phần vectơ đặc trưng, outlier sẽ có trọng số lớn hơn. Chúng ta thường ưu tiên sử dụng chuẩn hóa l1 với outlier.\n",
    "\n",
    "\n",
    "###  Ví dụ cho Co giãn về vectơ đơn vị \n",
    "\n",
    "Giả sử dữ liệu có 1 quan sát (1 hàng) và 3 biến:\n",
    "\n",
    "- number of pets (số thú nuôi)\n",
    "- number of children (số trẻ em )\n",
    "- age (tuổi)\n",
    "\n",
    "Giá trị của từng biến cho quan sát riêng lẻ đó là 10, 15 và 20. Vectơ X = [10, 15, 20]. Sau đó:\n",
    "\n",
    "l1(X) = 10 + 15 + 20 = 45\n",
    "\n",
    "l2(X) = sqr( 10^2 + 15^2 + 20^2) = sqr( 100 + 225 + 400) = **26.9**\n",
    "\n",
    "Khoản cách Euclid luôn nhỏ hơn khoảng cách Manhattan.\n",
    "\n",
    "\n",
    "Do đó các giá trị vectơ được chuẩn hóa là:\n",
    "\n",
    "X_scaled_l1 = [ 10/45, 15/45, 20/45 ]      =  [0.22, 0.33, 0.44]\n",
    "\n",
    "X_scaled_l2 = [10/26.9, 15/26.9, 20/26.9 ] =  [0.37, 0.55, 0.74]\n",
    "\n",
    "\n",
    "Scikit-learn đề xuất quy trình co giãn này cho phân loại hoặc phân cụm văn bản. Ví dụ: tích vô hướng của hai vectơ TF-IDF được chuẩn hóa l2 là độ tương tự cosin của các vectơ và là thước đo độ tương tự cơ sở cho Mô hình không gian vectơ thường được cộng đồng Truy xuất thông tin sử dụng.\n",
    "\n",
    "\n",
    "## Trong bản mô phỏng này\n",
    "\n",
    "Chúng ta sẽ thực hiện co giãn về độ dài đơn vị sử dụng tập dữ liệu giá nhà ở Boston với Scikit-learn. "
   ]
  },
  {
   "cell_type": "markdown",
   "metadata": {
    "id": "07ZBe-BLHzeP"
   },
   "source": [
    "Khi co giãn về độ dài đơn vị thực hiện trên các biến và từng quan sát, khoảng cách thay đổi với mỗi quan sát. Do đó, chúng ta không cần tìm hiểu các tham số và lưu trữ chúng. Co giãn xảy ra trên mức độ từng quan sát. Vì vậy, về bản chất, chúng ta không cần chia thành tập huấn luyện và tập kiểm tra.\n",
    "\n",
    "Tuy nhiên, có thể chúng ta đã thực hiện điều này để triển khai các bước thiết kế đặc trưng khác nên hãy tiếp tục làm như vậy ở đây. "
   ]
  },
  {
   "cell_type": "markdown",
   "metadata": {
    "id": "rZ_mfeWqH3jl"
   },
   "source": [
    "### Co giãn thành l1"
   ]
  },
  {
   "cell_type": "code",
   "execution_count": 58,
   "metadata": {
    "id": "rnoWSEcNHfcr"
   },
   "outputs": [],
   "source": [
    "## Yêu cầu 8\n",
    "# thiết lập Normalizer\n",
    "scaler = Normalizer(norm='l1')\n",
    "\n",
    "# khớp scaler, quy trình này sẽ KHÔNG THỰC HIỆN BẤT CỨ ĐIỀU GÌ\n",
    "## VIẾT CODE Ở ĐÂY:\n",
    "scaler.fit(X_train)\n",
    "\n",
    "# biến đổi tập huấn luyện và tập kiểm tra\n",
    "## VIẾT CODE Ở ĐÂY:\n",
    "X_train_scaled = scaler.transform(X_train)\n",
    "X_test_scaled = scaler.transform(X_test)"
   ]
  },
  {
   "cell_type": "markdown",
   "metadata": {
    "id": "tqowwNLiMv9-"
   },
   "source": [
    "<details><summary> Gợi ý </summary>\n",
    "\n",
    "[Normalizer()](https://scikit-learn.org/stable/modules/generated/sklearn.preprocessing.Normalizer.html)\n",
    "\n",
    "</details>"
   ]
  },
  {
   "cell_type": "code",
   "execution_count": 59,
   "metadata": {
    "id": "7uwcNF8oH5g3"
   },
   "outputs": [
    {
     "data": {
      "text/plain": [
       "array([1024.1,  744. , 1003.5,  858. ,  732.4,  859.3,  845.9,  847. ,\n",
       "        888.1,  826.7,  705.9,  808.9,  734. ,  784.6,  785.1,  819.6,\n",
       "       1212.9, 1258. ,  757.6, 1223. , 1236.1,  890.2, 1166.8, 1270. ,\n",
       "        919. ,  925.9, 1197. ,  770.3, 1118. ,  886.7,  719. ,  952. ,\n",
       "        933.4,  745. ,  805.6,  825.1,  678.5,  947.7,  910. ,  816. ,\n",
       "        769.1,  832.4,  763.5,  777. ,  850.4, 1137.7,  802.1,  703.4,\n",
       "        802.6,  688. ,  801.8,  877.3,  753.8,  912.4,  936.7,  813.6,\n",
       "       1194. ,  771.9,  739.5,  825.9,  890.8,  891.6,  844.4,  927.1,\n",
       "        998.6,  903.3, 1250.3,  739.5, 1095.3,  857.7,  834.8,  738.4,\n",
       "        855.1, 1238.4,  828.6,  958.4,  775. ,  923.4,  859.6,  830.7,\n",
       "        782.3,  796.8,  953.2,  857.9, 1249.9,  716.7,  803.9,  978.8,\n",
       "       1186.9,  904. , 1238.2,  981.6,  884.9,  924.9,  694.1,  725.2,\n",
       "        832.4,  717.7,  917. , 1263.9,  836.7,  813.5,  992.5,  823.4,\n",
       "       1224.3,  712.1,  841.2,  950.3,  702.6,  791.9,  830.4,  742.1,\n",
       "        793.8, 1110.5,  832.1, 1188.5,  837.4,  846.7,  809.5,  764.6,\n",
       "       1189. ,  770.4,  651.4,  717.8, 1265.8, 1004. ,  782.1,  922.7,\n",
       "        871.4,  860. ,  860.1,  766.5, 1259.6,  920.1,  708.2,  779.3,\n",
       "        785.7,  815. ,  825. ,  856.5,  784.2,  834.9, 1003.2,  963.2,\n",
       "        924.1, 1141.8, 1192.2,  777.5,  767.7, 1197.4,  887.2,  839.3,\n",
       "        819.9,  818.9,  822.7, 1006.2,  926.2,  748.9,  920.8,  790.7,\n",
       "        810.2, 1235.9,  889. ,  921.2,  895.3,  774.9,  924.8,  926. ,\n",
       "       1248.6, 1006.3,  817.5,  800.7, 1227.4,  831.4,  787.4, 1312. ,\n",
       "        832.1,  769.5, 1252.1,  822.7,  884. ,  787.2,  749.4,  827.8,\n",
       "        962.2,  702.8,  745.4,  731.7,  727.8,  743.7,  888.3,  720.2,\n",
       "       1332.3, 1185.2,  776.4,  784.6, 1255.2,  717.8, 1239. ,  782.1,\n",
       "        767.9,  807.6,  857.5, 1265.4,  737.9,  800. ,  769.3, 1231.7,\n",
       "        783.1,  667. ,  726.4,  758.5,  841.3, 1243.1, 1268.4, 1174.9,\n",
       "        736. ,  828.9,  827.5, 1270. , 1000.2,  919.4,  866. ,  681.7,\n",
       "       1249. ,  810.9,  901.7, 1218.9,  928.7,  744.7,  843.4,  736.1,\n",
       "        897.6,  804.6, 1219.5,  794.5,  830.4, 1241.1,  732. , 1211.2,\n",
       "        890.6,  838.1,  753.5,  795.8,  801.3, 1277.8, 1256. ,  801.3,\n",
       "        704.7,  808.2,  931.3,  977.4,  702.4,  713.7, 1240.1, 1001.4,\n",
       "        867.2,  806. ,  802.1,  774.1,  783.6,  739.2,  719.6, 1276.7,\n",
       "       1264.7,  865.4, 1104.8, 1162.6,  778.9,  781.8,  776.8,  945.3,\n",
       "       1234.4,  794.1,  830.3,  880.1,  788.6,  799.5, 1231.8, 1236.9,\n",
       "        669.1,  934.3, 1253.3, 1239.6,  734.5,  855.2,  753.4, 1260.9,\n",
       "        730.5, 1182.1, 1253. , 1004.4,  793.7,  847.5,  724.4, 1237.2,\n",
       "        941.6,  906.5,  859.6,  877.7,  842. ,  694.3,  997.8,  695.3,\n",
       "       1251.1, 1167. ,  837.6,  855. , 1301.8, 1238.6,  968.8,  822.6,\n",
       "       1216.7,  807.1,  775.9,  707.8, 1260.5,  943.2,  706.4,  839.5,\n",
       "        759.2, 1221.5,  923.8, 1219.9,  780.6,  755.1,  701.2,  757.2,\n",
       "        797.2,  731.4, 1237.1,  802.4, 1265.4,  785.5,  766.3,  839.7,\n",
       "       1255.2,  792.9, 1224.5,  748.3,  743.8,  790.3,  808.3,  760.4,\n",
       "        828.9,  854.6, 1226.7,  797. ,  788. ,  807.4,  900.5,  962.7,\n",
       "        770.2,  830.6])"
      ]
     },
     "execution_count": 59,
     "metadata": {},
     "output_type": "execute_result"
    }
   ],
   "source": [
    "# tính chuẩn cho từng quan sát (vectơ đặc trưng)\n",
    "# dữ liệu gốc\n",
    "\n",
    "np.round( np.linalg.norm(X_train, ord=1, axis=1), 1)"
   ]
  },
  {
   "cell_type": "code",
   "execution_count": 60,
   "metadata": {
    "id": "xJ-L_93XH5i5"
   },
   "outputs": [
    {
     "data": {
      "text/plain": [
       "array([1., 1., 1., 1., 1., 1., 1., 1., 1., 1., 1., 1., 1., 1., 1., 1., 1.,\n",
       "       1., 1., 1., 1., 1., 1., 1., 1., 1., 1., 1., 1., 1., 1., 1., 1., 1.,\n",
       "       1., 1., 1., 1., 1., 1., 1., 1., 1., 1., 1., 1., 1., 1., 1., 1., 1.,\n",
       "       1., 1., 1., 1., 1., 1., 1., 1., 1., 1., 1., 1., 1., 1., 1., 1., 1.,\n",
       "       1., 1., 1., 1., 1., 1., 1., 1., 1., 1., 1., 1., 1., 1., 1., 1., 1.,\n",
       "       1., 1., 1., 1., 1., 1., 1., 1., 1., 1., 1., 1., 1., 1., 1., 1., 1.,\n",
       "       1., 1., 1., 1., 1., 1., 1., 1., 1., 1., 1., 1., 1., 1., 1., 1., 1.,\n",
       "       1., 1., 1., 1., 1., 1., 1., 1., 1., 1., 1., 1., 1., 1., 1., 1., 1.,\n",
       "       1., 1., 1., 1., 1., 1., 1., 1., 1., 1., 1., 1., 1., 1., 1., 1., 1.,\n",
       "       1., 1., 1., 1., 1., 1., 1., 1., 1., 1., 1., 1., 1., 1., 1., 1., 1.,\n",
       "       1., 1., 1., 1., 1., 1., 1., 1., 1., 1., 1., 1., 1., 1., 1., 1., 1.,\n",
       "       1., 1., 1., 1., 1., 1., 1., 1., 1., 1., 1., 1., 1., 1., 1., 1., 1.,\n",
       "       1., 1., 1., 1., 1., 1., 1., 1., 1., 1., 1., 1., 1., 1., 1., 1., 1.,\n",
       "       1., 1., 1., 1., 1., 1., 1., 1., 1., 1., 1., 1., 1., 1., 1., 1., 1.,\n",
       "       1., 1., 1., 1., 1., 1., 1., 1., 1., 1., 1., 1., 1., 1., 1., 1., 1.,\n",
       "       1., 1., 1., 1., 1., 1., 1., 1., 1., 1., 1., 1., 1., 1., 1., 1., 1.,\n",
       "       1., 1., 1., 1., 1., 1., 1., 1., 1., 1., 1., 1., 1., 1., 1., 1., 1.,\n",
       "       1., 1., 1., 1., 1., 1., 1., 1., 1., 1., 1., 1., 1., 1., 1., 1., 1.,\n",
       "       1., 1., 1., 1., 1., 1., 1., 1., 1., 1., 1., 1., 1., 1., 1., 1., 1.,\n",
       "       1., 1., 1., 1., 1., 1., 1., 1., 1., 1., 1., 1., 1., 1., 1., 1., 1.,\n",
       "       1., 1., 1., 1., 1., 1., 1., 1., 1., 1., 1., 1., 1., 1.])"
      ]
     },
     "execution_count": 60,
     "metadata": {},
     "output_type": "execute_result"
    }
   ],
   "source": [
    "# tính chuẩn cho từng quan sát (vectơ đặc trưng)\n",
    "# dữ liệu đã co giãn\n",
    "\n",
    "np.round( np.linalg.norm(X_train_scaled, ord=1, axis=1), 1)"
   ]
  },
  {
   "cell_type": "markdown",
   "metadata": {
    "id": "mPIoJc8SH9MO"
   },
   "source": [
    "Bây giờ mỗi vectơ đặc trưng có một chuẩn l1 là 1. "
   ]
  },
  {
   "cell_type": "code",
   "execution_count": 61,
   "metadata": {
    "id": "UTHjXaHMH5k8"
   },
   "outputs": [],
   "source": [
    "# biến đổi các mảng NumPy đã trả về vào các dataframe cho phần còn lại của\n",
    "# bản mô phỏng\n",
    "\n",
    "X_train_scaled = pd.DataFrame(X_train_scaled, columns=X_train.columns)\n",
    "X_test_scaled = pd.DataFrame(X_test_scaled, columns=X_test.columns)"
   ]
  },
  {
   "cell_type": "code",
   "execution_count": 62,
   "metadata": {
    "id": "raGm-4boH5m4"
   },
   "outputs": [
    {
     "data": {
      "text/html": [
       "<div>\n",
       "<style scoped>\n",
       "    .dataframe tbody tr th:only-of-type {\n",
       "        vertical-align: middle;\n",
       "    }\n",
       "\n",
       "    .dataframe tbody tr th {\n",
       "        vertical-align: top;\n",
       "    }\n",
       "\n",
       "    .dataframe thead th {\n",
       "        text-align: right;\n",
       "    }\n",
       "</style>\n",
       "<table border=\"1\" class=\"dataframe\">\n",
       "  <thead>\n",
       "    <tr style=\"text-align: right;\">\n",
       "      <th></th>\n",
       "      <th>CRIM</th>\n",
       "      <th>ZN</th>\n",
       "      <th>INDUS</th>\n",
       "      <th>CHAS</th>\n",
       "      <th>NOX</th>\n",
       "      <th>RM</th>\n",
       "      <th>AGE</th>\n",
       "      <th>DIS</th>\n",
       "      <th>RAD</th>\n",
       "      <th>TAX</th>\n",
       "      <th>PTRATIO</th>\n",
       "      <th>B</th>\n",
       "      <th>LSTAT</th>\n",
       "    </tr>\n",
       "  </thead>\n",
       "  <tbody>\n",
       "    <tr>\n",
       "      <th>count</th>\n",
       "      <td>354.000000</td>\n",
       "      <td>354.000000</td>\n",
       "      <td>354.000000</td>\n",
       "      <td>354.000000</td>\n",
       "      <td>354.000000</td>\n",
       "      <td>354.000000</td>\n",
       "      <td>354.000000</td>\n",
       "      <td>354.000000</td>\n",
       "      <td>354.000000</td>\n",
       "      <td>354.000000</td>\n",
       "      <td>354.000000</td>\n",
       "      <td>354.000000</td>\n",
       "      <td>354.000000</td>\n",
       "    </tr>\n",
       "    <tr>\n",
       "      <th>mean</th>\n",
       "      <td>3.358284</td>\n",
       "      <td>11.809322</td>\n",
       "      <td>11.078757</td>\n",
       "      <td>0.064972</td>\n",
       "      <td>0.556098</td>\n",
       "      <td>6.308427</td>\n",
       "      <td>68.994068</td>\n",
       "      <td>3.762459</td>\n",
       "      <td>9.353107</td>\n",
       "      <td>401.782486</td>\n",
       "      <td>18.473446</td>\n",
       "      <td>360.601186</td>\n",
       "      <td>12.440650</td>\n",
       "    </tr>\n",
       "    <tr>\n",
       "      <th>std</th>\n",
       "      <td>8.353223</td>\n",
       "      <td>23.653056</td>\n",
       "      <td>6.993821</td>\n",
       "      <td>0.246825</td>\n",
       "      <td>0.115601</td>\n",
       "      <td>0.702009</td>\n",
       "      <td>28.038429</td>\n",
       "      <td>2.067661</td>\n",
       "      <td>8.671999</td>\n",
       "      <td>170.592404</td>\n",
       "      <td>2.224809</td>\n",
       "      <td>85.621945</td>\n",
       "      <td>7.078485</td>\n",
       "    </tr>\n",
       "    <tr>\n",
       "      <th>min</th>\n",
       "      <td>0.006320</td>\n",
       "      <td>0.000000</td>\n",
       "      <td>0.460000</td>\n",
       "      <td>0.000000</td>\n",
       "      <td>0.385000</td>\n",
       "      <td>3.561000</td>\n",
       "      <td>2.900000</td>\n",
       "      <td>1.174200</td>\n",
       "      <td>1.000000</td>\n",
       "      <td>187.000000</td>\n",
       "      <td>12.600000</td>\n",
       "      <td>0.320000</td>\n",
       "      <td>1.730000</td>\n",
       "    </tr>\n",
       "    <tr>\n",
       "      <th>25%</th>\n",
       "      <td>0.073425</td>\n",
       "      <td>0.000000</td>\n",
       "      <td>4.950000</td>\n",
       "      <td>0.000000</td>\n",
       "      <td>0.450000</td>\n",
       "      <td>5.895250</td>\n",
       "      <td>45.175000</td>\n",
       "      <td>2.107650</td>\n",
       "      <td>4.000000</td>\n",
       "      <td>276.000000</td>\n",
       "      <td>17.400000</td>\n",
       "      <td>376.057500</td>\n",
       "      <td>6.735000</td>\n",
       "    </tr>\n",
       "    <tr>\n",
       "      <th>50%</th>\n",
       "      <td>0.262660</td>\n",
       "      <td>0.000000</td>\n",
       "      <td>8.560000</td>\n",
       "      <td>0.000000</td>\n",
       "      <td>0.538000</td>\n",
       "      <td>6.215500</td>\n",
       "      <td>79.450000</td>\n",
       "      <td>3.215700</td>\n",
       "      <td>5.000000</td>\n",
       "      <td>311.000000</td>\n",
       "      <td>19.100000</td>\n",
       "      <td>391.605000</td>\n",
       "      <td>11.160000</td>\n",
       "    </tr>\n",
       "    <tr>\n",
       "      <th>75%</th>\n",
       "      <td>3.103700</td>\n",
       "      <td>20.000000</td>\n",
       "      <td>18.100000</td>\n",
       "      <td>0.000000</td>\n",
       "      <td>0.629250</td>\n",
       "      <td>6.647250</td>\n",
       "      <td>93.750000</td>\n",
       "      <td>5.079300</td>\n",
       "      <td>24.000000</td>\n",
       "      <td>666.000000</td>\n",
       "      <td>20.200000</td>\n",
       "      <td>395.690000</td>\n",
       "      <td>16.717500</td>\n",
       "    </tr>\n",
       "    <tr>\n",
       "      <th>max</th>\n",
       "      <td>88.976200</td>\n",
       "      <td>100.000000</td>\n",
       "      <td>27.740000</td>\n",
       "      <td>1.000000</td>\n",
       "      <td>0.871000</td>\n",
       "      <td>8.780000</td>\n",
       "      <td>100.000000</td>\n",
       "      <td>12.126500</td>\n",
       "      <td>24.000000</td>\n",
       "      <td>711.000000</td>\n",
       "      <td>22.000000</td>\n",
       "      <td>396.900000</td>\n",
       "      <td>36.980000</td>\n",
       "    </tr>\n",
       "  </tbody>\n",
       "</table>\n",
       "</div>"
      ],
      "text/plain": [
       "             CRIM          ZN       INDUS        CHAS         NOX          RM  \\\n",
       "count  354.000000  354.000000  354.000000  354.000000  354.000000  354.000000   \n",
       "mean     3.358284   11.809322   11.078757    0.064972    0.556098    6.308427   \n",
       "std      8.353223   23.653056    6.993821    0.246825    0.115601    0.702009   \n",
       "min      0.006320    0.000000    0.460000    0.000000    0.385000    3.561000   \n",
       "25%      0.073425    0.000000    4.950000    0.000000    0.450000    5.895250   \n",
       "50%      0.262660    0.000000    8.560000    0.000000    0.538000    6.215500   \n",
       "75%      3.103700   20.000000   18.100000    0.000000    0.629250    6.647250   \n",
       "max     88.976200  100.000000   27.740000    1.000000    0.871000    8.780000   \n",
       "\n",
       "              AGE         DIS         RAD         TAX     PTRATIO           B  \\\n",
       "count  354.000000  354.000000  354.000000  354.000000  354.000000  354.000000   \n",
       "mean    68.994068    3.762459    9.353107  401.782486   18.473446  360.601186   \n",
       "std     28.038429    2.067661    8.671999  170.592404    2.224809   85.621945   \n",
       "min      2.900000    1.174200    1.000000  187.000000   12.600000    0.320000   \n",
       "25%     45.175000    2.107650    4.000000  276.000000   17.400000  376.057500   \n",
       "50%     79.450000    3.215700    5.000000  311.000000   19.100000  391.605000   \n",
       "75%     93.750000    5.079300   24.000000  666.000000   20.200000  395.690000   \n",
       "max    100.000000   12.126500   24.000000  711.000000   22.000000  396.900000   \n",
       "\n",
       "            LSTAT  \n",
       "count  354.000000  \n",
       "mean    12.440650  \n",
       "std      7.078485  \n",
       "min      1.730000  \n",
       "25%      6.735000  \n",
       "50%     11.160000  \n",
       "75%     16.717500  \n",
       "max     36.980000  "
      ]
     },
     "execution_count": 62,
     "metadata": {},
     "output_type": "execute_result"
    }
   ],
   "source": [
    "# xem từng giá trị riêng lẻ của các biến trong dữ liệu ban đầu\n",
    "X_train.describe()"
   ]
  },
  {
   "cell_type": "code",
   "execution_count": 63,
   "metadata": {
    "id": "p5BnigqAH5pF"
   },
   "outputs": [
    {
     "data": {
      "text/html": [
       "<div>\n",
       "<style scoped>\n",
       "    .dataframe tbody tr th:only-of-type {\n",
       "        vertical-align: middle;\n",
       "    }\n",
       "\n",
       "    .dataframe tbody tr th {\n",
       "        vertical-align: top;\n",
       "    }\n",
       "\n",
       "    .dataframe thead th {\n",
       "        text-align: right;\n",
       "    }\n",
       "</style>\n",
       "<table border=\"1\" class=\"dataframe\">\n",
       "  <thead>\n",
       "    <tr style=\"text-align: right;\">\n",
       "      <th></th>\n",
       "      <th>CRIM</th>\n",
       "      <th>ZN</th>\n",
       "      <th>INDUS</th>\n",
       "      <th>CHAS</th>\n",
       "      <th>NOX</th>\n",
       "      <th>RM</th>\n",
       "      <th>AGE</th>\n",
       "      <th>DIS</th>\n",
       "      <th>RAD</th>\n",
       "      <th>TAX</th>\n",
       "      <th>PTRATIO</th>\n",
       "      <th>B</th>\n",
       "      <th>LSTAT</th>\n",
       "    </tr>\n",
       "  </thead>\n",
       "  <tbody>\n",
       "    <tr>\n",
       "      <th>count</th>\n",
       "      <td>354.000000</td>\n",
       "      <td>354.000000</td>\n",
       "      <td>354.000000</td>\n",
       "      <td>354.000000</td>\n",
       "      <td>354.000000</td>\n",
       "      <td>354.000000</td>\n",
       "      <td>354.000000</td>\n",
       "      <td>354.000000</td>\n",
       "      <td>354.000000</td>\n",
       "      <td>354.000000</td>\n",
       "      <td>354.000000</td>\n",
       "      <td>354.000000</td>\n",
       "      <td>354.000000</td>\n",
       "    </tr>\n",
       "    <tr>\n",
       "      <th>mean</th>\n",
       "      <td>0.003022</td>\n",
       "      <td>0.014491</td>\n",
       "      <td>0.011731</td>\n",
       "      <td>0.000073</td>\n",
       "      <td>0.000620</td>\n",
       "      <td>0.007221</td>\n",
       "      <td>0.075687</td>\n",
       "      <td>0.004479</td>\n",
       "      <td>0.009336</td>\n",
       "      <td>0.427642</td>\n",
       "      <td>0.020880</td>\n",
       "      <td>0.411273</td>\n",
       "      <td>0.013544</td>\n",
       "    </tr>\n",
       "    <tr>\n",
       "      <th>std</th>\n",
       "      <td>0.007018</td>\n",
       "      <td>0.028764</td>\n",
       "      <td>0.006854</td>\n",
       "      <td>0.000283</td>\n",
       "      <td>0.000115</td>\n",
       "      <td>0.001620</td>\n",
       "      <td>0.029466</td>\n",
       "      <td>0.002780</td>\n",
       "      <td>0.007262</td>\n",
       "      <td>0.114922</td>\n",
       "      <td>0.003751</td>\n",
       "      <td>0.124328</td>\n",
       "      <td>0.007204</td>\n",
       "    </tr>\n",
       "    <tr>\n",
       "      <th>min</th>\n",
       "      <td>0.000008</td>\n",
       "      <td>0.000000</td>\n",
       "      <td>0.000577</td>\n",
       "      <td>0.000000</td>\n",
       "      <td>0.000424</td>\n",
       "      <td>0.002996</td>\n",
       "      <td>0.004348</td>\n",
       "      <td>0.000919</td>\n",
       "      <td>0.001163</td>\n",
       "      <td>0.250885</td>\n",
       "      <td>0.014363</td>\n",
       "      <td>0.000374</td>\n",
       "      <td>0.001879</td>\n",
       "    </tr>\n",
       "    <tr>\n",
       "      <th>25%</th>\n",
       "      <td>0.000093</td>\n",
       "      <td>0.000000</td>\n",
       "      <td>0.006243</td>\n",
       "      <td>0.000000</td>\n",
       "      <td>0.000545</td>\n",
       "      <td>0.006061</td>\n",
       "      <td>0.055411</td>\n",
       "      <td>0.002206</td>\n",
       "      <td>0.004740</td>\n",
       "      <td>0.346035</td>\n",
       "      <td>0.016876</td>\n",
       "      <td>0.318534</td>\n",
       "      <td>0.008473</td>\n",
       "    </tr>\n",
       "    <tr>\n",
       "      <th>50%</th>\n",
       "      <td>0.000311</td>\n",
       "      <td>0.000000</td>\n",
       "      <td>0.010421</td>\n",
       "      <td>0.000000</td>\n",
       "      <td>0.000611</td>\n",
       "      <td>0.007376</td>\n",
       "      <td>0.078917</td>\n",
       "      <td>0.003923</td>\n",
       "      <td>0.006021</td>\n",
       "      <td>0.393483</td>\n",
       "      <td>0.021129</td>\n",
       "      <td>0.456271</td>\n",
       "      <td>0.012262</td>\n",
       "    </tr>\n",
       "    <tr>\n",
       "      <th>75%</th>\n",
       "      <td>0.002983</td>\n",
       "      <td>0.024709</td>\n",
       "      <td>0.015120</td>\n",
       "      <td>0.000000</td>\n",
       "      <td>0.000657</td>\n",
       "      <td>0.008358</td>\n",
       "      <td>0.098186</td>\n",
       "      <td>0.006456</td>\n",
       "      <td>0.018223</td>\n",
       "      <td>0.526258</td>\n",
       "      <td>0.024014</td>\n",
       "      <td>0.498519</td>\n",
       "      <td>0.017204</td>\n",
       "    </tr>\n",
       "    <tr>\n",
       "      <th>max</th>\n",
       "      <td>0.066782</td>\n",
       "      <td>0.121905</td>\n",
       "      <td>0.035787</td>\n",
       "      <td>0.001422</td>\n",
       "      <td>0.001337</td>\n",
       "      <td>0.011541</td>\n",
       "      <td>0.144310</td>\n",
       "      <td>0.016269</td>\n",
       "      <td>0.028684</td>\n",
       "      <td>0.795970</td>\n",
       "      <td>0.030523</td>\n",
       "      <td>0.578661</td>\n",
       "      <td>0.041723</td>\n",
       "    </tr>\n",
       "  </tbody>\n",
       "</table>\n",
       "</div>"
      ],
      "text/plain": [
       "             CRIM          ZN       INDUS        CHAS         NOX          RM  \\\n",
       "count  354.000000  354.000000  354.000000  354.000000  354.000000  354.000000   \n",
       "mean     0.003022    0.014491    0.011731    0.000073    0.000620    0.007221   \n",
       "std      0.007018    0.028764    0.006854    0.000283    0.000115    0.001620   \n",
       "min      0.000008    0.000000    0.000577    0.000000    0.000424    0.002996   \n",
       "25%      0.000093    0.000000    0.006243    0.000000    0.000545    0.006061   \n",
       "50%      0.000311    0.000000    0.010421    0.000000    0.000611    0.007376   \n",
       "75%      0.002983    0.024709    0.015120    0.000000    0.000657    0.008358   \n",
       "max      0.066782    0.121905    0.035787    0.001422    0.001337    0.011541   \n",
       "\n",
       "              AGE         DIS         RAD         TAX     PTRATIO           B  \\\n",
       "count  354.000000  354.000000  354.000000  354.000000  354.000000  354.000000   \n",
       "mean     0.075687    0.004479    0.009336    0.427642    0.020880    0.411273   \n",
       "std      0.029466    0.002780    0.007262    0.114922    0.003751    0.124328   \n",
       "min      0.004348    0.000919    0.001163    0.250885    0.014363    0.000374   \n",
       "25%      0.055411    0.002206    0.004740    0.346035    0.016876    0.318534   \n",
       "50%      0.078917    0.003923    0.006021    0.393483    0.021129    0.456271   \n",
       "75%      0.098186    0.006456    0.018223    0.526258    0.024014    0.498519   \n",
       "max      0.144310    0.016269    0.028684    0.795970    0.030523    0.578661   \n",
       "\n",
       "            LSTAT  \n",
       "count  354.000000  \n",
       "mean     0.013544  \n",
       "std      0.007204  \n",
       "min      0.001879  \n",
       "25%      0.008473  \n",
       "50%      0.012262  \n",
       "75%      0.017204  \n",
       "max      0.041723  "
      ]
     },
     "execution_count": 63,
     "metadata": {},
     "output_type": "execute_result"
    }
   ],
   "source": [
    "# xem từng giá trị riêng lẻ của các biến trong dữ liệu ban đầu\n",
    "\n",
    "X_train_scaled.describe()"
   ]
  },
  {
   "cell_type": "markdown",
   "metadata": {
    "id": "3Ip_H5k9ICed"
   },
   "source": [
    "Các giá trị bị nén trong phạm vi giá trị nhỏ hơn."
   ]
  },
  {
   "cell_type": "code",
   "execution_count": 64,
   "metadata": {
    "id": "qv8Z0bowH5tC"
   },
   "outputs": [
    {
     "data": {
      "image/png": "[encoded data removed]",
      "text/plain": [
       "<Figure size 864x360 with 2 Axes>"
      ]
     },
     "metadata": {
      "needs_background": "light"
     },
     "output_type": "display_data"
    }
   ],
   "source": [
    "# so sánh phân phối của biến trước và sau khi co giãn\n",
    "\n",
    "fig, (ax1, ax2) = plt.subplots(ncols=2, figsize=(12, 5))\n",
    "\n",
    "# trước khi co giãn\n",
    "ax1.set_title('Before Scaling')\n",
    "sns.kdeplot(X_train['RM'], ax=ax1)\n",
    "sns.kdeplot(X_train['LSTAT'], ax=ax1)\n",
    "sns.kdeplot(X_train['CRIM'], ax=ax1)\n",
    "\n",
    "# sau khi co giãn\n",
    "ax2.set_title('After Unit Norm Scaling')\n",
    "sns.kdeplot(X_train_scaled['RM'], ax=ax2)\n",
    "sns.kdeplot(X_train_scaled['LSTAT'], ax=ax2)\n",
    "sns.kdeplot(X_train_scaled['CRIM'], ax=ax2)\n",
    "plt.show()"
   ]
  },
  {
   "cell_type": "code",
   "execution_count": 65,
   "metadata": {
    "id": "ehg0CiMOID8u"
   },
   "outputs": [
    {
     "data": {
      "image/png": "[encoded data removed]",
      "text/plain": [
       "<Figure size 864x360 with 2 Axes>"
      ]
     },
     "metadata": {
      "needs_background": "light"
     },
     "output_type": "display_data"
    }
   ],
   "source": [
    "# so sánh phân phối của biến trước và sau khi co giãn\n",
    "fig, (ax1, ax2) = plt.subplots(ncols=2, figsize=(12, 5))\n",
    "\n",
    "# trước khi co giãn\n",
    "ax1.set_title('Before Scaling')\n",
    "#sns.kdeplot(X_train['AGE'], ax=ax1)\n",
    "#sns.kdeplot(X_train['DIS'], ax=ax1)\n",
    "sns.kdeplot(X_train['NOX'], ax=ax1)\n",
    "\n",
    "# sau khi co giãn\n",
    "ax2.set_title('After Unit Norm Scaling')\n",
    "#sns.kdeplot(X_train_scaled['AGE'], ax=ax2)\n",
    "#sns.kdeplot(X_train_scaled['DIS'], ax=ax2)\n",
    "sns.kdeplot(X_train_scaled['NOX'], ax=ax2)\n",
    "plt.show()"
   ]
  },
  {
   "cell_type": "markdown",
   "metadata": {
    "id": "5-ZE3FsHIHP0"
   },
   "source": [
    "Chuẩn hóa này thay đổi phân phối ban đầu của biến khá nhiều. Hãy tiếp tục và chú giải các biến khác để hiểu rõ hơn."
   ]
  },
  {
   "cell_type": "markdown",
   "metadata": {
    "id": "_RSRqMNdIIMN"
   },
   "source": [
    "### Co giãn thành l2"
   ]
  },
  {
   "cell_type": "code",
   "execution_count": 66,
   "metadata": {
    "id": "FiRL8c5-IHl0"
   },
   "outputs": [],
   "source": [
    "## Yêu cầu 9\n",
    "# thiết lập scaler\n",
    "## VIẾT CODE Ở ĐÂY:\n",
    "scaler = Normalizer(norm='l2')\n",
    "\n",
    "# khớp scaler, quy trình này sẽ KHÔNG THỰC HIỆN BẤT CỨ ĐIỀU GÌ\n",
    "## VIẾT CODE Ở ĐÂY:\n",
    "scaler.fit(X_train)\n",
    "\n",
    "# biến đổi tập huấn luyện và tập kiểm tra\n",
    "## VIẾT CODE Ở ĐÂY:\n",
    "X_train_scaled = scaler.transform(X_train)\n",
    "X_test_scaled = scaler.transform(X_test)"
   ]
  },
  {
   "cell_type": "markdown",
   "metadata": {
    "id": "1aQwpQ4uM1WC"
   },
   "source": [
    "<details><summary> Gợi ý </summary>\n",
    "\n",
    "[Normalizer()](https://scikit-learn.org/stable/modules/generated/sklearn.preprocessing.Normalizer.html)\n",
    "\n",
    "</details>"
   ]
  },
  {
   "cell_type": "code",
   "execution_count": 67,
   "metadata": {
    "id": "6Cuup53kILko"
   },
   "outputs": [
    {
     "data": {
      "text/plain": [
       "array([600.5, 458.4, 598. , 519.1, 434. , 511. , 527.9, 496.7, 675.2,\n",
       "       496.5, 450.2, 492.1, 453.5, 492.4, 492.9, 491.5, 770.1, 782.2,\n",
       "       465.2, 759.8, 778.6, 535.3, 764.4, 781.5, 561.9, 562.8, 768.1,\n",
       "       468.2, 725.5, 673.1, 458.8, 572.5, 559.8, 488. , 490.2, 488.9,\n",
       "       441.3, 680.4, 675.6, 483.9, 483.9, 506.2, 474.8, 481.9, 517.8,\n",
       "       747.8, 503.3, 438.2, 483. , 424. , 478.8, 519.9, 451.4, 546.2,\n",
       "       558.3, 516.9, 773.8, 470.4, 467.5, 501.6, 674.5, 528.1, 508.2,\n",
       "       677.1, 593.2, 556.5, 781.9, 465.9, 707.6, 509.6, 501.3, 449.4,\n",
       "       512.5, 778.8, 483.6, 587.7, 485.4, 558.1, 673.1, 504.6, 494.9,\n",
       "       509. , 589.2, 510.6, 777. , 439.2, 478.8, 593.3, 760. , 534.5,\n",
       "       779.9, 586.6, 551.3, 558.4, 446.2, 418.8, 496. , 407.8, 676.2,\n",
       "       782.8, 671. , 499. , 593.6, 482.6, 779.2, 456.1, 483.4, 573.4,\n",
       "       456.5, 477.3, 493.3, 485.7, 490.5, 716.1, 497.2, 760.6, 524.9,\n",
       "       672.1, 488.2, 443.7, 751. , 492.5, 424.3, 458.7, 783. , 596.4,\n",
       "       482.9, 557.2, 515.4, 523.3, 510.3, 483.8, 782.2, 565.5, 447.2,\n",
       "       461.6, 478.5, 483.8, 526.5, 509.4, 484.1, 508.7, 599. , 591.9,\n",
       "       555.7, 733.4, 752.5, 475.7, 474.5, 759.2, 563.3, 502.8, 503.7,\n",
       "       506.2, 497.6, 682.7, 563.5, 487.4, 558.2, 484.7, 490.9, 774.6,\n",
       "       553.2, 544.4, 537.4, 495.4, 548.7, 556.5, 770. , 599.5, 502. ,\n",
       "       481.1, 774.1, 505.8, 483.4, 779.9, 502.8, 475.3, 781.2, 502.6,\n",
       "       576.5, 491. , 455.7, 502.3, 681.5, 455.6, 439. , 439. , 449. ,\n",
       "       427.5, 557.6, 445.8, 786.8, 775.3, 475.3, 493.4, 782.2, 448.9,\n",
       "       772.3, 488.6, 461.9, 476.8, 511.7, 782.7, 469.5, 474.6, 474.1,\n",
       "       778.3, 485.2, 450.9, 451.2, 467.6, 495.3, 772.6, 783. , 746.1,\n",
       "       428.5, 503.2, 494. , 782.9, 598.3, 563.6, 510.8, 458.7, 778.2,\n",
       "       500. , 533.7, 772. , 678.4, 482.5, 517.3, 455.6, 560.4, 496.7,\n",
       "       771.5, 467.4, 487.8, 780.8, 456.2, 765.8, 530.3, 527.6, 457.2,\n",
       "       471.5, 490.4, 783.4, 780.8, 484.3, 453.8, 489.5, 547.8, 575.6,\n",
       "       451.5, 448.5, 773. , 599.3, 674. , 487.8, 478. , 492. , 463.6,\n",
       "       470.5, 431.7, 819.6, 779.5, 673. , 720. , 732.3, 483.4, 488.5,\n",
       "       472. , 587.2, 780. , 474.6, 481.6, 674.5, 493.4, 479.4, 765.6,\n",
       "       775.9, 449.2, 559.4, 771.4, 780.9, 453.9, 673.7, 483.9, 782.8,\n",
       "       466.9, 746.2, 777.8, 599.6, 474.6, 504.4, 452. , 779.9, 568.2,\n",
       "       538.5, 504.7, 533.7, 496.9, 395.5, 596. , 438.6, 781.7, 740. ,\n",
       "       498.7, 672.9, 784.1, 780.8, 571.4, 500.2, 786.5, 499.9, 487.9,\n",
       "       457.3, 782.7, 678.9, 457.7, 491.8, 481.5, 779.1, 560.5, 750.5,\n",
       "       477.9, 496.5, 451.7, 441. , 479.1, 458.5, 797.1, 497.4, 819.4,\n",
       "       476. , 478.6, 507.2, 782.3, 488.2, 778.1, 490.8, 470. , 474.3,\n",
       "       482.9, 471.3, 491.8, 504.5, 777.4, 477.7, 502.2, 491.5, 560.3,\n",
       "       591.3, 465.4, 503.5])"
      ]
     },
     "execution_count": 67,
     "metadata": {},
     "output_type": "execute_result"
    }
   ],
   "source": [
    "# tính chuẩn cho từng quan sát (vectơ đặc trưng)\n",
    "# dữ liệu ban đầu\n",
    "\n",
    "np.round( np.linalg.norm(X_train, ord=2, axis=1), 1)"
   ]
  },
  {
   "cell_type": "code",
   "execution_count": 68,
   "metadata": {
    "id": "IRx-cGpiILmo"
   },
   "outputs": [
    {
     "data": {
      "text/plain": [
       "array([1., 1., 1., 1., 1., 1., 1., 1., 1., 1., 1., 1., 1., 1., 1., 1., 1.,\n",
       "       1., 1., 1., 1., 1., 1., 1., 1., 1., 1., 1., 1., 1., 1., 1., 1., 1.,\n",
       "       1., 1., 1., 1., 1., 1., 1., 1., 1., 1., 1., 1., 1., 1., 1., 1., 1.,\n",
       "       1., 1., 1., 1., 1., 1., 1., 1., 1., 1., 1., 1., 1., 1., 1., 1., 1.,\n",
       "       1., 1., 1., 1., 1., 1., 1., 1., 1., 1., 1., 1., 1., 1., 1., 1., 1.,\n",
       "       1., 1., 1., 1., 1., 1., 1., 1., 1., 1., 1., 1., 1., 1., 1., 1., 1.,\n",
       "       1., 1., 1., 1., 1., 1., 1., 1., 1., 1., 1., 1., 1., 1., 1., 1., 1.,\n",
       "       1., 1., 1., 1., 1., 1., 1., 1., 1., 1., 1., 1., 1., 1., 1., 1., 1.,\n",
       "       1., 1., 1., 1., 1., 1., 1., 1., 1., 1., 1., 1., 1., 1., 1., 1., 1.,\n",
       "       1., 1., 1., 1., 1., 1., 1., 1., 1., 1., 1., 1., 1., 1., 1., 1., 1.,\n",
       "       1., 1., 1., 1., 1., 1., 1., 1., 1., 1., 1., 1., 1., 1., 1., 1., 1.,\n",
       "       1., 1., 1., 1., 1., 1., 1., 1., 1., 1., 1., 1., 1., 1., 1., 1., 1.,\n",
       "       1., 1., 1., 1., 1., 1., 1., 1., 1., 1., 1., 1., 1., 1., 1., 1., 1.,\n",
       "       1., 1., 1., 1., 1., 1., 1., 1., 1., 1., 1., 1., 1., 1., 1., 1., 1.,\n",
       "       1., 1., 1., 1., 1., 1., 1., 1., 1., 1., 1., 1., 1., 1., 1., 1., 1.,\n",
       "       1., 1., 1., 1., 1., 1., 1., 1., 1., 1., 1., 1., 1., 1., 1., 1., 1.,\n",
       "       1., 1., 1., 1., 1., 1., 1., 1., 1., 1., 1., 1., 1., 1., 1., 1., 1.,\n",
       "       1., 1., 1., 1., 1., 1., 1., 1., 1., 1., 1., 1., 1., 1., 1., 1., 1.,\n",
       "       1., 1., 1., 1., 1., 1., 1., 1., 1., 1., 1., 1., 1., 1., 1., 1., 1.,\n",
       "       1., 1., 1., 1., 1., 1., 1., 1., 1., 1., 1., 1., 1., 1., 1., 1., 1.,\n",
       "       1., 1., 1., 1., 1., 1., 1., 1., 1., 1., 1., 1., 1., 1.])"
      ]
     },
     "execution_count": 68,
     "metadata": {},
     "output_type": "execute_result"
    }
   ],
   "source": [
    "# tính chuẩn cho từng quan sát (vectơ đặc trưng)\n",
    "# dữ liệu đã co giãn\n",
    "\n",
    "np.round( np.linalg.norm(X_train_scaled, ord=2, axis=1), 1)"
   ]
  },
  {
   "cell_type": "code",
   "execution_count": 70,
   "metadata": {
    "id": "MFbCKKJyIK9j"
   },
   "outputs": [],
   "source": [
    "# biến đổi các mảng NumPy đã trả về vào các dataframe cho phần còn lại của\n",
    "# bản mô phỏng\n",
    "\n",
    "X_train_scaled = pd.DataFrame(X_train_scaled, columns=X_train.columns)\n",
    "X_test_scaled = pd.DataFrame(X_test_scaled, columns=X_test.columns)"
   ]
  },
  {
   "cell_type": "code",
   "execution_count": 71,
   "metadata": {
    "id": "_8D6Pbu8IK_n"
   },
   "outputs": [
    {
     "data": {
      "text/html": [
       "<div>\n",
       "<style scoped>\n",
       "    .dataframe tbody tr th:only-of-type {\n",
       "        vertical-align: middle;\n",
       "    }\n",
       "\n",
       "    .dataframe tbody tr th {\n",
       "        vertical-align: top;\n",
       "    }\n",
       "\n",
       "    .dataframe thead th {\n",
       "        text-align: right;\n",
       "    }\n",
       "</style>\n",
       "<table border=\"1\" class=\"dataframe\">\n",
       "  <thead>\n",
       "    <tr style=\"text-align: right;\">\n",
       "      <th></th>\n",
       "      <th>CRIM</th>\n",
       "      <th>ZN</th>\n",
       "      <th>INDUS</th>\n",
       "      <th>CHAS</th>\n",
       "      <th>NOX</th>\n",
       "      <th>RM</th>\n",
       "      <th>AGE</th>\n",
       "      <th>DIS</th>\n",
       "      <th>RAD</th>\n",
       "      <th>TAX</th>\n",
       "      <th>PTRATIO</th>\n",
       "      <th>B</th>\n",
       "      <th>LSTAT</th>\n",
       "    </tr>\n",
       "  </thead>\n",
       "  <tbody>\n",
       "    <tr>\n",
       "      <th>count</th>\n",
       "      <td>354.000000</td>\n",
       "      <td>354.000000</td>\n",
       "      <td>354.000000</td>\n",
       "      <td>354.000000</td>\n",
       "      <td>354.000000</td>\n",
       "      <td>354.000000</td>\n",
       "      <td>354.000000</td>\n",
       "      <td>354.000000</td>\n",
       "      <td>354.000000</td>\n",
       "      <td>354.000000</td>\n",
       "      <td>354.000000</td>\n",
       "      <td>354.000000</td>\n",
       "      <td>354.000000</td>\n",
       "    </tr>\n",
       "    <tr>\n",
       "      <th>mean</th>\n",
       "      <td>3.358284</td>\n",
       "      <td>11.809322</td>\n",
       "      <td>11.078757</td>\n",
       "      <td>0.064972</td>\n",
       "      <td>0.556098</td>\n",
       "      <td>6.308427</td>\n",
       "      <td>68.994068</td>\n",
       "      <td>3.762459</td>\n",
       "      <td>9.353107</td>\n",
       "      <td>401.782486</td>\n",
       "      <td>18.473446</td>\n",
       "      <td>360.601186</td>\n",
       "      <td>12.440650</td>\n",
       "    </tr>\n",
       "    <tr>\n",
       "      <th>std</th>\n",
       "      <td>8.353223</td>\n",
       "      <td>23.653056</td>\n",
       "      <td>6.993821</td>\n",
       "      <td>0.246825</td>\n",
       "      <td>0.115601</td>\n",
       "      <td>0.702009</td>\n",
       "      <td>28.038429</td>\n",
       "      <td>2.067661</td>\n",
       "      <td>8.671999</td>\n",
       "      <td>170.592404</td>\n",
       "      <td>2.224809</td>\n",
       "      <td>85.621945</td>\n",
       "      <td>7.078485</td>\n",
       "    </tr>\n",
       "    <tr>\n",
       "      <th>min</th>\n",
       "      <td>0.006320</td>\n",
       "      <td>0.000000</td>\n",
       "      <td>0.460000</td>\n",
       "      <td>0.000000</td>\n",
       "      <td>0.385000</td>\n",
       "      <td>3.561000</td>\n",
       "      <td>2.900000</td>\n",
       "      <td>1.174200</td>\n",
       "      <td>1.000000</td>\n",
       "      <td>187.000000</td>\n",
       "      <td>12.600000</td>\n",
       "      <td>0.320000</td>\n",
       "      <td>1.730000</td>\n",
       "    </tr>\n",
       "    <tr>\n",
       "      <th>25%</th>\n",
       "      <td>0.073425</td>\n",
       "      <td>0.000000</td>\n",
       "      <td>4.950000</td>\n",
       "      <td>0.000000</td>\n",
       "      <td>0.450000</td>\n",
       "      <td>5.895250</td>\n",
       "      <td>45.175000</td>\n",
       "      <td>2.107650</td>\n",
       "      <td>4.000000</td>\n",
       "      <td>276.000000</td>\n",
       "      <td>17.400000</td>\n",
       "      <td>376.057500</td>\n",
       "      <td>6.735000</td>\n",
       "    </tr>\n",
       "    <tr>\n",
       "      <th>50%</th>\n",
       "      <td>0.262660</td>\n",
       "      <td>0.000000</td>\n",
       "      <td>8.560000</td>\n",
       "      <td>0.000000</td>\n",
       "      <td>0.538000</td>\n",
       "      <td>6.215500</td>\n",
       "      <td>79.450000</td>\n",
       "      <td>3.215700</td>\n",
       "      <td>5.000000</td>\n",
       "      <td>311.000000</td>\n",
       "      <td>19.100000</td>\n",
       "      <td>391.605000</td>\n",
       "      <td>11.160000</td>\n",
       "    </tr>\n",
       "    <tr>\n",
       "      <th>75%</th>\n",
       "      <td>3.103700</td>\n",
       "      <td>20.000000</td>\n",
       "      <td>18.100000</td>\n",
       "      <td>0.000000</td>\n",
       "      <td>0.629250</td>\n",
       "      <td>6.647250</td>\n",
       "      <td>93.750000</td>\n",
       "      <td>5.079300</td>\n",
       "      <td>24.000000</td>\n",
       "      <td>666.000000</td>\n",
       "      <td>20.200000</td>\n",
       "      <td>395.690000</td>\n",
       "      <td>16.717500</td>\n",
       "    </tr>\n",
       "    <tr>\n",
       "      <th>max</th>\n",
       "      <td>88.976200</td>\n",
       "      <td>100.000000</td>\n",
       "      <td>27.740000</td>\n",
       "      <td>1.000000</td>\n",
       "      <td>0.871000</td>\n",
       "      <td>8.780000</td>\n",
       "      <td>100.000000</td>\n",
       "      <td>12.126500</td>\n",
       "      <td>24.000000</td>\n",
       "      <td>711.000000</td>\n",
       "      <td>22.000000</td>\n",
       "      <td>396.900000</td>\n",
       "      <td>36.980000</td>\n",
       "    </tr>\n",
       "  </tbody>\n",
       "</table>\n",
       "</div>"
      ],
      "text/plain": [
       "             CRIM          ZN       INDUS        CHAS         NOX          RM  \\\n",
       "count  354.000000  354.000000  354.000000  354.000000  354.000000  354.000000   \n",
       "mean     3.358284   11.809322   11.078757    0.064972    0.556098    6.308427   \n",
       "std      8.353223   23.653056    6.993821    0.246825    0.115601    0.702009   \n",
       "min      0.006320    0.000000    0.460000    0.000000    0.385000    3.561000   \n",
       "25%      0.073425    0.000000    4.950000    0.000000    0.450000    5.895250   \n",
       "50%      0.262660    0.000000    8.560000    0.000000    0.538000    6.215500   \n",
       "75%      3.103700   20.000000   18.100000    0.000000    0.629250    6.647250   \n",
       "max     88.976200  100.000000   27.740000    1.000000    0.871000    8.780000   \n",
       "\n",
       "              AGE         DIS         RAD         TAX     PTRATIO           B  \\\n",
       "count  354.000000  354.000000  354.000000  354.000000  354.000000  354.000000   \n",
       "mean    68.994068    3.762459    9.353107  401.782486   18.473446  360.601186   \n",
       "std     28.038429    2.067661    8.671999  170.592404    2.224809   85.621945   \n",
       "min      2.900000    1.174200    1.000000  187.000000   12.600000    0.320000   \n",
       "25%     45.175000    2.107650    4.000000  276.000000   17.400000  376.057500   \n",
       "50%     79.450000    3.215700    5.000000  311.000000   19.100000  391.605000   \n",
       "75%     93.750000    5.079300   24.000000  666.000000   20.200000  395.690000   \n",
       "max    100.000000   12.126500   24.000000  711.000000   22.000000  396.900000   \n",
       "\n",
       "            LSTAT  \n",
       "count  354.000000  \n",
       "mean    12.440650  \n",
       "std      7.078485  \n",
       "min      1.730000  \n",
       "25%      6.735000  \n",
       "50%     11.160000  \n",
       "75%     16.717500  \n",
       "max     36.980000  "
      ]
     },
     "execution_count": 71,
     "metadata": {},
     "output_type": "execute_result"
    }
   ],
   "source": [
    "X_train.describe()"
   ]
  },
  {
   "cell_type": "code",
   "execution_count": 72,
   "metadata": {
    "id": "7vrejyZXILB4"
   },
   "outputs": [
    {
     "data": {
      "text/html": [
       "<div>\n",
       "<style scoped>\n",
       "    .dataframe tbody tr th:only-of-type {\n",
       "        vertical-align: middle;\n",
       "    }\n",
       "\n",
       "    .dataframe tbody tr th {\n",
       "        vertical-align: top;\n",
       "    }\n",
       "\n",
       "    .dataframe thead th {\n",
       "        text-align: right;\n",
       "    }\n",
       "</style>\n",
       "<table border=\"1\" class=\"dataframe\">\n",
       "  <thead>\n",
       "    <tr style=\"text-align: right;\">\n",
       "      <th></th>\n",
       "      <th>CRIM</th>\n",
       "      <th>ZN</th>\n",
       "      <th>INDUS</th>\n",
       "      <th>CHAS</th>\n",
       "      <th>NOX</th>\n",
       "      <th>RM</th>\n",
       "      <th>AGE</th>\n",
       "      <th>DIS</th>\n",
       "      <th>RAD</th>\n",
       "      <th>TAX</th>\n",
       "      <th>PTRATIO</th>\n",
       "      <th>B</th>\n",
       "      <th>LSTAT</th>\n",
       "    </tr>\n",
       "  </thead>\n",
       "  <tbody>\n",
       "    <tr>\n",
       "      <th>count</th>\n",
       "      <td>354.000000</td>\n",
       "      <td>354.000000</td>\n",
       "      <td>354.000000</td>\n",
       "      <td>354.000000</td>\n",
       "      <td>354.000000</td>\n",
       "      <td>354.000000</td>\n",
       "      <td>354.000000</td>\n",
       "      <td>354.000000</td>\n",
       "      <td>354.000000</td>\n",
       "      <td>354.000000</td>\n",
       "      <td>354.000000</td>\n",
       "      <td>354.000000</td>\n",
       "      <td>354.000000</td>\n",
       "    </tr>\n",
       "    <tr>\n",
       "      <th>mean</th>\n",
       "      <td>0.004688</td>\n",
       "      <td>0.024027</td>\n",
       "      <td>0.018758</td>\n",
       "      <td>0.000120</td>\n",
       "      <td>0.000997</td>\n",
       "      <td>0.011640</td>\n",
       "      <td>0.122166</td>\n",
       "      <td>0.007251</td>\n",
       "      <td>0.014647</td>\n",
       "      <td>0.682156</td>\n",
       "      <td>0.033589</td>\n",
       "      <td>0.668592</td>\n",
       "      <td>0.021765</td>\n",
       "    </tr>\n",
       "    <tr>\n",
       "      <th>std</th>\n",
       "      <td>0.011049</td>\n",
       "      <td>0.048105</td>\n",
       "      <td>0.010982</td>\n",
       "      <td>0.000463</td>\n",
       "      <td>0.000187</td>\n",
       "      <td>0.002718</td>\n",
       "      <td>0.048931</td>\n",
       "      <td>0.004588</td>\n",
       "      <td>0.010624</td>\n",
       "      <td>0.152037</td>\n",
       "      <td>0.006168</td>\n",
       "      <td>0.203917</td>\n",
       "      <td>0.011661</td>\n",
       "    </tr>\n",
       "    <tr>\n",
       "      <th>min</th>\n",
       "      <td>0.000013</td>\n",
       "      <td>0.000000</td>\n",
       "      <td>0.000963</td>\n",
       "      <td>0.000000</td>\n",
       "      <td>0.000681</td>\n",
       "      <td>0.004682</td>\n",
       "      <td>0.006431</td>\n",
       "      <td>0.001499</td>\n",
       "      <td>0.001911</td>\n",
       "      <td>0.425977</td>\n",
       "      <td>0.024238</td>\n",
       "      <td>0.000475</td>\n",
       "      <td>0.003099</td>\n",
       "    </tr>\n",
       "    <tr>\n",
       "      <th>25%</th>\n",
       "      <td>0.000148</td>\n",
       "      <td>0.000000</td>\n",
       "      <td>0.010430</td>\n",
       "      <td>0.000000</td>\n",
       "      <td>0.000883</td>\n",
       "      <td>0.009432</td>\n",
       "      <td>0.088582</td>\n",
       "      <td>0.003363</td>\n",
       "      <td>0.007875</td>\n",
       "      <td>0.565434</td>\n",
       "      <td>0.027163</td>\n",
       "      <td>0.507064</td>\n",
       "      <td>0.013486</td>\n",
       "    </tr>\n",
       "    <tr>\n",
       "      <th>50%</th>\n",
       "      <td>0.000515</td>\n",
       "      <td>0.000000</td>\n",
       "      <td>0.016919</td>\n",
       "      <td>0.000000</td>\n",
       "      <td>0.000979</td>\n",
       "      <td>0.012099</td>\n",
       "      <td>0.126282</td>\n",
       "      <td>0.006399</td>\n",
       "      <td>0.010027</td>\n",
       "      <td>0.639890</td>\n",
       "      <td>0.033567</td>\n",
       "      <td>0.753246</td>\n",
       "      <td>0.019929</td>\n",
       "    </tr>\n",
       "    <tr>\n",
       "      <th>75%</th>\n",
       "      <td>0.004750</td>\n",
       "      <td>0.041516</td>\n",
       "      <td>0.023812</td>\n",
       "      <td>0.000000</td>\n",
       "      <td>0.001060</td>\n",
       "      <td>0.013580</td>\n",
       "      <td>0.158637</td>\n",
       "      <td>0.010516</td>\n",
       "      <td>0.030581</td>\n",
       "      <td>0.850914</td>\n",
       "      <td>0.038620</td>\n",
       "      <td>0.809355</td>\n",
       "      <td>0.027524</td>\n",
       "    </tr>\n",
       "    <tr>\n",
       "      <th>max</th>\n",
       "      <td>0.113081</td>\n",
       "      <td>0.207644</td>\n",
       "      <td>0.061249</td>\n",
       "      <td>0.002282</td>\n",
       "      <td>0.002053</td>\n",
       "      <td>0.018156</td>\n",
       "      <td>0.237626</td>\n",
       "      <td>0.027624</td>\n",
       "      <td>0.035766</td>\n",
       "      <td>0.992514</td>\n",
       "      <td>0.053097</td>\n",
       "      <td>0.889808</td>\n",
       "      <td>0.070063</td>\n",
       "    </tr>\n",
       "  </tbody>\n",
       "</table>\n",
       "</div>"
      ],
      "text/plain": [
       "             CRIM          ZN       INDUS        CHAS         NOX          RM  \\\n",
       "count  354.000000  354.000000  354.000000  354.000000  354.000000  354.000000   \n",
       "mean     0.004688    0.024027    0.018758    0.000120    0.000997    0.011640   \n",
       "std      0.011049    0.048105    0.010982    0.000463    0.000187    0.002718   \n",
       "min      0.000013    0.000000    0.000963    0.000000    0.000681    0.004682   \n",
       "25%      0.000148    0.000000    0.010430    0.000000    0.000883    0.009432   \n",
       "50%      0.000515    0.000000    0.016919    0.000000    0.000979    0.012099   \n",
       "75%      0.004750    0.041516    0.023812    0.000000    0.001060    0.013580   \n",
       "max      0.113081    0.207644    0.061249    0.002282    0.002053    0.018156   \n",
       "\n",
       "              AGE         DIS         RAD         TAX     PTRATIO           B  \\\n",
       "count  354.000000  354.000000  354.000000  354.000000  354.000000  354.000000   \n",
       "mean     0.122166    0.007251    0.014647    0.682156    0.033589    0.668592   \n",
       "std      0.048931    0.004588    0.010624    0.152037    0.006168    0.203917   \n",
       "min      0.006431    0.001499    0.001911    0.425977    0.024238    0.000475   \n",
       "25%      0.088582    0.003363    0.007875    0.565434    0.027163    0.507064   \n",
       "50%      0.126282    0.006399    0.010027    0.639890    0.033567    0.753246   \n",
       "75%      0.158637    0.010516    0.030581    0.850914    0.038620    0.809355   \n",
       "max      0.237626    0.027624    0.035766    0.992514    0.053097    0.889808   \n",
       "\n",
       "            LSTAT  \n",
       "count  354.000000  \n",
       "mean     0.021765  \n",
       "std      0.011661  \n",
       "min      0.003099  \n",
       "25%      0.013486  \n",
       "50%      0.019929  \n",
       "75%      0.027524  \n",
       "max      0.070063  "
      ]
     },
     "execution_count": 72,
     "metadata": {},
     "output_type": "execute_result"
    }
   ],
   "source": [
    "X_train_scaled.describe()"
   ]
  },
  {
   "cell_type": "code",
   "execution_count": 73,
   "metadata": {
    "id": "QsxXGfOyISML"
   },
   "outputs": [
    {
     "data": {
      "image/png": "[encoded data removed]",
      "text/plain": [
       "<Figure size 864x360 with 2 Axes>"
      ]
     },
     "metadata": {
      "needs_background": "light"
     },
     "output_type": "display_data"
    }
   ],
   "source": [
    "# so sánh phân phối của biến trước và sau khi co giãn\n",
    "\n",
    "fig, (ax1, ax2) = plt.subplots(ncols=2, figsize=(12, 5))\n",
    "\n",
    "# trước khi co giãn\n",
    "ax1.set_title('Before Scaling')\n",
    "sns.kdeplot(X_train['RM'], ax=ax1)\n",
    "sns.kdeplot(X_train['LSTAT'], ax=ax1)\n",
    "sns.kdeplot(X_train['CRIM'], ax=ax1)\n",
    "\n",
    "# sau khi co giãn\n",
    "ax2.set_title('After Unit Norm Scaling')\n",
    "sns.kdeplot(X_train_scaled['RM'], ax=ax2)\n",
    "sns.kdeplot(X_train_scaled['LSTAT'], ax=ax2)\n",
    "sns.kdeplot(X_train_scaled['CRIM'], ax=ax2)\n",
    "plt.show()"
   ]
  },
  {
   "cell_type": "code",
   "execution_count": 74,
   "metadata": {
    "id": "v52R_oMTISOu"
   },
   "outputs": [
    {
     "data": {
      "image/png": "[encoded data removed]",
      "text/plain": [
       "<Figure size 864x360 with 2 Axes>"
      ]
     },
     "metadata": {
      "needs_background": "light"
     },
     "output_type": "display_data"
    }
   ],
   "source": [
    "fig, (ax1, ax2) = plt.subplots(ncols=2, figsize=(12, 5))\n",
    "\n",
    "# trước khi co giãn\n",
    "ax1.set_title('Before Scaling')\n",
    "#sns.kdeplot(X_train['AGE'], ax=ax1)\n",
    "#sns.kdeplot(X_train['DIS'], ax=ax1)\n",
    "sns.kdeplot(X_train['NOX'], ax=ax1)\n",
    "\n",
    "# sau khi co giãn\n",
    "ax2.set_title('After Unit Norm Scaling')\n",
    "#sns.kdeplot(X_train_scaled['AGE'], ax=ax2)\n",
    "#sns.kdeplot(X_train_scaled['DIS'], ax=ax2)\n",
    "sns.kdeplot(X_train_scaled['NOX'], ax=ax2)\n",
    "plt.show()"
   ]
  },
  {
   "cell_type": "markdown",
   "metadata": {
    "id": "bYXy6v0vISQ3"
   },
   "source": [
    "================================End=============================="
   ]
  }
 ],
 "metadata": {
  "colab": {
   "collapsed_sections": [],
   "name": "10.3 Co giãn đặc trưng.ipynb",
   "provenance": [],
   "toc_visible": true
  },
  "kernelspec": {
   "display_name": "pytorch",
   "language": "python",
   "name": "pytorch"
  },
  "language_info": {
   "codemirror_mode": {
    "name": "ipython",
    "version": 3
   },
   "file_extension": ".py",
   "mimetype": "text/x-python",
   "name": "python",
   "nbconvert_exporter": "python",
   "pygments_lexer": "ipython3",
   "version": "3.7.10"
  },
  "toc": {
   "nav_menu": {},
   "number_sections": true,
   "sideBar": true,
   "skip_h1_title": false,
   "toc_cell": false,
   "toc_position": {},
   "toc_section_display": "block",
   "toc_window_display": true
  }
 },
 "nbformat": 4,
 "nbformat_minor": 1
}
