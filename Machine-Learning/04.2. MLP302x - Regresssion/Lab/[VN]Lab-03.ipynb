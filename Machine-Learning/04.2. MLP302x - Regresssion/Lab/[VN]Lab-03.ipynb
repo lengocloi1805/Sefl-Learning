{
 "cells": [
  {
   "cell_type": "markdown",
   "metadata": {
    "id": "-tZq1hXCXmYn"
   },
   "source": [
    "# Đánh giá khớp (Hồi quy đa thức)"
   ]
  },
  {
   "cell_type": "markdown",
   "metadata": {
    "id": "N3r8GEwtXmYs"
   },
   "source": [
    "Trong notebook này, chúng ta sẽ so sánh các mô hình hồi quy khác nhau để đánh giá xem mô hình nào khớp nhất. Chúng ta sẽ sử dụng hồi quy đa thức để xem xét chủ đề này. Cụ thể, chúng ta sẽ:\n",
    "* Viết hàm nhận một đặc trưng đơn lẻ (trong mảng Numpy/Series) và một bậc, trả về một DataFrame có từng cột là đặc trưng tới giá trị đa thức lên tới tổng bậc, chẳng hạn: bậc = 3 thì cột 1 là đặc trưng ban đầu, cột 2 là đặc trưng bình phương và cột 3 là đặc trưng lập phương.\n",
    "* Sử dụng matplotlib để trực quan hóa hồi quy đa thức.\n",
    "* Sử dụng matplotlib để trực quan hóa cùng bậc đa thức trong cùng một tập con dữ liệu.\n",
    "* Sử dụng tập kiểm định để chọn bậc đa thức.\n",
    "* Đánh giá khớp cuối cùng sử dụng dữ liệu kiểm tra.\n",
    "\n",
    "Chúng ta vẫn sử dụng dữ liệu nhà ở từ notebook trước."
   ]
  },
  {
   "cell_type": "markdown",
   "metadata": {
    "id": "RMGCkP2yXmYw"
   },
   "source": [
    "## Thư viện"
   ]
  },
  {
   "cell_type": "code",
   "execution_count": 1,
   "metadata": {
    "id": "s52LRfPqXmZI"
   },
   "outputs": [],
   "source": [
    "import sklearn\n",
    "import pandas\n",
    "import numpy as np"
   ]
  },
  {
   "cell_type": "markdown",
   "metadata": {
    "id": "yViY6sRuXmZN"
   },
   "source": [
    "Tiếp theo, chúng ta sẽ viết hàm đa thức nhận một đặc trưng và một bậc cực đại, trả về DataFrame chứa tất cả các lũy thừa của đặc trưng cho đến bậc cực đại.\n",
    "\n",
    "Cách đơn giản nhất để vận dụng lũy thừa vào một Series là sử dụng các hàm `.apply` và `lambda x:`. Tuy nhiên, mảng Numpy chỉ có thể thực hiện nó dễ dàng với các phép số học đơn giản; nếu không, nó sẽ yêu cầu `np.vectorize` khó hiểu hơn. Ví dụ để lấy mảng mock và tính lũy thừa bậc ba, chúng ta có thể làm như sau: "
   ]
  },
  {
   "cell_type": "code",
   "execution_count": 2,
   "metadata": {
    "id": "JRIJWduZXmZQ",
    "outputId": "08707238-b9d5-4027-c12e-540b5d06bf76"
   },
   "outputs": [
    {
     "name": "stdout",
     "output_type": "stream",
     "text": [
      "[1. 2. 3.] [ 1.  8. 27.] [ 1.  8. 27.]\n",
      "0    1.0\n",
      "1    2.0\n",
      "2    3.0\n",
      "dtype: float64 \n",
      " 0     1.0\n",
      "1     8.0\n",
      "2    27.0\n",
      "dtype: float64\n"
     ]
    }
   ],
   "source": [
    "mock = np.array([1., 2., 3.])\n",
    "mock_series = pandas.Series(mock)\n",
    "mock_cubed = mock ** 3\n",
    "mock_cubed_long = np.vectorize(lambda x: x ** 3)(mock)\n",
    "mock_series_cubed = mock_series.apply(lambda x: x ** 3)\n",
    "print(mock, mock_cubed, mock_cubed_long)\n",
    "print(mock_series, \"\\n\", mock_series_cubed)"
   ]
  },
  {
   "cell_type": "markdown",
   "metadata": {
    "id": "lmALtseEXmZW"
   },
   "source": [
    "Chúng ta có thể tạo một DataFrame trống sử dụng `pandas.DataFrame()`, sau đó thêm bất kỳ cột nào vào đó với `dataframe['column_name'] = value`. Chẳng hạn, chúng ta tạo một DataFrame trống và đặt cột 'power_1' là lũy thừa bậc một của giá trị mock."
   ]
  },
  {
   "cell_type": "code",
   "execution_count": 14,
   "metadata": {
    "id": "_nOOjdsaXmZY",
    "outputId": "631e135e-4dc4-4107-8b8b-bee49dee729e"
   },
   "outputs": [
    {
     "name": "stdout",
     "output_type": "stream",
     "text": [
      "   power_1\n",
      "0      1.0\n",
      "1      2.0\n",
      "2      3.0\n"
     ]
    }
   ],
   "source": [
    "data = pandas.DataFrame()\n",
    "data['power_1'] = mock\n",
    "print(data)"
   ]
  },
  {
   "cell_type": "markdown",
   "metadata": {
    "id": "U5_oDv59XmZc"
   },
   "source": [
    "## Hàm `polynomial_dataframe` "
   ]
  },
  {
   "cell_type": "markdown",
   "metadata": {
    "id": "g5Fa_V7tXmZd"
   },
   "source": [
    "Sử dụng các gợi ý phía trên để hoàn thiện hàm sau: "
   ]
  },
  {
   "cell_type": "code",
   "execution_count": 15,
   "metadata": {
    "id": "QejpEAagXmZf"
   },
   "outputs": [],
   "source": [
    "def polynomial_dataframe(feature, degree):\n",
    "    # giả sử bậc >= 1\n",
    "    # khởi tạo DataFrame:\n",
    "    poly_data = pandas.DataFrame()\n",
    "    # và đặt poly_data['power_1'] bằng với đặc trưng đã truyền vào\n",
    "    poly_data['power_1'] = feature\n",
    "    # trước tiên kiểm tra xem bậc có lớn hơn 1 không\n",
    "    if degree > 1:\n",
    "        # thì lặp qua các bậc còn lại: \n",
    "        # range thường bắt đầu range từ 0 và kết thúc ở đầu cuối -1. Chúng ta cần nó bắt đầu từ 2 và ngừng ở bậc\n",
    "        for power in range(2, degree+1): \n",
    "            # trước tiên đặt tên cột:\n",
    "            name = 'power_' + str(power)\n",
    "            # sau đó gán poly_sframe[name] cho lũy thừa thích hợp của đặc trưng\n",
    "            poly_data[name] = poly_data['power_1'].apply(lambda x: x ** power)\n",
    "    return poly_data"
   ]
  },
  {
   "cell_type": "markdown",
   "metadata": {
    "id": "EFEXKbksXmZi"
   },
   "source": [
    "Kiểm tra hàm với biến **mock** và kết quả dự kiến của cell sau:"
   ]
  },
  {
   "cell_type": "code",
   "execution_count": 16,
   "metadata": {
    "id": "uJX0srA8XmZk",
    "outputId": "829e0bc1-0e0b-48d1-e735-7a27e36387c6"
   },
   "outputs": [
    {
     "name": "stdout",
     "output_type": "stream",
     "text": [
      "   power_1  power_2  power_3\n",
      "0      1.0      1.0      1.0\n",
      "1      2.0      4.0      8.0\n",
      "2      3.0      9.0     27.0\n"
     ]
    }
   ],
   "source": [
    "print(polynomial_dataframe(mock, 3))"
   ]
  },
  {
   "cell_type": "markdown",
   "metadata": {
    "id": "ahg2DtorXmZm"
   },
   "source": [
    "# Trực quan hóa hồi quy đa thức"
   ]
  },
  {
   "cell_type": "markdown",
   "metadata": {
    "id": "bDMXYr61XmZn"
   },
   "source": [
    "Sử dụng matplotlib để hiển thị hồi quy đa thức trông như thế nào trong dữ liệu thực."
   ]
  },
  {
   "cell_type": "code",
   "execution_count": 7,
   "metadata": {
    "id": "swewnTKdXmZo"
   },
   "outputs": [],
   "source": [
    "full_data = pandas.read_csv(\"kc_house_data.csv\", index_col=0)"
   ]
  },
  {
   "cell_type": "code",
   "execution_count": 8,
   "metadata": {},
   "outputs": [
    {
     "data": {
      "text/html": [
       "<div>\n",
       "<style scoped>\n",
       "    .dataframe tbody tr th:only-of-type {\n",
       "        vertical-align: middle;\n",
       "    }\n",
       "\n",
       "    .dataframe tbody tr th {\n",
       "        vertical-align: top;\n",
       "    }\n",
       "\n",
       "    .dataframe thead th {\n",
       "        text-align: right;\n",
       "    }\n",
       "</style>\n",
       "<table border=\"1\" class=\"dataframe\">\n",
       "  <thead>\n",
       "    <tr style=\"text-align: right;\">\n",
       "      <th></th>\n",
       "      <th>date</th>\n",
       "      <th>price</th>\n",
       "      <th>bedrooms</th>\n",
       "      <th>bathrooms</th>\n",
       "      <th>sqft_living</th>\n",
       "      <th>sqft_lot</th>\n",
       "      <th>floors</th>\n",
       "      <th>waterfront</th>\n",
       "      <th>view</th>\n",
       "      <th>condition</th>\n",
       "      <th>grade</th>\n",
       "      <th>sqft_above</th>\n",
       "      <th>sqft_basement</th>\n",
       "      <th>yr_built</th>\n",
       "      <th>yr_renovated</th>\n",
       "      <th>zipcode</th>\n",
       "      <th>lat</th>\n",
       "      <th>long</th>\n",
       "      <th>sqft_living15</th>\n",
       "      <th>sqft_lot15</th>\n",
       "    </tr>\n",
       "    <tr>\n",
       "      <th>id</th>\n",
       "      <th></th>\n",
       "      <th></th>\n",
       "      <th></th>\n",
       "      <th></th>\n",
       "      <th></th>\n",
       "      <th></th>\n",
       "      <th></th>\n",
       "      <th></th>\n",
       "      <th></th>\n",
       "      <th></th>\n",
       "      <th></th>\n",
       "      <th></th>\n",
       "      <th></th>\n",
       "      <th></th>\n",
       "      <th></th>\n",
       "      <th></th>\n",
       "      <th></th>\n",
       "      <th></th>\n",
       "      <th></th>\n",
       "      <th></th>\n",
       "    </tr>\n",
       "  </thead>\n",
       "  <tbody>\n",
       "    <tr>\n",
       "      <th>7129300520</th>\n",
       "      <td>20141013T000000</td>\n",
       "      <td>221900.0</td>\n",
       "      <td>3</td>\n",
       "      <td>1.00</td>\n",
       "      <td>1180</td>\n",
       "      <td>5650</td>\n",
       "      <td>1.0</td>\n",
       "      <td>0</td>\n",
       "      <td>0</td>\n",
       "      <td>3</td>\n",
       "      <td>7</td>\n",
       "      <td>1180</td>\n",
       "      <td>0</td>\n",
       "      <td>1955</td>\n",
       "      <td>0</td>\n",
       "      <td>98178</td>\n",
       "      <td>47.5112</td>\n",
       "      <td>-122.257</td>\n",
       "      <td>1340</td>\n",
       "      <td>5650</td>\n",
       "    </tr>\n",
       "    <tr>\n",
       "      <th>6414100192</th>\n",
       "      <td>20141209T000000</td>\n",
       "      <td>538000.0</td>\n",
       "      <td>3</td>\n",
       "      <td>2.25</td>\n",
       "      <td>2570</td>\n",
       "      <td>7242</td>\n",
       "      <td>2.0</td>\n",
       "      <td>0</td>\n",
       "      <td>0</td>\n",
       "      <td>3</td>\n",
       "      <td>7</td>\n",
       "      <td>2170</td>\n",
       "      <td>400</td>\n",
       "      <td>1951</td>\n",
       "      <td>1991</td>\n",
       "      <td>98125</td>\n",
       "      <td>47.7210</td>\n",
       "      <td>-122.319</td>\n",
       "      <td>1690</td>\n",
       "      <td>7639</td>\n",
       "    </tr>\n",
       "    <tr>\n",
       "      <th>5631500400</th>\n",
       "      <td>20150225T000000</td>\n",
       "      <td>180000.0</td>\n",
       "      <td>2</td>\n",
       "      <td>1.00</td>\n",
       "      <td>770</td>\n",
       "      <td>10000</td>\n",
       "      <td>1.0</td>\n",
       "      <td>0</td>\n",
       "      <td>0</td>\n",
       "      <td>3</td>\n",
       "      <td>6</td>\n",
       "      <td>770</td>\n",
       "      <td>0</td>\n",
       "      <td>1933</td>\n",
       "      <td>0</td>\n",
       "      <td>98028</td>\n",
       "      <td>47.7379</td>\n",
       "      <td>-122.233</td>\n",
       "      <td>2720</td>\n",
       "      <td>8062</td>\n",
       "    </tr>\n",
       "    <tr>\n",
       "      <th>2487200875</th>\n",
       "      <td>20141209T000000</td>\n",
       "      <td>604000.0</td>\n",
       "      <td>4</td>\n",
       "      <td>3.00</td>\n",
       "      <td>1960</td>\n",
       "      <td>5000</td>\n",
       "      <td>1.0</td>\n",
       "      <td>0</td>\n",
       "      <td>0</td>\n",
       "      <td>5</td>\n",
       "      <td>7</td>\n",
       "      <td>1050</td>\n",
       "      <td>910</td>\n",
       "      <td>1965</td>\n",
       "      <td>0</td>\n",
       "      <td>98136</td>\n",
       "      <td>47.5208</td>\n",
       "      <td>-122.393</td>\n",
       "      <td>1360</td>\n",
       "      <td>5000</td>\n",
       "    </tr>\n",
       "    <tr>\n",
       "      <th>1954400510</th>\n",
       "      <td>20150218T000000</td>\n",
       "      <td>510000.0</td>\n",
       "      <td>3</td>\n",
       "      <td>2.00</td>\n",
       "      <td>1680</td>\n",
       "      <td>8080</td>\n",
       "      <td>1.0</td>\n",
       "      <td>0</td>\n",
       "      <td>0</td>\n",
       "      <td>3</td>\n",
       "      <td>8</td>\n",
       "      <td>1680</td>\n",
       "      <td>0</td>\n",
       "      <td>1987</td>\n",
       "      <td>0</td>\n",
       "      <td>98074</td>\n",
       "      <td>47.6168</td>\n",
       "      <td>-122.045</td>\n",
       "      <td>1800</td>\n",
       "      <td>7503</td>\n",
       "    </tr>\n",
       "  </tbody>\n",
       "</table>\n",
       "</div>"
      ],
      "text/plain": [
       "                       date     price  bedrooms  bathrooms  sqft_living  \\\n",
       "id                                                                        \n",
       "7129300520  20141013T000000  221900.0         3       1.00         1180   \n",
       "6414100192  20141209T000000  538000.0         3       2.25         2570   \n",
       "5631500400  20150225T000000  180000.0         2       1.00          770   \n",
       "2487200875  20141209T000000  604000.0         4       3.00         1960   \n",
       "1954400510  20150218T000000  510000.0         3       2.00         1680   \n",
       "\n",
       "            sqft_lot  floors  waterfront  view  condition  grade  sqft_above  \\\n",
       "id                                                                             \n",
       "7129300520      5650     1.0           0     0          3      7        1180   \n",
       "6414100192      7242     2.0           0     0          3      7        2170   \n",
       "5631500400     10000     1.0           0     0          3      6         770   \n",
       "2487200875      5000     1.0           0     0          5      7        1050   \n",
       "1954400510      8080     1.0           0     0          3      8        1680   \n",
       "\n",
       "            sqft_basement  yr_built  yr_renovated  zipcode      lat     long  \\\n",
       "id                                                                             \n",
       "7129300520              0      1955             0    98178  47.5112 -122.257   \n",
       "6414100192            400      1951          1991    98125  47.7210 -122.319   \n",
       "5631500400              0      1933             0    98028  47.7379 -122.233   \n",
       "2487200875            910      1965             0    98136  47.5208 -122.393   \n",
       "1954400510              0      1987             0    98074  47.6168 -122.045   \n",
       "\n",
       "            sqft_living15  sqft_lot15  \n",
       "id                                     \n",
       "7129300520           1340        5650  \n",
       "6414100192           1690        7639  \n",
       "5631500400           2720        8062  \n",
       "2487200875           1360        5000  \n",
       "1954400510           1800        7503  "
      ]
     },
     "execution_count": 8,
     "metadata": {},
     "output_type": "execute_result"
    }
   ],
   "source": [
    "full_data.head()"
   ]
  },
  {
   "cell_type": "markdown",
   "metadata": {
    "id": "W9d2AclGXmZp"
   },
   "source": [
    "Chúng ta sẽ dùng biến sqft_living. Để vẽ biểu đồ (nối các chấm), chúng ta cần sắp xếp giá trị của sqft_living. Những ngôi nhà có diện tích giống nhau sẽ phân biệt theo giá. "
   ]
  },
  {
   "cell_type": "code",
   "execution_count": 9,
   "metadata": {
    "id": "GNAYNfE1XmZs"
   },
   "outputs": [],
   "source": [
    "full_data = full_data.sort_values(['sqft_living', 'price'])"
   ]
  },
  {
   "cell_type": "markdown",
   "metadata": {
    "id": "4gK3bzmoXmZv"
   },
   "source": [
    "Hãy bắt đầu với đa thức bậc 1 sử dụng 'sqft_living' (chẳng hạn 1 dòng) để dự đoán 'price' và vẽ biểu đồ xem nó trông như thế nào."
   ]
  },
  {
   "cell_type": "code",
   "execution_count": 10,
   "metadata": {
    "id": "c9U3lbRdXmZx"
   },
   "outputs": [],
   "source": [
    "poly1_data = polynomial_dataframe(full_data['sqft_living'], 1)\n",
    "poly1_data['price'] = full_data['price'] # add price to the data since it's the target"
   ]
  },
  {
   "cell_type": "markdown",
   "metadata": {
    "id": "aK_CWgcpXmZ0"
   },
   "source": [
    "Đó là dữ liệu. Đã đến lúc tạo mô hình và thử với nó."
   ]
  },
  {
   "cell_type": "code",
   "execution_count": 11,
   "metadata": {
    "id": "v4aHlNo4XmZ1"
   },
   "outputs": [],
   "source": [
    "from sklearn.linear_model import LinearRegression\n",
    "features_poly1 = np.reshape(poly1_data['power_1'].values, [-1, 1])\n",
    "labels_poly1 = poly1_data['price'].values\n",
    "model1 = LinearRegression().fit(features_poly1, labels_poly1)"
   ]
  },
  {
   "cell_type": "code",
   "execution_count": 12,
   "metadata": {
    "id": "4I3y-544XmZ6",
    "outputId": "a23a2a84-45af-40a7-9f2b-8621b223f711"
   },
   "outputs": [
    {
     "data": {
      "text/plain": [
       "array([280.6235679])"
      ]
     },
     "execution_count": 12,
     "metadata": {},
     "output_type": "execute_result"
    }
   ],
   "source": [
    "#hãy xem các trọng số trước khi vẽ biểu đồ\n",
    "model1.coef_"
   ]
  },
  {
   "cell_type": "code",
   "execution_count": 13,
   "metadata": {
    "id": "1kzXyoaKXmZ-"
   },
   "outputs": [],
   "source": [
    "import matplotlib.pyplot as plt\n",
    "%matplotlib inline"
   ]
  },
  {
   "cell_type": "code",
   "execution_count": 15,
   "metadata": {
    "id": "xlqay1feXmaB",
    "outputId": "c706c0d0-9d3d-4909-934f-bbdfecdc5dfe"
   },
   "outputs": [
    {
     "data": {
      "text/plain": [
       "[<matplotlib.lines.Line2D at 0x1e221e61bc8>,\n",
       " <matplotlib.lines.Line2D at 0x1e221c41cc8>]"
      ]
     },
     "execution_count": 15,
     "metadata": {},
     "output_type": "execute_result"
    },
    {
     "data": {
      "image/png": "[encoded data removed]",
      "text/plain": [
       "<Figure size 432x288 with 1 Axes>"
      ]
     },
     "metadata": {
      "needs_background": "light"
     },
     "output_type": "display_data"
    }
   ],
   "source": [
    "plt.plot(poly1_data['power_1'],poly1_data['price'],'.',\n",
    "        poly1_data['power_1'], model1.predict(features_poly1),'-')"
   ]
  },
  {
   "cell_type": "markdown",
   "metadata": {
    "id": "WXGin2TtXmaF"
   },
   "source": [
    "Hãy giải nén lệnh plt.plot(). Cặp đầu tiên là lũy thừa bậc 1 của sqft và giá thực, sau đó yêu cầu in chúng thành các giá trị thứ ba ('.'). Cặp tiếp theo là lũy thừa bậc 1 của sqft và các giá trị dự đoán từ mô hình tuyến tính được vẽ thành một đường '-'.\n",
    "\n",
    "Không có gì ngạc nhiên khi giá trị dự đoán đều nằm trên một đường, đặc biệt là đường với slope 280 và intercept -43579. Sẽ ra sao nếu chúng ta muốn vẽ một bậc đa thức thứ hai?"
   ]
  },
  {
   "cell_type": "code",
   "execution_count": 14,
   "metadata": {
    "id": "F6ql_JjRXmaL"
   },
   "outputs": [],
   "source": [
    "poly2_data = polynomial_dataframe(full_data['sqft_living'], 2) # create polynomial up to 2 degree\n",
    "features_poly2 = poly2_data.values # extract the features immediately\n",
    "poly2_data['price'] = full_data['price']\n",
    "labels_poly2 = poly2_data['price'].values # receive the labels\n",
    "\n",
    "model2 = LinearRegression().fit(features_poly2, labels_poly2)"
   ]
  },
  {
   "cell_type": "code",
   "execution_count": 15,
   "metadata": {
    "id": "QdOoASpPXmaQ",
    "outputId": "c893a3c5-18fc-420d-9b22-e2307c278147"
   },
   "outputs": [
    {
     "data": {
      "text/plain": [
       "array([6.79940947e+01, 3.85812609e-02])"
      ]
     },
     "execution_count": 15,
     "metadata": {},
     "output_type": "execute_result"
    }
   ],
   "source": [
    "model2.coef_"
   ]
  },
  {
   "cell_type": "code",
   "execution_count": 16,
   "metadata": {
    "id": "QJoEy5q9XmaS",
    "outputId": "0bbae917-0f29-44f7-cb18-fccdd050450e"
   },
   "outputs": [
    {
     "data": {
      "text/plain": [
       "[<matplotlib.lines.Line2D at 0x27a5f161108>,\n",
       " <matplotlib.lines.Line2D at 0x27a5ed3d908>]"
      ]
     },
     "execution_count": 16,
     "metadata": {},
     "output_type": "execute_result"
    },
    {
     "data": {
      "image/png": "[encoded data removed]",
      "text/plain": [
       "<Figure size 432x288 with 1 Axes>"
      ]
     },
     "metadata": {
      "needs_background": "light"
     },
     "output_type": "display_data"
    }
   ],
   "source": [
    "plt.plot(poly2_data['power_1'],poly2_data['price'],'.',\n",
    "        poly2_data['power_1'], model2.predict(features_poly2),'-')"
   ]
  },
  {
   "cell_type": "markdown",
   "metadata": {
    "id": "hK8wfPnvXmaV"
   },
   "source": [
    "Mô hình kết quả có dạng một nửa parabol. Thử với mô hình với bậc 3 xem nó trông thế nào:"
   ]
  },
  {
   "cell_type": "code",
   "execution_count": 17,
   "metadata": {
    "id": "wKmFtrCmXmaW"
   },
   "outputs": [],
   "source": [
    "# 1, 2, 3. Một lần nữa, Ctrl+C, Ctrl+V, chỉnh\n",
    "poly3_data = polynomial_dataframe(full_data['sqft_living'], 3) # create polynomial up to 3 degree\n",
    "features_poly3 = poly3_data.values # extract the features immediately\n",
    "poly3_data['price'] = full_data['price']\n",
    "labels_poly3 = poly3_data['price'].values # receive the labels\n",
    "\n",
    "model3 = LinearRegression().fit(features_poly3, labels_poly3)"
   ]
  },
  {
   "cell_type": "code",
   "execution_count": 18,
   "metadata": {},
   "outputs": [
    {
     "data": {
      "text/plain": [
       "array([-9.01819864e+01,  8.70465089e-02, -3.84055260e-06])"
      ]
     },
     "execution_count": 18,
     "metadata": {},
     "output_type": "execute_result"
    }
   ],
   "source": [
    "model3.coef_"
   ]
  },
  {
   "cell_type": "code",
   "execution_count": 20,
   "metadata": {},
   "outputs": [
    {
     "data": {
      "text/plain": [
       "[<matplotlib.lines.Line2D at 0x27a61296ec8>,\n",
       " <matplotlib.lines.Line2D at 0x27a61344488>]"
      ]
     },
     "execution_count": 20,
     "metadata": {},
     "output_type": "execute_result"
    },
    {
     "data": {
      "image/png": "[encoded data removed]",
      "text/plain": [
       "<Figure size 432x288 with 1 Axes>"
      ]
     },
     "metadata": {
      "needs_background": "light"
     },
     "output_type": "display_data"
    }
   ],
   "source": [
    "plt.plot(poly3_data['power_1'],poly3_data['price'],'.',\n",
    "        poly3_data['power_1'], model3.predict(features_poly3),'-')"
   ]
  },
  {
   "cell_type": "code",
   "execution_count": null,
   "metadata": {
    "id": "tb_4ipMZXmaX"
   },
   "outputs": [],
   "source": [
    "# Hãy cẩn thận với thay thế của bạn"
   ]
  },
  {
   "cell_type": "markdown",
   "metadata": {
    "id": "dK6zHxUmXmaY"
   },
   "source": [
    "Giờ hãy thử đa thức bậc 15: "
   ]
  },
  {
   "cell_type": "code",
   "execution_count": 21,
   "metadata": {
    "id": "uJflARQFXmaZ"
   },
   "outputs": [],
   "source": [
    "poly15_data = polynomial_dataframe(full_data['sqft_living'], 15) # create polynomial up to 3 degree\n",
    "features_poly15 = poly15_data.values # extract the features immediately\n",
    "poly15_data['price'] = full_data['price']\n",
    "labels_poly15 = poly15_data['price'].values # receive the labels\n",
    "\n",
    "model15 = LinearRegression().fit(features_poly15, labels_poly15)"
   ]
  },
  {
   "cell_type": "code",
   "execution_count": 22,
   "metadata": {},
   "outputs": [
    {
     "data": {
      "text/plain": [
       "array([ 4.56404164e-91, -6.23779532e-50,  1.13610267e-55,  2.48920611e-60,\n",
       "        1.19863929e-74,  2.68575522e-71,  2.26147568e-67,  1.85900299e-63,\n",
       "        1.47144115e-59,  1.09771012e-55,  7.43509038e-52,  4.23015577e-48,\n",
       "        1.61618577e-44, -2.49283826e-48,  9.59718336e-53])"
      ]
     },
     "execution_count": 22,
     "metadata": {},
     "output_type": "execute_result"
    }
   ],
   "source": [
    "model15.coef_"
   ]
  },
  {
   "cell_type": "code",
   "execution_count": 23,
   "metadata": {
    "id": "m4-23iRYXmaa"
   },
   "outputs": [
    {
     "data": {
      "text/plain": [
       "[<matplotlib.lines.Line2D at 0x27a612f9188>,\n",
       " <matplotlib.lines.Line2D at 0x27a63602208>]"
      ]
     },
     "execution_count": 23,
     "metadata": {},
     "output_type": "execute_result"
    },
    {
     "data": {
      "image/png": "[encoded data removed]",
      "text/plain": [
       "<Figure size 432x288 with 1 Axes>"
      ]
     },
     "metadata": {
      "needs_background": "light"
     },
     "output_type": "display_data"
    }
   ],
   "source": [
    "plt.plot(poly15_data['power_1'],poly15_data['price'],'.',\n",
    "        poly15_data['power_1'], model15.predict(features_poly15),'-')"
   ]
  },
  {
   "cell_type": "markdown",
   "metadata": {
    "id": "VYhIEsLyXmac"
   },
   "source": [
    "Đa thức bậc 15 như thế nào? Nó có thích hợp không? Nếu chúng ta thay đổi dữ liệu thì có được đường cong cũng tương tự không? Hãy xem kết quả."
   ]
  },
  {
   "cell_type": "markdown",
   "metadata": {
    "id": "kTgHc7GSXmae"
   },
   "source": [
    "## Thay đổi dữ liệu và học lại"
   ]
  },
  {
   "cell_type": "markdown",
   "metadata": {
    "id": "OV0xJEYiXmag"
   },
   "source": [
    "Chúng ta sẽ chia dữ liệu bán hàng thành 4 tập con có kích thước tương tự nhau. Sau đó ước tính một mô hình đa thức bậc 15 cho cả 4 tập con dữ liệu. In ra các hệ số (nên dùng `.coef_` để truy cập các tham số của mô hình) và vẽ biểu đồ kết quả khớp (đã thực hiện phía trên). Quiz sẽ hỏi về các kết quả này.\n",
    "\n",
    "Để chia dữ liệu bán hàng thành 4 tập con, chúng ta thực hiện như sau:\n",
    "* Đầu tiên, chia full_data thành 2 tập con với `train_test_split(full_data, train_size=0.5, test_size=0.5 seed=0)`. \n",
    "* Tiếp theo chia mỗi tập con kết quả thành 2 tập con nữa với `train_test_split(big_set_?, train_size=0.5, test_size=0.5, random_state=0)`.\n",
    "\n",
    "Chúng ta thiết lập `seed=0` trong các bước này để những người dùng khác nhau sẽ được các kết quả thống nhất. \n",
    "Chúng ta nên kết thúc với 4 tập con (`set_1`, `set_2`, `set_3`, `set_4`) có kích thước xấp xỉ nhau. "
   ]
  },
  {
   "cell_type": "code",
   "execution_count": 25,
   "metadata": {
    "id": "76dnOPQyXmai"
   },
   "outputs": [],
   "source": [
    "from sklearn.model_selection import train_test_split\n",
    "big_set_1, big_set_2 = train_test_split(full_data, train_size=0.5, test_size=0.5, random_state=0)\n",
    "set_1, set_2 = train_test_split(big_set_1, train_size=0.5, test_size=0.5, random_state=0)\n",
    "set_3, set_4 = train_test_split(big_set_2, train_size=0.5, test_size=0.5, random_state=0)\n",
    "\n",
    "sets = [set_1, set_2, set_3, set_4]"
   ]
  },
  {
   "cell_type": "markdown",
   "metadata": {
    "id": "t1Cd3dVqXmaj"
   },
   "source": [
    "**test_size=0.5 có cần thiết không?**"
   ]
  },
  {
   "cell_type": "markdown",
   "metadata": {
    "id": "cKMuQHHjXmal"
   },
   "source": [
    "Khớp đa thức bậc 15 vào set_1, set_2, set_3, và set_4 sử dụng sqft_living để đoán giá. Vẽ biểu đồ mô hình kết quả (in các hệ số cho 'power_1' nếu muốn). "
   ]
  },
  {
   "cell_type": "code",
   "execution_count": 26,
   "metadata": {
    "id": "IO8ZR3zHXmam"
   },
   "outputs": [
    {
     "data": {
      "image/png": "[encoded data removed]",
      "text/plain": [
       "<Figure size 432x288 with 1 Axes>"
      ]
     },
     "metadata": {
      "needs_background": "light"
     },
     "output_type": "display_data"
    },
    {
     "data": {
      "image/png": "[encoded data removed]",
      "text/plain": [
       "<Figure size 432x288 with 1 Axes>"
      ]
     },
     "metadata": {
      "needs_background": "light"
     },
     "output_type": "display_data"
    },
    {
     "data": {
      "image/png": "[encoded data removed]",
      "text/plain": [
       "<Figure size 432x288 with 1 Axes>"
      ]
     },
     "metadata": {
      "needs_background": "light"
     },
     "output_type": "display_data"
    },
    {
     "data": {
      "image/png": "[encoded data removed]",
      "text/plain": [
       "<Figure size 432x288 with 1 Axes>"
      ]
     },
     "metadata": {
      "needs_background": "light"
     },
     "output_type": "display_data"
    }
   ],
   "source": [
    "# Bạn có thể vẽ mô hình ở đây\n",
    "for i, sset in enumerate(sets):\n",
    "    plt.figure()\n",
    "    poly15_data = polynomial_dataframe(sset['sqft_living'], 15) # create polynomial up to 3 degree\n",
    "    features_poly15 = poly15_data.values # extract the features immediately\n",
    "    poly15_data['price'] = sset['price']\n",
    "    labels_poly15 = poly15_data['price'].values # receive the labels\n",
    "\n",
    "    model15 = LinearRegression().fit(features_poly15, labels_poly15)\n",
    "\n",
    "    #print(model15.coef_)\n",
    "\n",
    "    plt.plot(poly15_data['power_1'],poly15_data['price'],'.',\n",
    "            poly15_data['power_1'], model15.predict(features_poly15),'-')"
   ]
  },
  {
   "cell_type": "markdown",
   "metadata": {
    "id": "ihdVUiBCXmar"
   },
   "source": [
    "\n",
    "**Quiz: Dấu (dương hoặc âm) của power_15 có tương tự ở cả 4 mô hình không??**\n",
    "\n",
    "**Quiz: (Đúng/Sai) Đồ thị khớp đã vẽ trông tương tự nhau ở cả 4 mô hình.**"
   ]
  },
  {
   "cell_type": "markdown",
   "metadata": {
    "id": "Ai1VdJaeXmas"
   },
   "source": [
    "# Chọn bậc đa thức"
   ]
  },
  {
   "cell_type": "markdown",
   "metadata": {
    "id": "QlntTwSZXmau"
   },
   "source": [
    "Khi có tham số như bậc của đa thức, có một cách để lựa chọn các tham số này, đó là tập kiểm định. (Chúng ta sẽ khám phá một phương pháp khác sau).\n",
    "\n",
    "Chúng ta chia tập dữ liệu bán hàng thành tập huấn luyện, tập kiểm tra và tập kiểm đinh như sau:\n",
    "\n",
    "* Chia dữ liệu bán hàng thành 2 tập: `train_and_validation` và `test_data`. Sử dụng `train_test_split`.\n",
    "* Tiếp tục chia tập huấn luyện thành 2 tập: `train_data` và `validation_data`. Sử dụng `train_test_split`.\n",
    "\n",
    "Lần này, chúng ta sẽ thiết lập `random_state=1` để những người dùng có khác nhau có kết quả thống nhất."
   ]
  },
  {
   "cell_type": "code",
   "execution_count": 45,
   "metadata": {
    "id": "VmJRLKMeXmaw"
   },
   "outputs": [],
   "source": [
    "# Không cần import, trừ khi không chạy split phía trên\n",
    "train_and_validation, test_data = train_test_split(full_data, train_size = 0.8, random_state=1)\n",
    "train_data, validation_data = train_test_split(train_and_validation, train_size = 0.75, random_state=1)"
   ]
  },
  {
   "cell_type": "markdown",
   "metadata": {
    "id": "JPsMwrgrXmay"
   },
   "source": [
    "Tiếp theo, chúng ta sẽ viết một vòng lặp như sau:\n",
    "* Với bậc [1, 2, 3, 4, 5, 6, 7, 8, 9, 10, 11, 12, 13, 14, 15] (để nhận trong python, sử dụng `range(1, 15+1)` tích hợp sẵn)\n",
    "    * Xây DataFrame của dữ liệu đa thức có train_data['sqft_living'] ở bậc hiện tại <br>\n",
    "    *Gợi ý:* DataFrame giữ cho `.values` thống nhất với thứ tự cột\n",
    "    * Load các nhãn của train_data\n",
    "    * Tìm hiểu mô hình hồi quy đa thức 'sqft' -> 'price' với bậc đó trong dữ liệu HUẤN LUYỆN \n",
    "    * Tính RSS trong dữ liệu KIỂM ĐỊNH (ở đây sẽ sử dụng `.predict()`) cho các bậc đó. Chúng ta sẽ cần áp dụng tất cả các bước trên vào tập kiểm định.\n",
    "* Báo lại bậc nào có RSS thấp nhất trong dữ liệu kiểm định (chỉ mục python từ 0)."
   ]
  },
  {
   "cell_type": "code",
   "execution_count": 62,
   "metadata": {
    "id": "Z1uE68OtXmaz"
   },
   "outputs": [
    {
     "name": "stdout",
     "output_type": "stream",
     "text": [
      "[334360669359160.44, 288974830532190.06, 300220375078907.25, 295171345750231.9, 287887023365587.75, 278499495980825.03, 314828733094861.9, 610445598076727.9, 1819563322914811.5, 5191828738740697.0, 1.2330598054394312e+16, 4724889076981930.0, 8569111438713304.0, 1.5073230593212166e+16, 2.5666356053074176e+16]\n",
      "Bậc thấp nhất tại:  6\n"
     ]
    }
   ],
   "source": [
    "# Đọc hướng dẫn và tiến hành. Chúng ta có thể loại một số giá trị ra khỏi vòng lặp\n",
    "RSS_list = []\n",
    "for i in range(1, 16):\n",
    "    poly_data_train = polynomial_dataframe(train_data['sqft_living'], i) # create polynomial up to 3 degree\n",
    "    features_poly_train = poly_data_train.values # extract the features immediately\n",
    "    poly_data_train['price'] = train_data['price']\n",
    "    labels_poly_train = poly_data_train['price'].values # receive the labels\n",
    "    model = LinearRegression().fit(features_poly_train, labels_poly_train)\n",
    "    \n",
    "    poly_data_valid = polynomial_dataframe(validation_data['sqft_living'], i) # create polynomial up to 3 degree\n",
    "    features_poly_valid = poly_data_valid.values\n",
    "    poly_data_valid['price'] = validation_data['price']\n",
    "    labels_poly_valid = poly_data_valid['price'].values\n",
    "    \n",
    "    prediction = model.predict(features_poly_valid)\n",
    "    RSS = np.sum((labels_poly_valid - prediction)**2)\n",
    "    RSS_list.append(RSS)\n",
    "\n",
    "    \n",
    "print(RSS_list) \n",
    "print('Bậc thấp nhất tại: ', RSS_list.index(min(RSS_list)) + 1)"
   ]
  },
  {
   "cell_type": "markdown",
   "metadata": {
    "id": "J7SBt7LAXma2"
   },
   "source": [
    "**Quiz: Bậc nào (1, 2, …, 15) có RSS thấp nhất trong dữ liệu KIỂM ĐỊNH?**<br>\n",
    "Answer: bậc 6"
   ]
  },
  {
   "cell_type": "markdown",
   "metadata": {
    "id": "koQpGs03Xma5"
   },
   "source": [
    "Chúng ta đã chọn bậc của đa thức sử dụng dữ liệu kiểm định, hãy tính RSS của mô hình này trong dữ liệu KIỂM TRA. Báo cáo RSS trong quiz."
   ]
  },
  {
   "cell_type": "code",
   "execution_count": 63,
   "metadata": {
    "id": "N77axvQGXma9"
   },
   "outputs": [
    {
     "name": "stdout",
     "output_type": "stream",
     "text": [
      "264545792556252.75\n"
     ]
    }
   ],
   "source": [
    "# Đọc hướng dẫn và tiến hành. Chúng ta có thể loại một số giá trị ra khỏi vòng lặp\n",
    "poly_data_train = polynomial_dataframe(train_data['sqft_living'], 6) # create polynomial up to 3 degree\n",
    "features_poly_train = poly_data_train.values # extract the features immediately\n",
    "labels_poly_train = train_data['price'].values # receive the labels\n",
    "model = LinearRegression().fit(features_poly_train, labels_poly_train)\n",
    "\n",
    "poly_data_test = polynomial_dataframe(test_data['sqft_living'], 6) # create polynomial up to 3 degree\n",
    "features_poly_test = poly_data_test.values\n",
    "labels_poly_test = test_data['price'].values\n",
    "\n",
    "prediction = model.predict(features_poly_test)\n",
    "RSS = np.sum((labels_poly_test - prediction)**2)\n",
    "    \n",
    "print(RSS) "
   ]
  },
  {
   "cell_type": "markdown",
   "metadata": {
    "id": "-ZZKDRXFXmbD"
   },
   "source": [
    "**Quiz: RSS trong dữ liệu KIỂM TRA cho mô hình với bậc được chọn từ dữ liệu KIỂM ĐỊNH là?**<br>\n",
    "Answer: 264545792556252.75"
   ]
  },
  {
   "cell_type": "markdown",
   "metadata": {},
   "source": [
    "=============================End=================================="
   ]
  }
 ],
 "metadata": {
  "colab": {
   "collapsed_sections": [],
   "name": "[VN]Lab-3.ipynb",
   "provenance": []
  },
  "kernelspec": {
   "display_name": "pytorch",
   "language": "python",
   "name": "pytorch"
  },
  "language_info": {
   "codemirror_mode": {
    "name": "ipython",
    "version": 3
   },
   "file_extension": ".py",
   "mimetype": "text/x-python",
   "name": "python",
   "nbconvert_exporter": "python",
   "pygments_lexer": "ipython3",
   "version": "3.7.10"
  }
 },
 "nbformat": 4,
 "nbformat_minor": 1
}
