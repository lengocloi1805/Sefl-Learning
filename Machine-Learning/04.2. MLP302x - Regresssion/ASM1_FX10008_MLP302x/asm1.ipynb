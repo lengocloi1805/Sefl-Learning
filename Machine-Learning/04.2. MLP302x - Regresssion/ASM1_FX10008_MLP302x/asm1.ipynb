{
 "cells": [
  {
   "cell_type": "markdown",
   "metadata": {
    "id": "wsALKyLw3pe1"
   },
   "source": [
    "# All Regression Notebook\n",
    "## Load dữ liệu\n",
    "Khai báo và load thư viện, sau đó load tập dữ liệu. Do tập dữ liệu không chứa tên cột nên chúng ta cần thêm nó vào bằng cách sử dụng list Python thủ công. \n",
    "\n",
    "Chúng ta có `all_train_data` và `all_test_data` đã được nối vào `DataFrame` tương ứng."
   ]
  },
  {
   "cell_type": "code",
   "execution_count": 1,
   "metadata": {},
   "outputs": [
    {
     "name": "stdout",
     "output_type": "stream",
     "text": [
      "(602813, 54)\n",
      "(900, 54)\n"
     ]
    },
    {
     "data": {
      "text/html": [
       "<div>\n",
       "<style scoped>\n",
       "    .dataframe tbody tr th:only-of-type {\n",
       "        vertical-align: middle;\n",
       "    }\n",
       "\n",
       "    .dataframe tbody tr th {\n",
       "        vertical-align: top;\n",
       "    }\n",
       "\n",
       "    .dataframe thead th {\n",
       "        text-align: right;\n",
       "    }\n",
       "</style>\n",
       "<table border=\"1\" class=\"dataframe\">\n",
       "  <thead>\n",
       "    <tr style=\"text-align: right;\">\n",
       "      <th></th>\n",
       "      <th>Popularity</th>\n",
       "      <th>Check-in</th>\n",
       "      <th>Activities</th>\n",
       "      <th>Category</th>\n",
       "      <th>F_1</th>\n",
       "      <th>F_2</th>\n",
       "      <th>F_3</th>\n",
       "      <th>F_4</th>\n",
       "      <th>F_5</th>\n",
       "      <th>F_6</th>\n",
       "      <th>...</th>\n",
       "      <th>Post_date_7</th>\n",
       "      <th>Base_date_1</th>\n",
       "      <th>Base_date_2</th>\n",
       "      <th>Base_date_3</th>\n",
       "      <th>Base_date_4</th>\n",
       "      <th>Base_date_5</th>\n",
       "      <th>Base_date_6</th>\n",
       "      <th>Base_date_7</th>\n",
       "      <th>Span count</th>\n",
       "      <th>bias</th>\n",
       "    </tr>\n",
       "  </thead>\n",
       "  <tbody>\n",
       "    <tr>\n",
       "      <th>0</th>\n",
       "      <td>634995</td>\n",
       "      <td>0</td>\n",
       "      <td>463</td>\n",
       "      <td>1</td>\n",
       "      <td>0.0</td>\n",
       "      <td>806.0</td>\n",
       "      <td>11.291045</td>\n",
       "      <td>1.0</td>\n",
       "      <td>70.495138</td>\n",
       "      <td>0.0</td>\n",
       "      <td>...</td>\n",
       "      <td>0</td>\n",
       "      <td>0</td>\n",
       "      <td>0</td>\n",
       "      <td>0</td>\n",
       "      <td>0</td>\n",
       "      <td>0</td>\n",
       "      <td>0</td>\n",
       "      <td>1</td>\n",
       "      <td>0</td>\n",
       "      <td>1</td>\n",
       "    </tr>\n",
       "    <tr>\n",
       "      <th>1</th>\n",
       "      <td>634995</td>\n",
       "      <td>0</td>\n",
       "      <td>463</td>\n",
       "      <td>1</td>\n",
       "      <td>0.0</td>\n",
       "      <td>806.0</td>\n",
       "      <td>11.291045</td>\n",
       "      <td>1.0</td>\n",
       "      <td>70.495138</td>\n",
       "      <td>0.0</td>\n",
       "      <td>...</td>\n",
       "      <td>0</td>\n",
       "      <td>0</td>\n",
       "      <td>0</td>\n",
       "      <td>0</td>\n",
       "      <td>0</td>\n",
       "      <td>0</td>\n",
       "      <td>1</td>\n",
       "      <td>0</td>\n",
       "      <td>0</td>\n",
       "      <td>1</td>\n",
       "    </tr>\n",
       "    <tr>\n",
       "      <th>2</th>\n",
       "      <td>634995</td>\n",
       "      <td>0</td>\n",
       "      <td>463</td>\n",
       "      <td>1</td>\n",
       "      <td>0.0</td>\n",
       "      <td>806.0</td>\n",
       "      <td>11.291045</td>\n",
       "      <td>1.0</td>\n",
       "      <td>70.495138</td>\n",
       "      <td>0.0</td>\n",
       "      <td>...</td>\n",
       "      <td>0</td>\n",
       "      <td>0</td>\n",
       "      <td>0</td>\n",
       "      <td>0</td>\n",
       "      <td>0</td>\n",
       "      <td>0</td>\n",
       "      <td>0</td>\n",
       "      <td>1</td>\n",
       "      <td>0</td>\n",
       "      <td>1</td>\n",
       "    </tr>\n",
       "    <tr>\n",
       "      <th>3</th>\n",
       "      <td>634995</td>\n",
       "      <td>0</td>\n",
       "      <td>463</td>\n",
       "      <td>1</td>\n",
       "      <td>0.0</td>\n",
       "      <td>806.0</td>\n",
       "      <td>11.291045</td>\n",
       "      <td>1.0</td>\n",
       "      <td>70.495138</td>\n",
       "      <td>0.0</td>\n",
       "      <td>...</td>\n",
       "      <td>0</td>\n",
       "      <td>0</td>\n",
       "      <td>1</td>\n",
       "      <td>0</td>\n",
       "      <td>0</td>\n",
       "      <td>0</td>\n",
       "      <td>0</td>\n",
       "      <td>0</td>\n",
       "      <td>0</td>\n",
       "      <td>1</td>\n",
       "    </tr>\n",
       "    <tr>\n",
       "      <th>4</th>\n",
       "      <td>634995</td>\n",
       "      <td>0</td>\n",
       "      <td>463</td>\n",
       "      <td>1</td>\n",
       "      <td>0.0</td>\n",
       "      <td>806.0</td>\n",
       "      <td>11.291045</td>\n",
       "      <td>1.0</td>\n",
       "      <td>70.495138</td>\n",
       "      <td>0.0</td>\n",
       "      <td>...</td>\n",
       "      <td>0</td>\n",
       "      <td>0</td>\n",
       "      <td>0</td>\n",
       "      <td>0</td>\n",
       "      <td>1</td>\n",
       "      <td>0</td>\n",
       "      <td>0</td>\n",
       "      <td>0</td>\n",
       "      <td>0</td>\n",
       "      <td>1</td>\n",
       "    </tr>\n",
       "  </tbody>\n",
       "</table>\n",
       "<p>5 rows × 55 columns</p>\n",
       "</div>"
      ],
      "text/plain": [
       "   Popularity  Check-in  Activities  Category  F_1    F_2        F_3  F_4  \\\n",
       "0      634995         0         463         1  0.0  806.0  11.291045  1.0   \n",
       "1      634995         0         463         1  0.0  806.0  11.291045  1.0   \n",
       "2      634995         0         463         1  0.0  806.0  11.291045  1.0   \n",
       "3      634995         0         463         1  0.0  806.0  11.291045  1.0   \n",
       "4      634995         0         463         1  0.0  806.0  11.291045  1.0   \n",
       "\n",
       "         F_5  F_6  ...  Post_date_7  Base_date_1  Base_date_2  Base_date_3  \\\n",
       "0  70.495138  0.0  ...            0            0            0            0   \n",
       "1  70.495138  0.0  ...            0            0            0            0   \n",
       "2  70.495138  0.0  ...            0            0            0            0   \n",
       "3  70.495138  0.0  ...            0            0            1            0   \n",
       "4  70.495138  0.0  ...            0            0            0            0   \n",
       "\n",
       "   Base_date_4  Base_date_5  Base_date_6  Base_date_7  Span count  bias  \n",
       "0            0            0            0            1           0     1  \n",
       "1            0            0            1            0           0     1  \n",
       "2            0            0            0            1           0     1  \n",
       "3            0            0            0            0           0     1  \n",
       "4            1            0            0            0           0     1  \n",
       "\n",
       "[5 rows x 55 columns]"
      ]
     },
     "execution_count": 1,
     "metadata": {},
     "output_type": "execute_result"
    }
   ],
   "source": [
    "import pandas as pd\n",
    "import numpy as np\n",
    "import matplotlib.pyplot as plt\n",
    "%matplotlib inline\n",
    "import warnings\n",
    "warnings.filterwarnings('ignore')\n",
    "\n",
    "columns_name = [\"Popularity\", \"Check-in\", \"Activities\", \"Category\"] \\\n",
    "            + [\"F_{:d}\".format(i) for i in range(1, 26)] \\\n",
    "            + [\"CC{:d}\".format(i) for i in range(1, 6)] \\\n",
    "            + [\"Base time\", \"Post length\", \"Post count\", \"Post promotion\", \"Span time\"] \\\n",
    "            + [\"Post_date_{:d}\".format(i) for i in range(1, 8)] \\\n",
    "            + [\"Base_date_{:d}\".format(i) for i in range(1, 8)] \\\n",
    "            + [\"Span count\"]\n",
    "all_train_data = [pd.read_csv(\"Dataset/Training/Features_Variant_{:d}.csv\".format(d), header=None) for d in range(1, 6)]\n",
    "train_data = pd.DataFrame()\n",
    "for data in all_train_data:\n",
    "    #print(\"Train sets size: {:d}\".format(data.size))\n",
    "    train_data = pd.concat([train_data, data], axis=0)\n",
    "    \n",
    "train_data.columns = columns_name\n",
    "print(train_data.shape)\n",
    "\n",
    "all_test_data = [pd.read_csv(\"Dataset/Testing/TestSet/Test_Case_{:d}.csv\".format(d), header=None) for d in range(1, 10)]\n",
    "# Viết code nối dữ liệu kiểm tra\n",
    "test_data = pd.DataFrame()\n",
    "for data in all_test_data:\n",
    "    #print(\"Train sets size: {:d}\".format(data.size))\n",
    "    test_data = pd.concat([test_data, data], axis=0)\n",
    "test_data.columns = columns_name\n",
    "print(test_data.shape)\n",
    "\n",
    "train_data[\"bias\"] = 1\n",
    "test_data[\"bias\"] = 1\n",
    "\n",
    "train_data.head()"
   ]
  },
  {
   "cell_type": "markdown",
   "metadata": {
    "id": "gDfCdXgd3pe_"
   },
   "source": [
    "## Lựa chọn hạng mục phụ\n",
    "Cột Category chứa các index bất kỳ của hạng mục dữ liệu liên quan tới bản chất của chính bài đăng. Để đơn giản, chúng ta sẽ sử dụng hạng mục có lượng dữ liệu lớn nhất để thực hiện Hồi quy Tuyến tính.\n",
    "\n",
    "Tìm và lựa chọn hạng mục có nhiều bản ghi nhất sử dụng pandas. Lưu nó trong biến `largest_category`"
   ]
  },
  {
   "cell_type": "code",
   "execution_count": 2,
   "metadata": {
    "id": "ZRlw6ulC3pfB"
   },
   "outputs": [
    {
     "data": {
      "text/plain": [
       "9"
      ]
     },
     "execution_count": 2,
     "metadata": {},
     "output_type": "execute_result"
    }
   ],
   "source": [
    "# Viết code ở đây:\n",
    "largest_category = (train_data['Category'].value_counts()).index[0]\n",
    "largest_category"
   ]
  },
  {
   "cell_type": "code",
   "execution_count": 3,
   "metadata": {
    "id": "2yBrJGjv3pfH"
   },
   "outputs": [],
   "source": [
    "# Phân hạng các mô hình\n",
    "train_data = train_data.loc[train_data['Category'] == largest_category].drop('Category', axis=1)\n",
    "test_data = test_data.loc[test_data['Category'] == largest_category].drop('Category', axis=1)\n",
    "\n",
    "label = \"Span count\"\n",
    "features = [col for col in train_data.columns if col != label]\n",
    "\n",
    "train_features = train_data[features]\n",
    "train_labels = train_data[label]\n",
    "test_features = test_data[features]\n",
    "test_labels = test_data[label]"
   ]
  },
  {
   "cell_type": "markdown",
   "metadata": {
    "id": "luuprw_n3pfM"
   },
   "source": [
    "## Tương quan cơ bản\n",
    "Chúng ta sẽ vẽ ma trận tương quan giữa các biến CC. Tương quan rất hữu ích để xem liệu các đặc trưng có kết nối quá chặt chẽ không -  chúng ta không muốn chúng cùng nhau vì chúng sẽ tạo ra nhiễu giả gây overfit mô hình."
   ]
  },
  {
   "cell_type": "code",
   "execution_count": 4,
   "metadata": {},
   "outputs": [
    {
     "data": {
      "image/png": "[encoded data removed]",
      "text/plain": [
       "<Figure size 432x288 with 2 Axes>"
      ]
     },
     "metadata": {
      "needs_background": "light"
     },
     "output_type": "display_data"
    }
   ],
   "source": [
    "import seaborn as sns\n",
    "#Correlation Matrix\n",
    "new_df = train_data[['CC1', 'CC2', 'CC3', 'CC4', 'CC5']]\n",
    "corr = new_df.corr()\n",
    "sns.heatmap(corr, \n",
    "            xticklabels=corr.columns.values,\n",
    "            yticklabels=corr.columns.values,\n",
    "           annot=True, fmt=\".2f\");"
   ]
  },
  {
   "cell_type": "markdown",
   "metadata": {
    "id": "U7g4fYvJ3pfU"
   },
   "source": [
    "## Xây dựng mô hình Hồi quy\n",
    "\n",
    "__Nhiệm vụ của chúng ta là dự đoán số lượng bình luận bài đăng sẽ nhận được (cột \"Span count\")__ <br>\n",
    "\"Span time\" thì cần thiết trong khi tất cả các cột khác tùy chọn. <br>\n",
    "Thử mô hình Hồi quy đa biến đơn giản chỉ có các đặc trưng cơ bản: <br>\n",
    "[\"Popularity\", \"Base time\", \"Post length\", \"Post count\", \"Span time\", \"bias\"]. <br>\n",
    "\n",
    "In ra hệ số MSE từ sklearn hoặc RSS từ khóa học cho cả tập huấn luyện và tập kiểm tra."
   ]
  },
  {
   "cell_type": "code",
   "execution_count": 16,
   "metadata": {
    "id": "wawBZN663pfV"
   },
   "outputs": [],
   "source": [
    "# Viết code ở đây:\n",
    "from sklearn.linear_model import LinearRegression\n",
    "from sklearn.metrics import mean_squared_error\n",
    "from sklearn.preprocessing import StandardScaler\n",
    "scaler = StandardScaler()\n",
    "label = \"Span count\"\n",
    "\n",
    "def train_model(model, features, label, train_data, test_data):\n",
    "    X_train = scaler.fit_transform(train_data[features].values)\n",
    "    y_train = train_data[label]\n",
    "\n",
    "    X_test = scaler.transform(test_data[features].values)\n",
    "    y_test = test_data[label]\n",
    "\n",
    "    model.fit(X_train, y_train)\n",
    "\n",
    "    y_train_pred = model.predict(X_train)\n",
    "    y_test_pred = model.predict(X_test)\n",
    "\n",
    "    MSE_train = mean_squared_error(y_train, y_train_pred)\n",
    "    MSE_test = mean_squared_error(y_test, y_test_pred)\n",
    "    \n",
    "    return model, MSE_train, MSE_test"
   ]
  },
  {
   "cell_type": "code",
   "execution_count": 17,
   "metadata": {},
   "outputs": [
    {
     "name": "stdout",
     "output_type": "stream",
     "text": [
      "MSE_train: 1689.5665 \n",
      "MSE_test: 5340.5897\n"
     ]
    }
   ],
   "source": [
    "basic_feature = [\"Popularity\", \"Base time\", \"Post length\", \"Post count\", \"Span time\", \"bias\"]\n",
    "basic_model = LinearRegression()\n",
    "\n",
    "basic_model, MSE_train, MSE_test = train_model(basic_model, basic_feature, label, train_data, test_data)\n",
    "print(f'MSE_train: {MSE_train:.4f} \\nMSE_test: {MSE_test:.4f}')"
   ]
  },
  {
   "cell_type": "markdown",
   "metadata": {
    "id": "wQpTJVPA3pfb"
   },
   "source": [
    "### Hãy thử cải thiện với nhiều đặc trưng hơn\n",
    "Không phải mô hình tốt nhất chúng ta có thể sử dụng. Chúng ta có thể thử thêm nhiều đặc trưng liên quan. <br>Nối tất cả các thuộc tính CC vào các đặc trưng và thử lại với cùng số liệu."
   ]
  },
  {
   "cell_type": "code",
   "execution_count": 18,
   "metadata": {
    "id": "pgRc-PxW3pfc"
   },
   "outputs": [
    {
     "name": "stdout",
     "output_type": "stream",
     "text": [
      "MSE_train: 1535.1074 \n",
      "MSE_test: 3899.9916\n"
     ]
    }
   ],
   "source": [
    "# Viết code ở đây:\n",
    "more_feature = basic_feature + ['CC1', 'CC2', 'CC3', 'CC4', 'CC5']\n",
    "\n",
    "basic_model, MSE_train_more, MSE_test_more  = train_model(basic_model, more_feature, label, train_data, test_data)\n",
    "print(f'MSE_train: {MSE_train_more:.4f} \\nMSE_test: {MSE_test_more:.4f}')"
   ]
  },
  {
   "cell_type": "code",
   "execution_count": 19,
   "metadata": {},
   "outputs": [
    {
     "name": "stdout",
     "output_type": "stream",
     "text": [
      "MSE_train: 1512.2930 \n",
      "MSE_test: 3926.3402\n"
     ]
    }
   ],
   "source": [
    "# Viết code ở đây:\n",
    "full_features = [col for col in train_data.columns if col != label]\n",
    "\n",
    "basic_model, MSE_train, MSE_test = train_model(basic_model, full_features, label, train_data, test_data)\n",
    "print(f'MSE_train: {MSE_train:.4f} \\nMSE_test: {MSE_test:.4f}')"
   ]
  },
  {
   "cell_type": "markdown",
   "metadata": {
    "id": "bxjlSr703pfi"
   },
   "source": [
    "Bài học rút ra: Tối ưu hóa sớm hiếm khi hữu ích. \n",
    "\n",
    "## Giải quyết overfit\n",
    "### Áp dụng cách giải cho overfit\n",
    "\n",
    "Sự khác biệt về hệ số huấn luyện và kiểm tra chỉ ra mô hình có thể overfitting. Hãy thử sửa chữa. Mở rộng hồi quy [RidgeCV](https://scikit-learn.org/stable/modules/generated/sklearn.linear_model.RidgeCV.html) (cv = 10) với alpha dọc theo logspace giữa 0 và 10, ghi nhận giá trị có chất lượng tốt nhất thành biến `best_alpha`, và *có thể tùy chọn vẽ một đồ thị cho độ lớn của các hệ số*."
   ]
  },
  {
   "cell_type": "code",
   "execution_count": 20,
   "metadata": {},
   "outputs": [
    {
     "name": "stdout",
     "output_type": "stream",
     "text": [
      "MSE on training: 1535.1487 \n",
      "MSE on test: 3878.7609\n",
      "best_penalty: 1000.0000\n"
     ]
    }
   ],
   "source": [
    "# Viết code ở đây:\n",
    "from sklearn.linear_model import Ridge, RidgeCV\n",
    "more_feature = basic_feature + ['CC1', 'CC2', 'CC3', 'CC4', 'CC5']\n",
    "ridge_model = RidgeCV(alphas=np.logspace(0, 10, num=21), cv=10)\n",
    "\n",
    "ridge_model, MSE_train, MSE_test = train_model(ridge_model, more_feature, label, train_data, test_data)\n",
    "best_penalty = ridge_model.alpha_\n",
    "print(\"MSE on training: {:.4f} \\nMSE on test: {:.4f}\".format(MSE_train, MSE_test))\n",
    "print(f'best_penalty: {best_penalty:.4f}')"
   ]
  },
  {
   "cell_type": "code",
   "execution_count": 22,
   "metadata": {},
   "outputs": [
    {
     "data": {
      "text/plain": [
       "Text(0, 0.5, 'Weight')"
      ]
     },
     "execution_count": 22,
     "metadata": {},
     "output_type": "execute_result"
    },
    {
     "data": {
      "image/png": "[encoded data removed]",
      "text/plain": [
       "<Figure size 432x288 with 1 Axes>"
      ]
     },
     "metadata": {
      "needs_background": "light"
     },
     "output_type": "display_data"
    }
   ],
   "source": [
    "sns.lineplot(data=ridge_model.coef_, label=\"Best Weight\")\n",
    "plt.title('best_penalty')\n",
    "plt.ylabel('Weight')"
   ]
  },
  {
   "cell_type": "markdown",
   "metadata": {
    "id": "b1EfkDro3pfq"
   },
   "source": [
    "### Thử Hồi quy RidgeCV trên mọi cột\n",
    "Nó đã hoạt động, nhưng chúng ta cần tự hỏi liệu có tiếp tục sử dụng tập đặc trưng không hoàn thiện thay vì một tập hợp tối ưu nữa không. Mở rộng các đặc trưng cho tất cả các cột trừ nhãn được chỉ định. Hãy chạy và xem điều gì sẽ xảy ra."
   ]
  },
  {
   "cell_type": "code",
   "execution_count": 23,
   "metadata": {
    "id": "wN4A7SLx3pfr",
    "outputId": "b1a5f1ad-b985-4106-ddf3-b5a97f800e53"
   },
   "outputs": [
    {
     "name": "stdout",
     "output_type": "stream",
     "text": [
      "MSE on training: 1512.2733 \n",
      "MSE on test: 3928.3796\n",
      "best_penalty: 1.0000\n"
     ]
    }
   ],
   "source": [
    "# Viết code ở đây:\n",
    "full_features = [col for col in train_data.columns if col != label]\n",
    "\n",
    "ridge_model, MSE_train, MSE_test = train_model(ridge_model, full_features, label, train_data, test_data)\n",
    "best_penalty = ridge_model.alpha_\n",
    "print(\"MSE on training: {:.4f} \\nMSE on test: {:.4f}\".format(MSE_train, MSE_test))\n",
    "print(f'best_penalty: {best_penalty:.4f}')"
   ]
  },
  {
   "cell_type": "code",
   "execution_count": 24,
   "metadata": {},
   "outputs": [
    {
     "data": {
      "text/plain": [
       "Text(0, 0.5, 'Weight')"
      ]
     },
     "execution_count": 24,
     "metadata": {},
     "output_type": "execute_result"
    },
    {
     "data": {
      "image/png": "[encoded data removed]",
      "text/plain": [
       "<Figure size 432x288 with 1 Axes>"
      ]
     },
     "metadata": {
      "needs_background": "light"
     },
     "output_type": "display_data"
    }
   ],
   "source": [
    "sns.lineplot(data=ridge_model.coef_, label=\"Best Weight\")\n",
    "plt.title('best_penalty')\n",
    "plt.ylabel('Weight')"
   ]
  },
  {
   "cell_type": "markdown",
   "metadata": {
    "id": "a4BoQx053pfx"
   },
   "source": [
    "## Lựa chọn đặc trưng\n",
    "### Áp dụng LASSO\n",
    "Chúng ta có thể cắt tỉa các đặc trưng sử dụng những gì đã học. Lần này sẽ ghi lại các đặc trưng đã chọn của [LassoCV](https://scikit-learn.org/stable/modules/generated/sklearn.linear_model.LassoCV.html) (cv = 10) sử dụng biến `lasso_selected_features`, và <i>có thể tùy chọn vẽ một đồ thị giữa số lượng đặc trưng đã loại và các giá trị alpha</i>."
   ]
  },
  {
   "cell_type": "code",
   "execution_count": 26,
   "metadata": {
    "id": "ZBiQAzNu3pfy"
   },
   "outputs": [
    {
     "name": "stdout",
     "output_type": "stream",
     "text": [
      "[ 1.57400586 -0.6575136  -1.58546383 -0.          0.          0.\n",
      "  0.          3.18458929 -0.         -0.          3.47913002  1.44936275\n",
      " -1.30452795  0.07983821 -0.          0.          1.00622088  1.18294439\n",
      " -0.20651226 -0.23794485 -0.          0.         -0.          0.38625595\n",
      "  0.          0.45868925 -0.         -3.15369419 -2.31745288 10.73735723\n",
      " -0.         -0.          4.15583321 -8.90440921 -0.13758569  8.33987756\n",
      "  0.          0.45643206 -0.28418169 -0.56828639 -0.07780179  0.14699999\n",
      "  0.08736692  0.17923561 -0.         -0.          0.12385993  0.36153664\n",
      "  0.84742415 -0.30043674 -0.26357134 -0.06963838  0.        ]\n"
     ]
    }
   ],
   "source": [
    "from sklearn.linear_model import Lasso, LassoCV\n",
    "lasso_model = LassoCV(cv=10)\n",
    "lasso_model, MSE_train, MSE_test = train_model(lasso_model, full_features, label, train_data, test_data)\n",
    "coefs = lasso_model.coef_\n",
    "print(coefs)"
   ]
  },
  {
   "cell_type": "code",
   "execution_count": 27,
   "metadata": {},
   "outputs": [
    {
     "name": "stdout",
     "output_type": "stream",
     "text": [
      "['Popularity', 'Check-in', 'Activities', 'F_4', 'F_7', 'F_8', 'F_9', 'F_10', 'F_13', 'F_14', 'F_15', 'F_16', 'F_20', 'F_22', 'F_24', 'F_25', 'CC1', 'CC4', 'CC5', 'Base time', 'Post length', 'Post promotion', 'Span time', 'Post_date_1', 'Post_date_2', 'Post_date_3', 'Post_date_4', 'Post_date_5', 'Base_date_1', 'Base_date_2', 'Base_date_3', 'Base_date_4', 'Base_date_5', 'Base_date_6']\n"
     ]
    }
   ],
   "source": [
    "index_selected_feature = [x for x,v in enumerate(coefs) if abs(v) !=0]\n",
    "selected_features = [columns_name[x] for x in index_selected_feature]\n",
    "print(selected_features)"
   ]
  },
  {
   "cell_type": "code",
   "execution_count": 29,
   "metadata": {},
   "outputs": [
    {
     "data": {
      "text/plain": [
       "Text(0, 0.5, 'Weight')"
      ]
     },
     "execution_count": 29,
     "metadata": {},
     "output_type": "execute_result"
    },
    {
     "data": {
      "image/png": "[encoded data removed]",
      "text/plain": [
       "<Figure size 432x288 with 1 Axes>"
      ]
     },
     "metadata": {
      "needs_background": "light"
     },
     "output_type": "display_data"
    }
   ],
   "source": [
    "sns.lineplot(data=coefs, label=\"Best Weight\")\n",
    "plt.title('No.nonzero: ' + str(len(selected_features)))\n",
    "plt.ylabel('Weight')"
   ]
  },
  {
   "cell_type": "markdown",
   "metadata": {
    "id": "7-alhAu13pf4"
   },
   "source": [
    "### Xây dựng mô hình chặt chẽ hơn với các đặc trưng đã chọn\n",
    "Khi thực hiện lựa chọn đặc trưng, chúng ta có thể sẽ phải thêm lại độ chệch vào list các đặc trưng. Hãy sử dụng các đặc trưng đã chọn để xây dựng mô hình và tính toán chất lượng dựa trên các chỉ số."
   ]
  },
  {
   "cell_type": "code",
   "execution_count": 32,
   "metadata": {
    "id": "lTLBNiVL3pf5"
   },
   "outputs": [],
   "source": [
    "if(\"bias\" not in selected_features):\n",
    "    selected_features.append('bias')"
   ]
  },
  {
   "cell_type": "code",
   "execution_count": 33,
   "metadata": {
    "id": "SLNyIeow4D0t"
   },
   "outputs": [
    {
     "name": "stdout",
     "output_type": "stream",
     "text": [
      "MSE_train: 1576.4324 \n",
      "MSE_test: 4257.6262\n"
     ]
    }
   ],
   "source": [
    "# Viết code ở đây:\n",
    "basic_model = LinearRegression()\n",
    "\n",
    "basic_model, MSE_train, MSE_test = train_model(basic_model, selected_features, label, train_data, test_data)\n",
    "print(f'MSE_train: {MSE_train:.4f} \\nMSE_test: {MSE_test:.4f}')"
   ]
  },
  {
   "cell_type": "markdown",
   "metadata": {
    "id": "IPCIEyCG3pf-"
   },
   "source": [
    "## Kết hợp mọi thứ trên một mô hình\n",
    "LASSO đã thực hiện rất tốt, thu nhỏ các đặc trưng nhiễu và không cần thiết, tăng tốc độ tính toán. Bây giờ hãy kết hợp cả 2 kỹ thuật trước đó vào cùng một mô hình."
   ]
  },
  {
   "cell_type": "code",
   "execution_count": 34,
   "metadata": {
    "id": "RH6S9qpP3pf_"
   },
   "outputs": [
    {
     "name": "stdout",
     "output_type": "stream",
     "text": [
      "MSE on training: 1576.4324 \n",
      "MSE on test: 4257.6702\n"
     ]
    }
   ],
   "source": [
    "# Viết code ở đây:\n",
    "multi_model = Ridge(alpha=best_penalty)\n",
    "multi_model, MSE_train, MSE_test = train_model(multi_model, selected_features, label, train_data, test_data)\n",
    "print(\"MSE on training: {:.4f} \\nMSE on test: {:.4f}\".format(MSE_train, MSE_test))"
   ]
  },
  {
   "cell_type": "code",
   "execution_count": 35,
   "metadata": {},
   "outputs": [
    {
     "data": {
      "text/plain": [
       "Text(0, 0.5, 'Weight')"
      ]
     },
     "execution_count": 35,
     "metadata": {},
     "output_type": "execute_result"
    },
    {
     "data": {
      "image/png": "[encoded data removed]",
      "text/plain": [
       "<Figure size 432x288 with 1 Axes>"
      ]
     },
     "metadata": {
      "needs_background": "light"
     },
     "output_type": "display_data"
    }
   ],
   "source": [
    "sns.lineplot(data=multi_model.coef_, label=\"Best Weight\")\n",
    "plt.title('best_penalty')\n",
    "plt.ylabel('Weight')"
   ]
  },
  {
   "cell_type": "markdown",
   "metadata": {
    "id": "GPKAOxhp3pgD"
   },
   "source": [
    "### Phân phối sai số bình phương\n",
    "Chúng ta hãy đưa ra kết luận; lưu ý thêm, hãy quan sát cách các sai số bình phương được phân phối."
   ]
  },
  {
   "cell_type": "code",
   "execution_count": 41,
   "metadata": {},
   "outputs": [],
   "source": [
    "X_train = scaler.fit_transform(train_data[selected_features].values)\n",
    "y_train = train_data[label]\n",
    "\n",
    "X_test = scaler.transform(test_data[selected_features].values)\n",
    "y_test = test_data[label]"
   ]
  },
  {
   "cell_type": "code",
   "execution_count": 42,
   "metadata": {
    "id": "ve-GpGS13pgE",
    "outputId": "39ff9df1-cf8b-4cc8-9ec0-f5704d239b0f"
   },
   "outputs": [
    {
     "data": {
      "image/png": "[encoded data removed]",
      "text/plain": [
       "<Figure size 432x288 with 2 Axes>"
      ]
     },
     "metadata": {
      "needs_background": "light"
     },
     "output_type": "display_data"
    }
   ],
   "source": [
    "train_square_errors = np.log((y_train - multi_model.predict(X_train)) ** 2)\n",
    "test_square_errors = np.log( (y_test - multi_model.predict(X_test)) ** 2)\n",
    "fig, (train_ax, test_ax) = plt.subplots(ncols=2, sharey=True)\n",
    "train_ax.hist(train_square_errors, bins=20, density=True)\n",
    "train_ax.set_xlabel(\"Train error (log)\")\n",
    "test_ax.set_xlabel(\"Test error (log)\")\n",
    "test_ax.hist(test_square_errors, bins=20, density=True)\n",
    "plt.show()"
   ]
  },
  {
   "cell_type": "markdown",
   "metadata": {
    "id": "dO2F92sB3pgK"
   },
   "source": [
    "======================End=============================="
   ]
  }
 ],
 "metadata": {
  "colab": {
   "collapsed_sections": [],
   "name": "asm1.ipynb",
   "provenance": []
  },
  "kernelspec": {
   "display_name": "pytorch",
   "language": "python",
   "name": "pytorch"
  },
  "language_info": {
   "codemirror_mode": {
    "name": "ipython",
    "version": 3
   },
   "file_extension": ".py",
   "mimetype": "text/x-python",
   "name": "python",
   "nbconvert_exporter": "python",
   "pygments_lexer": "ipython3",
   "version": "3.7.10"
  }
 },
 "nbformat": 4,
 "nbformat_minor": 1
}
