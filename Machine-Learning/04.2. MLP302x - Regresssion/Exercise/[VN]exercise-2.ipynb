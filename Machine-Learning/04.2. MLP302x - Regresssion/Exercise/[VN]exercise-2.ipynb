{
 "cells": [
  {
   "cell_type": "markdown",
   "metadata": {
    "id": "97veRaWnAwb-"
   },
   "source": [
    "# Hồi quy Ridge (gradient descent)"
   ]
  },
  {
   "cell_type": "markdown",
   "metadata": {
    "id": "j8eyx6SWAwcJ"
   },
   "source": [
    "Trong notebook này, chúng ta sẽ triển khai hồi quy Ridge qua gradient descent. Chúng ta sẽ:\n",
    "* Trích xuất các giá trị DataFrame thành mảng Numpy.\n",
    "* Viết hàm Numpy để tính đạo hàm của các trọng số hồi quy với một đặc trung duy nhất.\n",
    "* Viết hàm gradient descent để tính các trọng số hồi quy biết vectơ trọng số ban đầu, kích thước bước, dung sai và L2 penalty."
   ]
  },
  {
   "cell_type": "markdown",
   "metadata": {
    "id": "g7Irfp2cAwcL"
   },
   "source": [
    "## Như thường lệ"
   ]
  },
  {
   "cell_type": "code",
   "execution_count": 1,
   "metadata": {
    "id": "K3p13pwnAwcM"
   },
   "outputs": [],
   "source": [
    "import sklearn\n",
    "import pandas\n",
    "import warnings\n",
    "\n",
    "warnings.filterwarnings('ignore')"
   ]
  },
  {
   "cell_type": "markdown",
   "metadata": {
    "id": "2Yn_JzG4AwcO"
   },
   "source": [
    "## Load dữ liệu doanh số bán nhà\n",
    "Tập dữ liệu doanh số bán nhà ở quận King, Seatle, WA. Nghe quen chứ?"
   ]
  },
  {
   "cell_type": "code",
   "execution_count": 2,
   "metadata": {
    "id": "R1R6HdW2AwcP"
   },
   "outputs": [],
   "source": [
    "full_data = pandas.read_csv(\"kc_house_data.csv\", index_col=0)"
   ]
  },
  {
   "cell_type": "markdown",
   "metadata": {
    "id": "NCtpua8AAwcR"
   },
   "source": [
    "Nếu muốn thực hiện bất kỳ \"feature engineering\" nào như tạo các đặc trưng mới hoặc điều chỉnh đặc trưng sẵn có, chúng ta có thể sửa DataFrame của pandas như trong lab trước (Lab 2). Tuy nhiên, với notebook này, chúng ta sẽ làm việc với các đặc trưng có sẵn."
   ]
  },
  {
   "cell_type": "markdown",
   "metadata": {
    "id": "L23jT71RAwcS"
   },
   "source": [
    "## Import các hàm hữu ích từ notebook trước"
   ]
  },
  {
   "cell_type": "markdown",
   "metadata": {
    "id": "VWHSqObyAwcT"
   },
   "source": [
    "Như trong Lab trước, chúng ta chuyển đổi DataFrame thành ma trận Numpy 2D. Copy và paste `get_numpy_data()` từ notebook Exercise 1."
   ]
  },
  {
   "cell_type": "code",
   "execution_count": 3,
   "metadata": {
    "id": "nmMmE0_fAwcU"
   },
   "outputs": [],
   "source": [
    "import numpy as np # điều này cho phép gọi numpy as np"
   ]
  },
  {
   "cell_type": "code",
   "execution_count": 4,
   "metadata": {
    "id": "nc9fgQwWAwcV"
   },
   "outputs": [],
   "source": [
    "def get_numpy_data(data, features_title, output_title):\n",
    "    if('constant' not in data):\n",
    "        data['constant'] = 1 # đây là cách thêm cột constant. Chỉ thực hiện khi cần \n",
    "    # thêm cột 'constant' vào trước list các đặc trưng để chúng ta có thể trích xuất cùng với những thứ khác:\n",
    "    features_title = ['constant'] + features_title # đây là cách kết hợp 2 list\n",
    "    # chia dữ liệu thành sub-DataFrame chứa các đặc trưng đã chỉ định (gồm constant)\n",
    "    # gọi nó là features_columns.\n",
    "    features_columns = data[features_title]\n",
    "    # dòng tiếp theo sẽ trích xuất ma trận numpy từ biến features_columns:\n",
    "    feature_matrix = features_columns.values\n",
    "    # truy xuất dữ liệu được liên kết với đầu ra trong pandas Series\n",
    "    # gọi nó là output_column\n",
    "    output_column = data[output_title]\n",
    "    # tiếp theo sẽ chuyển đổi Series đã nhắc thành một mảng numpy\n",
    "    output_array = output_column.values\n",
    "    return(feature_matrix, output_array)"
   ]
  },
  {
   "cell_type": "markdown",
   "metadata": {
    "id": "guJBaQyGAwcW"
   },
   "source": [
    "Cũng copy và paste cả hàm `predict_output()` để tính các dự đoán cho toàn bộ ma trận đặc trưng với ma trận và trọng số đã cho:"
   ]
  },
  {
   "cell_type": "code",
   "execution_count": 5,
   "metadata": {
    "id": "wIujt3EuAwcX"
   },
   "outputs": [],
   "source": [
    "def predict_output(feature_matrix, weights):\n",
    "    # giả sử ma trận feature_matrix chứa các đặc trưng ở dạng các cột và trọng số là mảng numpy tương ứng\n",
    "    # tạo vectơ dự đoán sử dụng np.dot()\n",
    "    predictions = np.dot(feature_matrix, weights)\n",
    "    return predictions"
   ]
  },
  {
   "cell_type": "markdown",
   "metadata": {
    "id": "u8priexpAwcb"
   },
   "source": [
    "## Tính đạo hàm"
   ]
  },
  {
   "cell_type": "markdown",
   "metadata": {
    "id": "3Rw6WC2JAwcb"
   },
   "source": [
    "Bây giờ chúng ta sẽ chuyển sang tính đạo hàm của hàm chi phí hồi quy. Hàm chi phí là tổng các điểm dữ liệu của bình phương của hiệu giữa kết quả quan sát và kết quả dự đoán cộng với L2 penalty.\n",
    "<!-- ``` Cost(w) = SUM[ (prediction - output)^2 ] + l2_penalty*(w[0]^2 + w[1]^2 + ... + w[k]^2). ``` This is commented out. -->\n",
    "$ cost_w = \\sum (prediction - output)^2 + l2\\_penalty * \\sum_i w_i^2 $ (trong đó $w_0$ là độ chệch)\n",
    "\n",
    "Vì đạo hàm của một tổng là tổng các đạo hàm nên chúng ta có thể tính đạo hàm của phần đầu tiên (RSS) như đã thực hiện trong notebook về trường hợp được điều chuẩn và cộng đạo hàm của phần điều chuẩn. Chúng ta có thể viết đạo hàm với $w_i$(`w[i]`)  như sau:\n",
    "<!-- ``` 2*SUM[ error*[feature_i] ]. ``` -->\n",
    "$ 2 * \\sum error * feature_i $\n",
    "\n",
    "Đạo hàm của phần điều chuẩn với $w_i$ là:\n",
    "<!-- ``` 2*l2_penalty*w[i]. ``` -->\n",
    "$ 2 * l2\\_penalty * w_i $\n",
    "\n",
    "Cộng cả 2 lại, chúng ta được:\n",
    "<!-- ``` 2*SUM[ error*[feature_i] ] + 2*l2_penalty*w[i]. ``` -->\n",
    "$ 2 * \\sum error * feature_i + 2 * l2\\_penalty * w_i $\n",
    "\n",
    "Đây là đạo hàm cho trọng số của đặc trưng i, là tổng (trên các điểm dữ liệu) của 2 nhân với tích của sai số và chính đặc trưng cộng với `2*l2_penalty*w[i]`. \n",
    "\n",
    "**Chúng ta sẽ không điều chuẩn hóa hằng số.**  Do đó, trong trường hợp hằng số thì đạo hàm sẽ bằng 2 lần tổng các sai số (không có phần tử `2*l2_penalty*w[0]`).\n",
    "\n",
    "2 lần tổng của tích hai vectơ chỉ là hai nhân tích của hai vectơ. Do đó, đạo hàm cho trọng số của $feature_i$ bằng hai lần tích vô hướng giữa các giá trị $feature_i$ và sai số hiện tại cộng với $2*l2\\_penalty*w_i$. \n",
    "\n",
    "\n",
    "Hãy hoàn thành hàm đạo hàm sau đây để tính đạo hàm của trọng số cho giá trị của đặc trưng (trên tất cả các điểm dữ liệu) và sai số (trên tất cả các điểm dữ liệu). Để quyết định khi nào thì xử lý hằng số (chúng ta không điều chuẩn nó), chúng ta thêm tham số bổ sung để gọi `feature_is_constant` đặt thành `True` khi tính đạo hàm của hằng số và `False` nếu không phải."
   ]
  },
  {
   "cell_type": "code",
   "execution_count": 6,
   "metadata": {
    "id": "z4iTz1nCAwce"
   },
   "outputs": [],
   "source": [
    "def feature_derivative_ridge(errors, feature, weight, l2_penalty, feature_is_constant):\n",
    "    # Nếu feature_is_constant là True thì đạo hàm bằng 2 nhân tích vô hướng của sai số và đặc trưng\n",
    "    if feature_is_constant is True:\n",
    "        derivative = 2 * np.dot(errors, feature)\n",
    "    # Nếu không, đạo hàm bằng 2 nhân tích vô hướng cộng với 2*l2_penalty*weight\n",
    "    else:\n",
    "        derivative = 2 * np.dot(errors, feature) + 2*(l2_penalty*weight)\n",
    "    return derivative"
   ]
  },
  {
   "cell_type": "markdown",
   "metadata": {
    "id": "duTmJdGpAwcf"
   },
   "source": [
    "Để kiểm tra đạo hàm, chạy cell sau:"
   ]
  },
  {
   "cell_type": "code",
   "execution_count": 7,
   "metadata": {},
   "outputs": [
    {
     "name": "stdout",
     "output_type": "stream",
     "text": [
      "-56554166815950.0\n",
      "-56554166815950.0\n",
      "-------\n",
      "-22446749330.0\n",
      "-22446749330.0\n"
     ]
    }
   ],
   "source": [
    "(example_features, example_output) = get_numpy_data(full_data, ['sqft_living'], 'price') \n",
    "my_weights = np.array([1., 10.])\n",
    "test_predictions = predict_output(example_features, my_weights) \n",
    "errors = test_predictions - example_output # các sai số dự đoán\n",
    "\n",
    "# 2 dòng tiếp theo in các giá trị tương tự\n",
    "print(feature_derivative_ridge(errors, example_features[:,1], my_weights[1], 1, False))\n",
    "print(np.sum(errors*example_features[:,1])*2+20.)\n",
    "\n",
    "print(\"-------\")\n",
    "# 2 dòng tiếp theo in các giá trị tương tự\n",
    "print(feature_derivative_ridge(errors, example_features[:,0], my_weights[0], 1, True))\n",
    "print(np.sum(errors)*2.0)"
   ]
  },
  {
   "cell_type": "markdown",
   "metadata": {
    "id": "JQGTws04Awcl"
   },
   "source": [
    "# Gradient Descent"
   ]
  },
  {
   "cell_type": "markdown",
   "metadata": {
    "id": "xXVkscv-Awcn"
   },
   "source": [
    "Bây giờ chúng ta sẽ viết một hàm thực hiện gradient descent. Tiền đề cơ bản khá đơn giản. Với một điểm bắt đầu, chúng ta cập nhật các trọng số hiện tại bằng cách di chuyển theo hướng gradient âm. Gradient có hướng *tăng* nên gradient âm có hướng *giảm* và chúng ta đang cố gắng *giảm thiểu* hàm chi phí.  \n",
    "\n",
    "\n",
    "Lượng mà chúng ta di chuyển theo *hướng* gradient âm được gọi là 'kích thước bước'. Chúng ta dừng lại khi chúng ta 'đủ gần' với mức tối ưu. Không giống lần trước, lần này chúng ta sẽ đặt **số lần lặp tối đa** và thực hiện các bước gradient cho tới khi đạt tới số lượng tối đa này. Nếu không cấp số lượng tối đa thì max sẽ được đặt mặc định là 100 (Sử dụng các giá trị tham số mặc định trong Python).\n",
    "\n",
    "Hãy hoàn thành hàm gradient descent sau bằng cách sử dụng hàm đạo hàm ở trên. Với mỗi bước trong gradient descent, chúng ta cập nhật trọng số cho từng đặc trưng trước khi tính tiêu chí dừng."
   ]
  },
  {
   "cell_type": "code",
   "execution_count": 20,
   "metadata": {
    "id": "kzhUaYTCAwcp"
   },
   "outputs": [],
   "source": [
    "def ridge_regression_gradient_descent(feature_matrix, output, initial_weights, step_size, l2_penalty, max_iterations=100):\n",
    "\n",
    "    weights = np.array(initial_weights) \n",
    "    \n",
    "    while max_iterations > 0:\n",
    "    \n",
    "        predictions = predict_output(feature_matrix, weights)\n",
    "        \n",
    "        errors = predictions - output\n",
    "        \n",
    "        for i in range(len(weights)): # loop over each weight\n",
    "\n",
    "            if i == 0:\n",
    "                feature_is_constant = True\n",
    "            else:\n",
    "                feature_is_constant = False\n",
    "                \n",
    "            derivative = feature_derivative_ridge(errors, feature_matrix[:,i], weights[i], l2_penalty, feature_is_constant)\n",
    "\n",
    "            weights[i] = weights[i] - (step_size * derivative)\n",
    "            \n",
    "        max_iterations -= 1        \n",
    "        \n",
    "    return weights"
   ]
  },
  {
   "cell_type": "markdown",
   "metadata": {
    "id": "h8TsI4i1Awcx"
   },
   "source": [
    "## Hiển thị tác động của L2 penalty"
   ]
  },
  {
   "cell_type": "markdown",
   "metadata": {
    "id": "lB3D9FF4Awcy"
   },
   "source": [
    "L2 penalty được đặt tên như vậy vì nó khiến các trọng số có chuẩn L2 nhỏ hơn so với các trường hợp khác. Hãy xem các trọng số lớn bị phạt như thế nào. Chúng ta sẽ xem xét một mô hình đơn giản có 1 đặc trưng:"
   ]
  },
  {
   "cell_type": "code",
   "execution_count": 15,
   "metadata": {
    "id": "-o8-Idy7Awc0"
   },
   "outputs": [],
   "source": [
    "simple_features = ['sqft_living']\n",
    "my_output = 'price'"
   ]
  },
  {
   "cell_type": "markdown",
   "metadata": {
    "id": "Pmmtjv0yAwc1"
   },
   "source": [
    "Hãy chia thành tập huấn luyện và tập kiểm tra. Đảm bảo dùng `seed=0`:"
   ]
  },
  {
   "cell_type": "code",
   "execution_count": 16,
   "metadata": {
    "id": "ucSx0dDRAwc2"
   },
   "outputs": [],
   "source": [
    "from sklearn.model_selection import train_test_split\n",
    "train_data, test_data = train_test_split(full_data, train_size=0.8, test_size=0.2, random_state=0)"
   ]
  },
  {
   "cell_type": "markdown",
   "metadata": {
    "id": "iL5M0BcEAwc2"
   },
   "source": [
    "Trong phần này, chúng ta sẽ chỉ dùng `'sqft_living'` để dự đoán `'price'`. Sử dụng hàm `get_numpy_data` để lấy phiên bản Numpy cảu dữ liệu chỉ với đặc trưng này cho cả `train_data` và `test_data`. "
   ]
  },
  {
   "cell_type": "code",
   "execution_count": 17,
   "metadata": {
    "id": "tg4G2hNaAwc3"
   },
   "outputs": [],
   "source": [
    "(simple_feature_matrix, output) = get_numpy_data(train_data, simple_features, my_output)\n",
    "(simple_test_feature_matrix, test_output) = get_numpy_data(test_data, simple_features, my_output)"
   ]
  },
  {
   "cell_type": "markdown",
   "metadata": {
    "id": "HPbBx8NnAwc4"
   },
   "source": [
    "Đặt các tham số cho tối ưu hóa:"
   ]
  },
  {
   "cell_type": "code",
   "execution_count": 18,
   "metadata": {
    "id": "nMR7zq3tAwc5"
   },
   "outputs": [],
   "source": [
    "initial_weights = np.array([0., 0.])\n",
    "step_size = 1e-12\n",
    "max_iterations=1000"
   ]
  },
  {
   "cell_type": "markdown",
   "metadata": {
    "id": "cUx1cLXBAwc5"
   },
   "source": [
    "Trước tiên, chúng ta sẽ xét không có điều chuẩn. Đặt `l2_penalty` thành `0.0` và chạy thuật toán hồi quy Ridge để tìm hiểu các trọng số của mô hình. Gọi trọng số :\n",
    "\n",
    "`simple_weights_0_penalty`\n",
    "\n",
    "chúng ta sẽ sử dụng chúng sau."
   ]
  },
  {
   "cell_type": "code",
   "execution_count": 21,
   "metadata": {
    "id": "yCsTZSNOAwdC"
   },
   "outputs": [
    {
     "name": "stdout",
     "output_type": "stream",
     "text": [
      "[-1.68107747e-01  2.64595376e+02]\n"
     ]
    }
   ],
   "source": [
    "simple_weights_0_penalty = ridge_regression_gradient_descent(simple_feature_matrix, output, \n",
    "                                                             initial_weights, step_size, \n",
    "                                                             0.0, max_iterations)\n",
    "print(simple_weights_0_penalty)"
   ]
  },
  {
   "cell_type": "markdown",
   "metadata": {
    "id": "bPu4GXRKAwdE"
   },
   "source": [
    "Tiếp theo, hãy xét với điều chuẩn cao. Đặt `l2_penalty` bằng `1e11` và chạy thuật toán hồi quy Ridge để tìm hiểu các trọng số của mô hình. Gọi trọng số:\n",
    "\n",
    "`simple_weights_high_penalty`\n",
    "\n",
    "chúng ta sẽ sử dụng chúng sau."
   ]
  },
  {
   "cell_type": "code",
   "execution_count": 22,
   "metadata": {},
   "outputs": [
    {
     "name": "stdout",
     "output_type": "stream",
     "text": [
      "[  9.79155301 125.07002033]\n"
     ]
    }
   ],
   "source": [
    "simple_weights_high_penalty = ridge_regression_gradient_descent(simple_feature_matrix, output, \n",
    "                                                                initial_weights, step_size, \n",
    "                                                                1e11, max_iterations)\n",
    "print(simple_weights_high_penalty)"
   ]
  },
  {
   "cell_type": "markdown",
   "metadata": {
    "id": "zKUBxGLFAwdG"
   },
   "source": [
    "Code này sẽ vẽ biểu đồ 2 mô hình đã tìm hiểu. (Đường màu xanh dương biểu thị mô hình không điều chuẩn, đường màu đỏ biểu thị mô hình với điều chuẩn cao). "
   ]
  },
  {
   "cell_type": "code",
   "execution_count": 23,
   "metadata": {
    "id": "A_Kml1pFAwdI",
    "outputId": "09383189-0b72-4f30-ecb1-b56fa1a9a766"
   },
   "outputs": [
    {
     "data": {
      "text/plain": [
       "[<matplotlib.lines.Line2D at 0x169ca388208>,\n",
       " <matplotlib.lines.Line2D at 0x169cad9e048>,\n",
       " <matplotlib.lines.Line2D at 0x169cadce088>]"
      ]
     },
     "execution_count": 23,
     "metadata": {},
     "output_type": "execute_result"
    },
    {
     "data": {
      "image/png": "[encoded data removed]",
      "text/plain": [
       "<Figure size 432x288 with 1 Axes>"
      ]
     },
     "metadata": {
      "needs_background": "light"
     },
     "output_type": "display_data"
    }
   ],
   "source": [
    "import matplotlib.pyplot as plt\n",
    "%matplotlib inline\n",
    "plt.plot(simple_feature_matrix[:, 1:], output,'k.',\n",
    "         simple_feature_matrix[:, 1:], predict_output(simple_feature_matrix, simple_weights_0_penalty),'b-',\n",
    "         simple_feature_matrix[:, 1:], predict_output(simple_feature_matrix, simple_weights_high_penalty),'r-')"
   ]
  },
  {
   "cell_type": "markdown",
   "metadata": {
    "id": "aVQta_-5AwdJ"
   },
   "source": [
    "**Tại sao `[:, 1:]`? ¯\\\\\\_(ツ)\\_/¯ Chúng ta cần tìm hiểu**"
   ]
  },
  {
   "cell_type": "markdown",
   "metadata": {
    "id": "ASmhXHAeAwdM"
   },
   "source": [
    "Tính RSS trên dữ liệu KIỂM TRA cho ba tập hợp trọng số sau:\n",
    "1. Các trọng số ban đầu (các số 0)\n",
    "2. Các trọng số đã tìm hiểu khi không điều chuẩn\n",
    "3. Các trọng số đã tìm hiểu có điều chuẩn cao\n",
    "\n",
    "Những trọng số nào thể hiện tốt nhất?"
   ]
  },
  {
   "cell_type": "code",
   "execution_count": 24,
   "metadata": {
    "id": "XIA0LCKbAwdO"
   },
   "outputs": [],
   "source": [
    "# Một lần nữa thực hiện trong ba tập hợp\n",
    "RSS_0 = np.sum((test_output - predict_output(simple_test_feature_matrix, initial_weights))**2)\n",
    "RSS_1 = np.sum((test_output - predict_output(simple_test_feature_matrix, simple_weights_0_penalty))**2)\n",
    "RSS_2 = np.sum((test_output - predict_output(simple_test_feature_matrix, simple_weights_high_penalty))**2)"
   ]
  },
  {
   "cell_type": "code",
   "execution_count": 25,
   "metadata": {
    "id": "b_d7-xs_AwdP"
   },
   "outputs": [
    {
     "name": "stdout",
     "output_type": "stream",
     "text": [
      "RSS_0: 1724972157778353.0 \n",
      "RSS_1: 267785724039172.34 \n",
      "RSS_2: 650754968300805.6\n"
     ]
    }
   ],
   "source": [
    "# Hoặc thực hiện trong một tập hợp\n",
    "print(f'RSS_0: {RSS_0} \\nRSS_1: {RSS_1} \\nRSS_2: {RSS_2}')"
   ]
  },
  {
   "cell_type": "markdown",
   "metadata": {
    "id": "KEpPoFBwAwdR"
   },
   "source": [
    "***QUIZ***\n",
    "1. Giá trị của hệ số cho `sqft_living` đã tìm hiểu khi không điều chuẩn (làm tròn tới chữ số thập phân thứ nhất) là bao nhiêu? Giá trị của hệ số cho `sqft_living` đã tìm hiểu với điều chuẩn cao (làm tròn tới chữ số thập phân thứ nhất) là bao nhiêu?\n",
    "2. So sánh hai đường khớp với điều chuẩn cao và không điều chuẩn, đường nào dốc hơn?\n",
    "3. RSS trên dữ liệu KIỂM TRA cho từng tập hợp trọng số trên (ban đầu, không điều chuẩn, điều chuẩn cao) là bao nhiêu?\n"
   ]
  },
  {
   "cell_type": "markdown",
   "metadata": {
    "id": "uHB3qx0_AwdT"
   },
   "source": [
    "## Chạy hồi quy đa biến với L2 penalty"
   ]
  },
  {
   "cell_type": "markdown",
   "metadata": {
    "id": "okg4fty6AwdW"
   },
   "source": [
    "Xét mô hình với 2 đặc trưng: `['sqft_living', 'sqft_living15']`."
   ]
  },
  {
   "cell_type": "markdown",
   "metadata": {
    "id": "-qO9RbaKAwdX"
   },
   "source": [
    "Trước tiên, tạo các phiên bản Numpy của dữ liệu huấn luyện và kiểm tra với 2 đặc trưng đó."
   ]
  },
  {
   "cell_type": "code",
   "execution_count": 26,
   "metadata": {
    "id": "s75SYJrxAwdX"
   },
   "outputs": [],
   "source": [
    "model_features = ['sqft_living', 'sqft_living15'] # sqft_living15 là diện tích trung bình cho 15 hàng xóm gần nhất. \n",
    "my_output = 'price'\n",
    "(feature_matrix, output) = get_numpy_data(train_data, model_features, my_output)\n",
    "(test_feature_matrix, test_output) = get_numpy_data(test_data, model_features, my_output)"
   ]
  },
  {
   "cell_type": "markdown",
   "metadata": {
    "id": "un3dZZShAwdY"
   },
   "source": [
    "Chúng ta cần khởi tạo lại các trọng số do có thêm một tham số. Hãy thiết lập kích thước bước và số lần lặp tối đa."
   ]
  },
  {
   "cell_type": "code",
   "execution_count": 27,
   "metadata": {
    "id": "yWn39lfEAwdc"
   },
   "outputs": [],
   "source": [
    "initial_weights = np.array([0.0,0.0,0.0])\n",
    "step_size = 1e-12\n",
    "max_iterations = 1000"
   ]
  },
  {
   "cell_type": "markdown",
   "metadata": {
    "id": "5LRRXCVVAwdd"
   },
   "source": [
    "Trước tiên, xét không điều chuẩn. Đặt `l2_penalty` thành `0.0` và chạy thuật toán hồi quy Ridge để tìm hiểu trọng số của mô hình. Gọi trọng số:\n",
    "\n",
    "`multiple_weights_0_penalty`"
   ]
  },
  {
   "cell_type": "code",
   "execution_count": 28,
   "metadata": {
    "id": "TZBDH89cAwde"
   },
   "outputs": [
    {
     "name": "stdout",
     "output_type": "stream",
     "text": [
      "[ -0.36105686 245.10302972  21.88723514]\n"
     ]
    }
   ],
   "source": [
    "multiple_weights_0_penalty = ridge_regression_gradient_descent(feature_matrix, output, \n",
    "                                                               initial_weights, step_size, \n",
    "                                                               0.0, max_iterations)\n",
    "print(multiple_weights_0_penalty)"
   ]
  },
  {
   "cell_type": "markdown",
   "metadata": {
    "id": "VBu1oeS0Awdf"
   },
   "source": [
    "Tiếp theo, xét điều chuẩn cao. Đặt `l2_penalty` thành `1e11` và chạy thuật toán hồi quy Ridge để tìm hiểu trọng số của mô hình. Gọi trọng số:\n",
    "\n",
    "`multiple_weights_high_penalty`"
   ]
  },
  {
   "cell_type": "code",
   "execution_count": 29,
   "metadata": {
    "id": "MW5IfBLoAwdg"
   },
   "outputs": [
    {
     "name": "stdout",
     "output_type": "stream",
     "text": [
      "[ 6.76344892 91.93393155 78.75003429]\n"
     ]
    }
   ],
   "source": [
    "multiple_weights_high_penalty = ridge_regression_gradient_descent(feature_matrix, output, \n",
    "                                                               initial_weights, step_size, \n",
    "                                                               1e11, max_iterations)\n",
    "print(multiple_weights_high_penalty)"
   ]
  },
  {
   "cell_type": "markdown",
   "metadata": {
    "id": "fYchhxihAwdp"
   },
   "source": [
    "Tính RSS trên dữ liệu KIỂM TRA cho ba tập hợp trọng số sau:\n",
    "1. Trọng số ban đầu (các số 0)\n",
    "2. Trọng số đã tìm hiểu không điều chuẩn\n",
    "3. Trọng số đã tìm hiểu với điều chuẩn cao\n",
    "\n",
    "Các trọng số nào thực hiện tốt nhất?"
   ]
  },
  {
   "cell_type": "code",
   "execution_count": 30,
   "metadata": {
    "id": "WzqOWwp-Awd5"
   },
   "outputs": [],
   "source": [
    "# Thấy rồi chứ?\n",
    "# Một lần nữa thực hiện trong ba tập hợp\n",
    "RSS_0 = np.sum((test_output - predict_output(test_feature_matrix, initial_weights))**2)\n",
    "RSS_1 = np.sum((test_output - predict_output(test_feature_matrix, multiple_weights_0_penalty))**2)\n",
    "RSS_2 = np.sum((test_output - predict_output(test_feature_matrix, multiple_weights_high_penalty))**2)"
   ]
  },
  {
   "cell_type": "code",
   "execution_count": 31,
   "metadata": {
    "id": "A9U74BrgAwd6"
   },
   "outputs": [
    {
     "name": "stdout",
     "output_type": "stream",
     "text": [
      "RSS_0: 1724972157778353.0 \n",
      "RSS_1: 266037590365260.84 \n",
      "RSS_2: 462809239744846.25\n"
     ]
    }
   ],
   "source": [
    "# Cũng hãy chú ý 'constant'\n",
    "# Hoặc thực hiện trong một tập hợp\n",
    "print(f'RSS_0: {RSS_0} \\nRSS_1: {RSS_1} \\nRSS_2: {RSS_2}')"
   ]
  },
  {
   "cell_type": "markdown",
   "metadata": {
    "id": "W37HnQASAwd7"
   },
   "source": [
    "Dự đoán giá nhà cho ngôi nhà thứ 5 trong tập kiểm tra sử dụng mô hình không điều chuẩn và mô hình có điều chuẩn cao. (Nhớ rằng Python bắt đầu lập chỉ mục từ 0). Dự đoán cách giá thực tế bao nhiêu? Các trọng số nào thực hiện tốt nhất với ngôi nhà thứ nhất?"
   ]
  },
  {
   "cell_type": "code",
   "execution_count": 32,
   "metadata": {},
   "outputs": [
    {
     "data": {
      "text/html": [
       "<div>\n",
       "<style scoped>\n",
       "    .dataframe tbody tr th:only-of-type {\n",
       "        vertical-align: middle;\n",
       "    }\n",
       "\n",
       "    .dataframe tbody tr th {\n",
       "        vertical-align: top;\n",
       "    }\n",
       "\n",
       "    .dataframe thead th {\n",
       "        text-align: right;\n",
       "    }\n",
       "</style>\n",
       "<table border=\"1\" class=\"dataframe\">\n",
       "  <thead>\n",
       "    <tr style=\"text-align: right;\">\n",
       "      <th></th>\n",
       "      <th>date</th>\n",
       "      <th>price</th>\n",
       "      <th>bedrooms</th>\n",
       "      <th>bathrooms</th>\n",
       "      <th>sqft_living</th>\n",
       "      <th>sqft_lot</th>\n",
       "      <th>floors</th>\n",
       "      <th>waterfront</th>\n",
       "      <th>view</th>\n",
       "      <th>condition</th>\n",
       "      <th>...</th>\n",
       "      <th>sqft_above</th>\n",
       "      <th>sqft_basement</th>\n",
       "      <th>yr_built</th>\n",
       "      <th>yr_renovated</th>\n",
       "      <th>zipcode</th>\n",
       "      <th>lat</th>\n",
       "      <th>long</th>\n",
       "      <th>sqft_living15</th>\n",
       "      <th>sqft_lot15</th>\n",
       "      <th>constant</th>\n",
       "    </tr>\n",
       "    <tr>\n",
       "      <th>id</th>\n",
       "      <th></th>\n",
       "      <th></th>\n",
       "      <th></th>\n",
       "      <th></th>\n",
       "      <th></th>\n",
       "      <th></th>\n",
       "      <th></th>\n",
       "      <th></th>\n",
       "      <th></th>\n",
       "      <th></th>\n",
       "      <th></th>\n",
       "      <th></th>\n",
       "      <th></th>\n",
       "      <th></th>\n",
       "      <th></th>\n",
       "      <th></th>\n",
       "      <th></th>\n",
       "      <th></th>\n",
       "      <th></th>\n",
       "      <th></th>\n",
       "      <th></th>\n",
       "    </tr>\n",
       "  </thead>\n",
       "  <tbody>\n",
       "    <tr>\n",
       "      <th>1453602313</th>\n",
       "      <td>20141029T000000</td>\n",
       "      <td>297000.0</td>\n",
       "      <td>2</td>\n",
       "      <td>1.50</td>\n",
       "      <td>1430</td>\n",
       "      <td>1650</td>\n",
       "      <td>3.0</td>\n",
       "      <td>0</td>\n",
       "      <td>0</td>\n",
       "      <td>3</td>\n",
       "      <td>...</td>\n",
       "      <td>1430</td>\n",
       "      <td>0</td>\n",
       "      <td>1999</td>\n",
       "      <td>0</td>\n",
       "      <td>98125</td>\n",
       "      <td>47.7222</td>\n",
       "      <td>-122.290</td>\n",
       "      <td>1430</td>\n",
       "      <td>1650</td>\n",
       "      <td>1</td>\n",
       "    </tr>\n",
       "    <tr>\n",
       "      <th>2225059214</th>\n",
       "      <td>20140808T000000</td>\n",
       "      <td>1578000.0</td>\n",
       "      <td>4</td>\n",
       "      <td>3.25</td>\n",
       "      <td>4670</td>\n",
       "      <td>51836</td>\n",
       "      <td>2.0</td>\n",
       "      <td>0</td>\n",
       "      <td>0</td>\n",
       "      <td>4</td>\n",
       "      <td>...</td>\n",
       "      <td>4670</td>\n",
       "      <td>0</td>\n",
       "      <td>1988</td>\n",
       "      <td>0</td>\n",
       "      <td>98005</td>\n",
       "      <td>47.6350</td>\n",
       "      <td>-122.164</td>\n",
       "      <td>4230</td>\n",
       "      <td>41075</td>\n",
       "      <td>1</td>\n",
       "    </tr>\n",
       "    <tr>\n",
       "      <th>2768000270</th>\n",
       "      <td>20140625T000000</td>\n",
       "      <td>562100.0</td>\n",
       "      <td>2</td>\n",
       "      <td>0.75</td>\n",
       "      <td>1440</td>\n",
       "      <td>3700</td>\n",
       "      <td>1.0</td>\n",
       "      <td>0</td>\n",
       "      <td>0</td>\n",
       "      <td>3</td>\n",
       "      <td>...</td>\n",
       "      <td>1200</td>\n",
       "      <td>240</td>\n",
       "      <td>1914</td>\n",
       "      <td>0</td>\n",
       "      <td>98107</td>\n",
       "      <td>47.6707</td>\n",
       "      <td>-122.364</td>\n",
       "      <td>1440</td>\n",
       "      <td>4300</td>\n",
       "      <td>1</td>\n",
       "    </tr>\n",
       "    <tr>\n",
       "      <th>6819100040</th>\n",
       "      <td>20140624T000000</td>\n",
       "      <td>631500.0</td>\n",
       "      <td>2</td>\n",
       "      <td>1.00</td>\n",
       "      <td>1130</td>\n",
       "      <td>2640</td>\n",
       "      <td>1.0</td>\n",
       "      <td>0</td>\n",
       "      <td>0</td>\n",
       "      <td>4</td>\n",
       "      <td>...</td>\n",
       "      <td>1130</td>\n",
       "      <td>0</td>\n",
       "      <td>1927</td>\n",
       "      <td>0</td>\n",
       "      <td>98109</td>\n",
       "      <td>47.6438</td>\n",
       "      <td>-122.357</td>\n",
       "      <td>1680</td>\n",
       "      <td>3200</td>\n",
       "      <td>1</td>\n",
       "    </tr>\n",
       "    <tr>\n",
       "      <th>4027700666</th>\n",
       "      <td>20150426T000000</td>\n",
       "      <td>780000.0</td>\n",
       "      <td>4</td>\n",
       "      <td>2.50</td>\n",
       "      <td>3180</td>\n",
       "      <td>9603</td>\n",
       "      <td>2.0</td>\n",
       "      <td>0</td>\n",
       "      <td>2</td>\n",
       "      <td>3</td>\n",
       "      <td>...</td>\n",
       "      <td>3180</td>\n",
       "      <td>0</td>\n",
       "      <td>2002</td>\n",
       "      <td>0</td>\n",
       "      <td>98155</td>\n",
       "      <td>47.7717</td>\n",
       "      <td>-122.277</td>\n",
       "      <td>2440</td>\n",
       "      <td>15261</td>\n",
       "      <td>1</td>\n",
       "    </tr>\n",
       "  </tbody>\n",
       "</table>\n",
       "<p>5 rows × 21 columns</p>\n",
       "</div>"
      ],
      "text/plain": [
       "                       date      price  bedrooms  bathrooms  sqft_living  \\\n",
       "id                                                                         \n",
       "1453602313  20141029T000000   297000.0         2       1.50         1430   \n",
       "2225059214  20140808T000000  1578000.0         4       3.25         4670   \n",
       "2768000270  20140625T000000   562100.0         2       0.75         1440   \n",
       "6819100040  20140624T000000   631500.0         2       1.00         1130   \n",
       "4027700666  20150426T000000   780000.0         4       2.50         3180   \n",
       "\n",
       "            sqft_lot  floors  waterfront  view  condition  ...  sqft_above  \\\n",
       "id                                                         ...               \n",
       "1453602313      1650     3.0           0     0          3  ...        1430   \n",
       "2225059214     51836     2.0           0     0          4  ...        4670   \n",
       "2768000270      3700     1.0           0     0          3  ...        1200   \n",
       "6819100040      2640     1.0           0     0          4  ...        1130   \n",
       "4027700666      9603     2.0           0     2          3  ...        3180   \n",
       "\n",
       "            sqft_basement  yr_built  yr_renovated  zipcode      lat     long  \\\n",
       "id                                                                             \n",
       "1453602313              0      1999             0    98125  47.7222 -122.290   \n",
       "2225059214              0      1988             0    98005  47.6350 -122.164   \n",
       "2768000270            240      1914             0    98107  47.6707 -122.364   \n",
       "6819100040              0      1927             0    98109  47.6438 -122.357   \n",
       "4027700666              0      2002             0    98155  47.7717 -122.277   \n",
       "\n",
       "            sqft_living15  sqft_lot15  constant  \n",
       "id                                               \n",
       "1453602313           1430        1650         1  \n",
       "2225059214           4230       41075         1  \n",
       "2768000270           1440        4300         1  \n",
       "6819100040           1680        3200         1  \n",
       "4027700666           2440       15261         1  \n",
       "\n",
       "[5 rows x 21 columns]"
      ]
     },
     "execution_count": 32,
     "metadata": {},
     "output_type": "execute_result"
    }
   ],
   "source": [
    "test_data.head()"
   ]
  },
  {
   "cell_type": "code",
   "execution_count": 33,
   "metadata": {
    "id": "eEpSBtLaAwd8"
   },
   "outputs": [
    {
     "data": {
      "text/plain": [
       "832832.127187328"
      ]
     },
     "execution_count": 33,
     "metadata": {},
     "output_type": "execute_result"
    }
   ],
   "source": [
    "# Đây cũng là quiz\n",
    "zero_price_house_5 = predict_output(test_feature_matrix[4], multiple_weights_0_penalty)\n",
    "zero_price_house_5"
   ]
  },
  {
   "cell_type": "code",
   "execution_count": 34,
   "metadata": {
    "id": "SquDHk5HAwd_"
   },
   "outputs": [
    {
     "data": {
      "text/plain": [
       "484506.74944128346"
      ]
     },
     "execution_count": 34,
     "metadata": {},
     "output_type": "execute_result"
    }
   ],
   "source": [
    "# Nên hãy vô cùng cẩn thận\n",
    "high_price_house_5 = predict_output(test_feature_matrix[4], multiple_weights_high_penalty)\n",
    "high_price_house_5"
   ]
  },
  {
   "cell_type": "markdown",
   "metadata": {
    "collapsed": true,
    "id": "FHHU1H1wAwd_"
   },
   "source": [
    "***QUIZ***\n",
    "1. Giá trị của hệ số cho `sqft_living` đã tìm hiểu khi không điều chuẩn (làm tròn tới chữ số thập phân thứ nhất) là bao nhiêu? Giá trị của hệ số cho `sqft_living` đã tìm hiểu với điều chuẩn cao (làm tròn tới chữ số thập phân thứ nhất) là bao nhiêu?\n",
    "2. RSS trên dữ liệu KIỂM TRA cho từng tập hợp trọng số trên (ban đầu, không điều chuẩn, điều chuẩ cao) là bao nhiêu?\n",
    "3. Chúng ta đưa ra dự đoán cho ngôi nhà thứ năm trong tập kiểm tra sử dụng hai tập hợp trọng số (không điều chuẩn với điều chuẩn cao). Trọng số nào cho dự đoán sát hơn <u>với ngôi nhà đó</u>?"
   ]
  },
  {
   "cell_type": "markdown",
   "metadata": {
    "id": "k2CEwMyHAweA"
   },
   "source": [
    "====================End============================"
   ]
  }
 ],
 "metadata": {
  "colab": {
   "collapsed_sections": [],
   "name": "[VN]exercise-2.ipynb",
   "provenance": []
  },
  "kernelspec": {
   "display_name": "pytorch",
   "language": "python",
   "name": "pytorch"
  },
  "language_info": {
   "codemirror_mode": {
    "name": "ipython",
    "version": 3
   },
   "file_extension": ".py",
   "mimetype": "text/x-python",
   "name": "python",
   "nbconvert_exporter": "python",
   "pygments_lexer": "ipython3",
   "version": "3.7.10"
  }
 },
 "nbformat": 4,
 "nbformat_minor": 1
}
