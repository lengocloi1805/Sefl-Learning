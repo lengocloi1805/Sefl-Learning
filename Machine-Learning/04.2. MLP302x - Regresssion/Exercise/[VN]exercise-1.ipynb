{
 "cells": [
  {
   "cell_type": "markdown",
   "metadata": {
    "id": "PeT7fL_v5nXl"
   },
   "source": [
    "# Hồi quy đa biến (gradient descent)"
   ]
  },
  {
   "cell_type": "markdown",
   "metadata": {
    "id": "9xARKoAT5nXs"
   },
   "source": [
    "Trong notebook đầu tiên, chúng ta đã khám phá hồi quy đa biến sử dụng mô hình mặc định của sklearn. Giờ chúng ta sẽ sử dụng riêng numpy để giải quyết các trọng số hồi quy với gradient descent.\n",
    "\n",
    "Trong notebook này, chúng ta sẽ đề cập tới các trọng số của hồi quy đa biến qua gradient descent. Chúng ta sẽ:\n",
    "* Thêm một cột không đổi của 1 vào DataFrame để tính intercept.\n",
    "* Xuất DataFrame hoặc cột (Series) thành một mảng Numpy.\n",
    "* Viết hàm predict_output() sử dụng Numpy.\n",
    "* Viết một hàm numpy để tính đạo hàm của các trọng số hồi quy với một đặc trưng duy nhất.\n",
    "* Viết hàm gradient descent tính các trọng số hồi quy biết vectơ trọng số ban đầu, kích thước bước và dung sai.\n",
    "* Sử dụng hàm gradient descent để ước tính các trọng số hồi quy cho nhiều đặc trưng."
   ]
  },
  {
   "cell_type": "markdown",
   "metadata": {
    "id": "O19m30_u5nXu"
   },
   "source": [
    "# Load thư viện"
   ]
  },
  {
   "cell_type": "markdown",
   "metadata": {
    "id": "--qBSgGz5nXv"
   },
   "source": [
    "Đảm bảo đã có các thư viện theo yêu cầu."
   ]
  },
  {
   "cell_type": "code",
   "execution_count": 60,
   "metadata": {
    "id": "DpbkSP_55nXv"
   },
   "outputs": [],
   "source": [
    "import sklearn, pandas\n",
    "import numpy as np\n",
    "\n",
    "import warnings\n",
    "\n",
    "warnings.filterwarnings(\"ignore\")"
   ]
  },
  {
   "cell_type": "markdown",
   "metadata": {
    "id": "28gSYcBl5nXx"
   },
   "source": [
    "## Load dữ liệu doanh số bán nhà\n",
    "\n",
    "Tập dữ liệu doanh số bán nhà ở quận King, Seatle, WA. Nghe quen chứ?"
   ]
  },
  {
   "cell_type": "code",
   "execution_count": 61,
   "metadata": {
    "id": "XB4Vgr7j5nXy"
   },
   "outputs": [],
   "source": [
    "full_data = pandas.read_csv(\"kc_house_data.csv\", index_col=0)"
   ]
  },
  {
   "cell_type": "markdown",
   "metadata": {
    "id": "tUU24OJw5nXz"
   },
   "source": [
    "Nếu muốn thực hiện bất kỳ \"feature engineering\" nào như tạo các đặc trưng mới hoặc điều chỉnh đặc trưng sẵn có, chúng ta có thể sửa DataFrame của pandas như trong lab trước (*Lab 2*). Tuy nhiên, với notebook này, chúng ta sẽ làm việc với các đặc trưng có sẵn."
   ]
  },
  {
   "cell_type": "markdown",
   "metadata": {
    "id": "tgZKhkjW5nXz"
   },
   "source": [
    "## Chuyển thành mảng Numpy"
   ]
  },
  {
   "cell_type": "markdown",
   "metadata": {
    "id": "VkbZTwl05nX0"
   },
   "source": [
    "Để hiểu chi tiết về việc triển khai các thuật toán, cần làm việc với một thư viện cho phép thoa tác trực tiếp với ma trận (và được tối ưu hóa). Numpy là một giải pháp Python để làm việc với ma trận (hoặc bất kỳ \"mảng\" đa chiều nào).\n",
    "\n",
    "Giá trị dự đoán cho các trọng số và đặc trưng chỉ là tích vô hướng giữa đặc trưng và vectơ trọng số. Tương tự, nếu chúng ta đặt tất cả các đặc trưng thành từng hàng trong một ma trận thì có thể tính giá trị dự đoán cho *tất cả* các quan sát bằng cách nhân \"ma trận đặc trưng\" với \"vectơ trọng số\".\n",
    "\n",
    "Trước tiên, chúng ta cần lấy DataFrame đã sắp xếp và trích xuất dữ liệu bên dưới dưới thành một mảng numpy 2D (còn được gọi là ma trận). Để làm điều này, chúng ta có thể sử dụng thuộc tính .values của Panda để chuyển đổi dataframe thành một ma trận numpy. "
   ]
  },
  {
   "cell_type": "code",
   "execution_count": 62,
   "metadata": {
    "id": "zyBvnRXG5nX1"
   },
   "outputs": [],
   "source": [
    "import numpy as np # điều này cho phép gọi numpy as np"
   ]
  },
  {
   "cell_type": "markdown",
   "metadata": {
    "id": "AoemrJkn5nX2"
   },
   "source": [
    "Bây giờ chúng ta sẽ viết một hàm nhận DataFrame, một list tên các đặc trưng (chẳng hạn: ['sqft_living', 'bedrooms']) và một đặc trưng mục tiêu (ví dụ: 'price') và trả về 2 điều sau:\n",
    "* Một ma trận numpy có các cột là các đặc trưng mong muốn cộng với một cột không đổi (đây là cách chúng ta tạo 'intercept').\n",
    "* Một mảng numpy chứa các giá trị của đầu ra.\n",
    "\n",
    "Với những điều này, hãy hoàn thành hàm sau (nếu có dòng trống, hãy viết một dòng code thực hiện những gì chú giải ở trên chỉ ra)."
   ]
  },
  {
   "cell_type": "code",
   "execution_count": 63,
   "metadata": {
    "id": "mxo-gvmw5nX3"
   },
   "outputs": [],
   "source": [
    "def get_numpy_data(data, features_title, output_title):\n",
    "    if('constant' not in data):\n",
    "        data['constant'] = 1 # đây là cách thêm cột constant. Chỉ thực hiện khi cần \n",
    "    # thêm cột 'constant' vào trước list các đặc trưng để chúng ta có thể trích xuất cùng với những thứ khác:\n",
    "    features_title = ['constant'] + features_title # đây là cách kết hợp 2 list\n",
    "    # chia dữ liệu thành sub-DataFrame chứa các đặc trưng đã chỉ định (gồm constant)\n",
    "    # gọi nó là features_columns.\n",
    "    features_columns = data[features_title]\n",
    "    # dòng tiếp theo sẽ trích xuất ma trận numpy từ biến features_columns:\n",
    "    feature_matrix = features_columns.values\n",
    "    # truy xuất dữ liệu được liên kết với đầu ra trong pandas Series\n",
    "    # gọi nó là output_column\n",
    "    output_column = data[output_title]\n",
    "    # tiếp theo sẽ chuyển đổi Series đã nhắc thành một mảng numpy\n",
    "    output_array = output_column.values\n",
    "    return(feature_matrix, output_array)"
   ]
  },
  {
   "cell_type": "markdown",
   "metadata": {
    "id": "WaQHjGpi5nX4"
   },
   "source": [
    "**Suy nghĩ: Lab trước không hề chỉ định bất kỳ cột không đổi nào. Chúng ta có mắc lỗi ở đâu không?**"
   ]
  },
  {
   "cell_type": "markdown",
   "metadata": {
    "id": "qpooIcIk5nX5"
   },
   "source": [
    "Chúng ta sẽ sử dụng đặc trưng 'sqft_living' và một hằng số làm đặc trưng và giá làm đầu ra để kiểm tra:"
   ]
  },
  {
   "cell_type": "code",
   "execution_count": 33,
   "metadata": {
    "id": "ppDhRXgS5nX5",
    "outputId": "74e9afcc-fa51-4504-9663-64d3eabe2839"
   },
   "outputs": [
    {
     "name": "stdout",
     "output_type": "stream",
     "text": [
      "[   1 1180]\n",
      "221900.0\n"
     ]
    }
   ],
   "source": [
    "(example_features, example_output) = get_numpy_data(full_data, ['sqft_living'], 'price') # [] quanh 'sqft_living' tạo một list\n",
    "print(example_features[0,:]) # điều này truy cập hàng đầu tiên của dữ liệu, ':' chỉ 'all columns'\n",
    "print(example_output[0]) # và đầu ra tương ứng"
   ]
  },
  {
   "cell_type": "markdown",
   "metadata": {
    "id": "14MpQ_Zw5nX7"
   },
   "source": [
    "## Dự đoán đầu ra với các trọng số hồi quy đã cho"
   ]
  },
  {
   "cell_type": "markdown",
   "metadata": {
    "id": "_XDIFfPN5nX8"
   },
   "source": [
    "Giả sử chúng ta có trọng số [1.0, 1.0] và đặc trưng [1.0, 1180.0], chúng ta muốn tính kết quả dự đoán $1.0*1.0 + 1.0*1180.0 = 1181.0$ (đây là tích vô hướng giữa 2 mảng). Nếu chúng là mảng numpy, chúng ta có thể dùng `np.dot` để tính:"
   ]
  },
  {
   "cell_type": "code",
   "execution_count": 64,
   "metadata": {
    "id": "pBXEyW1d5nX9",
    "outputId": "dc503049-a23c-4cdb-fa75-a5e16b8c1737"
   },
   "outputs": [
    {
     "name": "stdout",
     "output_type": "stream",
     "text": [
      "1181.0\n"
     ]
    }
   ],
   "source": [
    "my_weights = np.array([1., 1.]) # trọng số mẫu\n",
    "my_features = example_features[0,] # chúng ta sẽ dùng điểm dữ liệu đầu tiên\n",
    "predicted_value = np.dot(my_features, my_weights)\n",
    "print(predicted_value)"
   ]
  },
  {
   "cell_type": "markdown",
   "metadata": {
    "id": "ois947xL5nX9"
   },
   "source": [
    "`np.dot` cũng hoạt động khi xử lý ma trận và vectơ. Dự đoán từ các quan sát là tích vô hướng ĐÚNG (như trọng số ở bên phải) giữa các *ma trận* đặc trưng và *vectơ* trọng số. Hãy hoàn thành hàm `predict_output` sau để tính các dự đoán cho toàn bộ ma trận đặc trưng với ma trận và các trọng số đã cho:"
   ]
  },
  {
   "cell_type": "code",
   "execution_count": 65,
   "metadata": {
    "id": "8rB68O-o5nX-"
   },
   "outputs": [],
   "source": [
    "def predict_output(feature_matrix, weights):\n",
    "    # giả sử ma trận feature_matrix chứa các đặc trưng ở dạng các cột và trọng số là mảng numpy tương ứng\n",
    "    # tạo vectơ dự đoán sử dụng np.dot()\n",
    "    predictions = np.dot(feature_matrix, weights)\n",
    "    return(predictions)"
   ]
  },
  {
   "cell_type": "markdown",
   "metadata": {
    "id": "hDmVLS1m5nX-"
   },
   "source": [
    "Chạy cell say và quan sát kết quả nếu muốn kiểm tra code:"
   ]
  },
  {
   "cell_type": "code",
   "execution_count": 66,
   "metadata": {
    "id": "1EJw_pJ95nX_",
    "outputId": "e7534f25-7f01-4a22-dfdb-1f2332648e17"
   },
   "outputs": [
    {
     "name": "stdout",
     "output_type": "stream",
     "text": [
      "1181.0\n",
      "2571.0\n"
     ]
    }
   ],
   "source": [
    "test_predictions = predict_output(example_features, my_weights)\n",
    "print(test_predictions[0]) # nên là 1181.0\n",
    "print(test_predictions[1]) # nên là 2571.0"
   ]
  },
  {
   "cell_type": "markdown",
   "metadata": {
    "id": "caBRkKhr5nYA"
   },
   "source": [
    "# Tính đạo hàm"
   ]
  },
  {
   "cell_type": "markdown",
   "metadata": {
    "id": "vbdwUX8p5nYA"
   },
   "source": [
    "Bây giờ chúng ta sẽ chuyển sang tính đạo hàm của hàm chi phí hồi quy. Hàm chi phí là tổng các điểm dữ liệu của hiệu bình phương giữa kết quả quan sát và kết quả dự đoán.\n",
    "\n",
    "Vì đạo hàm của một tổng là tổng các đạo hàm nên chúng ta có thể tính đạo hàm cho từng điểm dữ liệu và rồi tính tổng các điểm dữ liệu. Chúng ta có thể viết hiệu bình phương giữa kết quả quan sát và kết quả dự đoán như sau: \n",
    "\n",
    "$(w_0 * const + w_1 *feature_1 + ... + w_i  * feature_i + ... +  w_k * feature_k - output)^2$\n",
    "\n",
    "Chúng ta có k đặc trưng và một hằng số. Như vậy theo quy tắc dây chuyền, đạo hàm với trọng số $w_i$ là:\n",
    "\n",
    "$2 * (w_0 * const + w_1 *feature_1 + ... + w_i  * feature_i + ... +  w_k * feature_k - output) * feature_i$\n",
    "\n",
    "Phần tử bên trong ngoặc là sai số (hiệu giữa dự đoán và kết quả). Như vậy, chúng ta có thể viết lại thành:\n",
    "\n",
    "$2 * error * feature_i$\n",
    "\n",
    "Đạo hàm cho trọng số của đặc trưng $ i $ là tổng (các điểm dữ liệu) của 2 nhân tích của error và đặc trưng đó. Trong trường hợp đặc trưng là hằng số thì là gấp đôi tổng sai số!\n",
    "\n",
    "\n",
    "2 lần tổng của hai vectơ chỉ là hai nhân tích của hai vectơ. Do đó, đạo hàm cho trọng số của $ feature_i $ bằng hai lần tích vô hướng giữa các giá trị của $ feature_i $ và các sai số hiện tại.\n",
    "\n",
    "Hãy hoàn thành hàm đạo hàm sau đây để tính đạo hàm của trọng số cho giá trị của đặc trưng (trên tất cả các điểm dữ liệu) và sai số (trên tất cả các điểm dữ liệu). "
   ]
  },
  {
   "cell_type": "code",
   "execution_count": 67,
   "metadata": {
    "id": "qarip5dK5nYC"
   },
   "outputs": [],
   "source": [
    "def feature_derivative(errors, feature):\n",
    "    # Giả sử sai số và đặc trưng đều là mảng numpy có cùng độ dài (số điểm dữ liệu)\n",
    "    # tính 2 lần tích vô hướng của các vectơ đó làm 'đạo hàm' và trả về giá trị\n",
    "    derivative = np.sum(2*errors*feature)\n",
    "    return(derivative)"
   ]
  },
  {
   "cell_type": "markdown",
   "metadata": {
    "id": "29q2CgvV5nYD"
   },
   "source": [
    "Để kiểm tra đạo hàm, chạy cell sau: "
   ]
  },
  {
   "cell_type": "code",
   "execution_count": 68,
   "metadata": {
    "id": "ZsyybEmM5nYD",
    "outputId": "c4153c10-3806-41a3-e9f7-eb35ff49298d"
   },
   "outputs": [
    {
     "name": "stdout",
     "output_type": "stream",
     "text": [
      "-23345850016.0\n",
      "-23345850016.0\n"
     ]
    }
   ],
   "source": [
    "(example_features, example_output) = get_numpy_data(full_data, ['sqft_living'], 'price') \n",
    "my_weights = np.array([0., 0.]) # this makes all the predictions 0 điều này làm cho tất cả dự đoán là 0\n",
    "test_predictions = predict_output(example_features, my_weights) \n",
    "# cũng giống như SFrames, 2 mảng numpy có thể trừ với '-':\n",
    "errors = test_predictions - example_output # sai số dự đoán trong trường hợp này chỉ là example_output\n",
    "feature = example_features[:,0] # tính đạo hàm với 'constant', \":\" chỉ tất cả các hàng\n",
    "derivative = feature_derivative(errors, feature)\n",
    "print(derivative)\n",
    "print(-np.sum(example_output)*2) # nên giống với đạo hàm"
   ]
  },
  {
   "cell_type": "markdown",
   "metadata": {
    "id": "pNMQ43DX5nYE"
   },
   "source": [
    "# Gradient Descent"
   ]
  },
  {
   "cell_type": "markdown",
   "metadata": {
    "id": "uYZ_J5gP5nYE"
   },
   "source": [
    "Bây giờ chúng ta sẽ viết một hàm thực hiện gradient descent. Tiền đề cơ bản khá đơn giản. Với một điểm bắt đầu, chúng ta cập nhật các trọng số hiện tại bằng cách di chuyển theo hướng gradient âm. Gradient có hướng *tăng* nên gradient âm có hướng *giảm* và chúng ta đang cố gắng *giảm thiểu* hàm chi phí.\n",
    "\n",
    "Lượng mà chúng ta di chuyển theo *hướng* gradient âm được gọi là 'kích thước bước'. Chúng ta dừng lại khi chúng ta 'đủ gần' với mức tối ưu. Điều này được xác định bằng cách yêu cầu độ lớn (chiều dài) của vectơ gradient phải nhỏ hơn một 'dung sai' cố định.\n",
    "\n",
    "Hãy hoàn thành hàm gradient descent sau bằng cách sử dụng hàm đạo hàm ở trên. Với mỗi bước trong gradient descent, chúng ta cập nhật trọng số cho từng đặc trưng trước khi tính tiêu chí dừng."
   ]
  },
  {
   "cell_type": "code",
   "execution_count": 69,
   "metadata": {
    "id": "ZR5wwvNs5nYF"
   },
   "outputs": [],
   "source": [
    "from math import sqrt # độ lớn/chiều dài của một vectơ [g[0], g[1], g[2]] là căn bậc hai của (g[0]^2 + g[1]^2 + g[2]^2)"
   ]
  },
  {
   "cell_type": "code",
   "execution_count": 70,
   "metadata": {
    "id": "aDtfAVhR5nYG"
   },
   "outputs": [],
   "source": [
    "def regression_gradient_descent(feature_matrix, output, initial_weights, step_size, tolerance):\n",
    "    converged = False \n",
    "    weights = np.array(initial_weights) # đảm bảo đây là mảng numpy\n",
    "    while not converged:\n",
    "        # tính các dự đoán dựa trên feature_matrix và các trọng số sử dụng hàm predict_output() function\n",
    "        predictions = predict_output(feature_matrix, weights)\n",
    "        # tính sai số dưới dạng dự đoán - đầu ra\n",
    "        err = predictions - output\n",
    "        gradient_sum_squares = 0 # khởi tạo gradient_sum_squares\n",
    "        # khi chưa đạt tới dung sai, hãy cập nhất trọng số cho từng đặc trưng\n",
    "        for i in range(len(weights)): # lặp qua từng trọng số\n",
    "            # feature_matrix[:, i] là cột đặc trưng liên kết với weights[i]\n",
    "            # tính đạo hàm cho weight[i]:\n",
    "            derivative = feature_derivative(err, feature_matrix[:, i])\n",
    "            # cộng bình phương giá trị của đạo hàm vào tổng bình phương gradient (để đánh giá hội tụ)\n",
    "            gradient_sum_squares += derivative**2\n",
    "            # trọng số hiện tại trừ stepsize nhân với đạo hàm\n",
    "            weights[i] -= step_size*derivative\n",
    "        # tính căn bậc hai của tổng bình phương gradient để lấy độ lớn của gradient:\n",
    "        gradient_magnitude = sqrt(gradient_sum_squares)\n",
    "        if gradient_magnitude < tolerance:\n",
    "            converged = True\n",
    "    return(weights)"
   ]
  },
  {
   "cell_type": "markdown",
   "metadata": {
    "id": "5ofhOXK_5nYG"
   },
   "source": [
    "Một số điều cần lưu ý trước khi chạy gradient descent: Vì gradient là tổng của tất cả các điểm dữ liệu và liên quan đến tích của sai số và đặc trưng nên bản thân gradient sẽ rất lớn do các đặc trưng (squarefeet) và đầu ra (giá) lớn. Vì vậy, mặc dù chúng ta dự kiến \"dung sai\" nhỏ, nhưng chỉ nhỏ tương đối với kích thước các đặc trưng.\n",
    "\n",
    "Tương tự, kích thước bước sẽ nhỏ hơn nhiều so với dự kiến nhưng điều này là do gradient có các giá trị lớn. "
   ]
  },
  {
   "cell_type": "markdown",
   "metadata": {
    "id": "-_kHZeI_5nYH"
   },
   "source": [
    "# Chạy Gradient Descent như Hồi quy đơn giản"
   ]
  },
  {
   "cell_type": "markdown",
   "metadata": {
    "id": "QmbYyPpw5nYH"
   },
   "source": [
    "Trước tiên, hãy chia thành tập huấn luyện và tập kiểm tra."
   ]
  },
  {
   "cell_type": "code",
   "execution_count": 71,
   "metadata": {
    "id": "kbAitUbi5nYI"
   },
   "outputs": [],
   "source": [
    "from sklearn.model_selection import train_test_split\n",
    "train_data, test_data = train_test_split(full_data, train_size=0.8, test_size=0.2, random_state=0)"
   ]
  },
  {
   "cell_type": "markdown",
   "metadata": {
    "id": "J49m0JwN5nYI"
   },
   "source": [
    "Mặc dù gradient descent được thiết kế cho hồi quy đa biến vì hằng số bây giờ là một đặc trưng, chúng ta có thể sử dụng hàm gradient descent để ước tính các tham số trong hồi quy đơn giản trên squarefeet. Các cell sau thiết lập feature_matrix, đầu ra, trọng số ban đầu và kích thước bước cho mô hình đầu tiên:"
   ]
  },
  {
   "cell_type": "code",
   "execution_count": 89,
   "metadata": {
    "id": "mbfxWwD85nYJ"
   },
   "outputs": [],
   "source": [
    "# hãy kiểm tra gradient descent\n",
    "simple_features = ['sqft_living']\n",
    "my_output = 'price'\n",
    "(simple_feature_matrix, simple_output) = get_numpy_data(train_data, simple_features, my_output)\n",
    "simple_initial_weights = np.array([-47000., 1.])\n",
    "simple_step_size = 7e-12\n",
    "simple_tolerance = 2.5e7"
   ]
  },
  {
   "cell_type": "markdown",
   "metadata": {
    "id": "gQ2yAogo5nYK"
   },
   "source": [
    "Tiếp theo, chúng ta sẽ chạy gradient descent với các tham số trên."
   ]
  },
  {
   "cell_type": "code",
   "execution_count": 90,
   "metadata": {
    "id": "7-_WCDHf5nYK"
   },
   "outputs": [],
   "source": [
    "simple_updated_weights = regression_gradient_descent(simple_feature_matrix, simple_output, simple_initial_weights, simple_step_size, simple_tolerance)"
   ]
  },
  {
   "cell_type": "markdown",
   "metadata": {
    "id": "RymlGyVR5nYK"
   },
   "source": [
    "Các trọng số này so với những trọng số đạt được ở tuần 1 thế nào (không dự kiến chúng giống hệt nhau)? \n",
    "\n",
    "**Quiz: Giá trị của trọng số cho sqft_living -- phần tử thứ hai của ‘simple_weights’ là bao nhiêu (làm trong tới chữ số thập phân thứ nhất)?**"
   ]
  },
  {
   "cell_type": "code",
   "execution_count": 92,
   "metadata": {
    "id": "Qvnqlw-W5nYL"
   },
   "outputs": [
    {
     "data": {
      "text/plain": [
       "array([-46999.88720259,    283.46383063])"
      ]
     },
     "execution_count": 92,
     "metadata": {},
     "output_type": "execute_result"
    }
   ],
   "source": [
    "# Có thể in ra tất cả trọng số nếu muốn\n",
    "simple_updated_weights"
   ]
  },
  {
   "cell_type": "markdown",
   "metadata": {
    "id": "BqB7AA655nYL"
   },
   "source": [
    "Hãy sử dụng các trọng số mới ước tính và `predict_output` để tính các dự đoán trên dữ liệu KIỂM TRA (cần tạo một mảng numpy của feature_matrix và kiểm tra đầu ra trước tiên):"
   ]
  },
  {
   "cell_type": "code",
   "execution_count": 93,
   "metadata": {
    "id": "iLNnmcUp5nYM"
   },
   "outputs": [],
   "source": [
    "(simple_test_feature_matrix, simple_test_output) = get_numpy_data(test_data, simple_features, my_output)"
   ]
  },
  {
   "cell_type": "markdown",
   "metadata": {
    "id": "kld_6AwV5nYM"
   },
   "source": [
    "Bây giờ có thể tính các dự đoán sử dụng test_simple_feature_matrix và các trọng số ở trên."
   ]
  },
  {
   "cell_type": "code",
   "execution_count": 94,
   "metadata": {
    "id": "5f7MdXNF5nYM"
   },
   "outputs": [],
   "source": [
    "# sử dụng predict_output()\n",
    "simple_test_predictions = predict_output(simple_test_feature_matrix, simple_updated_weights)"
   ]
  },
  {
   "cell_type": "markdown",
   "metadata": {
    "id": "tj7v7wFe5nYN"
   },
   "source": [
    "**Quiz: Giá dự đoán cho ngôi nhà đầu tiên trong tập dữ liệu KIỂM TRA cho mô hình 1 là bao nhiêu (làm tròn thành đô la)?**"
   ]
  },
  {
   "cell_type": "code",
   "execution_count": 109,
   "metadata": {
    "id": "cj23bSZG5nYN"
   },
   "outputs": [
    {
     "name": "stdout",
     "output_type": "stream",
     "text": [
      "predict: 358353.39059137006 \n",
      "real: 297000.0\n"
     ]
    }
   ],
   "source": [
    "# index đầu tiên trong ngôn ngữ lập trình là gì?\n",
    "print(f'predict: {simple_test_predictions[0]} \\nreal: {simple_test_output[0]}')"
   ]
  },
  {
   "cell_type": "markdown",
   "metadata": {
    "id": "Wiy6rtqT5nYN"
   },
   "source": [
    "Giờ chúng ta đã có các dự đoán trên dữ liệu kiểm tra, tính RSS trên tập kiểm tra. Lưu giá trị này để so sánh sau. Nhắc lại rằng RSS là tổng các sai số bình phương (hiệu giữa dự đoán và kết quả)."
   ]
  },
  {
   "cell_type": "code",
   "execution_count": 96,
   "metadata": {
    "id": "stL-aW0u5nYP"
   },
   "outputs": [
    {
     "data": {
      "text/plain": [
       "267729995270518.6"
      ]
     },
     "execution_count": 96,
     "metadata": {},
     "output_type": "execute_result"
    }
   ],
   "source": [
    "# trừ, bình phương, cộng lại và in\n",
    "simple_RSS = np.sum((simple_test_output - simple_test_predictions)**2)\n",
    "simple_RSS"
   ]
  },
  {
   "cell_type": "markdown",
   "metadata": {
    "id": "6ZdV5UzX5nYQ"
   },
   "source": [
    "# Chạy hồi quy đa biến "
   ]
  },
  {
   "cell_type": "markdown",
   "metadata": {
    "id": "Pu3FlcvW5nYQ"
   },
   "source": [
    "Bây giờ chúng ta sẽ dùng nhiều hơn một đặc trưng. Sử dụng code sau để tạo ra các trọng số cho mô hình thứ hai với các tham số sau:"
   ]
  },
  {
   "cell_type": "code",
   "execution_count": 97,
   "metadata": {
    "id": "Ee5Bpq-t5nYQ"
   },
   "outputs": [],
   "source": [
    "multi_features = ['sqft_living', 'sqft_living15'] # sqft_living15 là diện tích trung bình cho 15 hàng xóm gần nhất. \n",
    "my_output = 'price'\n",
    "(multi_feature_matrix, multi_output) = get_numpy_data(train_data, multi_features, my_output)\n",
    "multi_initial_weights = np.array([-100000., 1., 1.])\n",
    "multi_step_size = 4e-12\n",
    "multi_tolerance = 1e9"
   ]
  },
  {
   "cell_type": "markdown",
   "metadata": {
    "id": "mQF0TeNK5nYR"
   },
   "source": [
    "Sử dụng các tham số trên để ước tính trọng số mô hình. Ghi lại các giá trị này cho quiz."
   ]
  },
  {
   "cell_type": "code",
   "execution_count": 98,
   "metadata": {
    "id": "u_o8qRNt5nYR"
   },
   "outputs": [
    {
     "data": {
      "text/plain": [
       "array([-9.99999757e+04,  2.47055837e+02,  6.47974873e+01])"
      ]
     },
     "execution_count": 98,
     "metadata": {},
     "output_type": "execute_result"
    }
   ],
   "source": [
    "# Thực hiện như phần trước\n",
    "multi_updated_weights = regression_gradient_descent(multi_feature_matrix, multi_output, multi_initial_weights, multi_step_size, multi_tolerance)\n",
    "multi_updated_weights"
   ]
  },
  {
   "cell_type": "code",
   "execution_count": 103,
   "metadata": {},
   "outputs": [],
   "source": [
    "(multi_test_feature_matrix, multi_test_output) = get_numpy_data(test_data, multi_features, my_output)"
   ]
  },
  {
   "cell_type": "markdown",
   "metadata": {
    "id": "LqkP2ArG5nYS"
   },
   "source": [
    "Sử dụng các trọng số mới ước tính và hàm `predict_output` để tính các dự đoán trên dữ liệu KIỂM TRA. Đừng quên tạo một mảng numpy cho các đặc trưng từ tập kiểm tra đầu tiên!"
   ]
  },
  {
   "cell_type": "code",
   "execution_count": 105,
   "metadata": {
    "id": "ILkvDh8J5nYT"
   },
   "outputs": [],
   "source": [
    "# ba cái thứ hai vẫn chưa được truyền.\n",
    "multi_test_predictions = predict_output(multi_test_feature_matrix, multi_updated_weights)"
   ]
  },
  {
   "cell_type": "markdown",
   "metadata": {
    "id": "YRSb7XNG5nYT"
   },
   "source": [
    "**Quiz: Giá dự đoán cho ngôi nhà thứ nhất trong tập dữ liệu KIỂM TRA cho mô hình 2 là bao nhiêu (làm tròn thành đô la)?**"
   ]
  },
  {
   "cell_type": "code",
   "execution_count": 110,
   "metadata": {
    "id": "txA9TIoU5nYU"
   },
   "outputs": [
    {
     "name": "stdout",
     "output_type": "stream",
     "text": [
      "predict: 345950.2780906761 \n",
      "real: 297000.0\n"
     ]
    }
   ],
   "source": [
    "# một lần nữa, index đầu tiên\n",
    "print(f'predict: {multi_test_predictions[0]} \\nreal: {multi_test_output[0]}')"
   ]
  },
  {
   "cell_type": "markdown",
   "metadata": {
    "id": "bDAxJ9tB5nYV"
   },
   "source": [
    "**Quiz: Ước tính nào gần với giá thực cho ngôi nhà thứ nhất trong tập KIỂM TRA: mô hình 1 hay 2?**"
   ]
  },
  {
   "cell_type": "markdown",
   "metadata": {},
   "source": [
    "Answer: Mô hình 2"
   ]
  },
  {
   "cell_type": "markdown",
   "metadata": {
    "id": "CF9E54oP5nYV"
   },
   "source": [
    "Sử dụng các dự đoán và kết quả để tính RSS cho mô hình 2 trên dữ liệu KIỂM TRA."
   ]
  },
  {
   "cell_type": "code",
   "execution_count": 108,
   "metadata": {
    "id": "t-aDHZKR5nYW"
   },
   "outputs": [
    {
     "data": {
      "text/plain": [
       "262684098596668.75"
      ]
     },
     "execution_count": 108,
     "metadata": {},
     "output_type": "execute_result"
    }
   ],
   "source": [
    "# trừ,... Đợi chút. Copy, paste và sửa\n",
    "multi_RSS = np.sum((multi_test_output - multi_test_predictions)**2)\n",
    "multi_RSS"
   ]
  },
  {
   "cell_type": "markdown",
   "metadata": {
    "id": "peFdJePZ5nYW"
   },
   "source": [
    "**Quiz: Mô hình nào (1 hay 2) có RSS thấp nhất trong tất cả dữ liệu KIỂM TRA?**"
   ]
  },
  {
   "cell_type": "markdown",
   "metadata": {
    "collapsed": true,
    "id": "HHxq-owW5nYW"
   },
   "source": [
    "Answer: Mô hình 2"
   ]
  },
  {
   "cell_type": "markdown",
   "metadata": {},
   "source": [
    "==========================================End==================================="
   ]
  }
 ],
 "metadata": {
  "colab": {
   "collapsed_sections": [],
   "name": "[VN]exercise-1.ipynb",
   "provenance": []
  },
  "kernelspec": {
   "display_name": "pytorch",
   "language": "python",
   "name": "pytorch"
  },
  "language_info": {
   "codemirror_mode": {
    "name": "ipython",
    "version": 3
   },
   "file_extension": ".py",
   "mimetype": "text/x-python",
   "name": "python",
   "nbconvert_exporter": "python",
   "pygments_lexer": "ipython3",
   "version": "3.7.10"
  }
 },
 "nbformat": 4,
 "nbformat_minor": 1
}
