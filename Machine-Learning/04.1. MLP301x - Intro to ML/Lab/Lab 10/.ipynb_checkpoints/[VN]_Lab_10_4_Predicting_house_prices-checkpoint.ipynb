{
 "cells": [
  {
   "cell_type": "markdown",
   "metadata": {
    "id": "x_0pd8BCEgnD"
   },
   "source": [
    "**ĐIỀN VÀO ...** NẾU BẠN THẤY CÂU **\"WRITE YOUR CODE HERE\"**"
   ]
  },
  {
   "cell_type": "markdown",
   "metadata": {},
   "source": [
    "# Dự đoán giá nhà với LinearRegression"
   ]
  },
  {
   "cell_type": "code",
   "execution_count": 1,
   "metadata": {
    "id": "c3TecKmnRS6d"
   },
   "outputs": [],
   "source": [
    "import numpy as np\n",
    "import pandas as pd\n",
    "import matplotlib.pyplot as plt\n",
    "import sklearn"
   ]
  },
  {
   "cell_type": "markdown",
   "metadata": {
    "id": "IlDBzxVeRS6h"
   },
   "source": [
    "# Load một số dữ liệu bán nhà\n",
    "\n",
    "Tập dữ liệu bán nhà quận King, khu vực đóng ở Seatle, tiểu bang Washington, Hoa Kỳ. Tập dữ liệu được đặt tên **\"home_data.csv\"**"
   ]
  },
  {
   "cell_type": "markdown",
   "metadata": {
    "id": "h8jfxIduRMKG"
   },
   "source": [
    "Hãy import tập dữ liệu."
   ]
  },
  {
   "cell_type": "code",
   "execution_count": 2,
   "metadata": {
    "id": "G118f3I3RS6h"
   },
   "outputs": [],
   "source": [
    "# WRITE YOUR CODE HERE\n",
    "sales = pd.read_csv('home_data.csv')"
   ]
  },
  {
   "cell_type": "code",
   "execution_count": 3,
   "metadata": {},
   "outputs": [
    {
     "data": {
      "text/html": [
       "<div>\n",
       "<style scoped>\n",
       "    .dataframe tbody tr th:only-of-type {\n",
       "        vertical-align: middle;\n",
       "    }\n",
       "\n",
       "    .dataframe tbody tr th {\n",
       "        vertical-align: top;\n",
       "    }\n",
       "\n",
       "    .dataframe thead th {\n",
       "        text-align: right;\n",
       "    }\n",
       "</style>\n",
       "<table border=\"1\" class=\"dataframe\">\n",
       "  <thead>\n",
       "    <tr style=\"text-align: right;\">\n",
       "      <th></th>\n",
       "      <th>id</th>\n",
       "      <th>date</th>\n",
       "      <th>price</th>\n",
       "      <th>bedrooms</th>\n",
       "      <th>bathrooms</th>\n",
       "      <th>sqft_living</th>\n",
       "      <th>sqft_lot</th>\n",
       "      <th>floors</th>\n",
       "      <th>waterfront</th>\n",
       "      <th>view</th>\n",
       "      <th>...</th>\n",
       "      <th>grade</th>\n",
       "      <th>sqft_above</th>\n",
       "      <th>sqft_basement</th>\n",
       "      <th>yr_built</th>\n",
       "      <th>yr_renovated</th>\n",
       "      <th>zipcode</th>\n",
       "      <th>lat</th>\n",
       "      <th>long</th>\n",
       "      <th>sqft_living15</th>\n",
       "      <th>sqft_lot15</th>\n",
       "    </tr>\n",
       "  </thead>\n",
       "  <tbody>\n",
       "    <tr>\n",
       "      <th>0</th>\n",
       "      <td>7129300520</td>\n",
       "      <td>20141013T000000</td>\n",
       "      <td>221900</td>\n",
       "      <td>3</td>\n",
       "      <td>1.00</td>\n",
       "      <td>1180</td>\n",
       "      <td>5650</td>\n",
       "      <td>1.0</td>\n",
       "      <td>0</td>\n",
       "      <td>0</td>\n",
       "      <td>...</td>\n",
       "      <td>7</td>\n",
       "      <td>1180</td>\n",
       "      <td>0</td>\n",
       "      <td>1955</td>\n",
       "      <td>0</td>\n",
       "      <td>98178</td>\n",
       "      <td>47.5112</td>\n",
       "      <td>-122.257</td>\n",
       "      <td>1340</td>\n",
       "      <td>5650</td>\n",
       "    </tr>\n",
       "    <tr>\n",
       "      <th>1</th>\n",
       "      <td>6414100192</td>\n",
       "      <td>20141209T000000</td>\n",
       "      <td>538000</td>\n",
       "      <td>3</td>\n",
       "      <td>2.25</td>\n",
       "      <td>2570</td>\n",
       "      <td>7242</td>\n",
       "      <td>2.0</td>\n",
       "      <td>0</td>\n",
       "      <td>0</td>\n",
       "      <td>...</td>\n",
       "      <td>7</td>\n",
       "      <td>2170</td>\n",
       "      <td>400</td>\n",
       "      <td>1951</td>\n",
       "      <td>1991</td>\n",
       "      <td>98125</td>\n",
       "      <td>47.7210</td>\n",
       "      <td>-122.319</td>\n",
       "      <td>1690</td>\n",
       "      <td>7639</td>\n",
       "    </tr>\n",
       "    <tr>\n",
       "      <th>2</th>\n",
       "      <td>5631500400</td>\n",
       "      <td>20150225T000000</td>\n",
       "      <td>180000</td>\n",
       "      <td>2</td>\n",
       "      <td>1.00</td>\n",
       "      <td>770</td>\n",
       "      <td>10000</td>\n",
       "      <td>1.0</td>\n",
       "      <td>0</td>\n",
       "      <td>0</td>\n",
       "      <td>...</td>\n",
       "      <td>6</td>\n",
       "      <td>770</td>\n",
       "      <td>0</td>\n",
       "      <td>1933</td>\n",
       "      <td>0</td>\n",
       "      <td>98028</td>\n",
       "      <td>47.7379</td>\n",
       "      <td>-122.233</td>\n",
       "      <td>2720</td>\n",
       "      <td>8062</td>\n",
       "    </tr>\n",
       "    <tr>\n",
       "      <th>3</th>\n",
       "      <td>2487200875</td>\n",
       "      <td>20141209T000000</td>\n",
       "      <td>604000</td>\n",
       "      <td>4</td>\n",
       "      <td>3.00</td>\n",
       "      <td>1960</td>\n",
       "      <td>5000</td>\n",
       "      <td>1.0</td>\n",
       "      <td>0</td>\n",
       "      <td>0</td>\n",
       "      <td>...</td>\n",
       "      <td>7</td>\n",
       "      <td>1050</td>\n",
       "      <td>910</td>\n",
       "      <td>1965</td>\n",
       "      <td>0</td>\n",
       "      <td>98136</td>\n",
       "      <td>47.5208</td>\n",
       "      <td>-122.393</td>\n",
       "      <td>1360</td>\n",
       "      <td>5000</td>\n",
       "    </tr>\n",
       "    <tr>\n",
       "      <th>4</th>\n",
       "      <td>1954400510</td>\n",
       "      <td>20150218T000000</td>\n",
       "      <td>510000</td>\n",
       "      <td>3</td>\n",
       "      <td>2.00</td>\n",
       "      <td>1680</td>\n",
       "      <td>8080</td>\n",
       "      <td>1.0</td>\n",
       "      <td>0</td>\n",
       "      <td>0</td>\n",
       "      <td>...</td>\n",
       "      <td>8</td>\n",
       "      <td>1680</td>\n",
       "      <td>0</td>\n",
       "      <td>1987</td>\n",
       "      <td>0</td>\n",
       "      <td>98074</td>\n",
       "      <td>47.6168</td>\n",
       "      <td>-122.045</td>\n",
       "      <td>1800</td>\n",
       "      <td>7503</td>\n",
       "    </tr>\n",
       "  </tbody>\n",
       "</table>\n",
       "<p>5 rows × 21 columns</p>\n",
       "</div>"
      ],
      "text/plain": [
       "           id             date   price  bedrooms  bathrooms  sqft_living  \\\n",
       "0  7129300520  20141013T000000  221900         3       1.00         1180   \n",
       "1  6414100192  20141209T000000  538000         3       2.25         2570   \n",
       "2  5631500400  20150225T000000  180000         2       1.00          770   \n",
       "3  2487200875  20141209T000000  604000         4       3.00         1960   \n",
       "4  1954400510  20150218T000000  510000         3       2.00         1680   \n",
       "\n",
       "   sqft_lot  floors  waterfront  view  ...  grade  sqft_above  sqft_basement  \\\n",
       "0      5650     1.0           0     0  ...      7        1180              0   \n",
       "1      7242     2.0           0     0  ...      7        2170            400   \n",
       "2     10000     1.0           0     0  ...      6         770              0   \n",
       "3      5000     1.0           0     0  ...      7        1050            910   \n",
       "4      8080     1.0           0     0  ...      8        1680              0   \n",
       "\n",
       "   yr_built  yr_renovated  zipcode      lat     long  sqft_living15  \\\n",
       "0      1955             0    98178  47.5112 -122.257           1340   \n",
       "1      1951          1991    98125  47.7210 -122.319           1690   \n",
       "2      1933             0    98028  47.7379 -122.233           2720   \n",
       "3      1965             0    98136  47.5208 -122.393           1360   \n",
       "4      1987             0    98074  47.6168 -122.045           1800   \n",
       "\n",
       "   sqft_lot15  \n",
       "0        5650  \n",
       "1        7639  \n",
       "2        8062  \n",
       "3        5000  \n",
       "4        7503  \n",
       "\n",
       "[5 rows x 21 columns]"
      ]
     },
     "execution_count": 3,
     "metadata": {},
     "output_type": "execute_result"
    }
   ],
   "source": [
    "sales.head()"
   ]
  },
  {
   "cell_type": "markdown",
   "metadata": {
    "id": "qbXfyeYYRS6o"
   },
   "source": [
    "# Thăm dò dữ liệu bán nhà"
   ]
  },
  {
   "cell_type": "markdown",
   "metadata": {
    "id": "lkpUbIxaRS6o"
   },
   "source": [
    " Giá nhà tương quan với diện tích không gian sống. In ra một biểu đồ phân tán (scatter plot) để thể hiện điều này. \n",
    "\n",
    "**Gợi ý**: sử dụng \"sqft_living\" và \"price\" "
   ]
  },
  {
   "cell_type": "code",
   "execution_count": 4,
   "metadata": {
    "id": "HoVlm0AFRS6p",
    "outputId": "0cb9d1d9-4cea-4ac1-9dfb-8a6d84187235"
   },
   "outputs": [
    {
     "data": {
      "text/plain": [
       "<matplotlib.collections.PathCollection at 0x1d798a24bc8>"
      ]
     },
     "execution_count": 4,
     "metadata": {},
     "output_type": "execute_result"
    },
    {
     "data": {
      "image/png": "[encoded data removed]",
      "text/plain": [
       "<Figure size 432x288 with 1 Axes>"
      ]
     },
     "metadata": {
      "needs_background": "light"
     },
     "output_type": "display_data"
    }
   ],
   "source": [
    "import matplotlib.pyplot as plt\n",
    "%matplotlib inline\n",
    "\n",
    "# WRITE YOUR CODE HERE\n",
    "plt.scatter(x= sales['sqft_living'] , y= sales['price'] )"
   ]
  },
  {
   "cell_type": "markdown",
   "metadata": {
    "id": "qoHSt9uPRS6r"
   },
   "source": [
    "# Tạo một mô hình hồi quy đơn giản về sqft_living với price"
   ]
  },
  {
   "cell_type": "markdown",
   "metadata": {
    "id": "KIFKvVXBRS6s"
   },
   "source": [
    "# Chia dữ liệu thành training và testing.  \n",
    "Chúng ta sử dụng seed=0 để mọi người chạy notebook này có kết quả như nhau. Ở lab này, cần thiết lập **train_size=0.8, test_size=0.2, and random_state=0**"
   ]
  },
  {
   "cell_type": "code",
   "execution_count": 5,
   "metadata": {
    "id": "ME_g0T3dRS6s"
   },
   "outputs": [],
   "source": [
    "from sklearn.model_selection import train_test_split\n",
    "X = np.array([sales['sqft_living']]).transpose()\n",
    "y = sales['price']\n",
    "\n",
    "# WRITE YOUR CODE HERE\n",
    "X_train ,X_test , y_train ,y_test  = train_test_split( X,y,test_size = 0.2 , random_state = 0 )"
   ]
  },
  {
   "cell_type": "code",
   "execution_count": 14,
   "metadata": {},
   "outputs": [],
   "source": [
    "# from sklearn.model_selection import train_test_split\n",
    "# X _train , X_test , y_train , y_test = train_test_split(X,y,size_train = 0.2 random_state =0)"
   ]
  },
  {
   "cell_type": "markdown",
   "metadata": {
    "id": "_f7yMTPiRS6u"
   },
   "source": [
    "## Tạo một mô hình hồi quy tuyến tính chỉ dùng sqft_living làm feature"
   ]
  },
  {
   "cell_type": "markdown",
   "metadata": {
    "id": "ZN3xQwS2Rdny"
   },
   "source": [
    "Tạo một mô hình hồi quy tuyến tính và huấn luyện nó với tập dữ liệu huấn luyện."
   ]
  },
  {
   "cell_type": "code",
   "execution_count": 6,
   "metadata": {
    "id": "MI3bASrJRS6v",
    "outputId": "a3f865be-bd39-4b2c-822c-1c1d8335921a"
   },
   "outputs": [
    {
     "data": {
      "text/plain": [
       "LinearRegression()"
      ]
     },
     "execution_count": 6,
     "metadata": {},
     "output_type": "execute_result"
    }
   ],
   "source": [
    "# WRITE YOUR CODE HERE\n",
    "from sklearn.linear_model import LinearRegression\n",
    "import numpy as np\n",
    "\n",
    "# WRITE YOUR CODE HERE\n",
    "sqft_model = LinearRegression()\n",
    "sqft_model.fit(X_train,y_train)"
   ]
  },
  {
   "cell_type": "markdown",
   "metadata": {
    "id": "t6_1sZJSRS6y"
   },
   "source": [
    "# Đánh giá mô hình đơn giản"
   ]
  },
  {
   "cell_type": "markdown",
   "metadata": {
    "id": "hPdRqFB9Rnmn"
   },
   "source": [
    "Đưa ra dự đoán và tính sai số toàn phương trung bình (MSE)."
   ]
  },
  {
   "cell_type": "code",
   "execution_count": 7,
   "metadata": {
    "id": "_6quMoplRS61",
    "outputId": "08a047e4-cfb1-4495-ddc2-a49d282d35ed"
   },
   "outputs": [
    {
     "name": "stdout",
     "output_type": "stream",
     "text": [
      "248879.06143647005\n"
     ]
    }
   ],
   "source": [
    "# WRITE YOUR CODE HERE\n",
    "prediction = sqft_model.predict(X_test)\n",
    "print(np.sqrt(sklearn.metrics.mean_squared_error(y_test, prediction)))"
   ]
  },
  {
   "cell_type": "markdown",
   "metadata": {
    "id": "wb9PdwuaRS63"
   },
   "source": [
    "MSE khoảng \\$248,879\\$!"
   ]
  },
  {
   "cell_type": "markdown",
   "metadata": {
    "id": "SFPjosLmRS64"
   },
   "source": [
    "# Hãy xem dự đoán của chúng ta thế nào"
   ]
  },
  {
   "cell_type": "markdown",
   "metadata": {
    "id": "qcaDy-DURS64"
   },
   "source": [
    "Matplotlib là một thư viện hữu ích của Python để vẽ đồ thị. Bạn có thể cài đặt nó với:\n",
    "\n",
    "'pip install matplotlib'"
   ]
  },
  {
   "cell_type": "code",
   "execution_count": 8,
   "metadata": {
    "id": "sB3rWLLDRS65"
   },
   "outputs": [],
   "source": [
    "import matplotlib.pyplot as plt\n",
    "%matplotlib inline"
   ]
  },
  {
   "cell_type": "markdown",
   "metadata": {
    "id": "NS3sHe_qRx2k"
   },
   "source": [
    "Vẽ đường hồi quy. "
   ]
  },
  {
   "cell_type": "code",
   "execution_count": 10,
   "metadata": {},
   "outputs": [
    {
     "data": {
      "text/plain": [
       "[<matplotlib.lines.Line2D at 0x1d79d2ea4c8>,\n",
       " <matplotlib.lines.Line2D at 0x1d79d2f5088>]"
      ]
     },
     "execution_count": 10,
     "metadata": {},
     "output_type": "execute_result"
    },
    {
     "data": {
      "image/png": "[encoded data removed]",
      "text/plain": [
       "<Figure size 432x288 with 1 Axes>"
      ]
     },
     "metadata": {
      "needs_background": "light"
     },
     "output_type": "display_data"
    }
   ],
   "source": [
    "# WRITE YOUR CODE HERE\n",
    "plt.plot(X_test,\n",
    "         y_test,'.',\n",
    "            X_test,\n",
    "         sqft_model.predict(X_test),\n",
    "         '-')"
   ]
  },
  {
   "cell_type": "markdown",
   "metadata": {
    "id": "Sl0AKAdZRS6-"
   },
   "source": [
    "\n",
    "Phía trên: các chấm xanh là dữ liệu gốc, đường màu cam là dự đoán từ hồi quy đơn giản.\n",
    "\n",
    "Phía dưới: chúng ta có thể thấy các hệ số hồi quy đã học."
   ]
  },
  {
   "cell_type": "code",
   "execution_count": 11,
   "metadata": {
    "id": "xB4uG-WXRS6-",
    "outputId": "88c46a13-d328-4149-c008-86c38cdd7d61"
   },
   "outputs": [
    {
     "name": "stdout",
     "output_type": "stream",
     "text": [
      "[283.96855737]\n",
      "\n"
     ]
    }
   ],
   "source": [
    "print(sqft_model.coef_)\n",
    "print()"
   ]
  },
  {
   "cell_type": "code",
   "execution_count": null,
   "metadata": {},
   "outputs": [],
   "source": []
  },
  {
   "cell_type": "markdown",
   "metadata": {
    "id": "JMoj7wwtRS7B"
   },
   "source": [
    "# Khám phá các feature khác trong dữ liệu\n",
    "\n",
    "Hãy khám phá thêm các feature khác để tạo một mô hình phức tạp hơn."
   ]
  },
  {
   "cell_type": "code",
   "execution_count": 12,
   "metadata": {
    "id": "FE-BdGXaRS7B"
   },
   "outputs": [],
   "source": [
    "my_features = ['bedrooms', 'bathrooms', 'sqft_living', 'sqft_lot', 'floors', 'view']"
   ]
  },
  {
   "cell_type": "code",
   "execution_count": 13,
   "metadata": {
    "id": "cbgv4aF8RS7D",
    "outputId": "e54b5a4d-928f-4b60-a0e8-ebb9e2c7d13e"
   },
   "outputs": [
    {
     "data": {
      "text/html": [
       "<div>\n",
       "<style scoped>\n",
       "    .dataframe tbody tr th:only-of-type {\n",
       "        vertical-align: middle;\n",
       "    }\n",
       "\n",
       "    .dataframe tbody tr th {\n",
       "        vertical-align: top;\n",
       "    }\n",
       "\n",
       "    .dataframe thead th {\n",
       "        text-align: right;\n",
       "    }\n",
       "</style>\n",
       "<table border=\"1\" class=\"dataframe\">\n",
       "  <thead>\n",
       "    <tr style=\"text-align: right;\">\n",
       "      <th></th>\n",
       "      <th>bedrooms</th>\n",
       "      <th>bathrooms</th>\n",
       "      <th>sqft_living</th>\n",
       "      <th>sqft_lot</th>\n",
       "      <th>floors</th>\n",
       "      <th>view</th>\n",
       "    </tr>\n",
       "  </thead>\n",
       "  <tbody>\n",
       "    <tr>\n",
       "      <th>0</th>\n",
       "      <td>3</td>\n",
       "      <td>1.00</td>\n",
       "      <td>1180</td>\n",
       "      <td>5650</td>\n",
       "      <td>1.0</td>\n",
       "      <td>0</td>\n",
       "    </tr>\n",
       "    <tr>\n",
       "      <th>1</th>\n",
       "      <td>3</td>\n",
       "      <td>2.25</td>\n",
       "      <td>2570</td>\n",
       "      <td>7242</td>\n",
       "      <td>2.0</td>\n",
       "      <td>0</td>\n",
       "    </tr>\n",
       "    <tr>\n",
       "      <th>2</th>\n",
       "      <td>2</td>\n",
       "      <td>1.00</td>\n",
       "      <td>770</td>\n",
       "      <td>10000</td>\n",
       "      <td>1.0</td>\n",
       "      <td>0</td>\n",
       "    </tr>\n",
       "    <tr>\n",
       "      <th>3</th>\n",
       "      <td>4</td>\n",
       "      <td>3.00</td>\n",
       "      <td>1960</td>\n",
       "      <td>5000</td>\n",
       "      <td>1.0</td>\n",
       "      <td>0</td>\n",
       "    </tr>\n",
       "    <tr>\n",
       "      <th>4</th>\n",
       "      <td>3</td>\n",
       "      <td>2.00</td>\n",
       "      <td>1680</td>\n",
       "      <td>8080</td>\n",
       "      <td>1.0</td>\n",
       "      <td>0</td>\n",
       "    </tr>\n",
       "  </tbody>\n",
       "</table>\n",
       "</div>"
      ],
      "text/plain": [
       "   bedrooms  bathrooms  sqft_living  sqft_lot  floors  view\n",
       "0         3       1.00         1180      5650     1.0     0\n",
       "1         3       2.25         2570      7242     2.0     0\n",
       "2         2       1.00          770     10000     1.0     0\n",
       "3         4       3.00         1960      5000     1.0     0\n",
       "4         3       2.00         1680      8080     1.0     0"
      ]
     },
     "execution_count": 13,
     "metadata": {},
     "output_type": "execute_result"
    }
   ],
   "source": [
    "sales[my_features].head()"
   ]
  },
  {
   "cell_type": "markdown",
   "metadata": {
    "id": "UJdFYuPERS7I"
   },
   "source": [
    "# Tạo một mô hình hồi quy tuyến tính với nhiều feature hơn"
   ]
  },
  {
   "cell_type": "markdown",
   "metadata": {
    "id": "A4w0EkZrR9uu"
   },
   "source": [
    "Tạo một mô hình hồi quy tuyến tính và huấn luyện nó với tập dữ liệu huấn luyện."
   ]
  },
  {
   "cell_type": "code",
   "execution_count": 14,
   "metadata": {},
   "outputs": [],
   "source": [
    "X2 = sales[my_features].iloc[:, :].values\n",
    "y2 = sales['price'].values\n",
    "\n",
    "# chia tap du lien thanhf train va test\n",
    "from sklearn.model_selection import train_test_split\n",
    "X_train2, X_test2, y_train2, y_test2 = train_test_split(X2, y2, test_size = 0.2, random_state = 0)"
   ]
  },
  {
   "cell_type": "code",
   "execution_count": 15,
   "metadata": {
    "id": "Gug_3n-mRS7J",
    "outputId": "0fe8a74d-4e66-4fda-aca3-65730b858dcb"
   },
   "outputs": [
    {
     "data": {
      "text/plain": [
       "LinearRegression()"
      ]
     },
     "execution_count": 15,
     "metadata": {},
     "output_type": "execute_result"
    }
   ],
   "source": [
    "# WRITE YOUR CODE HERE\n",
    "my_features_model = LinearRegression()\n",
    "my_features_model.fit(X_train2 ,y_train2 ) "
   ]
  },
  {
   "cell_type": "markdown",
   "metadata": {
    "id": "CoaXdvibRS7O"
   },
   "source": [
    "## So sánh kết quả của mô hình đơn giản với mô hình thêm nhiều feature"
   ]
  },
  {
   "cell_type": "markdown",
   "metadata": {
    "id": "GkWT68xvR_Jz"
   },
   "source": [
    "So sánh MSE giữa mô hình đơn giản với mô hình thêm nhiều feature."
   ]
  },
  {
   "cell_type": "code",
   "execution_count": 16,
   "metadata": {
    "id": "sSZRni5nRS7O",
    "outputId": "0b21688e-2d7e-4d96-d018-6b0bfb634cf6"
   },
   "outputs": [
    {
     "name": "stdout",
     "output_type": "stream",
     "text": [
      "248879.06143647005\n",
      "236354.28593183114\n"
     ]
    }
   ],
   "source": [
    "\n",
    "prediction = sqft_model.predict(X_test )\n",
    "print(np.sqrt(sklearn.metrics.mean_squared_error(y_test, prediction)))\n",
    "\n",
    "# WRITE YOUR CODE HERE\n",
    "prediction = my_features_model.predict(X_test2)\n",
    "print(np.sqrt(sklearn.metrics.mean_squared_error(y_test2, prediction)))"
   ]
  },
  {
   "cell_type": "markdown",
   "metadata": {
    "id": "zjpSBbzRRS7Q"
   },
   "source": [
    "MSE giảm từ \\$248.879\\$ xuống \\$244,004\\$ khi có nhiều feature hơn. "
   ]
  },
  {
   "cell_type": "markdown",
   "metadata": {
    "id": "0pXlQJElRS7R"
   },
   "source": [
    "# Áp dụng mô hình đã học để đoán giá 3 căn nhà"
   ]
  },
  {
   "cell_type": "markdown",
   "metadata": {
    "id": "jaBuCSuuSKKx"
   },
   "source": [
    "Chúng ta sẽ dự đoán giá của 3 căn nhà cụ thể."
   ]
  },
  {
   "cell_type": "markdown",
   "metadata": {
    "id": "DL4MzUJ2RS7R"
   },
   "source": [
    "Căn nhà đầu tiên là nhà \"tầm trung\" ở Seatle."
   ]
  },
  {
   "cell_type": "code",
   "execution_count": 23,
   "metadata": {
    "id": "F7s80U3ORS7S"
   },
   "outputs": [],
   "source": [
    "house1 = sales.loc[sales['id']==5309101200]"
   ]
  },
  {
   "cell_type": "code",
   "execution_count": 24,
   "metadata": {
    "id": "N3TASC8aRS7U",
    "outputId": "b706b462-4e33-4710-fcb2-2f74eb8274c2"
   },
   "outputs": [
    {
     "data": {
      "text/html": [
       "<div>\n",
       "<style scoped>\n",
       "    .dataframe tbody tr th:only-of-type {\n",
       "        vertical-align: middle;\n",
       "    }\n",
       "\n",
       "    .dataframe tbody tr th {\n",
       "        vertical-align: top;\n",
       "    }\n",
       "\n",
       "    .dataframe thead th {\n",
       "        text-align: right;\n",
       "    }\n",
       "</style>\n",
       "<table border=\"1\" class=\"dataframe\">\n",
       "  <thead>\n",
       "    <tr style=\"text-align: right;\">\n",
       "      <th></th>\n",
       "      <th>id</th>\n",
       "      <th>date</th>\n",
       "      <th>price</th>\n",
       "      <th>bedrooms</th>\n",
       "      <th>bathrooms</th>\n",
       "      <th>sqft_living</th>\n",
       "      <th>sqft_lot</th>\n",
       "      <th>floors</th>\n",
       "      <th>waterfront</th>\n",
       "      <th>view</th>\n",
       "      <th>...</th>\n",
       "      <th>grade</th>\n",
       "      <th>sqft_above</th>\n",
       "      <th>sqft_basement</th>\n",
       "      <th>yr_built</th>\n",
       "      <th>yr_renovated</th>\n",
       "      <th>zipcode</th>\n",
       "      <th>lat</th>\n",
       "      <th>long</th>\n",
       "      <th>sqft_living15</th>\n",
       "      <th>sqft_lot15</th>\n",
       "    </tr>\n",
       "  </thead>\n",
       "  <tbody>\n",
       "    <tr>\n",
       "      <th>1054</th>\n",
       "      <td>5309101200</td>\n",
       "      <td>20140605T000000</td>\n",
       "      <td>620000</td>\n",
       "      <td>4</td>\n",
       "      <td>2.25</td>\n",
       "      <td>2400</td>\n",
       "      <td>5350</td>\n",
       "      <td>1.5</td>\n",
       "      <td>0</td>\n",
       "      <td>0</td>\n",
       "      <td>...</td>\n",
       "      <td>7</td>\n",
       "      <td>1460</td>\n",
       "      <td>940</td>\n",
       "      <td>1929</td>\n",
       "      <td>0</td>\n",
       "      <td>98117</td>\n",
       "      <td>47.6763</td>\n",
       "      <td>-122.37</td>\n",
       "      <td>1250</td>\n",
       "      <td>4880</td>\n",
       "    </tr>\n",
       "  </tbody>\n",
       "</table>\n",
       "<p>1 rows × 21 columns</p>\n",
       "</div>"
      ],
      "text/plain": [
       "              id             date   price  bedrooms  bathrooms  sqft_living  \\\n",
       "1054  5309101200  20140605T000000  620000         4       2.25         2400   \n",
       "\n",
       "      sqft_lot  floors  waterfront  view  ...  grade  sqft_above  \\\n",
       "1054      5350     1.5           0     0  ...      7        1460   \n",
       "\n",
       "      sqft_basement  yr_built  yr_renovated  zipcode      lat    long  \\\n",
       "1054            940      1929             0    98117  47.6763 -122.37   \n",
       "\n",
       "      sqft_living15  sqft_lot15  \n",
       "1054           1250        4880  \n",
       "\n",
       "[1 rows x 21 columns]"
      ]
     },
     "execution_count": 24,
     "metadata": {},
     "output_type": "execute_result"
    }
   ],
   "source": [
    "house1"
   ]
  },
  {
   "cell_type": "markdown",
   "metadata": {
    "id": "11lO7LHZRS7W"
   },
   "source": [
    "<img src=\"http://blue.kingcounty.com/Assessor/eRealProperty/MediaHandler.aspx?Media=2916871\">"
   ]
  },
  {
   "cell_type": "code",
   "execution_count": 25,
   "metadata": {
    "id": "xRqllviGRS7W",
    "outputId": "86d9b5f9-d579-4cb8-dd57-51f29bc72608"
   },
   "outputs": [
    {
     "name": "stdout",
     "output_type": "stream",
     "text": [
      "1054    620000\n",
      "Name: price, dtype: int64\n"
     ]
    }
   ],
   "source": [
    "print(house1['price'])"
   ]
  },
  {
   "cell_type": "code",
   "execution_count": 26,
   "metadata": {
    "id": "EkQps75SRS7Y",
    "outputId": "f020311f-e74f-4e9a-9419-8e7916a2310b"
   },
   "outputs": [
    {
     "name": "stdout",
     "output_type": "stream",
     "text": [
      "[633267.47422744]\n"
     ]
    }
   ],
   "source": [
    "print(sqft_model.predict(np.reshape(np.array(house1['sqft_living']),[1, -1] )))"
   ]
  },
  {
   "cell_type": "code",
   "execution_count": 27,
   "metadata": {},
   "outputs": [
    {
     "name": "stdout",
     "output_type": "stream",
     "text": [
      "[584124.20218078]\n"
     ]
    }
   ],
   "source": [
    "print(my_features_model.predict(np.array(house1[data_multile_feature].iloc[:,:].values)))"
   ]
  },
  {
   "cell_type": "markdown",
   "metadata": {
    "id": "QhXk1y62RS7d"
   },
   "source": [
    "Trong trường hợp này, mô hình với nhiều feature hơn cho dự đoán tệ hơn mô hình đơn giản chỉ có 1 feature. Tuy nhiên, nhìn chung mô hình có nhiều feature hơn lại tốt hơn."
   ]
  },
  {
   "cell_type": "markdown",
   "metadata": {
    "id": "AIKVptU9RS7e"
   },
   "source": [
    "##Dự đoán căn nhà thứ 2: căn nhà đẹp hơn\n",
    "\n",
    "Chúng ta sẽ xem xét các dự đoán cho một căn nhà đẹp mắt hơn."
   ]
  },
  {
   "cell_type": "code",
   "execution_count": 28,
   "metadata": {
    "id": "Xq3URD-zRS7e"
   },
   "outputs": [],
   "source": [
    "house2 = sales.loc[sales['id']==1925069082]"
   ]
  },
  {
   "cell_type": "code",
   "execution_count": 29,
   "metadata": {
    "id": "8CSGNPbSRS7g",
    "outputId": "5825c7e2-7e92-4f01-f4fd-d922e5bd1e84"
   },
   "outputs": [
    {
     "data": {
      "text/html": [
       "<div>\n",
       "<style scoped>\n",
       "    .dataframe tbody tr th:only-of-type {\n",
       "        vertical-align: middle;\n",
       "    }\n",
       "\n",
       "    .dataframe tbody tr th {\n",
       "        vertical-align: top;\n",
       "    }\n",
       "\n",
       "    .dataframe thead th {\n",
       "        text-align: right;\n",
       "    }\n",
       "</style>\n",
       "<table border=\"1\" class=\"dataframe\">\n",
       "  <thead>\n",
       "    <tr style=\"text-align: right;\">\n",
       "      <th></th>\n",
       "      <th>id</th>\n",
       "      <th>date</th>\n",
       "      <th>price</th>\n",
       "      <th>bedrooms</th>\n",
       "      <th>bathrooms</th>\n",
       "      <th>sqft_living</th>\n",
       "      <th>sqft_lot</th>\n",
       "      <th>floors</th>\n",
       "      <th>waterfront</th>\n",
       "      <th>view</th>\n",
       "      <th>...</th>\n",
       "      <th>grade</th>\n",
       "      <th>sqft_above</th>\n",
       "      <th>sqft_basement</th>\n",
       "      <th>yr_built</th>\n",
       "      <th>yr_renovated</th>\n",
       "      <th>zipcode</th>\n",
       "      <th>lat</th>\n",
       "      <th>long</th>\n",
       "      <th>sqft_living15</th>\n",
       "      <th>sqft_lot15</th>\n",
       "    </tr>\n",
       "  </thead>\n",
       "  <tbody>\n",
       "    <tr>\n",
       "      <th>1361</th>\n",
       "      <td>1925069082</td>\n",
       "      <td>20150511T000000</td>\n",
       "      <td>2200000</td>\n",
       "      <td>5</td>\n",
       "      <td>4.25</td>\n",
       "      <td>4640</td>\n",
       "      <td>22703</td>\n",
       "      <td>2.0</td>\n",
       "      <td>1</td>\n",
       "      <td>4</td>\n",
       "      <td>...</td>\n",
       "      <td>8</td>\n",
       "      <td>2860</td>\n",
       "      <td>1780</td>\n",
       "      <td>1952</td>\n",
       "      <td>0</td>\n",
       "      <td>98052</td>\n",
       "      <td>47.6393</td>\n",
       "      <td>-122.097</td>\n",
       "      <td>3140</td>\n",
       "      <td>14200</td>\n",
       "    </tr>\n",
       "  </tbody>\n",
       "</table>\n",
       "<p>1 rows × 21 columns</p>\n",
       "</div>"
      ],
      "text/plain": [
       "              id             date    price  bedrooms  bathrooms  sqft_living  \\\n",
       "1361  1925069082  20150511T000000  2200000         5       4.25         4640   \n",
       "\n",
       "      sqft_lot  floors  waterfront  view  ...  grade  sqft_above  \\\n",
       "1361     22703     2.0           1     4  ...      8        2860   \n",
       "\n",
       "      sqft_basement  yr_built  yr_renovated  zipcode      lat     long  \\\n",
       "1361           1780      1952             0    98052  47.6393 -122.097   \n",
       "\n",
       "      sqft_living15  sqft_lot15  \n",
       "1361           3140       14200  \n",
       "\n",
       "[1 rows x 21 columns]"
      ]
     },
     "execution_count": 29,
     "metadata": {},
     "output_type": "execute_result"
    }
   ],
   "source": [
    "house2"
   ]
  },
  {
   "cell_type": "markdown",
   "metadata": {
    "id": "u3CN-ki2RS7j"
   },
   "source": [
    "<img src=\"https://ssl.cdn-redfin.com/photo/1/bigphoto/302/734302_0.jpg\">"
   ]
  },
  {
   "cell_type": "code",
   "execution_count": 30,
   "metadata": {
    "id": "zyttMXTBRS7j",
    "outputId": "79f7e2de-96eb-4868-86e7-f43cf1eac1b4"
   },
   "outputs": [
    {
     "name": "stdout",
     "output_type": "stream",
     "text": [
      "[1269357.04273158]\n"
     ]
    }
   ],
   "source": [
    "print(sqft_model.predict(np.reshape(np.array(house2['sqft_living']),[1, -1])))"
   ]
  },
  {
   "cell_type": "code",
   "execution_count": 31,
   "metadata": {
    "id": "EtLPX1CnRS7l",
    "outputId": "26ff00c3-57c2-4493-a09d-671427d60b5c"
   },
   "outputs": [
    {
     "name": "stdout",
     "output_type": "stream",
     "text": [
      "[1589352.26968165]\n"
     ]
    }
   ],
   "source": [
    "print(my_features_model.predict(np.array(house2[data_multile_feature].iloc[:,:].values)))"
   ]
  },
  {
   "cell_type": "markdown",
   "metadata": {
    "id": "pG4uOjfMRS7o"
   },
   "source": [
    "Trong trường hợp này, mô hình có nhiều feature cho dự đoán tốt hơn. Động thái này khá được mong đợi ở đây vì căn nhà này khác biệt bởi các feature vượt trội hơn diện tích không gian sống, đặc biệt là nó có hồ trước nhà."
   ]
  },
  {
   "cell_type": "markdown",
   "metadata": {
    "id": "wHjLHiquRS7o"
   },
   "source": [
    "##Căn nhà thứ 3: căn nhà vô cùng đẹp\n",
    "\n",
    "Căn nhà cuối cùng rất rộng, được sở hữu bởi một người dân bản xứ."
   ]
  },
  {
   "cell_type": "code",
   "execution_count": 32,
   "metadata": {
    "id": "7_b8BhGCRS7p"
   },
   "outputs": [],
   "source": [
    "bill_gates = {'bedrooms':[8], \n",
    "              'bathrooms':[25], \n",
    "              'sqft_living':[50000], \n",
    "              'sqft_lot':[225000],\n",
    "              'floors':[4], \n",
    "              'zipcode':['98039'], \n",
    "              'condition':[10], \n",
    "              'grade':[10],\n",
    "              'waterfront':[1],\n",
    "              'view':[4],\n",
    "              'sqft_above':[37500],\n",
    "              'sqft_basement':[12500],\n",
    "              'yr_built':[1994],\n",
    "              'yr_renovated':[2010],\n",
    "              'lat':[47.627606],\n",
    "              'long':[-122.242054],\n",
    "              'sqft_living15':[5000],\n",
    "              'sqft_lot15':[40000]}"
   ]
  },
  {
   "cell_type": "markdown",
   "metadata": {
    "id": "_Fa5mkybRS7r"
   },
   "source": [
    "<img src=\"https://upload.wikimedia.org/wikipedia/commons/2/26/Residence_of_Bill_Gates.jpg\">"
   ]
  },
  {
   "cell_type": "code",
   "execution_count": 33,
   "metadata": {
    "id": "WLfLmqPORS7r",
    "outputId": "f53fc0df-ba92-4ffd-f09c-a0d1d129f437"
   },
   "outputs": [
    {
     "name": "stdout",
     "output_type": "stream",
     "text": [
      "[14418537.1136844]\n"
     ]
    }
   ],
   "source": [
    "bill_gates=pd.DataFrame.from_dict(bill_gates)\n",
    "data_feature = ['bedrooms', 'bathrooms', 'sqft_living', 'sqft_lot', 'floors', 'view']\n",
    "X_bil_gates = bill_gates[data_feature].iloc[:,:].values\n",
    "print(my_features_model.predict(X_bil_gates))"
   ]
  },
  {
   "cell_type": "markdown",
   "metadata": {
    "id": "je1bTPgNRS7u"
   },
   "source": [
    "Mô hình dự đoán giá cho căn nhà này là trên 15 triệu USD! Nhưng chúng ta muốn giá cao hơn nữa. (Có rất ít mẫu trong tập dữ liệu nhà đẹp nên chúng ta không mong đợi mô hình đưa ra một dự đoán hoàn hảo ở đây)."
   ]
  },
  {
   "cell_type": "markdown",
   "metadata": {},
   "source": [
    "==============================End============================="
   ]
  }
 ],
 "metadata": {
  "colab": {
   "collapsed_sections": [],
   "name": "[VN] Lab 10.4-Predicting house prices.ipynb",
   "provenance": [],
   "toc_visible": true
  },
  "kernelspec": {
   "display_name": "pytorch",
   "language": "python",
   "name": "pytorch"
  },
  "language_info": {
   "codemirror_mode": {
    "name": "ipython",
    "version": 3
   },
   "file_extension": ".py",
   "mimetype": "text/x-python",
   "name": "python",
   "nbconvert_exporter": "python",
   "pygments_lexer": "ipython3",
   "version": "3.7.10"
  }
 },
 "nbformat": 4,
 "nbformat_minor": 1
}
