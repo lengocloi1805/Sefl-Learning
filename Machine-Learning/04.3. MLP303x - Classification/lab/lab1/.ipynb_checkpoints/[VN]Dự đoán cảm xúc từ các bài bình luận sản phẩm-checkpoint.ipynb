{
 "cells": [
  {
   "cell_type": "markdown",
   "metadata": {
    "id": "95s6_p4E5qC0"
   },
   "source": [
    "# Dự đoán cảm xúc từ các bài bình luận sản phẩm\n",
    "\n",
    "\n",
    "Mục tiêu của notebook đầu tiên này là khám phá hồi quy Logistic và kỹ thuật đặc trưng với các hàm sklearn hiện có.\n",
    "\n",
    "Trong notebook này, chúng ta sẽ sử dụng dữ liệu bình luận sản phẩm từ Amazon.com để dự đoán cảm xúc về một sản phẩm (từ bình luận) là tích cực hay tiêu cực.\n",
    "\n",
    "* Sử dụng pandas để thực hiện một số kỹ thuật đặc trưng.\n",
    "* Huấn luyện mô hình hồi quy Logistic để dự đoán cảm xúc của các bình luận về sản phẩm.\n",
    "* Kiểm tra các trọng số (hệ số) của mô hình hồi quy Logistic đã huấn luyện.\n",
    "* Đưa ra dự đoán (cả lớp và xác suất) của cảm xúc cho một bình luận sản phẩm mới.\n",
    "* Viết hàm tính **accuracy** của mô hình biết trọng số hồi quy, các yếu tố dự đoán và nhãn ground truth.\n",
    "* Kiểm tra hệ số của mô hình hồi quy Logistic và giải thích ý nghĩa của chúng.\n",
    "* So sánh nhiều mô hình hồi quy Logistic.\n",
    "\n",
    "Hãy bắt đầu thôi!"
   ]
  },
  {
   "cell_type": "code",
   "execution_count": 1,
   "metadata": {
    "id": "fIGwAkXt5qC2"
   },
   "outputs": [
    {
     "name": "stderr",
     "output_type": "stream",
     "text": [
      "C:\\Users\\Admin\\AppData\\Roaming\\Python\\Python37\\site-packages\\pandas\\compat\\_optional.py:138: UserWarning: Pandas requires version '2.7.0' or newer of 'numexpr' (version '2.6.8' currently installed).\n",
      "  warnings.warn(msg, UserWarning)\n"
     ]
    }
   ],
   "source": [
    "# Import một số thư viện\n",
    "\n",
    "import pandas\n",
    "import numpy as np\n",
    "from sklearn.model_selection import train_test_split"
   ]
  },
  {
   "cell_type": "code",
   "execution_count": 3,
   "metadata": {
    "id": "ekzHZZtA5qC8"
   },
   "outputs": [],
   "source": [
    "# Import dữ liệu amazon_baby.csv vào pandas dataframe\n",
    "products_df = pandas.read_csv('amazon_baby.csv')"
   ]
  },
  {
   "cell_type": "markdown",
   "metadata": {
    "id": "2y1uB3Qj5qC_"
   },
   "source": [
    "### 1. Tiền xử lý dữ liệu\n",
    "Trước khi sử dụng dữ liệu đánh giá, chúng ta cần thực hiện tiền xử lý\n",
    "<br>\n",
    "Trước tiên, loại bỏ dấu câu khỏi các từ\n",
    "<br>\n",
    "Ví dụ: **good!** --> **good**, **resturant.** --> **resturant**"
   ]
  },
  {
   "cell_type": "code",
   "execution_count": 4,
   "metadata": {
    "id": "FIQyoj4N5qDA"
   },
   "outputs": [],
   "source": [
    "def remove_punctuation(text):\n",
    "    import string\n",
    "    return text.translate(string.punctuation)\n",
    "\n",
    "products_df = products_df.fillna({'review':''})  # điền vào các N/A ở cột review\n",
    "products_df['review_clean'] = products_df['review'].apply(remove_punctuation)"
   ]
  },
  {
   "cell_type": "markdown",
   "metadata": {
    "id": "agUaHvxO5qDG"
   },
   "source": [
    "Chúng ta sẽ bỏ qua tất cả các bình luận có rating = 3 vì chúng có cảm xúc trung lập."
   ]
  },
  {
   "cell_type": "code",
   "execution_count": 5,
   "metadata": {
    "id": "6ADFZDZ_5qDG"
   },
   "outputs": [],
   "source": [
    "products_df = products_df[products_df['rating'] != 3]"
   ]
  },
  {
   "cell_type": "markdown",
   "metadata": {
    "id": "JvfKQYaD5qDK"
   },
   "source": [
    "Bây giờ, chúng ta sẽ chỉ định các bình luận có rating từ 4 trở lên là bình luận tích cực, trong khi các bình luận từ 2 trở xuống là tiêu cực. Đối với cột sentiment, chúng ta sử dụng +1 cho nhãn positive class (lớp tích cực) và -1 cho nhãn negative class (lớp tiêu cực). Chúng ta nên tạo một hàm ẩn danh chuyển đổi rating thành class label, sau đó áp dụng hàm đó cho mọi phần tử trong cột rating. Trong Pandas, chúng ta sẽ sử dụng appl ():"
   ]
  },
  {
   "cell_type": "code",
   "execution_count": 6,
   "metadata": {
    "id": "TGn9OznU5qDL"
   },
   "outputs": [],
   "source": [
    "products_df['sentiment'] = products_df['rating'].apply(lambda rating : +1 if rating > 3 else -1)"
   ]
  },
  {
   "cell_type": "markdown",
   "metadata": {
    "id": "6Sc4Q4db5qDO"
   },
   "source": [
    "Hãy thực hiện phân tách train/test với 80% dữ liệu trong tập huấn luyện và 20% dữ liệu trong tập kiểm tra.\n",
    "Chúng ta sẽ thiết lập seed để đảm bảo nhận được các kết quả tương tự."
   ]
  },
  {
   "cell_type": "code",
   "execution_count": 7,
   "metadata": {
    "id": "J5p2UcYF5qDP"
   },
   "outputs": [],
   "source": [
    "np.random.seed(1)\n",
    "\n",
    "train_data, test_data = train_test_split(products_df, test_size=0.2)"
   ]
  },
  {
   "cell_type": "markdown",
   "metadata": {
    "id": "LQpImXXJ5qDU"
   },
   "source": [
    "### 2. Biểu diễn đặc trưng\n",
    " Bây giờ, chúng ta sẽ tính số từ cho mỗi từ xuất hiện trong các bình luận. Vectơ đếm từ thường được gọi là đặc trưng túi từ. Vì hầu hết các từ chỉ xuất hiện trong một số bình luận nên các vectơ đếm từ khá thưa thớt. Do đó, scikit-learn và nhiều công cụ khác sử dụng ma trận thưa thớt để lưu trữ tập hợp các vectơ đếm từ.\n",
    "<br>\n",
    "Có thể tham khảo [CountVectorizer](https://scikit-learn.org/stable/modules/generated/sklearn.feature_extraction.text.CountVectorizer.html) từ tài liệu scikit."
   ]
  },
  {
   "cell_type": "code",
   "execution_count": 8,
   "metadata": {
    "id": "iqav8_7c5qDU"
   },
   "outputs": [],
   "source": [
    "from sklearn.feature_extraction.text import CountVectorizer\n",
    "\n",
    "vectorizer = CountVectorizer(token_pattern=r'\\b\\w+\\b')\n",
    "# Sử dụng mẫu token này để giữ các từ có một chữ cái\n",
    "# Trước tiên, tìm hiểu từ vựng từ dữ liệu huấn luyện và gán cột cho từ\n",
    "# Sau đó chuyển đổi dữ liệu huấn luyện thành ma trận thưa thớt\n",
    "train_matrix = vectorizer.fit_transform(train_data['review_clean'])\n",
    "# Tiếp theo, chuyển đổi dữ liệu kiểm tra thành ma trận thưa thớt, sử dụng cùng một ánh xạ từ-cột\n",
    "test_matrix = vectorizer.transform(test_data['review_clean'])\n"
   ]
  },
  {
   "cell_type": "markdown",
   "metadata": {
    "id": "Y_i3lTxy5qDY"
   },
   "source": [
    "### 3. Huấn luyện mô hình hồi quy logistic\n",
    "\n",
    "Tìm hiểu phân loại hồi quy logistic bằng cách sử dụng dữ liệu huấn luyện. Chúng ta đang sử dụng scikit-learn, nên hãy tạo một instance của [LogisticRegression](https://scikit-learn.org/stable/modules/generated/sklearn.linear_model.LogisticRegression.html), sau đó gọi phương thức fit() để huấn luyện phân loại. Mô hình này nên sử dụng ma trận đếm từ thưa thớt (**train_matrix**) làm đặc trưng và cột **sentiment** của **train_data** làm mục tiêu. Sử dụng các giá trị mặc định cho các tham số khác."
   ]
  },
  {
   "cell_type": "code",
   "execution_count": 13,
   "metadata": {
    "id": "RpFHSVG-5qDZ"
   },
   "outputs": [
    {
     "name": "stderr",
     "output_type": "stream",
     "text": [
      "C:\\Users\\Admin\\Anaconda3\\lib\\site-packages\\sklearn\\linear_model\\_logistic.py:818: ConvergenceWarning: lbfgs failed to converge (status=1):\n",
      "STOP: TOTAL NO. of ITERATIONS REACHED LIMIT.\n",
      "\n",
      "Increase the number of iterations (max_iter) or scale the data as shown in:\n",
      "    https://scikit-learn.org/stable/modules/preprocessing.html\n",
      "Please also refer to the documentation for alternative solver options:\n",
      "    https://scikit-learn.org/stable/modules/linear_model.html#logistic-regression\n",
      "  extra_warning_msg=_LOGISTIC_SOLVER_CONVERGENCE_MSG,\n"
     ]
    }
   ],
   "source": [
    "### VIẾT CODE Ở ĐÂY ###\n",
    "from sklearn.linear_model import LogisticRegression\n",
    "\n",
    "X, y = train_matrix, train_data['sentiment']\n",
    "\n",
    "clf = LogisticRegression().fit(X,y)\n",
    "### VIẾT CODE Ở ĐÂY ###"
   ]
  },
  {
   "cell_type": "markdown",
   "metadata": {
    "id": "FD-LUqAo5qDc"
   },
   "source": [
    "Kiểm tra train accuracy.\n",
    "<br>\n",
    "Nên thu được train accuracy là: 0.9474291796913067"
   ]
  },
  {
   "cell_type": "code",
   "execution_count": 14,
   "metadata": {
    "id": "noUDr6tD5qDc"
   },
   "outputs": [
    {
     "name": "stdout",
     "output_type": "stream",
     "text": [
      "Train accuracy: 0.9475116378437943\n"
     ]
    }
   ],
   "source": [
    "print ('Train accuracy: {}'.format(clf.score(X, y)))"
   ]
  },
  {
   "cell_type": "markdown",
   "metadata": {
    "id": "UUOsSYvu5qDf"
   },
   "source": [
    "Kiểm tra test accuracy. \n",
    "Nên thu được test accuracy là: 0.9345746754220263"
   ]
  },
  {
   "cell_type": "code",
   "execution_count": 15,
   "metadata": {
    "id": "3f1iqZO45qDg"
   },
   "outputs": [
    {
     "name": "stdout",
     "output_type": "stream",
     "text": [
      "Test accuracy: 0.9344547389883362\n"
     ]
    }
   ],
   "source": [
    "print ('Test accuracy: {}'.format(clf.score(test_matrix, test_data['sentiment'])))"
   ]
  },
  {
   "cell_type": "code",
   "execution_count": 16,
   "metadata": {},
   "outputs": [
    {
     "data": {
      "text/plain": [
       "40188"
      ]
     },
     "execution_count": 16,
     "metadata": {},
     "output_type": "execute_result"
    }
   ],
   "source": [
    "sum(1 for c in clf.coef_[0] if c >= 0)"
   ]
  },
  {
   "cell_type": "markdown",
   "metadata": {
    "id": "TYgm4Tpb5qDl"
   },
   "source": [
    "**Quiz**: Có bao nhiêu trọng số >= 0?\n",
    "<br>\n",
    "**Đáp án**:\n",
    "<br>\n",
    "`sum(1 for c in clf.coef_[0] if c >= 0)`"
   ]
  },
  {
   "cell_type": "markdown",
   "metadata": {
    "id": "h7AsLLk85qDm"
   },
   "source": [
    "### 4. Đưa ra dự đoán\n",
    "\n",
    "Trước tiên, hãy tính score cho 6 mẫu từ **test_data**.\n",
    "<br>\n",
    "Nhớ lại từ bài giảng: $$\\mbox{score}_i = \\mathbf{w}^\\intercal h(\\mathbf{x}_i)$$"
   ]
  },
  {
   "cell_type": "code",
   "execution_count": 17,
   "metadata": {
    "id": "D3C3Nx4A5qDm"
   },
   "outputs": [
    {
     "name": "stdout",
     "output_type": "stream",
     "text": [
      "76151     It came to me with marks on it.I recently went...\n",
      "164181    How did we survive before discovering Kidzikoo...\n",
      "108065    My baby loves this jumper! He'll stay playing ...\n",
      "176539    Looked at this set at Walmart for $50 and coul...\n",
      "56851     Product was not working when received.  Batter...\n",
      "Name: review_clean, dtype: object\n",
      "76151     2\n",
      "164181    5\n",
      "108065    5\n",
      "176539    5\n",
      "56851     1\n",
      "Name: rating, dtype: int64\n",
      "76151    -1\n",
      "164181    1\n",
      "108065    1\n",
      "176539    1\n",
      "56851    -1\n",
      "Name: sentiment, dtype: int64\n"
     ]
    }
   ],
   "source": [
    "sample_test_data = test_data[105:110]\n",
    "print(sample_test_data['review_clean'])\n",
    "print(sample_test_data['rating'])\n",
    "print(sample_test_data['sentiment'])"
   ]
  },
  {
   "cell_type": "code",
   "execution_count": 18,
   "metadata": {
    "id": "s9ssg6rd5qDr"
   },
   "outputs": [
    {
     "name": "stdout",
     "output_type": "stream",
     "text": [
      "[-6.31521729  6.11838966  4.3730779   2.0046506  -5.6699474 ]\n"
     ]
    }
   ],
   "source": [
    "sample_test_matrix = vectorizer.transform(sample_test_data['review_clean'])\n",
    "scores = clf.decision_function(sample_test_matrix)\n",
    "print (scores)"
   ]
  },
  {
   "cell_type": "markdown",
   "metadata": {
    "id": "Q1sb1wGO5qDw"
   },
   "source": [
    "Các score này được sử dụng để dự đoán lớp như sau:\n",
    "<br>\n",
    "$$\\hat{y}_i = \\begin{cases} +1 & \\text{if } \\mathbf{w}^\\intercal h(\\mathbf{x}_i) > 0\\\\ -1 &\\text{if } \\mathbf{w}^\\intercal h(\\mathbf{x}_i) \\leq 0 \\end{cases}$$"
   ]
  },
  {
   "cell_type": "markdown",
   "metadata": {
    "id": "Kw7x2dgV5qDx"
   },
   "source": [
    "Chúng ta có thể sử dụng hàm predict() từ scikit-learn."
   ]
  },
  {
   "cell_type": "code",
   "execution_count": 19,
   "metadata": {
    "id": "MOtqjfvW5qDy",
    "scrolled": true
   },
   "outputs": [
    {
     "name": "stdout",
     "output_type": "stream",
     "text": [
      "[-1  1  1  1 -1]\n"
     ]
    }
   ],
   "source": [
    "print (clf.predict(sample_test_matrix))"
   ]
  },
  {
   "cell_type": "markdown",
   "metadata": {
    "id": "FzIMZrFe5qD6"
   },
   "source": [
    " Nhớ lại từ bài giảng, chúng ta cũng có thể tính xác suất dự đoán từ score sử dụng:\n",
    " <br>\n",
    " $$P(y_i = +1 | \\mathbf{x}_i, \\mathbf{w}) = \\dfrac{1}{1+\\exp{(-\\mathbf{w}^\\intercal h(\\mathbf{x}_i))}}$$"
   ]
  },
  {
   "cell_type": "markdown",
   "metadata": {
    "id": "h6CdJhsT5qD7"
   },
   "source": [
    "Chúng ta có thể sử dụng hàm predict_proba() từ scikit-learn."
   ]
  },
  {
   "cell_type": "code",
   "execution_count": 21,
   "metadata": {},
   "outputs": [
    {
     "data": {
      "text/plain": [
       "0.9981946922971531"
      ]
     },
     "execution_count": 21,
     "metadata": {},
     "output_type": "execute_result"
    }
   ],
   "source": [
    "1/(1+np.exp(-6.31521729))"
   ]
  },
  {
   "cell_type": "code",
   "execution_count": 20,
   "metadata": {
    "id": "6qFt_W8J5qD8"
   },
   "outputs": [
    {
     "name": "stdout",
     "output_type": "stream",
     "text": [
      "[[0.99819469 0.00180531]\n",
      " [0.00219716 0.99780284]\n",
      " [0.01245527 0.98754473]\n",
      " [0.1187155  0.8812845 ]\n",
      " [0.9965638  0.0034362 ]]\n"
     ]
    }
   ],
   "source": [
    "print (clf.predict_proba(sample_test_matrix))\n",
    "# LƯU Ý: P(yi=+1|xi,w) thể hiện trong cột thứ hai, cột thứ nhất thể hiện P(yi=-1|xi,w)"
   ]
  },
  {
   "cell_type": "markdown",
   "metadata": {
    "id": "E6FDJdXl5qD_"
   },
   "source": [
    "Tính accuracy:\n",
    "<br>\n",
    "$$\\mbox{accuracy} = \\dfrac{\\mbox{# correctly classified examples}}{\\mbox{# total examples}}$$\n",
    "<br>\n",
    "Chúng ta có thể sử dụng hàm score() từ scikit-learn."
   ]
  },
  {
   "cell_type": "code",
   "execution_count": 22,
   "metadata": {
    "id": "csHAIKFk5qEA"
   },
   "outputs": [
    {
     "name": "stdout",
     "output_type": "stream",
     "text": [
      "1.0\n"
     ]
    }
   ],
   "source": [
    "# Accuracy của 6 mẫu trên :DD\n",
    "print (clf.score(sample_test_matrix, sample_test_data['sentiment']))"
   ]
  },
  {
   "cell_type": "code",
   "execution_count": 23,
   "metadata": {
    "id": "r5j7XFn35qEH"
   },
   "outputs": [
    {
     "name": "stdout",
     "output_type": "stream",
     "text": [
      "Test accuracy: 0.9344547389883362\n"
     ]
    }
   ],
   "source": [
    "# Accuracy cho toàn bộ test_data\n",
    "print ('Test accuracy: {}'.format(clf.score(test_matrix, test_data['sentiment'])))"
   ]
  },
  {
   "cell_type": "code",
   "execution_count": null,
   "metadata": {
    "id": "_F5CSLPh5qEM"
   },
   "outputs": [],
   "source": []
  }
 ],
 "metadata": {
  "colab": {
   "collapsed_sections": [],
   "name": "[VN]Dự đoán cảm xúc từ các bài bình luận sản phẩm.ipynb",
   "provenance": [
    {
     "file_id": "1D4rONei30_PbA6332Mgl3qub4zBJXlwh",
     "timestamp": 1629455913545
    }
   ]
  },
  "kernelspec": {
   "display_name": "Python 3",
   "language": "python",
   "name": "python3"
  },
  "language_info": {
   "codemirror_mode": {
    "name": "ipython",
    "version": 3
   },
   "file_extension": ".py",
   "mimetype": "text/x-python",
   "name": "python",
   "nbconvert_exporter": "python",
   "pygments_lexer": "ipython3",
   "version": "3.7.1"
  }
 },
 "nbformat": 4,
 "nbformat_minor": 1
}
