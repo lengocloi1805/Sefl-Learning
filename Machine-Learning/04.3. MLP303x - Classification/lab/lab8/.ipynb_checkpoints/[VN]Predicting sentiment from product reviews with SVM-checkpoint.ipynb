{
 "cells": [
  {
   "cell_type": "markdown",
   "metadata": {
    "id": "YgPKEi4yGb_e"
   },
   "source": [
    "# SVM với scikit-learn\n",
    "\n",
    "Mục tiêu của notebook này là xây dựng mô hình SVM sử dụng thư viện scikit-learn để dự đoán cảm xúc từ các bài bình luận sản phẩm. Chúng ta sẽ thực hiện:\n",
    "\n",
    " * Load tập dữ liệu các bài bình luận như notebook trước.\n",
    " * Triển khai mô hình SVM sử dụng scikit-learn.\n",
    " * Điều chỉnh một vài tham số."
   ]
  },
  {
   "cell_type": "code",
   "execution_count": null,
   "metadata": {
    "id": "iVWw0dQ-Gb_g"
   },
   "outputs": [],
   "source": [
    "# Import một số thư viện\n",
    "\n",
    "import pandas\n",
    "import numpy as np\n",
    "from utils import get_product_reviews_data"
   ]
  },
  {
   "cell_type": "markdown",
   "metadata": {
    "id": "-Ek_8JD-Gb_i"
   },
   "source": [
    "## Load tập dữ liệu product reviews\n",
    "Như mô-đun trước, chúng ta sẽ load, tiền xử lý dữ liệu, chuyển đổi và chia chúng thành các tập huấn luyện và kiểm tra. Trong notebook này, chúng ta không tập trung vào điều đó nên chỉ cần chạy các cell sau. Có thể kiểm tra code dữ liệu bên trong folder **utils**."
   ]
  },
  {
   "cell_type": "code",
   "execution_count": null,
   "metadata": {
    "id": "7DYYPWYzGb_j",
    "scrolled": true
   },
   "outputs": [],
   "source": [
    "train_set, val_set = get_product_reviews_data()\n",
    "\n",
    "sentiment_X_train, sentiment_y_train = train_set\n",
    "sentiment_X_valid, sentiment_y_valid = val_set"
   ]
  },
  {
   "cell_type": "markdown",
   "metadata": {
    "id": "Yo4GEnXgGb_k"
   },
   "source": [
    "# Xây dựng phân loại với scikit-learn\n",
    "Giờ hãy sử dụng SVM có sẵn của sklearn: [sklearn.svm.LinearSVC](https://scikit-learn.org/stable/modules/generated/sklearn.svm.LinearSVC.html). Hãy xem thêm tài liệu của sklearn biết thêm chi tiết về lớp LinearSVC. LinearSVC classifier tương đương với SVM có linear kernel nên chúng ta có thể dùng nó vì tập dữ liệu khá lớn. "
   ]
  },
  {
   "cell_type": "code",
   "execution_count": null,
   "metadata": {
    "id": "SpvVa2vDGb_l",
    "scrolled": true
   },
   "outputs": [],
   "source": [
    "from sklearn.svm import LinearSVC\n",
    "sentiment_clf = LinearSVC(C=1, random_state=0, max_iter=2000)\n",
    "sentiment_clf.fit(sentiment_X_train, sentiment_y_train)\n",
    "\n",
    "print (\"***Sentiment result***\")\n",
    "print(\"Train accuracy: {}\".format(sentiment_clf.score(sentiment_X_train, sentiment_y_train)))\n",
    "print(\"Validation accuracy: {}\".format(sentiment_clf.score(sentiment_X_valid, sentiment_y_valid)))"
   ]
  },
  {
   "cell_type": "markdown",
   "metadata": {
    "id": "Ji_yna46Gb_m"
   },
   "source": [
    "# Điều chỉnh siêu tham số \n",
    "Hãy thử điều chỉnh một vài siêu tham số để xem liệu có được kết quả tốt hơn không. Hãy dùng [sklearn.model_selection.GridSearchCV](https://scikit-learn.org/stable/modules/generated/sklearn.model_selection.GridSearchCV.html) để điều chỉnh các tham số C trong SVM classifer."
   ]
  },
  {
   "cell_type": "code",
   "execution_count": null,
   "metadata": {
    "id": "AcYUYEtoGb_n",
    "scrolled": true
   },
   "outputs": [],
   "source": [
    "from sklearn.model_selection import GridSearchCV\n",
    "\n",
    "tuned_parameters = {\n",
    "    \"C\": [1, 2, 5, 10, 20, 100]\n",
    "}\n",
    "\n",
    "tuned_sentiment_cls = GridSearchCV(\n",
    "                        LinearSVC(C=1),\n",
    "                        param_grid=tuned_parameters,\n",
    "                        n_jobs=2,\n",
    "                        verbose=1,\n",
    ")\n",
    "\n",
    "tuned_sentiment_cls.fit(sentiment_X_train, sentiment_y_train)\n",
    "\n",
    "print (\"***Sentiment result***\")\n",
    "print(\"Train accuracy: {}\".format(tuned_sentiment_cls.score(sentiment_X_train, sentiment_y_train)))\n",
    "print(\"Validation accuracy: {}\".format(tuned_sentiment_cls.score(sentiment_X_valid, sentiment_y_valid)))"
   ]
  },
  {
   "cell_type": "markdown",
   "metadata": {
    "id": "ECxJs57yGb_q"
   },
   "source": [
    "Như vậy chúng ta có được kết quả tốt hơn một chút. \n",
    "<br>\n",
    "**Quiz**: Validation accuracy là bao nhiêu?\n",
    "<br>\n",
    "**Đáp án**:"
   ]
  },
  {
   "cell_type": "code",
   "execution_count": null,
   "metadata": {
    "id": "SddeA3zpGb_t"
   },
   "outputs": [],
   "source": []
  }
 ],
 "metadata": {
  "colab": {
   "collapsed_sections": [],
   "name": "[VN]Predicting sentiment from product reviews with SVM.ipynb",
   "provenance": [
    {
     "file_id": "1D2CZMWGdiptAEkqcPX_rbKsCJYvCyd7m",
     "timestamp": 1629690122096
    }
   ]
  },
  "kernelspec": {
   "display_name": "Python 3",
   "language": "python",
   "name": "python3"
  },
  "language_info": {
   "codemirror_mode": {
    "name": "ipython",
    "version": 3
   },
   "file_extension": ".py",
   "mimetype": "text/x-python",
   "name": "python",
   "nbconvert_exporter": "python",
   "pygments_lexer": "ipython3",
   "version": "3.7.1"
  }
 },
 "nbformat": 4,
 "nbformat_minor": 1
}
