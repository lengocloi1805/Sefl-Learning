{
 "cells": [
  {
   "cell_type": "markdown",
   "metadata": {
    "id": "YgPKEi4yGb_e"
   },
   "source": [
    "# SVM với scikit-learn\n",
    "\n",
    "Mục tiêu của notebook này là xây dựng mô hình SVM sử dụng thư viện scikit-learn để dự đoán cảm xúc từ các bài bình luận sản phẩm. Chúng ta sẽ thực hiện:\n",
    "\n",
    " * Load tập dữ liệu các bài bình luận như notebook trước.\n",
    " * Triển khai mô hình SVM sử dụng scikit-learn.\n",
    " * Điều chỉnh một vài tham số."
   ]
  },
  {
   "cell_type": "code",
   "execution_count": 1,
   "metadata": {},
   "outputs": [],
   "source": [
    "import pandas\n",
    "import numpy as np\n",
    "from sklearn.model_selection import train_test_split\n",
    "import json\n",
    "\n",
    "def get_numpy_data(dataframe, features, label):\n",
    "    dataframe.loc[:, 'intercept'] = 1\n",
    "    features = ['intercept'] + features\n",
    "    feature_matrix = dataframe.loc[:, features].values\n",
    "    label_array = dataframe.loc[:, label].values\n",
    "    return (feature_matrix, label_array)\n",
    "\n",
    "def remove_punctuation(text):\n",
    "    import string\n",
    "    return text.translate(string.punctuation)\n",
    "\n",
    "def get_product_reviews_data():\n",
    "    products_df = pandas.read_csv('amazon_baby_subset.csv')\n",
    "\n",
    "    with open('important_words.json', 'r') as f:\n",
    "        important_words = json.loads(f.read())\n",
    "\n",
    "    products_df = products_df.fillna({'review':''})  # fill in N/A's in the review column\n",
    "    products_df.loc[:, 'review_clean'] = products_df['review'].apply(remove_punctuation)\n",
    "\n",
    "    for word in important_words:\n",
    "        products_df.loc[:, word] = products_df['review_clean'].apply(lambda s : s.split().count(word))\n",
    "\n",
    "    sentiment_train_data = products_df.sample(frac=0.8, random_state=100)\n",
    "    sentiment_validation_data = products_df.drop(sentiment_train_data.index)\n",
    "\n",
    "    sentiment_X_train, sentiment_y_train = get_numpy_data(sentiment_train_data, important_words, 'sentiment')\n",
    "    sentiment_X_valid, sentiment_y_valid = get_numpy_data(sentiment_validation_data, important_words, 'sentiment')\n",
    "\n",
    "    print ('*****Sentiment data shape*****')\n",
    "    print ('sentiment_X_train.shape: ', sentiment_X_train.shape)\n",
    "    print ('sentiment_y_train.shape: ', sentiment_y_train.shape)\n",
    "    print ('sentiment_X_valid.shape: ', sentiment_X_valid.shape)\n",
    "    print ('sentiment_y_valid.shape: ', sentiment_y_valid.shape)\n",
    "\n",
    "    return (sentiment_X_train, sentiment_y_train), (sentiment_X_valid, sentiment_y_valid)"
   ]
  },
  {
   "cell_type": "code",
   "execution_count": 2,
   "metadata": {
    "id": "iVWw0dQ-Gb_g"
   },
   "outputs": [],
   "source": [
    "# Import một số thư viện\n",
    "import pandas\n",
    "import numpy as np"
   ]
  },
  {
   "cell_type": "markdown",
   "metadata": {
    "id": "-Ek_8JD-Gb_i"
   },
   "source": [
    "## Load tập dữ liệu product reviews\n",
    "Như mô-đun trước, chúng ta sẽ load, tiền xử lý dữ liệu, chuyển đổi và chia chúng thành các tập huấn luyện và kiểm tra. Trong notebook này, chúng ta không tập trung vào điều đó nên chỉ cần chạy các cell sau. Có thể kiểm tra code dữ liệu bên trong folder **utils**."
   ]
  },
  {
   "cell_type": "code",
   "execution_count": 3,
   "metadata": {
    "id": "7DYYPWYzGb_j",
    "scrolled": true
   },
   "outputs": [
    {
     "name": "stderr",
     "output_type": "stream",
     "text": [
      "C:\\Users\\lengo\\miniconda3\\envs\\Funix\\lib\\site-packages\\pandas\\core\\indexing.py:1667: PerformanceWarning: DataFrame is highly fragmented.  This is usually the result of calling `frame.insert` many times, which has poor performance.  Consider joining all columns at once using pd.concat(axis=1) instead.  To get a de-fragmented frame, use `newframe = frame.copy()`\n",
      "  self.obj[key] = value\n"
     ]
    },
    {
     "name": "stdout",
     "output_type": "stream",
     "text": [
      "*****Sentiment data shape*****\n",
      "sentiment_X_train.shape:  (42458, 194)\n",
      "sentiment_y_train.shape:  (42458,)\n",
      "sentiment_X_valid.shape:  (10614, 194)\n",
      "sentiment_y_valid.shape:  (10614,)\n"
     ]
    }
   ],
   "source": [
    "train_set, val_set = get_product_reviews_data()\n",
    "\n",
    "sentiment_X_train, sentiment_y_train = train_set\n",
    "sentiment_X_valid, sentiment_y_valid = val_set"
   ]
  },
  {
   "cell_type": "markdown",
   "metadata": {
    "id": "Yo4GEnXgGb_k"
   },
   "source": [
    "# Xây dựng phân loại với scikit-learn\n",
    "Giờ hãy sử dụng SVM có sẵn của sklearn: [sklearn.svm.LinearSVC](https://scikit-learn.org/stable/modules/generated/sklearn.svm.LinearSVC.html). Hãy xem thêm tài liệu của sklearn biết thêm chi tiết về lớp LinearSVC. LinearSVC classifier tương đương với SVM có linear kernel nên chúng ta có thể dùng nó vì tập dữ liệu khá lớn. "
   ]
  },
  {
   "cell_type": "code",
   "execution_count": 4,
   "metadata": {
    "id": "SpvVa2vDGb_l",
    "scrolled": true
   },
   "outputs": [
    {
     "name": "stdout",
     "output_type": "stream",
     "text": [
      "***Sentiment result***\n",
      "Train accuracy: 0.7775448678694239\n",
      "Validation accuracy: 0.770680233653665\n"
     ]
    },
    {
     "name": "stderr",
     "output_type": "stream",
     "text": [
      "C:\\Users\\lengo\\miniconda3\\envs\\Funix\\lib\\site-packages\\sklearn\\svm\\_base.py:1206: ConvergenceWarning: Liblinear failed to converge, increase the number of iterations.\n",
      "  warnings.warn(\n"
     ]
    }
   ],
   "source": [
    "from sklearn.svm import LinearSVC\n",
    "sentiment_clf = LinearSVC(C=1, random_state=0, max_iter=2000)\n",
    "sentiment_clf.fit(sentiment_X_train, sentiment_y_train)\n",
    "\n",
    "print (\"***Sentiment result***\")\n",
    "print(\"Train accuracy: {}\".format(sentiment_clf.score(sentiment_X_train, sentiment_y_train)))\n",
    "print(\"Validation accuracy: {}\".format(sentiment_clf.score(sentiment_X_valid, sentiment_y_valid)))"
   ]
  },
  {
   "cell_type": "markdown",
   "metadata": {
    "id": "Ji_yna46Gb_m"
   },
   "source": [
    "# Điều chỉnh siêu tham số \n",
    "Hãy thử điều chỉnh một vài siêu tham số để xem liệu có được kết quả tốt hơn không. Hãy dùng [sklearn.model_selection.GridSearchCV](https://scikit-learn.org/stable/modules/generated/sklearn.model_selection.GridSearchCV.html) để điều chỉnh các tham số C trong SVM classifer."
   ]
  },
  {
   "cell_type": "code",
   "execution_count": 5,
   "metadata": {
    "id": "AcYUYEtoGb_n",
    "scrolled": true
   },
   "outputs": [
    {
     "name": "stdout",
     "output_type": "stream",
     "text": [
      "Fitting 5 folds for each of 6 candidates, totalling 30 fits\n",
      "***Sentiment result***\n",
      "Train accuracy: 0.7780394743040181\n",
      "Validation accuracy: 0.771528170341059\n"
     ]
    },
    {
     "name": "stderr",
     "output_type": "stream",
     "text": [
      "C:\\Users\\lengo\\miniconda3\\envs\\Funix\\lib\\site-packages\\sklearn\\svm\\_base.py:1206: ConvergenceWarning: Liblinear failed to converge, increase the number of iterations.\n",
      "  warnings.warn(\n"
     ]
    }
   ],
   "source": [
    "from sklearn.model_selection import GridSearchCV\n",
    "\n",
    "tuned_parameters = {\n",
    "    \"C\": [1, 2, 5, 10, 20, 100]\n",
    "}\n",
    "tuned_sentiment_cls = GridSearchCV(\n",
    "                        LinearSVC(C=1),\n",
    "                        param_grid=tuned_parameters,\n",
    "                        n_jobs=2,\n",
    "                        verbose=1,\n",
    ")\n",
    "\n",
    "tuned_sentiment_cls.fit(sentiment_X_train, sentiment_y_train)\n",
    "print (\"***Sentiment result***\")\n",
    "print(\"Train accuracy: {}\".format(tuned_sentiment_cls.score(sentiment_X_train, sentiment_y_train)))\n",
    "print(\"Validation accuracy: {}\".format(tuned_sentiment_cls.score(sentiment_X_valid, sentiment_y_valid)))"
   ]
  },
  {
   "cell_type": "markdown",
   "metadata": {
    "id": "ECxJs57yGb_q"
   },
   "source": [
    "Như vậy chúng ta có được kết quả tốt hơn một chút. \n",
    "<br>\n",
    "**Quiz**: Validation accuracy là bao nhiêu?\n",
    "<br>\n",
    "**Đáp án**: 77.15"
   ]
  },
  {
   "cell_type": "code",
   "execution_count": null,
   "metadata": {
    "id": "SddeA3zpGb_t"
   },
   "outputs": [],
   "source": []
  }
 ],
 "metadata": {
  "colab": {
   "collapsed_sections": [],
   "name": "[VN]Predicting sentiment from product reviews with SVM.ipynb",
   "provenance": [
    {
     "file_id": "1D2CZMWGdiptAEkqcPX_rbKsCJYvCyd7m",
     "timestamp": 1629690122096
    }
   ]
  },
  "kernelspec": {
   "display_name": "Python 3",
   "language": "python",
   "name": "python3"
  },
  "language_info": {
   "codemirror_mode": {
    "name": "ipython",
    "version": 3
   },
   "file_extension": ".py",
   "mimetype": "text/x-python",
   "name": "python",
   "nbconvert_exporter": "python",
   "pygments_lexer": "ipython3",
   "version": "3.8.0"
  }
 },
 "nbformat": 4,
 "nbformat_minor": 1
}
