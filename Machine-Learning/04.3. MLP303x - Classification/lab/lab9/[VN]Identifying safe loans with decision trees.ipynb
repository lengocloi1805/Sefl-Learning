{
 "cells": [
  {
   "cell_type": "markdown",
   "metadata": {
    "id": "EAq51JiN6sNP"
   },
   "source": [
    "# Xác định các khoản vay an toàn với Decision Tree (DT)\n",
    "[LendingClub](https://www.lendingclub.com/) là một công ty cho vay ngang hàng kết nối trực tiếp người đi vay và người cho vay/nhà đầu tư tiềm năng. Trong notebook này, chúng ta sẽ xây dựng một mô hình phân loại để dự đoán xem khoản vay do LendingClub cung cấp có khả năng [vỡ nợ](https://en.wikipedia.org/wiki/Default_%28finance%29) hay không.\n",
    "\n",
    "Trong notebook này, chúng ta sẽ sử dụng dữ liệu từ LendingClub để dự đoán xem một khoản vay sẽ được trả đầy đủ, bị [khoanh nợ](https://en.wikipedia.org/wiki/Charge-off) hay có thể bị vỡ nợ. Trong lab này, chúng ta sẽ:\n",
    "\n",
    "* Sử dụng Pandas để thực hiện một số kỹ thuật đặc trưng.\n",
    "* Huấn luyện DT  trong tập dữ liệu LendingClub.\n",
    "* Hiển thị cây.\n",
    "* Dự đoán xem một khoản vay có bị vỡ nợ hay không với xác suất dự đoán (trong tập kiểm định).\n",
    "* Huấn luyện một mô hình cây phức tạp và so sánh với mô hình cây đơn giản.\n",
    "\n",
    "Bắt đầu thôi!"
   ]
  },
  {
   "cell_type": "code",
   "execution_count": 1,
   "metadata": {
    "id": "lpsoa8Ik6sO6"
   },
   "outputs": [],
   "source": [
    "# Import một số thư viện\n",
    "\n",
    "import pandas\n",
    "import numpy as np\n",
    "import matplotlib.pyplot as plt\n",
    "from sklearn.model_selection import train_test_split"
   ]
  },
  {
   "cell_type": "markdown",
   "metadata": {
    "id": "AacEQAVT6sPO"
   },
   "source": [
    "# Load tập dữ liệu LendingClub \n",
    "Chúng ta sẽ sử dụng tập dữ liệu từ [LendingClub](https://www.lendingclub.com/)"
   ]
  },
  {
   "cell_type": "code",
   "execution_count": 2,
   "metadata": {
    "id": "eaWUfvPS6sPW"
   },
   "outputs": [],
   "source": [
    "loans_df = pandas.read_csv('lending-club-data.csv', low_memory=False)"
   ]
  },
  {
   "cell_type": "markdown",
   "metadata": {
    "id": "Z_jrMuop6sPb"
   },
   "source": [
    "## Khám phá một số đặc trưng\n",
    "\n",
    "Hãy nhanh chóng khám phá xem tập dữ liệu trông như thế nào. Đầu tiên, hãy in tên cột để xem chúng ta có những đặc trưng nào trong tập dữ liệu này."
   ]
  },
  {
   "cell_type": "code",
   "execution_count": 3,
   "metadata": {
    "id": "E89zdo9P6sPe"
   },
   "outputs": [
    {
     "data": {
      "text/plain": [
       "Index(['id', 'member_id', 'loan_amnt', 'funded_amnt', 'funded_amnt_inv',\n",
       "       'term', 'int_rate', 'installment', 'grade', 'sub_grade', 'emp_title',\n",
       "       'emp_length', 'home_ownership', 'annual_inc', 'is_inc_v', 'issue_d',\n",
       "       'loan_status', 'pymnt_plan', 'url', 'desc', 'purpose', 'title',\n",
       "       'zip_code', 'addr_state', 'dti', 'delinq_2yrs', 'earliest_cr_line',\n",
       "       'inq_last_6mths', 'mths_since_last_delinq', 'mths_since_last_record',\n",
       "       'open_acc', 'pub_rec', 'revol_bal', 'revol_util', 'total_acc',\n",
       "       'initial_list_status', 'out_prncp', 'out_prncp_inv', 'total_pymnt',\n",
       "       'total_pymnt_inv', 'total_rec_prncp', 'total_rec_int',\n",
       "       'total_rec_late_fee', 'recoveries', 'collection_recovery_fee',\n",
       "       'last_pymnt_d', 'last_pymnt_amnt', 'next_pymnt_d', 'last_credit_pull_d',\n",
       "       'collections_12_mths_ex_med', 'mths_since_last_major_derog',\n",
       "       'policy_code', 'not_compliant', 'status', 'inactive_loans', 'bad_loans',\n",
       "       'emp_length_num', 'grade_num', 'sub_grade_num', 'delinq_2yrs_zero',\n",
       "       'pub_rec_zero', 'collections_12_mths_zero', 'short_emp',\n",
       "       'payment_inc_ratio', 'final_d', 'last_delinq_none', 'last_record_none',\n",
       "       'last_major_derog_none'],\n",
       "      dtype='object')"
      ]
     },
     "execution_count": 3,
     "metadata": {},
     "output_type": "execute_result"
    }
   ],
   "source": [
    "loans_df.columns"
   ]
  },
  {
   "cell_type": "markdown",
   "metadata": {
    "id": "XhLLo-jp6sPn"
   },
   "source": [
    "## Khám phá cột mục tiêu\n",
    "\n",
    "Cột mục tiêu (cột nhãn) mà chúng ta quan tâm trong tập dữ liệu là `bad_loans`. Trong cột này, **1** tức là khoản vay rủi ro và **0** tức là khoản vay an toàn.\n",
    "\n",
    "Để trực quan hơn va thống nhất với bài giảng, chúng ta gán lại các mục tiêu:\n",
    "* **+1** là khoản vay an toàn, \n",
    "* **-1** là khoản vay rủi ro. \n",
    "\n",
    "Chúng ta đặt nó vào cột mới là `safe_loans`."
   ]
  },
  {
   "cell_type": "code",
   "execution_count": 4,
   "metadata": {
    "id": "Xxrqoy3b6sPs"
   },
   "outputs": [
    {
     "data": {
      "text/html": [
       "<div>\n",
       "<style scoped>\n",
       "    .dataframe tbody tr th:only-of-type {\n",
       "        vertical-align: middle;\n",
       "    }\n",
       "\n",
       "    .dataframe tbody tr th {\n",
       "        vertical-align: top;\n",
       "    }\n",
       "\n",
       "    .dataframe thead th {\n",
       "        text-align: right;\n",
       "    }\n",
       "</style>\n",
       "<table border=\"1\" class=\"dataframe\">\n",
       "  <thead>\n",
       "    <tr style=\"text-align: right;\">\n",
       "      <th></th>\n",
       "      <th>id</th>\n",
       "      <th>member_id</th>\n",
       "      <th>loan_amnt</th>\n",
       "      <th>funded_amnt</th>\n",
       "      <th>funded_amnt_inv</th>\n",
       "      <th>term</th>\n",
       "      <th>int_rate</th>\n",
       "      <th>installment</th>\n",
       "      <th>grade</th>\n",
       "      <th>sub_grade</th>\n",
       "      <th>...</th>\n",
       "      <th>delinq_2yrs_zero</th>\n",
       "      <th>pub_rec_zero</th>\n",
       "      <th>collections_12_mths_zero</th>\n",
       "      <th>short_emp</th>\n",
       "      <th>payment_inc_ratio</th>\n",
       "      <th>final_d</th>\n",
       "      <th>last_delinq_none</th>\n",
       "      <th>last_record_none</th>\n",
       "      <th>last_major_derog_none</th>\n",
       "      <th>safe_loans</th>\n",
       "    </tr>\n",
       "  </thead>\n",
       "  <tbody>\n",
       "    <tr>\n",
       "      <th>0</th>\n",
       "      <td>1077501</td>\n",
       "      <td>1296599</td>\n",
       "      <td>5000</td>\n",
       "      <td>5000</td>\n",
       "      <td>4975</td>\n",
       "      <td>36 months</td>\n",
       "      <td>10.65</td>\n",
       "      <td>162.87</td>\n",
       "      <td>B</td>\n",
       "      <td>B2</td>\n",
       "      <td>...</td>\n",
       "      <td>1.0</td>\n",
       "      <td>1.0</td>\n",
       "      <td>1.0</td>\n",
       "      <td>0</td>\n",
       "      <td>8.143500</td>\n",
       "      <td>20141201T000000</td>\n",
       "      <td>1</td>\n",
       "      <td>1</td>\n",
       "      <td>1</td>\n",
       "      <td>1</td>\n",
       "    </tr>\n",
       "    <tr>\n",
       "      <th>1</th>\n",
       "      <td>1077430</td>\n",
       "      <td>1314167</td>\n",
       "      <td>2500</td>\n",
       "      <td>2500</td>\n",
       "      <td>2500</td>\n",
       "      <td>60 months</td>\n",
       "      <td>15.27</td>\n",
       "      <td>59.83</td>\n",
       "      <td>C</td>\n",
       "      <td>C4</td>\n",
       "      <td>...</td>\n",
       "      <td>1.0</td>\n",
       "      <td>1.0</td>\n",
       "      <td>1.0</td>\n",
       "      <td>1</td>\n",
       "      <td>2.393200</td>\n",
       "      <td>20161201T000000</td>\n",
       "      <td>1</td>\n",
       "      <td>1</td>\n",
       "      <td>1</td>\n",
       "      <td>-1</td>\n",
       "    </tr>\n",
       "    <tr>\n",
       "      <th>2</th>\n",
       "      <td>1077175</td>\n",
       "      <td>1313524</td>\n",
       "      <td>2400</td>\n",
       "      <td>2400</td>\n",
       "      <td>2400</td>\n",
       "      <td>36 months</td>\n",
       "      <td>15.96</td>\n",
       "      <td>84.33</td>\n",
       "      <td>C</td>\n",
       "      <td>C5</td>\n",
       "      <td>...</td>\n",
       "      <td>1.0</td>\n",
       "      <td>1.0</td>\n",
       "      <td>1.0</td>\n",
       "      <td>0</td>\n",
       "      <td>8.259550</td>\n",
       "      <td>20141201T000000</td>\n",
       "      <td>1</td>\n",
       "      <td>1</td>\n",
       "      <td>1</td>\n",
       "      <td>1</td>\n",
       "    </tr>\n",
       "    <tr>\n",
       "      <th>3</th>\n",
       "      <td>1076863</td>\n",
       "      <td>1277178</td>\n",
       "      <td>10000</td>\n",
       "      <td>10000</td>\n",
       "      <td>10000</td>\n",
       "      <td>36 months</td>\n",
       "      <td>13.49</td>\n",
       "      <td>339.31</td>\n",
       "      <td>C</td>\n",
       "      <td>C1</td>\n",
       "      <td>...</td>\n",
       "      <td>1.0</td>\n",
       "      <td>1.0</td>\n",
       "      <td>1.0</td>\n",
       "      <td>0</td>\n",
       "      <td>8.275850</td>\n",
       "      <td>20141201T000000</td>\n",
       "      <td>0</td>\n",
       "      <td>1</td>\n",
       "      <td>1</td>\n",
       "      <td>1</td>\n",
       "    </tr>\n",
       "    <tr>\n",
       "      <th>4</th>\n",
       "      <td>1075269</td>\n",
       "      <td>1311441</td>\n",
       "      <td>5000</td>\n",
       "      <td>5000</td>\n",
       "      <td>5000</td>\n",
       "      <td>36 months</td>\n",
       "      <td>7.90</td>\n",
       "      <td>156.46</td>\n",
       "      <td>A</td>\n",
       "      <td>A4</td>\n",
       "      <td>...</td>\n",
       "      <td>1.0</td>\n",
       "      <td>1.0</td>\n",
       "      <td>1.0</td>\n",
       "      <td>0</td>\n",
       "      <td>5.215330</td>\n",
       "      <td>20141201T000000</td>\n",
       "      <td>1</td>\n",
       "      <td>1</td>\n",
       "      <td>1</td>\n",
       "      <td>1</td>\n",
       "    </tr>\n",
       "    <tr>\n",
       "      <th>...</th>\n",
       "      <td>...</td>\n",
       "      <td>...</td>\n",
       "      <td>...</td>\n",
       "      <td>...</td>\n",
       "      <td>...</td>\n",
       "      <td>...</td>\n",
       "      <td>...</td>\n",
       "      <td>...</td>\n",
       "      <td>...</td>\n",
       "      <td>...</td>\n",
       "      <td>...</td>\n",
       "      <td>...</td>\n",
       "      <td>...</td>\n",
       "      <td>...</td>\n",
       "      <td>...</td>\n",
       "      <td>...</td>\n",
       "      <td>...</td>\n",
       "      <td>...</td>\n",
       "      <td>...</td>\n",
       "      <td>...</td>\n",
       "      <td>...</td>\n",
       "    </tr>\n",
       "    <tr>\n",
       "      <th>122602</th>\n",
       "      <td>9856168</td>\n",
       "      <td>11708132</td>\n",
       "      <td>6000</td>\n",
       "      <td>6000</td>\n",
       "      <td>6000</td>\n",
       "      <td>60 months</td>\n",
       "      <td>23.40</td>\n",
       "      <td>170.53</td>\n",
       "      <td>E</td>\n",
       "      <td>E5</td>\n",
       "      <td>...</td>\n",
       "      <td>0.0</td>\n",
       "      <td>1.0</td>\n",
       "      <td>1.0</td>\n",
       "      <td>1</td>\n",
       "      <td>4.487630</td>\n",
       "      <td>20190101T000000</td>\n",
       "      <td>0</td>\n",
       "      <td>1</td>\n",
       "      <td>0</td>\n",
       "      <td>-1</td>\n",
       "    </tr>\n",
       "    <tr>\n",
       "      <th>122603</th>\n",
       "      <td>9795013</td>\n",
       "      <td>11647121</td>\n",
       "      <td>15250</td>\n",
       "      <td>15250</td>\n",
       "      <td>15250</td>\n",
       "      <td>36 months</td>\n",
       "      <td>17.57</td>\n",
       "      <td>548.05</td>\n",
       "      <td>D</td>\n",
       "      <td>D2</td>\n",
       "      <td>...</td>\n",
       "      <td>0.0</td>\n",
       "      <td>0.0</td>\n",
       "      <td>1.0</td>\n",
       "      <td>0</td>\n",
       "      <td>10.117800</td>\n",
       "      <td>20170101T000000</td>\n",
       "      <td>0</td>\n",
       "      <td>0</td>\n",
       "      <td>0</td>\n",
       "      <td>1</td>\n",
       "    </tr>\n",
       "    <tr>\n",
       "      <th>122604</th>\n",
       "      <td>9695736</td>\n",
       "      <td>11547808</td>\n",
       "      <td>8525</td>\n",
       "      <td>8525</td>\n",
       "      <td>8525</td>\n",
       "      <td>60 months</td>\n",
       "      <td>18.25</td>\n",
       "      <td>217.65</td>\n",
       "      <td>D</td>\n",
       "      <td>D3</td>\n",
       "      <td>...</td>\n",
       "      <td>0.0</td>\n",
       "      <td>1.0</td>\n",
       "      <td>1.0</td>\n",
       "      <td>0</td>\n",
       "      <td>6.958120</td>\n",
       "      <td>20190101T000000</td>\n",
       "      <td>0</td>\n",
       "      <td>1</td>\n",
       "      <td>0</td>\n",
       "      <td>-1</td>\n",
       "    </tr>\n",
       "    <tr>\n",
       "      <th>122605</th>\n",
       "      <td>9684700</td>\n",
       "      <td>11536848</td>\n",
       "      <td>22000</td>\n",
       "      <td>22000</td>\n",
       "      <td>22000</td>\n",
       "      <td>60 months</td>\n",
       "      <td>19.97</td>\n",
       "      <td>582.50</td>\n",
       "      <td>D</td>\n",
       "      <td>D5</td>\n",
       "      <td>...</td>\n",
       "      <td>1.0</td>\n",
       "      <td>0.0</td>\n",
       "      <td>1.0</td>\n",
       "      <td>0</td>\n",
       "      <td>8.961540</td>\n",
       "      <td>20190101T000000</td>\n",
       "      <td>1</td>\n",
       "      <td>0</td>\n",
       "      <td>1</td>\n",
       "      <td>-1</td>\n",
       "    </tr>\n",
       "    <tr>\n",
       "      <th>122606</th>\n",
       "      <td>9604874</td>\n",
       "      <td>11457002</td>\n",
       "      <td>2000</td>\n",
       "      <td>2000</td>\n",
       "      <td>2000</td>\n",
       "      <td>36 months</td>\n",
       "      <td>7.90</td>\n",
       "      <td>62.59</td>\n",
       "      <td>A</td>\n",
       "      <td>A4</td>\n",
       "      <td>...</td>\n",
       "      <td>0.0</td>\n",
       "      <td>1.0</td>\n",
       "      <td>1.0</td>\n",
       "      <td>0</td>\n",
       "      <td>0.904916</td>\n",
       "      <td>20170101T000000</td>\n",
       "      <td>0</td>\n",
       "      <td>1</td>\n",
       "      <td>1</td>\n",
       "      <td>1</td>\n",
       "    </tr>\n",
       "  </tbody>\n",
       "</table>\n",
       "<p>122607 rows × 68 columns</p>\n",
       "</div>"
      ],
      "text/plain": [
       "             id  member_id  loan_amnt  funded_amnt  funded_amnt_inv  \\\n",
       "0       1077501    1296599       5000         5000             4975   \n",
       "1       1077430    1314167       2500         2500             2500   \n",
       "2       1077175    1313524       2400         2400             2400   \n",
       "3       1076863    1277178      10000        10000            10000   \n",
       "4       1075269    1311441       5000         5000             5000   \n",
       "...         ...        ...        ...          ...              ...   \n",
       "122602  9856168   11708132       6000         6000             6000   \n",
       "122603  9795013   11647121      15250        15250            15250   \n",
       "122604  9695736   11547808       8525         8525             8525   \n",
       "122605  9684700   11536848      22000        22000            22000   \n",
       "122606  9604874   11457002       2000         2000             2000   \n",
       "\n",
       "              term  int_rate  installment grade sub_grade  ...  \\\n",
       "0        36 months     10.65       162.87     B        B2  ...   \n",
       "1        60 months     15.27        59.83     C        C4  ...   \n",
       "2        36 months     15.96        84.33     C        C5  ...   \n",
       "3        36 months     13.49       339.31     C        C1  ...   \n",
       "4        36 months      7.90       156.46     A        A4  ...   \n",
       "...            ...       ...          ...   ...       ...  ...   \n",
       "122602   60 months     23.40       170.53     E        E5  ...   \n",
       "122603   36 months     17.57       548.05     D        D2  ...   \n",
       "122604   60 months     18.25       217.65     D        D3  ...   \n",
       "122605   60 months     19.97       582.50     D        D5  ...   \n",
       "122606   36 months      7.90        62.59     A        A4  ...   \n",
       "\n",
       "       delinq_2yrs_zero pub_rec_zero collections_12_mths_zero  short_emp  \\\n",
       "0                   1.0          1.0                      1.0          0   \n",
       "1                   1.0          1.0                      1.0          1   \n",
       "2                   1.0          1.0                      1.0          0   \n",
       "3                   1.0          1.0                      1.0          0   \n",
       "4                   1.0          1.0                      1.0          0   \n",
       "...                 ...          ...                      ...        ...   \n",
       "122602              0.0          1.0                      1.0          1   \n",
       "122603              0.0          0.0                      1.0          0   \n",
       "122604              0.0          1.0                      1.0          0   \n",
       "122605              1.0          0.0                      1.0          0   \n",
       "122606              0.0          1.0                      1.0          0   \n",
       "\n",
       "       payment_inc_ratio          final_d last_delinq_none last_record_none  \\\n",
       "0               8.143500  20141201T000000                1                1   \n",
       "1               2.393200  20161201T000000                1                1   \n",
       "2               8.259550  20141201T000000                1                1   \n",
       "3               8.275850  20141201T000000                0                1   \n",
       "4               5.215330  20141201T000000                1                1   \n",
       "...                  ...              ...              ...              ...   \n",
       "122602          4.487630  20190101T000000                0                1   \n",
       "122603         10.117800  20170101T000000                0                0   \n",
       "122604          6.958120  20190101T000000                0                1   \n",
       "122605          8.961540  20190101T000000                1                0   \n",
       "122606          0.904916  20170101T000000                0                1   \n",
       "\n",
       "       last_major_derog_none safe_loans  \n",
       "0                          1          1  \n",
       "1                          1         -1  \n",
       "2                          1          1  \n",
       "3                          1          1  \n",
       "4                          1          1  \n",
       "...                      ...        ...  \n",
       "122602                     0         -1  \n",
       "122603                     0          1  \n",
       "122604                     0         -1  \n",
       "122605                     1         -1  \n",
       "122606                     1          1  \n",
       "\n",
       "[122607 rows x 68 columns]"
      ]
     },
     "execution_count": 4,
     "metadata": {},
     "output_type": "execute_result"
    }
   ],
   "source": [
    "# safe_loans =  1 => an toàn\n",
    "# safe_loans = -1 => rủi ro\n",
    "loans_df['safe_loans'] = loans_df['bad_loans'].apply(lambda x : +1 if x==0 else-1)\n",
    "loans_df.drop(columns=['bad_loans'])"
   ]
  },
  {
   "cell_type": "markdown",
   "metadata": {
    "id": "PZs6pXWg6sP9"
   },
   "source": [
    "Giờ hãy khám phá phân phối của cột `safe_loans`. Điều này cho biết có bao nhiêu khoản vay an toàn và rủi ro hiện có trong tập dữ liệu."
   ]
  },
  {
   "cell_type": "code",
   "execution_count": 5,
   "metadata": {
    "id": "gvIMvIXd6sQG"
   },
   "outputs": [
    {
     "data": {
      "text/plain": [
       "array([[<AxesSubplot:title={'center':'safe_loans'}>]], dtype=object)"
      ]
     },
     "execution_count": 5,
     "metadata": {},
     "output_type": "execute_result"
    },
    {
     "data": {
      "image/png": "[encoded data removed]",
      "text/plain": [
       "<Figure size 432x288 with 1 Axes>"
      ]
     },
     "metadata": {
      "needs_background": "light"
     },
     "output_type": "display_data"
    }
   ],
   "source": [
    "loans_df.hist(column='safe_loans')"
   ]
  },
  {
   "cell_type": "markdown",
   "metadata": {
    "id": "CLbj5kOt6sQM"
   },
   "source": [
    "## Các đặc trưng cho thuật toán phân loại\n",
    "Ở phần này, chúng ta sẽ sử dụng tập con các đặc trưng (hạng mục hoặc số). Các đặc trưng sẽ sử dụng được **mô tả ở chú thích code** dưới đây. Nếu đam mê về tài chính, hãy ghé trang web [LendingClub](https://www.lendingclub.com/) để biết thêm chi tiết về các đặc trưng này. "
   ]
  },
  {
   "cell_type": "code",
   "execution_count": 6,
   "metadata": {
    "id": "L2UQIWO06sQX"
   },
   "outputs": [],
   "source": [
    "features = ['grade',                     # cấp bậc khoản vay\n",
    "            'sub_grade',                 # sub-grade của khoản vay\n",
    "            'short_emp',                 # làm việc được một năm hoặc ít hơn\n",
    "            'emp_length_num',            # số năm làm việc\n",
    "            'home_ownership',            # tình trạng sở hữu nhà ở: sở hữu, thế chấp hoặc cho thuê\n",
    "            'dti',                       # tỷ lệ nợ trên thu nhập\n",
    "            'purpose',                   # mục đích khoản vay\n",
    "            'term',                      # thời hạn khoản vay\n",
    "            'last_delinq_none',          # người vay có phạm pháp không\n",
    "            'last_major_derog_none',     # người vay có mức đánh giá 90 ngày hoặc ít hơn\n",
    "            'revol_util',                # % tín dụng khả dụng đang được sử dụng\n",
    "            'total_rec_late_fee',        # tổng phí trễ nhận được theo ngày\n",
    "           ]\n",
    "\n",
    "target = 'safe_loans'                   # dự đoán mục tiêu (y) (+1 là safe, -1 là risky)\n",
    "\n",
    "# Trích xuất các cột đặc trưng và mục tiêu\n",
    "loans_df = loans_df[features + [target]]"
   ]
  },
  {
   "cell_type": "markdown",
   "metadata": {
    "id": "KsiLF5Pq6sQu"
   },
   "source": [
    "Chúng ta còn một **tập con đặc trưng** và **mục tiêu** để sử dụng cho phần còn lại của notebook."
   ]
  },
  {
   "cell_type": "markdown",
   "metadata": {
    "id": "bHjV3F8Q6sQ2"
   },
   "source": [
    "## Dữ liệu mẫu để cân bằng các lớp\n",
    "\n",
    "Như đã khám phá ở trên, dữ liệu của chúng ta có đầy đủ các khoản vay an toàn không cân đối. Hãy tạo hai tập dữ liệu: một tập dữ liệu chỉ chứa các khoản vay an toàn (`safe_loans_raw`) và một tập dữ liệu chỉ chứa các khoản vay rủi ro (`risky_loans_raw`). "
   ]
  },
  {
   "cell_type": "code",
   "execution_count": 7,
   "metadata": {
    "id": "DTjq65dB6sRB"
   },
   "outputs": [
    {
     "name": "stdout",
     "output_type": "stream",
     "text": [
      "Number of safe loans  : 99457\n",
      "Number of risky loans : 23150\n"
     ]
    }
   ],
   "source": [
    "safe_loans_raw = loans_df[loans_df[target] == +1]\n",
    "risky_loans_raw = loans_df[loans_df[target] == -1]\n",
    "print (\"Number of safe loans  : %s\" % safe_loans_raw.shape[0])\n",
    "print (\"Number of risky loans : %s\" % risky_loans_raw.shape[0])"
   ]
  },
  {
   "cell_type": "markdown",
   "metadata": {
    "id": "AWKoaGWL6sRP"
   },
   "source": [
    "Hãy viết code để tính phần trăm các khoản vay an toàn và rủi ro đưới đây trong tập dữ liệu và xác thực các con số này với những gì đã cho bằng cách sử dụng `.show` trước đó trong lab:"
   ]
  },
  {
   "cell_type": "code",
   "execution_count": 8,
   "metadata": {
    "id": "zP8-Gcu46sRX"
   },
   "outputs": [
    {
     "name": "stdout",
     "output_type": "stream",
     "text": [
      "Percentage of safe loans  : 0.8111853319957262\n",
      "Percentage of risky loans : 0.18881466800427382\n"
     ]
    }
   ],
   "source": [
    "print (\"Percentage of safe loans  : {}\".format(safe_loans_raw.shape[0]/loans_df.shape[0])) \n",
    "print (\"Percentage of risky loans : {}\".format(risky_loans_raw.shape[0]/loans_df.shape[0]))"
   ]
  },
  {
   "cell_type": "markdown",
   "metadata": {
    "id": "08EGD5ki6sRb"
   },
   "source": [
    "Một cách để chống lại mất cân bằng lớp là giảm số lượng lớp lớn hơn cho đến khi phân phối của lớp còn khoảng một nửa. Ở đây, chúng ta sẽ giảm số lượng lớp lớn hơn (khoản vay an toàn) để cân bằng tập dữ liệu. Điều này có nghĩa là chúng ta đang loại bỏ nhiều điểm dữ liệu. Hãy sử dụng `seed=1` để mọi người đều nhận được kết quả như nhau."
   ]
  },
  {
   "cell_type": "code",
   "execution_count": 9,
   "metadata": {
    "id": "gSJcUbR36sRf"
   },
   "outputs": [],
   "source": [
    "# Vì khoản vay rủi ro ít hơn so với khoản vay an toàn, hãy tìm tỷ lệ kích thước\n",
    "# và sử dụng % đó để giảm mẫu khoản vay an toàn.\n",
    "percentage = risky_loans_raw.shape[0]/safe_loans_raw.shape[0]\n",
    "\n",
    "risky_loans = risky_loans_raw\n",
    "safe_loans = safe_loans_raw.sample(frac=percentage, random_state=1)\n",
    "\n",
    "# Nối risky_loans với phiên bản safe_loans đã lấy mẫu xuống\n",
    "loans_data = risky_loans.append(safe_loans)"
   ]
  },
  {
   "cell_type": "markdown",
   "metadata": {
    "id": "loDieN7v6sRl"
   },
   "source": [
    "Bây giờ, hãy xác minh rằng tỷ lệ kết quả của các khoản vay an toàn và rủi ro là gần 50%."
   ]
  },
  {
   "cell_type": "code",
   "execution_count": 10,
   "metadata": {
    "id": "w54Z934K6sRn"
   },
   "outputs": [
    {
     "name": "stdout",
     "output_type": "stream",
     "text": [
      "Percentage of safe loans                 : 0.5\n",
      "Percentage of risky loans                : 0.5\n",
      "Total number of loans in our new dataset : 46300\n"
     ]
    }
   ],
   "source": [
    "print (\"Percentage of safe loans                 : {}\".format(safe_loans.shape[0] / loans_data.shape[0]))\n",
    "print (\"Percentage of risky loans                : {}\".format(risky_loans.shape[0] / loans_data.shape[0]))\n",
    "print (\"Total number of loans in our new dataset : {}\".format(loans_data.shape[0]))"
   ]
  },
  {
   "cell_type": "markdown",
   "metadata": {
    "id": "QVexnegn6sRp"
   },
   "source": [
    "**Lưu ý:** Có nhiều cách xử lý dữ liệu mất cân bằng, bao gồm sửa đổi thuật toán tìm hiểu. Các cách tiếp cận này nằm ngoài phạm vi của khóa học, nhưng một số phương pháp được xem xét trong [bài viết sau](http://ieeexplore.ieee.org/xpl/login.jsp?tp=&arnumber=5128907&url=http%3A%2F%2Fieeexplore.ieee.org%2Fiel5%2F69%2F5173046%2F05128907.pdf%3Farnumber%3D5128907 ). Với nhiệm vụ này, chúng ta sẽ sử dụng cách tiếp cận đơn giản nhất có thể, lấy mẫu con của lớp bị biểu diễn quá mức để có được tập dữ liệu cân bằng hơn; đặc biệt, khi dữ liệu vô cùng mất cân bằng, chúng ta được khuyến nghị sử dụng các phương pháp nâng cao hơn."
   ]
  },
  {
   "cell_type": "markdown",
   "metadata": {
    "id": "O-kZgQfO6sRr"
   },
   "source": [
    "# Mã hóa One-hot\n",
    "Để triển khai decision tree của scikit-learn, cần các giá trị số cho ma trận dữ liệu của nó. Điều này có nghĩa là chúng ta sẽ phải biến các biến hạng mục thành các đặc trưng nhị phân thông qua mã hóa one-hot."
   ]
  },
  {
   "cell_type": "code",
   "execution_count": 11,
   "metadata": {
    "id": "j-V1hffh6sRs"
   },
   "outputs": [
    {
     "name": "stdout",
     "output_type": "stream",
     "text": [
      "grade                     object\n",
      "sub_grade                 object\n",
      "short_emp                  int64\n",
      "emp_length_num             int64\n",
      "home_ownership            object\n",
      "dti                      float64\n",
      "purpose                   object\n",
      "term                      object\n",
      "last_delinq_none           int64\n",
      "last_major_derog_none      int64\n",
      "revol_util               float64\n",
      "total_rec_late_fee       float64\n",
      "safe_loans                 int64\n",
      "dtype: object\n",
      "['grade', 'sub_grade', 'home_ownership', 'purpose', 'term']\n"
     ]
    }
   ],
   "source": [
    "print(loans_data.dtypes)\n",
    "categorical_variables = list(loans_data.select_dtypes(include=['object']).columns)\n",
    "print(categorical_variables)"
   ]
  },
  {
   "cell_type": "code",
   "execution_count": 12,
   "metadata": {
    "id": "BbhSNHLu6sRu"
   },
   "outputs": [],
   "source": [
    "one_hot_data = pandas.get_dummies(loans_data[categorical_variables], prefix=categorical_variables)\n",
    "# cần thêm tại đây để loại cột.\n",
    "loans_data.drop(columns=categorical_variables, axis=1, inplace=True)\n",
    "loans_data = pandas.concat([loans_data, one_hot_data], axis=1)"
   ]
  },
  {
   "cell_type": "markdown",
   "metadata": {
    "id": "ZA9DJ9hI6sRv"
   },
   "source": [
    "## Chia dữ liệu thành tập huấn luyện và tập kiểm định\n",
    "\n",
    "Chúng ta chia dữ liệu thành tập huấn luyện và kiểm định bằng cách sử dụng phân chia 80/20 và chỉ định `seed=1` để mọi người đều nhận được kết quả tương tự. \n",
    "<br>\n",
    "**Lưu ý:** Trong các nhiệm vụ trước, chúng ta gọi đây là **train-test split** (phân tách huấn luyện - kiểm tra). Tuy nhiên, phần dữ liệu mà chúng ta không huấn luyện sẽ được dùng để lựa chọn **tham số mô hình** (lựa chọn mô hình). Do đó, phần dữ liệu này nên được gọi là **tập kiểm định**. Nhớ lại rằng việc kiểm tra chất lượng của các mô hình tiềm năng khác nhau (mô hình có các tham số khác nhau) phải được thực hiện trên tập kiểm định, trong khi đánh giá mô hình được lựa chọn cuối cùng luôn được thực hiện trên dữ liệu kiểm tra. Thông thường, chúng ta cũng sẽ lưu một phần dữ liệu (tập kiểm tra thực) để kiểm tra mô hình cuối cùng  hoặc sử dụng kiểm định chéo trên tập huấn luyện để chọn mô hình cuối cùng. Nhưng trong bài này, chúng ta sẽ không làm điều đó."
   ]
  },
  {
   "cell_type": "code",
   "execution_count": 13,
   "metadata": {
    "id": "HMCM1lKX6sRy"
   },
   "outputs": [],
   "source": [
    "np.random.seed(1)\n",
    "\n",
    "train_data, val_data = train_test_split(loans_data, test_size=0.2)\n",
    "\n",
    "# in ra (train_data[target])\n",
    "\n",
    "train_y = train_data[target].values\n",
    "train_data.drop(columns=[target], inplace=True)\n",
    "train_X = train_data.values\n",
    "\n",
    "val_y = val_data[target].values\n",
    "val_data.drop(columns=[target], inplace=True)\n",
    "val_X = val_data.values"
   ]
  },
  {
   "cell_type": "code",
   "execution_count": 15,
   "metadata": {},
   "outputs": [
    {
     "data": {
      "text/plain": [
       "(37040, 67)"
      ]
     },
     "execution_count": 15,
     "metadata": {},
     "output_type": "execute_result"
    }
   ],
   "source": [
    "train_X.shape"
   ]
  },
  {
   "cell_type": "markdown",
   "metadata": {
    "id": "_e2y99Is6sRz"
   },
   "source": [
    "# Sử dụng decision tree để xây dựng phân loại\n",
    "Bây giờ, hãy sử dụng decision tree được tích hợp sẵn của scikit-learn: [sklearn.tree.DecisionTreeClassifier](https://scikit-learn.org/stable/modules/generated/sklearn.tree.DecisionTreeClassifier.html) để tạo mô hình dự đoán khoản vay trên dữ liệu huấn luyện. Để thực hiện điều này, chúng ta cần **import sklearn, sklearn.tree và numpy.**\n",
    "<br>\n",
    "Lưu ý: Trước tiên, cần chuyển đổi DataFrame thành một ma trận dữ liệu numpy và trích xuất các nhãn mục tiêu thành mảng numpy. Xem API để biết thêm thông tin. Đảm bảo đặt max_depth = 6.\n",
    "\n",
    "Gọi mô hình sau: decision_tree_model.\n",
    "\n",
    "Và cũng huấn luyện cây với max_depth=2. Gọi mô hình small_model."
   ]
  },
  {
   "cell_type": "code",
   "execution_count": 16,
   "metadata": {
    "id": "eZaBlEqY6sR1"
   },
   "outputs": [],
   "source": [
    "from sklearn.tree import DecisionTreeClassifier\n",
    "\n",
    "decision_tree_model = DecisionTreeClassifier(max_depth=6)\n",
    "small_model = DecisionTreeClassifier(max_depth=2)"
   ]
  },
  {
   "cell_type": "code",
   "execution_count": 17,
   "metadata": {
    "id": "ekFEwpWR6sR5"
   },
   "outputs": [
    {
     "data": {
      "text/plain": [
       "DecisionTreeClassifier(max_depth=2)"
      ]
     },
     "execution_count": 17,
     "metadata": {},
     "output_type": "execute_result"
    }
   ],
   "source": [
    "decision_tree_model.fit(train_X, train_y)\n",
    "small_model.fit(train_X, train_y)"
   ]
  },
  {
   "cell_type": "code",
   "execution_count": 22,
   "metadata": {
    "id": "NGMqquea6sR-"
   },
   "outputs": [],
   "source": [
    "# from sklearn.externals.six import StringIO\n",
    "# from IPython.display import Image \n",
    "# from sklearn.tree import export_graphviz \n",
    "# import pydotplus\n",
    "# dot_data = StringIO()\n",
    "# export_graphviz(small_model, out_file=dot_data,  \n",
    "#                 filled=True, rounded=True,\n",
    "#                 special_characters=True)\n",
    "# graph = pydotplus.graph_from_dot_data(dot_data.getvalue())  \n",
    "# Image(graph.create_png())"
   ]
  },
  {
   "cell_type": "markdown",
   "metadata": {
    "id": "5CJQ7Mio6sSB"
   },
   "source": [
    "# Đưa ra dự đoán\n",
    "\n",
    "Xem xét hai ví dụ tích cực và tiêu cực từ **tập kiểm định** và xem mô hình đưa ra dự đoán gì. Chúng ta sẽ thực hiện như sau:\n",
    "* Dự đoán xem một khoản vay có an toàn hay không.\n",
    "* Dự đoán xác suất để khoản vay đó an toàn."
   ]
  },
  {
   "cell_type": "code",
   "execution_count": 23,
   "metadata": {
    "id": "AI2MjPU56sSD"
   },
   "outputs": [
    {
     "data": {
      "text/html": [
       "<div>\n",
       "<style scoped>\n",
       "    .dataframe tbody tr th:only-of-type {\n",
       "        vertical-align: middle;\n",
       "    }\n",
       "\n",
       "    .dataframe tbody tr th {\n",
       "        vertical-align: top;\n",
       "    }\n",
       "\n",
       "    .dataframe thead th {\n",
       "        text-align: right;\n",
       "    }\n",
       "</style>\n",
       "<table border=\"1\" class=\"dataframe\">\n",
       "  <thead>\n",
       "    <tr style=\"text-align: right;\">\n",
       "      <th></th>\n",
       "      <th>short_emp</th>\n",
       "      <th>emp_length_num</th>\n",
       "      <th>dti</th>\n",
       "      <th>last_delinq_none</th>\n",
       "      <th>last_major_derog_none</th>\n",
       "      <th>revol_util</th>\n",
       "      <th>total_rec_late_fee</th>\n",
       "      <th>grade_A</th>\n",
       "      <th>grade_B</th>\n",
       "      <th>grade_C</th>\n",
       "      <th>...</th>\n",
       "      <th>purpose_house</th>\n",
       "      <th>purpose_major_purchase</th>\n",
       "      <th>purpose_medical</th>\n",
       "      <th>purpose_moving</th>\n",
       "      <th>purpose_other</th>\n",
       "      <th>purpose_small_business</th>\n",
       "      <th>purpose_vacation</th>\n",
       "      <th>purpose_wedding</th>\n",
       "      <th>term_ 36 months</th>\n",
       "      <th>term_ 60 months</th>\n",
       "    </tr>\n",
       "  </thead>\n",
       "  <tbody>\n",
       "    <tr>\n",
       "      <th>83265</th>\n",
       "      <td>0</td>\n",
       "      <td>11</td>\n",
       "      <td>5.92</td>\n",
       "      <td>1</td>\n",
       "      <td>1</td>\n",
       "      <td>19.2</td>\n",
       "      <td>0.0</td>\n",
       "      <td>0</td>\n",
       "      <td>1</td>\n",
       "      <td>0</td>\n",
       "      <td>...</td>\n",
       "      <td>0</td>\n",
       "      <td>0</td>\n",
       "      <td>0</td>\n",
       "      <td>0</td>\n",
       "      <td>0</td>\n",
       "      <td>0</td>\n",
       "      <td>0</td>\n",
       "      <td>0</td>\n",
       "      <td>0</td>\n",
       "      <td>1</td>\n",
       "    </tr>\n",
       "    <tr>\n",
       "      <th>89463</th>\n",
       "      <td>0</td>\n",
       "      <td>4</td>\n",
       "      <td>11.49</td>\n",
       "      <td>1</td>\n",
       "      <td>1</td>\n",
       "      <td>61.0</td>\n",
       "      <td>0.0</td>\n",
       "      <td>0</td>\n",
       "      <td>0</td>\n",
       "      <td>1</td>\n",
       "      <td>...</td>\n",
       "      <td>0</td>\n",
       "      <td>0</td>\n",
       "      <td>0</td>\n",
       "      <td>0</td>\n",
       "      <td>0</td>\n",
       "      <td>0</td>\n",
       "      <td>0</td>\n",
       "      <td>0</td>\n",
       "      <td>1</td>\n",
       "      <td>0</td>\n",
       "    </tr>\n",
       "    <tr>\n",
       "      <th>121355</th>\n",
       "      <td>0</td>\n",
       "      <td>11</td>\n",
       "      <td>15.90</td>\n",
       "      <td>1</td>\n",
       "      <td>1</td>\n",
       "      <td>59.7</td>\n",
       "      <td>0.0</td>\n",
       "      <td>0</td>\n",
       "      <td>0</td>\n",
       "      <td>0</td>\n",
       "      <td>...</td>\n",
       "      <td>0</td>\n",
       "      <td>0</td>\n",
       "      <td>0</td>\n",
       "      <td>0</td>\n",
       "      <td>0</td>\n",
       "      <td>0</td>\n",
       "      <td>0</td>\n",
       "      <td>0</td>\n",
       "      <td>1</td>\n",
       "      <td>0</td>\n",
       "    </tr>\n",
       "    <tr>\n",
       "      <th>39588</th>\n",
       "      <td>0</td>\n",
       "      <td>11</td>\n",
       "      <td>1.51</td>\n",
       "      <td>0</td>\n",
       "      <td>1</td>\n",
       "      <td>20.4</td>\n",
       "      <td>0.0</td>\n",
       "      <td>0</td>\n",
       "      <td>0</td>\n",
       "      <td>1</td>\n",
       "      <td>...</td>\n",
       "      <td>0</td>\n",
       "      <td>0</td>\n",
       "      <td>0</td>\n",
       "      <td>0</td>\n",
       "      <td>0</td>\n",
       "      <td>0</td>\n",
       "      <td>0</td>\n",
       "      <td>0</td>\n",
       "      <td>1</td>\n",
       "      <td>0</td>\n",
       "    </tr>\n",
       "  </tbody>\n",
       "</table>\n",
       "<p>4 rows × 67 columns</p>\n",
       "</div>"
      ],
      "text/plain": [
       "        short_emp  emp_length_num    dti  last_delinq_none  \\\n",
       "83265           0              11   5.92                 1   \n",
       "89463           0               4  11.49                 1   \n",
       "121355          0              11  15.90                 1   \n",
       "39588           0              11   1.51                 0   \n",
       "\n",
       "        last_major_derog_none  revol_util  total_rec_late_fee  grade_A  \\\n",
       "83265                       1        19.2                 0.0        0   \n",
       "89463                       1        61.0                 0.0        0   \n",
       "121355                      1        59.7                 0.0        0   \n",
       "39588                       1        20.4                 0.0        0   \n",
       "\n",
       "        grade_B  grade_C  ...  purpose_house  purpose_major_purchase  \\\n",
       "83265         1        0  ...              0                       0   \n",
       "89463         0        1  ...              0                       0   \n",
       "121355        0        0  ...              0                       0   \n",
       "39588         0        1  ...              0                       0   \n",
       "\n",
       "        purpose_medical  purpose_moving  purpose_other  \\\n",
       "83265                 0               0              0   \n",
       "89463                 0               0              0   \n",
       "121355                0               0              0   \n",
       "39588                 0               0              0   \n",
       "\n",
       "        purpose_small_business  purpose_vacation  purpose_wedding  \\\n",
       "83265                        0                 0                0   \n",
       "89463                        0                 0                0   \n",
       "121355                       0                 0                0   \n",
       "39588                        0                 0                0   \n",
       "\n",
       "        term_ 36 months  term_ 60 months  \n",
       "83265                 0                1  \n",
       "89463                 1                0  \n",
       "121355                1                0  \n",
       "39588                 1                0  \n",
       "\n",
       "[4 rows x 67 columns]"
      ]
     },
     "execution_count": 23,
     "metadata": {},
     "output_type": "execute_result"
    }
   ],
   "source": [
    "validation_safe_loans = val_data[val_y == 1]\n",
    "validation_risky_loans = val_data[val_y == -1]\n",
    "\n",
    "sample_validation_data_risky = validation_risky_loans[0:2]\n",
    "sample_validation_data_safe = validation_safe_loans[0:2]\n",
    "\n",
    "sample_validation_data = sample_validation_data_safe.append(sample_validation_data_risky)\n",
    "sample_validation_data"
   ]
  },
  {
   "cell_type": "markdown",
   "metadata": {
    "id": "5KEH46AJ6sSF"
   },
   "source": [
    "## Khám phá nhãn dự đoán\n",
    "Chúng ta sẽ sử dụng mô hình để dự đoán xem một khoản vay có khả năng vỡ nợ hay không. Với từng hàng trong **sample_validation_data**, sử dụng **decision_tree_model** để dự đoán xem khoản vay có được phân loại là **khoản vay an toàn** hay không.\n",
    "\n",
    "**Gợi ý:** Đảm bảo sử dụng phương thức `.predict()`."
   ]
  },
  {
   "cell_type": "code",
   "execution_count": 24,
   "metadata": {
    "id": "KK1YHFNR6sSG"
   },
   "outputs": [
    {
     "name": "stderr",
     "output_type": "stream",
     "text": [
      "C:\\Users\\Admin\\Anaconda3\\lib\\site-packages\\sklearn\\base.py:439: UserWarning: X has feature names, but DecisionTreeClassifier was fitted without feature names\n",
      "  f\"X has feature names, but {self.__class__.__name__} was fitted without\"\n"
     ]
    },
    {
     "data": {
      "text/plain": [
       "array([ 1, -1, -1,  1], dtype=int64)"
      ]
     },
     "execution_count": 24,
     "metadata": {},
     "output_type": "execute_result"
    }
   ],
   "source": [
    "# VIẾT CODE Ở ĐÂY\n",
    "decision_tree_model.predict(sample_validation_data)"
   ]
  },
  {
   "cell_type": "markdown",
   "metadata": {
    "id": "J_76BB7N6sSI"
   },
   "source": [
    "## Khám phá xác suất dự đoán\n",
    "\n",
    "Với từng hàng trong **sample_validation_data**, xác suất (theo **decision_tree_model**) để một khoản vay được phân loại là **an toàn** là bao nhiêu?"
   ]
  },
  {
   "cell_type": "code",
   "execution_count": 25,
   "metadata": {
    "id": "123DjA4i6sSK",
    "scrolled": true
   },
   "outputs": [
    {
     "name": "stderr",
     "output_type": "stream",
     "text": [
      "C:\\Users\\Admin\\Anaconda3\\lib\\site-packages\\sklearn\\base.py:439: UserWarning: X has feature names, but DecisionTreeClassifier was fitted without feature names\n",
      "  f\"X has feature names, but {self.__class__.__name__} was fitted without\"\n"
     ]
    },
    {
     "data": {
      "text/plain": [
       "array([[0.4591029 , 0.5408971 ],\n",
       "       [0.50706436, 0.49293564],\n",
       "       [0.54930305, 0.45069695],\n",
       "       [0.42893037, 0.57106963]])"
      ]
     },
     "execution_count": 25,
     "metadata": {},
     "output_type": "execute_result"
    }
   ],
   "source": [
    "decision_tree_model.predict_proba(sample_validation_data)"
   ]
  },
  {
   "cell_type": "markdown",
   "metadata": {
    "id": "FOB6J7Lh6sSM"
   },
   "source": [
    "# Đánh giá accuracy của mô hình decision tree\n",
    "Nhắc lại: accuracy được xác định như sau:\n",
    "$$\n",
    "\\mbox{accuracy} = \\frac{\\mbox{# ví dụ được phân loại chính xác}}{\\mbox{# tổng số ví dụ}}\n",
    "$$\n",
    "\n",
    "Hãy bắt đầu đánh giá accuracy của `small_model` và `decision_tree_model` trong dữ liệu huấn luyện và kiểm định."
   ]
  },
  {
   "cell_type": "code",
   "execution_count": 27,
   "metadata": {
    "id": "KuwldTNl6sSN"
   },
   "outputs": [
    {
     "name": "stdout",
     "output_type": "stream",
     "text": [
      "0.6374460043196545\n",
      "0.6139578833693304\n",
      "----------\n",
      "0.6317494600431965\n",
      "0.6171706263498921\n"
     ]
    }
   ],
   "source": [
    "# VIẾT CODE Ở ĐÂY\n",
    "print (decision_tree_model.score(train_X, train_y))\n",
    "print (small_model.score(train_X, train_y))\n",
    "print ('----------')\n",
    "print (decision_tree_model.score(val_X, val_y))\n",
    "print (small_model.score(val_X, val_y))"
   ]
  },
  {
   "cell_type": "markdown",
   "metadata": {
    "id": "kUdtpNNB6sSP"
   },
   "source": [
    "**Quiz:** accuracy của `decision_tree_model` trên tập kiểm định được làm tròn đến 0.01 là bao nhiêu?\n",
    "<br>\n",
    "**Đáp án của bạn:**"
   ]
  },
  {
   "cell_type": "markdown",
   "metadata": {
    "id": "MibX9XpR6sSQ"
   },
   "source": [
    "## Đánh giá accuracy của một mô hình DT phức tạp \n",
    "\n",
    "Chúng ta sẽ huấn luyện một decision tree lớn với `max_depth=10`. Điều này sẽ khiến cây đã tìm hiểu sâu hơn và dẫn đến một mô hình rất phức tạp. Nhớ lại trong bài giảng, chúng ta chuộng các mô hình đơn giản hơn mà vẫn có khả năng dự đoán tương tự. Đây sẽ là ví dụ về một mô hình phức tạp hơn, có khả năng dự đoán tương tự, chúng ta không muốn nó."
   ]
  },
  {
   "cell_type": "code",
   "execution_count": 28,
   "metadata": {
    "id": "aEieUD716sSR"
   },
   "outputs": [
    {
     "name": "stdout",
     "output_type": "stream",
     "text": [
      "0.6610151187904968\n",
      "0.6254859611231102\n"
     ]
    }
   ],
   "source": [
    "big_model = DecisionTreeClassifier(max_depth=10)\n",
    "big_model.fit(train_X, train_y)\n",
    "print (big_model.score(train_X, train_y))\n",
    "print (big_model.score(val_X, val_y))"
   ]
  },
  {
   "cell_type": "markdown",
   "metadata": {
    "id": "SDRc6ZV_6sST"
   },
   "source": [
    "**Checkpoint:** Chúng ta thấy rằng **big_model** ở tập huấn luyện có chất lượng tốt hơn so với **decision_tree_model** đã thực hiện trong tập huấn luyện."
   ]
  },
  {
   "cell_type": "markdown",
   "metadata": {
    "id": "phjmUNE-6sSU"
   },
   "source": [
    "**Quiz:** Làm thế nào để so sánh chất lượng của **big_model** với **decision_tree_model** trong tập kiểm định? Đây có phải là dấu hiệu của overfitting?\n",
    "<br>\n",
    "**Đáp án của bạn:**"
   ]
  },
  {
   "cell_type": "markdown",
   "metadata": {
    "id": "350oO-SA6sSX"
   },
   "source": [
    "### Định lượng chi phí sai sót\n",
    "\n",
    "Mọi sai sót mà mô hình mắc đều phải trả giá. Trong phần này, chúng ta sẽ thử định lượng chi phí của mỗi sai sót mà mô hình mắc phải.\n",
    "\n",
    "Giả sử như sau:\n",
    "\n",
    "* **False negative**: Các khoản cho vay thực sự an toàn nhưng lại được dự đoán là rủi ro. Điều này dẫn đến chi phí cơ hội của việc mất một khoản vay mà lẽ ra phải được chấp nhận.\n",
    "* **False positive**: Các khoản cho vay thực sự rủi ro nhưng lại được dự đoán là an toàn. Chúng đắt hơn nhiều vì nó dẫn đến một khoản vay rủi ro.\n",
    "* **Dự đoán đúng**: Tất cả các dự đoán đúng thường không phải chịu bất kỳ chi phí nào.\n",
    "\n",
    "\n",
    "Hãy viết code tính toán chi phí sai sót của mô hình. Hoàn thành 4 bước sau:\n",
    "1. Đầu tiên, hãy tính toán các dự đoán do mô hình đưa ra.\n",
    "1. Thứ hai, tính số lượng false positive.\n",
    "2. Thứ ba, tính tính số lượng false negative.\n",
    "3. Cuối cùng, tính toán chi phí sai sót của mô hình bằng cách cộng chi phí của true positive và false positive. \n",
    "\n",
    "Trước tiên, hãy đưa ra dự đoán trên `validation_data`, sử dụng `decision_tree_model`:"
   ]
  },
  {
   "cell_type": "code",
   "execution_count": 29,
   "metadata": {
    "id": "gnuLuoBH6sSb"
   },
   "outputs": [
    {
     "name": "stderr",
     "output_type": "stream",
     "text": [
      "C:\\Users\\Admin\\Anaconda3\\lib\\site-packages\\sklearn\\base.py:439: UserWarning: X has feature names, but DecisionTreeClassifier was fitted without feature names\n",
      "  f\"X has feature names, but {self.__class__.__name__} was fitted without\"\n"
     ]
    }
   ],
   "source": [
    "predictions = decision_tree_model.predict(val_data)"
   ]
  },
  {
   "cell_type": "markdown",
   "metadata": {
    "id": "5B1IuFqq6sSd"
   },
   "source": [
    "**False positive** là các dự đoán mà mô hình dự đoán +1 nhưng nhãn thực là -1. Hoàn thành khối code sau cho số lượng các false positive: "
   ]
  },
  {
   "cell_type": "code",
   "execution_count": 32,
   "metadata": {},
   "outputs": [
    {
     "data": {
      "text/plain": [
       "array([-1, -1, -1, ...,  1, -1, -1], dtype=int64)"
      ]
     },
     "execution_count": 32,
     "metadata": {},
     "output_type": "execute_result"
    }
   ],
   "source": [
    "val_y"
   ]
  },
  {
   "cell_type": "code",
   "execution_count": 34,
   "metadata": {
    "scrolled": true
   },
   "outputs": [
    {
     "name": "stdout",
     "output_type": "stream",
     "text": [
      "              precision    recall  f1-score   support\n",
      "\n",
      "          -1       0.62      0.69      0.65      4603\n",
      "           1       0.65      0.57      0.61      4657\n",
      "\n",
      "    accuracy                           0.63      9260\n",
      "   macro avg       0.63      0.63      0.63      9260\n",
      "weighted avg       0.63      0.63      0.63      9260\n",
      "\n"
     ]
    }
   ],
   "source": [
    "from sklearn.metrics import classification_report\n",
    "print(classification_report(val_y, predictions))"
   ]
  },
  {
   "cell_type": "code",
   "execution_count": 38,
   "metadata": {
    "id": "wHC3sOro6sSe"
   },
   "outputs": [],
   "source": [
    "# VIẾT CODE Ở ĐÂY\n",
    "false_pos_count =np.sum([ a and b for a,b in zip(val_y== 1,predictions == -1)])"
   ]
  },
  {
   "cell_type": "markdown",
   "metadata": {
    "id": "-ZN98vui6sSg"
   },
   "source": [
    "**False negative** là các dự đoán mà mô hình dự đoán -1 nhưng nhãn thực là +1. Hoàn thành khối code sau cho số lượng false negative: "
   ]
  },
  {
   "cell_type": "code",
   "execution_count": 40,
   "metadata": {
    "id": "6S1aAAzM6sSh"
   },
   "outputs": [],
   "source": [
    "# VIẾT CODE Ở ĐÂY\n",
    "false_neg_count = np.sum([ a and b for a,b in zip(val_y== -1,predictions == 1)])"
   ]
  },
  {
   "cell_type": "markdown",
   "metadata": {
    "id": "BP8ylF5z6sSi"
   },
   "source": [
    "**Quiz:** Giả sử mỗi sai sót đều phải trả phí:\n",
    "* Phí là \\$10,000 cho mỗi false negative.\n",
    "* Phí là \\$20,000 cho mỗi false positive.\n",
    "\n",
    "Tổng chi phí của cho các sai sót bởi `decision_tree_model` trong `validation_data` là bao nhiêu?\n",
    "<br>\n",
    "**Đáp án của bạn:**"
   ]
  },
  {
   "cell_type": "code",
   "execution_count": 41,
   "metadata": {
    "id": "5cKsc-xD6sSj"
   },
   "outputs": [
    {
     "name": "stdout",
     "output_type": "stream",
     "text": [
      "53970000\n"
     ]
    }
   ],
   "source": [
    "# VIẾT CODE Ở ĐÂY\n",
    "cost = false_pos_count*20000 + false_neg_count*10000\n",
    "print (cost)"
   ]
  },
  {
   "cell_type": "code",
   "execution_count": null,
   "metadata": {
    "id": "DUKWhjnv6sSk"
   },
   "outputs": [],
   "source": []
  }
 ],
 "metadata": {
  "colab": {
   "collapsed_sections": [],
   "name": "[VN]Identifying safe loans with decision trees.ipynb",
   "provenance": [],
   "toc_visible": true
  },
  "kernelspec": {
   "display_name": "Python 3",
   "language": "python",
   "name": "python3"
  },
  "language_info": {
   "codemirror_mode": {
    "name": "ipython",
    "version": 3
   },
   "file_extension": ".py",
   "mimetype": "text/x-python",
   "name": "python",
   "nbconvert_exporter": "python",
   "pygments_lexer": "ipython3",
   "version": "3.8.0"
  }
 },
 "nbformat": 4,
 "nbformat_minor": 1
}
