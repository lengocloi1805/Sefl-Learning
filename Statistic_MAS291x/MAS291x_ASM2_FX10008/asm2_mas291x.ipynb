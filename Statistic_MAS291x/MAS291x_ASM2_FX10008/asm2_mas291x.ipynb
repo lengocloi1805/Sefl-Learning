{
 "cells": [
  {
   "cell_type": "markdown",
   "metadata": {},
   "source": [
    "# Table of contents\n",
    "[I. Introduction](#I.-Introduction)<br>\n",
    "[1.1 Prepare data](#1.1-Prepare-data)<br>\n",
    "\n",
    "[II. Exploring the Data](#II.-Exploring-the-Data)<br>\n",
    "[2a. Statistical Overview](#2a.-Statistical-Overview)<br>\n",
    "[2b. Correlation Matrix & Heatmap](#2b.-Correlation-Matrix-&-Heatmap)<br>\n",
    "[2c. Statistical Test for Correlation](#2c.-Statistical-Test-for-Correlation)<br>\n",
    "[2d. Distribution Plots (Satisfaction - Distance - Income)](#2d.-Distribution-Plots-(Satisfaction---Distance---Income))<br>\n",
    "[2e. Department V.S. Attrition](#2e.-Department-V.S.-Attrition)<br>\n",
    "[2f. Overtime V.S. Attrition](#2f.-Overtime-V.S.-Attrition)<br>\n",
    "[2g. Statistical Test for Correlation (Satisfaction)](#2g.-Statistical-Test-for-Correlation-(Satisfaction))<br>\n",
    "\n",
    "[III. Conclusions](#III.-Conclusions)<br>\n",
    "\n",
    "[IV. References](#IV.-References)\n"
   ]
  },
  {
   "cell_type": "markdown",
   "metadata": {},
   "source": [
    "# I. Introduction\n",
    "[Dữ liệu phân tích nhân sự IBM](https://www.kaggle.com/pavansubhasht/ibm-hr-analytics-attrition-dataset) về độ hụt giảm (attrition) và khả năng làm việc trong công ty (performance)\n",
    "Ở phần báo cáo này, chúng ta sẽ tập trung vào những câu hỏi quan trọng:\n",
    "- Những nhân tố nào đang đóng vai trò trong tỷ lệ suy giảm?\n",
    "- Những nhân tố nào đang đóng vao trò trong tỷ lệ hài lòng?\n",
    "- Khi nào thì nhân viên bỏ đi?\n",
    "\n",
    "Để giải quyết các câu hỏi này, thì notebook này sẽ bao gồm phần khám phá dữ liệu, minh họa, lọc dữ liệu,phân tích trên t-test/ f-test và đưa ra kết luận."
   ]
  },
  {
   "cell_type": "markdown",
   "metadata": {},
   "source": [
    "## 1.1 Prepare data"
   ]
  },
  {
   "cell_type": "markdown",
   "metadata": {},
   "source": [
    "**Import những libraries cần thiết và tải dữ liệu**"
   ]
  },
  {
   "cell_type": "code",
   "execution_count": 1,
   "metadata": {},
   "outputs": [],
   "source": [
    "import pandas as pd\n",
    "import numpy as np\n",
    "import matplotlib.pyplot as plt\n",
    "import matplotlib as matplot\n",
    "import seaborn as sns\n",
    "%matplotlib inline"
   ]
  },
  {
   "cell_type": "markdown",
   "metadata": {},
   "source": [
    "**Load dữ liệu csv**"
   ]
  },
  {
   "cell_type": "code",
   "execution_count": 2,
   "metadata": {},
   "outputs": [
    {
     "data": {
      "text/html": [
       "<div>\n",
       "<style scoped>\n",
       "    .dataframe tbody tr th:only-of-type {\n",
       "        vertical-align: middle;\n",
       "    }\n",
       "\n",
       "    .dataframe tbody tr th {\n",
       "        vertical-align: top;\n",
       "    }\n",
       "\n",
       "    .dataframe thead th {\n",
       "        text-align: right;\n",
       "    }\n",
       "</style>\n",
       "<table border=\"1\" class=\"dataframe\">\n",
       "  <thead>\n",
       "    <tr style=\"text-align: right;\">\n",
       "      <th></th>\n",
       "      <th>Age</th>\n",
       "      <th>Attrition</th>\n",
       "      <th>BusinessTravel</th>\n",
       "      <th>DailyRate</th>\n",
       "      <th>Department</th>\n",
       "      <th>DistanceFromHome</th>\n",
       "      <th>Education</th>\n",
       "      <th>EducationField</th>\n",
       "      <th>EmployeeCount</th>\n",
       "      <th>EmployeeNumber</th>\n",
       "      <th>...</th>\n",
       "      <th>RelationshipSatisfaction</th>\n",
       "      <th>StandardHours</th>\n",
       "      <th>StockOptionLevel</th>\n",
       "      <th>TotalWorkingYears</th>\n",
       "      <th>TrainingTimesLastYear</th>\n",
       "      <th>WorkLifeBalance</th>\n",
       "      <th>YearsAtCompany</th>\n",
       "      <th>YearsInCurrentRole</th>\n",
       "      <th>YearsSinceLastPromotion</th>\n",
       "      <th>YearsWithCurrManager</th>\n",
       "    </tr>\n",
       "  </thead>\n",
       "  <tbody>\n",
       "    <tr>\n",
       "      <th>0</th>\n",
       "      <td>41</td>\n",
       "      <td>Yes</td>\n",
       "      <td>Travel_Rarely</td>\n",
       "      <td>1102</td>\n",
       "      <td>Sales</td>\n",
       "      <td>1</td>\n",
       "      <td>2</td>\n",
       "      <td>Life Sciences</td>\n",
       "      <td>1</td>\n",
       "      <td>1</td>\n",
       "      <td>...</td>\n",
       "      <td>1</td>\n",
       "      <td>80</td>\n",
       "      <td>0</td>\n",
       "      <td>8</td>\n",
       "      <td>0</td>\n",
       "      <td>1</td>\n",
       "      <td>6</td>\n",
       "      <td>4</td>\n",
       "      <td>0</td>\n",
       "      <td>5</td>\n",
       "    </tr>\n",
       "    <tr>\n",
       "      <th>1</th>\n",
       "      <td>49</td>\n",
       "      <td>No</td>\n",
       "      <td>Travel_Frequently</td>\n",
       "      <td>279</td>\n",
       "      <td>Research &amp; Development</td>\n",
       "      <td>8</td>\n",
       "      <td>1</td>\n",
       "      <td>Life Sciences</td>\n",
       "      <td>1</td>\n",
       "      <td>2</td>\n",
       "      <td>...</td>\n",
       "      <td>4</td>\n",
       "      <td>80</td>\n",
       "      <td>1</td>\n",
       "      <td>10</td>\n",
       "      <td>3</td>\n",
       "      <td>3</td>\n",
       "      <td>10</td>\n",
       "      <td>7</td>\n",
       "      <td>1</td>\n",
       "      <td>7</td>\n",
       "    </tr>\n",
       "    <tr>\n",
       "      <th>2</th>\n",
       "      <td>37</td>\n",
       "      <td>Yes</td>\n",
       "      <td>Travel_Rarely</td>\n",
       "      <td>1373</td>\n",
       "      <td>Research &amp; Development</td>\n",
       "      <td>2</td>\n",
       "      <td>2</td>\n",
       "      <td>Other</td>\n",
       "      <td>1</td>\n",
       "      <td>4</td>\n",
       "      <td>...</td>\n",
       "      <td>2</td>\n",
       "      <td>80</td>\n",
       "      <td>0</td>\n",
       "      <td>7</td>\n",
       "      <td>3</td>\n",
       "      <td>3</td>\n",
       "      <td>0</td>\n",
       "      <td>0</td>\n",
       "      <td>0</td>\n",
       "      <td>0</td>\n",
       "    </tr>\n",
       "    <tr>\n",
       "      <th>3</th>\n",
       "      <td>33</td>\n",
       "      <td>No</td>\n",
       "      <td>Travel_Frequently</td>\n",
       "      <td>1392</td>\n",
       "      <td>Research &amp; Development</td>\n",
       "      <td>3</td>\n",
       "      <td>4</td>\n",
       "      <td>Life Sciences</td>\n",
       "      <td>1</td>\n",
       "      <td>5</td>\n",
       "      <td>...</td>\n",
       "      <td>3</td>\n",
       "      <td>80</td>\n",
       "      <td>0</td>\n",
       "      <td>8</td>\n",
       "      <td>3</td>\n",
       "      <td>3</td>\n",
       "      <td>8</td>\n",
       "      <td>7</td>\n",
       "      <td>3</td>\n",
       "      <td>0</td>\n",
       "    </tr>\n",
       "    <tr>\n",
       "      <th>4</th>\n",
       "      <td>27</td>\n",
       "      <td>No</td>\n",
       "      <td>Travel_Rarely</td>\n",
       "      <td>591</td>\n",
       "      <td>Research &amp; Development</td>\n",
       "      <td>2</td>\n",
       "      <td>1</td>\n",
       "      <td>Medical</td>\n",
       "      <td>1</td>\n",
       "      <td>7</td>\n",
       "      <td>...</td>\n",
       "      <td>4</td>\n",
       "      <td>80</td>\n",
       "      <td>1</td>\n",
       "      <td>6</td>\n",
       "      <td>3</td>\n",
       "      <td>3</td>\n",
       "      <td>2</td>\n",
       "      <td>2</td>\n",
       "      <td>2</td>\n",
       "      <td>2</td>\n",
       "    </tr>\n",
       "  </tbody>\n",
       "</table>\n",
       "<p>5 rows × 35 columns</p>\n",
       "</div>"
      ],
      "text/plain": [
       "   Age Attrition     BusinessTravel  DailyRate              Department  \\\n",
       "0   41       Yes      Travel_Rarely       1102                   Sales   \n",
       "1   49        No  Travel_Frequently        279  Research & Development   \n",
       "2   37       Yes      Travel_Rarely       1373  Research & Development   \n",
       "3   33        No  Travel_Frequently       1392  Research & Development   \n",
       "4   27        No      Travel_Rarely        591  Research & Development   \n",
       "\n",
       "   DistanceFromHome  Education EducationField  EmployeeCount  EmployeeNumber  \\\n",
       "0                 1          2  Life Sciences              1               1   \n",
       "1                 8          1  Life Sciences              1               2   \n",
       "2                 2          2          Other              1               4   \n",
       "3                 3          4  Life Sciences              1               5   \n",
       "4                 2          1        Medical              1               7   \n",
       "\n",
       "           ...           RelationshipSatisfaction StandardHours  \\\n",
       "0          ...                                  1            80   \n",
       "1          ...                                  4            80   \n",
       "2          ...                                  2            80   \n",
       "3          ...                                  3            80   \n",
       "4          ...                                  4            80   \n",
       "\n",
       "   StockOptionLevel  TotalWorkingYears  TrainingTimesLastYear WorkLifeBalance  \\\n",
       "0                 0                  8                      0               1   \n",
       "1                 1                 10                      3               3   \n",
       "2                 0                  7                      3               3   \n",
       "3                 0                  8                      3               3   \n",
       "4                 1                  6                      3               3   \n",
       "\n",
       "   YearsAtCompany YearsInCurrentRole  YearsSinceLastPromotion  \\\n",
       "0               6                  4                        0   \n",
       "1              10                  7                        1   \n",
       "2               0                  0                        0   \n",
       "3               8                  7                        3   \n",
       "4               2                  2                        2   \n",
       "\n",
       "   YearsWithCurrManager  \n",
       "0                     5  \n",
       "1                     7  \n",
       "2                     0  \n",
       "3                     0  \n",
       "4                     2  \n",
       "\n",
       "[5 rows x 35 columns]"
      ]
     },
     "execution_count": 2,
     "metadata": {},
     "output_type": "execute_result"
    }
   ],
   "source": [
    "df = pd.read_csv(\"WA_Fn-UseC_-HR-Employee-Attrition.csv\")\n",
    "df.head()"
   ]
  },
  {
   "cell_type": "markdown",
   "metadata": {},
   "source": [
    "**Check missing value**"
   ]
  },
  {
   "cell_type": "code",
   "execution_count": 3,
   "metadata": {},
   "outputs": [
    {
     "data": {
      "text/plain": [
       "Age                         0\n",
       "Attrition                   0\n",
       "BusinessTravel              0\n",
       "DailyRate                   0\n",
       "Department                  0\n",
       "DistanceFromHome            0\n",
       "Education                   0\n",
       "EducationField              0\n",
       "EmployeeCount               0\n",
       "EmployeeNumber              0\n",
       "EnvironmentSatisfaction     0\n",
       "Gender                      0\n",
       "HourlyRate                  0\n",
       "JobInvolvement              0\n",
       "JobLevel                    0\n",
       "JobRole                     0\n",
       "JobSatisfaction             0\n",
       "MaritalStatus               0\n",
       "MonthlyIncome               0\n",
       "MonthlyRate                 0\n",
       "NumCompaniesWorked          0\n",
       "Over18                      0\n",
       "OverTime                    0\n",
       "PercentSalaryHike           0\n",
       "PerformanceRating           0\n",
       "RelationshipSatisfaction    0\n",
       "StandardHours               0\n",
       "StockOptionLevel            0\n",
       "TotalWorkingYears           0\n",
       "TrainingTimesLastYear       0\n",
       "WorkLifeBalance             0\n",
       "YearsAtCompany              0\n",
       "YearsInCurrentRole          0\n",
       "YearsSinceLastPromotion     0\n",
       "YearsWithCurrManager        0\n",
       "dtype: int64"
      ]
     },
     "execution_count": 3,
     "metadata": {},
     "output_type": "execute_result"
    }
   ],
   "source": [
    "# Check to see if there are any missing values in our data set\n",
    "df.isnull().sum()"
   ]
  },
  {
   "cell_type": "markdown",
   "metadata": {},
   "source": [
    "Dữ liệu không có missing value"
   ]
  },
  {
   "cell_type": "markdown",
   "metadata": {},
   "source": [
    "Đổi tên một số cột để quan sát dữ liệu được tốt hơn. Chuyển những feature phụ thuộc \"Attrition\" và \"Satisfaction\" sang hàng đầu"
   ]
  },
  {
   "cell_type": "code",
   "execution_count": 4,
   "metadata": {},
   "outputs": [],
   "source": [
    "# Renaming certain columns for better readability\n",
    "df = df.rename(columns={\"DistanceFromHome\" : \"Distance\",\n",
    "                       \"MonthlyIncome\": \"Income\",\n",
    "                       \"PerformanceRating\":\"Evaluation\",\n",
    "                       \"JobSatisfaction\" : \"Satisfaction\"})"
   ]
  },
  {
   "cell_type": "code",
   "execution_count": 5,
   "metadata": {
    "scrolled": true
   },
   "outputs": [
    {
     "data": {
      "text/html": [
       "<div>\n",
       "<style scoped>\n",
       "    .dataframe tbody tr th:only-of-type {\n",
       "        vertical-align: middle;\n",
       "    }\n",
       "\n",
       "    .dataframe tbody tr th {\n",
       "        vertical-align: top;\n",
       "    }\n",
       "\n",
       "    .dataframe thead th {\n",
       "        text-align: right;\n",
       "    }\n",
       "</style>\n",
       "<table border=\"1\" class=\"dataframe\">\n",
       "  <thead>\n",
       "    <tr style=\"text-align: right;\">\n",
       "      <th></th>\n",
       "      <th>Attrition</th>\n",
       "      <th>Satisfaction</th>\n",
       "      <th>Age</th>\n",
       "      <th>BusinessTravel</th>\n",
       "      <th>DailyRate</th>\n",
       "      <th>Department</th>\n",
       "      <th>Distance</th>\n",
       "      <th>Education</th>\n",
       "      <th>EducationField</th>\n",
       "      <th>EmployeeCount</th>\n",
       "      <th>...</th>\n",
       "      <th>RelationshipSatisfaction</th>\n",
       "      <th>StandardHours</th>\n",
       "      <th>StockOptionLevel</th>\n",
       "      <th>TotalWorkingYears</th>\n",
       "      <th>TrainingTimesLastYear</th>\n",
       "      <th>WorkLifeBalance</th>\n",
       "      <th>YearsAtCompany</th>\n",
       "      <th>YearsInCurrentRole</th>\n",
       "      <th>YearsSinceLastPromotion</th>\n",
       "      <th>YearsWithCurrManager</th>\n",
       "    </tr>\n",
       "  </thead>\n",
       "  <tbody>\n",
       "    <tr>\n",
       "      <th>0</th>\n",
       "      <td>Yes</td>\n",
       "      <td>4</td>\n",
       "      <td>41</td>\n",
       "      <td>Travel_Rarely</td>\n",
       "      <td>1102</td>\n",
       "      <td>Sales</td>\n",
       "      <td>1</td>\n",
       "      <td>2</td>\n",
       "      <td>Life Sciences</td>\n",
       "      <td>1</td>\n",
       "      <td>...</td>\n",
       "      <td>1</td>\n",
       "      <td>80</td>\n",
       "      <td>0</td>\n",
       "      <td>8</td>\n",
       "      <td>0</td>\n",
       "      <td>1</td>\n",
       "      <td>6</td>\n",
       "      <td>4</td>\n",
       "      <td>0</td>\n",
       "      <td>5</td>\n",
       "    </tr>\n",
       "    <tr>\n",
       "      <th>1</th>\n",
       "      <td>No</td>\n",
       "      <td>2</td>\n",
       "      <td>49</td>\n",
       "      <td>Travel_Frequently</td>\n",
       "      <td>279</td>\n",
       "      <td>Research &amp; Development</td>\n",
       "      <td>8</td>\n",
       "      <td>1</td>\n",
       "      <td>Life Sciences</td>\n",
       "      <td>1</td>\n",
       "      <td>...</td>\n",
       "      <td>4</td>\n",
       "      <td>80</td>\n",
       "      <td>1</td>\n",
       "      <td>10</td>\n",
       "      <td>3</td>\n",
       "      <td>3</td>\n",
       "      <td>10</td>\n",
       "      <td>7</td>\n",
       "      <td>1</td>\n",
       "      <td>7</td>\n",
       "    </tr>\n",
       "    <tr>\n",
       "      <th>2</th>\n",
       "      <td>Yes</td>\n",
       "      <td>3</td>\n",
       "      <td>37</td>\n",
       "      <td>Travel_Rarely</td>\n",
       "      <td>1373</td>\n",
       "      <td>Research &amp; Development</td>\n",
       "      <td>2</td>\n",
       "      <td>2</td>\n",
       "      <td>Other</td>\n",
       "      <td>1</td>\n",
       "      <td>...</td>\n",
       "      <td>2</td>\n",
       "      <td>80</td>\n",
       "      <td>0</td>\n",
       "      <td>7</td>\n",
       "      <td>3</td>\n",
       "      <td>3</td>\n",
       "      <td>0</td>\n",
       "      <td>0</td>\n",
       "      <td>0</td>\n",
       "      <td>0</td>\n",
       "    </tr>\n",
       "    <tr>\n",
       "      <th>3</th>\n",
       "      <td>No</td>\n",
       "      <td>3</td>\n",
       "      <td>33</td>\n",
       "      <td>Travel_Frequently</td>\n",
       "      <td>1392</td>\n",
       "      <td>Research &amp; Development</td>\n",
       "      <td>3</td>\n",
       "      <td>4</td>\n",
       "      <td>Life Sciences</td>\n",
       "      <td>1</td>\n",
       "      <td>...</td>\n",
       "      <td>3</td>\n",
       "      <td>80</td>\n",
       "      <td>0</td>\n",
       "      <td>8</td>\n",
       "      <td>3</td>\n",
       "      <td>3</td>\n",
       "      <td>8</td>\n",
       "      <td>7</td>\n",
       "      <td>3</td>\n",
       "      <td>0</td>\n",
       "    </tr>\n",
       "    <tr>\n",
       "      <th>4</th>\n",
       "      <td>No</td>\n",
       "      <td>2</td>\n",
       "      <td>27</td>\n",
       "      <td>Travel_Rarely</td>\n",
       "      <td>591</td>\n",
       "      <td>Research &amp; Development</td>\n",
       "      <td>2</td>\n",
       "      <td>1</td>\n",
       "      <td>Medical</td>\n",
       "      <td>1</td>\n",
       "      <td>...</td>\n",
       "      <td>4</td>\n",
       "      <td>80</td>\n",
       "      <td>1</td>\n",
       "      <td>6</td>\n",
       "      <td>3</td>\n",
       "      <td>3</td>\n",
       "      <td>2</td>\n",
       "      <td>2</td>\n",
       "      <td>2</td>\n",
       "      <td>2</td>\n",
       "    </tr>\n",
       "  </tbody>\n",
       "</table>\n",
       "<p>5 rows × 35 columns</p>\n",
       "</div>"
      ],
      "text/plain": [
       "  Attrition  Satisfaction  Age     BusinessTravel  DailyRate  \\\n",
       "0       Yes             4   41      Travel_Rarely       1102   \n",
       "1        No             2   49  Travel_Frequently        279   \n",
       "2       Yes             3   37      Travel_Rarely       1373   \n",
       "3        No             3   33  Travel_Frequently       1392   \n",
       "4        No             2   27      Travel_Rarely        591   \n",
       "\n",
       "               Department  Distance  Education EducationField  EmployeeCount  \\\n",
       "0                   Sales         1          2  Life Sciences              1   \n",
       "1  Research & Development         8          1  Life Sciences              1   \n",
       "2  Research & Development         2          2          Other              1   \n",
       "3  Research & Development         3          4  Life Sciences              1   \n",
       "4  Research & Development         2          1        Medical              1   \n",
       "\n",
       "           ...           RelationshipSatisfaction  StandardHours  \\\n",
       "0          ...                                  1             80   \n",
       "1          ...                                  4             80   \n",
       "2          ...                                  2             80   \n",
       "3          ...                                  3             80   \n",
       "4          ...                                  4             80   \n",
       "\n",
       "  StockOptionLevel  TotalWorkingYears  TrainingTimesLastYear  WorkLifeBalance  \\\n",
       "0                0                  8                      0                1   \n",
       "1                1                 10                      3                3   \n",
       "2                0                  7                      3                3   \n",
       "3                0                  8                      3                3   \n",
       "4                1                  6                      3                3   \n",
       "\n",
       "  YearsAtCompany YearsInCurrentRole  YearsSinceLastPromotion  \\\n",
       "0              6                  4                        0   \n",
       "1             10                  7                        1   \n",
       "2              0                  0                        0   \n",
       "3              8                  7                        3   \n",
       "4              2                  2                        2   \n",
       "\n",
       "   YearsWithCurrManager  \n",
       "0                     5  \n",
       "1                     7  \n",
       "2                     0  \n",
       "3                     0  \n",
       "4                     2  \n",
       "\n",
       "[5 rows x 35 columns]"
      ]
     },
     "execution_count": 5,
     "metadata": {},
     "output_type": "execute_result"
    }
   ],
   "source": [
    "# Move the reponse variable \"Attrition\" and \"Satisfaction\" to the front of the table\n",
    "first = df['Attrition']\n",
    "second = df[\"Satisfaction\"]\n",
    "df.drop(labels=['Attrition'], axis=1,inplace = True)\n",
    "df.drop(labels=['Satisfaction'], axis=1,inplace = True)\n",
    "df.insert(0, 'Attrition', first)\n",
    "df.insert(1, 'Satisfaction', second)\n",
    "df.head()"
   ]
  },
  {
   "cell_type": "code",
   "execution_count": 7,
   "metadata": {},
   "outputs": [
    {
     "data": {
      "text/plain": [
       "No     1233\n",
       "Yes     237\n",
       "Name: Attrition, dtype: int64"
      ]
     },
     "execution_count": 7,
     "metadata": {},
     "output_type": "execute_result"
    }
   ],
   "source": [
    "df['Attrition'].value_counts()"
   ]
  },
  {
   "cell_type": "markdown",
   "metadata": {},
   "source": [
    "Quan sát thấy dữ liệu có **1470** hàng, mỗi hàng tương ứng với một nhân viên. Trong đó những người có chiều hướng nghỉ là 237 chiếm **16.12%** tổng nhân sự."
   ]
  },
  {
   "cell_type": "markdown",
   "metadata": {},
   "source": [
    "Label encode output \"Attrition\". Đây là feature chúng ta quan tâm"
   ]
  },
  {
   "cell_type": "code",
   "execution_count": 8,
   "metadata": {},
   "outputs": [
    {
     "data": {
      "text/html": [
       "<div>\n",
       "<style scoped>\n",
       "    .dataframe tbody tr th:only-of-type {\n",
       "        vertical-align: middle;\n",
       "    }\n",
       "\n",
       "    .dataframe tbody tr th {\n",
       "        vertical-align: top;\n",
       "    }\n",
       "\n",
       "    .dataframe thead th {\n",
       "        text-align: right;\n",
       "    }\n",
       "</style>\n",
       "<table border=\"1\" class=\"dataframe\">\n",
       "  <thead>\n",
       "    <tr style=\"text-align: right;\">\n",
       "      <th></th>\n",
       "      <th>Attrition</th>\n",
       "      <th>Satisfaction</th>\n",
       "      <th>Age</th>\n",
       "      <th>BusinessTravel</th>\n",
       "      <th>DailyRate</th>\n",
       "      <th>Department</th>\n",
       "      <th>Distance</th>\n",
       "      <th>Education</th>\n",
       "      <th>EducationField</th>\n",
       "      <th>EmployeeCount</th>\n",
       "      <th>...</th>\n",
       "      <th>RelationshipSatisfaction</th>\n",
       "      <th>StandardHours</th>\n",
       "      <th>StockOptionLevel</th>\n",
       "      <th>TotalWorkingYears</th>\n",
       "      <th>TrainingTimesLastYear</th>\n",
       "      <th>WorkLifeBalance</th>\n",
       "      <th>YearsAtCompany</th>\n",
       "      <th>YearsInCurrentRole</th>\n",
       "      <th>YearsSinceLastPromotion</th>\n",
       "      <th>YearsWithCurrManager</th>\n",
       "    </tr>\n",
       "  </thead>\n",
       "  <tbody>\n",
       "    <tr>\n",
       "      <th>0</th>\n",
       "      <td>1</td>\n",
       "      <td>4</td>\n",
       "      <td>41</td>\n",
       "      <td>Travel_Rarely</td>\n",
       "      <td>1102</td>\n",
       "      <td>Sales</td>\n",
       "      <td>1</td>\n",
       "      <td>2</td>\n",
       "      <td>Life Sciences</td>\n",
       "      <td>1</td>\n",
       "      <td>...</td>\n",
       "      <td>1</td>\n",
       "      <td>80</td>\n",
       "      <td>0</td>\n",
       "      <td>8</td>\n",
       "      <td>0</td>\n",
       "      <td>1</td>\n",
       "      <td>6</td>\n",
       "      <td>4</td>\n",
       "      <td>0</td>\n",
       "      <td>5</td>\n",
       "    </tr>\n",
       "    <tr>\n",
       "      <th>1</th>\n",
       "      <td>0</td>\n",
       "      <td>2</td>\n",
       "      <td>49</td>\n",
       "      <td>Travel_Frequently</td>\n",
       "      <td>279</td>\n",
       "      <td>Research &amp; Development</td>\n",
       "      <td>8</td>\n",
       "      <td>1</td>\n",
       "      <td>Life Sciences</td>\n",
       "      <td>1</td>\n",
       "      <td>...</td>\n",
       "      <td>4</td>\n",
       "      <td>80</td>\n",
       "      <td>1</td>\n",
       "      <td>10</td>\n",
       "      <td>3</td>\n",
       "      <td>3</td>\n",
       "      <td>10</td>\n",
       "      <td>7</td>\n",
       "      <td>1</td>\n",
       "      <td>7</td>\n",
       "    </tr>\n",
       "    <tr>\n",
       "      <th>2</th>\n",
       "      <td>1</td>\n",
       "      <td>3</td>\n",
       "      <td>37</td>\n",
       "      <td>Travel_Rarely</td>\n",
       "      <td>1373</td>\n",
       "      <td>Research &amp; Development</td>\n",
       "      <td>2</td>\n",
       "      <td>2</td>\n",
       "      <td>Other</td>\n",
       "      <td>1</td>\n",
       "      <td>...</td>\n",
       "      <td>2</td>\n",
       "      <td>80</td>\n",
       "      <td>0</td>\n",
       "      <td>7</td>\n",
       "      <td>3</td>\n",
       "      <td>3</td>\n",
       "      <td>0</td>\n",
       "      <td>0</td>\n",
       "      <td>0</td>\n",
       "      <td>0</td>\n",
       "    </tr>\n",
       "  </tbody>\n",
       "</table>\n",
       "<p>3 rows × 35 columns</p>\n",
       "</div>"
      ],
      "text/plain": [
       "   Attrition  Satisfaction  Age     BusinessTravel  DailyRate  \\\n",
       "0          1             4   41      Travel_Rarely       1102   \n",
       "1          0             2   49  Travel_Frequently        279   \n",
       "2          1             3   37      Travel_Rarely       1373   \n",
       "\n",
       "               Department  Distance  Education EducationField  EmployeeCount  \\\n",
       "0                   Sales         1          2  Life Sciences              1   \n",
       "1  Research & Development         8          1  Life Sciences              1   \n",
       "2  Research & Development         2          2          Other              1   \n",
       "\n",
       "           ...           RelationshipSatisfaction  StandardHours  \\\n",
       "0          ...                                  1             80   \n",
       "1          ...                                  4             80   \n",
       "2          ...                                  2             80   \n",
       "\n",
       "  StockOptionLevel  TotalWorkingYears  TrainingTimesLastYear  WorkLifeBalance  \\\n",
       "0                0                  8                      0                1   \n",
       "1                1                 10                      3                3   \n",
       "2                0                  7                      3                3   \n",
       "\n",
       "  YearsAtCompany YearsInCurrentRole  YearsSinceLastPromotion  \\\n",
       "0              6                  4                        0   \n",
       "1             10                  7                        1   \n",
       "2              0                  0                        0   \n",
       "\n",
       "   YearsWithCurrManager  \n",
       "0                     5  \n",
       "1                     7  \n",
       "2                     0  \n",
       "\n",
       "[3 rows x 35 columns]"
      ]
     },
     "execution_count": 8,
     "metadata": {},
     "output_type": "execute_result"
    }
   ],
   "source": [
    "from sklearn.preprocessing import LabelEncoder\n",
    "le = LabelEncoder()\n",
    "df[\"Attrition\"] = le.fit_transform(df[\"Attrition\"])\n",
    "df.head(3)"
   ]
  },
  {
   "cell_type": "code",
   "execution_count": 9,
   "metadata": {},
   "outputs": [
    {
     "data": {
      "text/plain": [
       "['No', 'Yes']"
      ]
     },
     "execution_count": 9,
     "metadata": {},
     "output_type": "execute_result"
    }
   ],
   "source": [
    "# Với encode 0 và 1 tương ứng\n",
    "list(le.inverse_transform([0,1]))"
   ]
  },
  {
   "cell_type": "markdown",
   "metadata": {},
   "source": [
    "# II. Exploring the Data"
   ]
  },
  {
   "cell_type": "markdown",
   "metadata": {},
   "source": [
    "## 2a. Statistical Overview"
   ]
  },
  {
   "cell_type": "code",
   "execution_count": 10,
   "metadata": {},
   "outputs": [
    {
     "data": {
      "text/plain": [
       "(1470, 35)"
      ]
     },
     "execution_count": 10,
     "metadata": {},
     "output_type": "execute_result"
    }
   ],
   "source": [
    "# The dataset contains 35 columns and 1470 observations\n",
    "df.shape"
   ]
  },
  {
   "cell_type": "markdown",
   "metadata": {},
   "source": [
    "Dữ liệu có 1470 nhân viên và 35 features"
   ]
  },
  {
   "cell_type": "code",
   "execution_count": 11,
   "metadata": {},
   "outputs": [
    {
     "data": {
      "text/plain": [
       "0    0.838776\n",
       "1    0.161224\n",
       "Name: Attrition, dtype: float64"
      ]
     },
     "execution_count": 11,
     "metadata": {},
     "output_type": "execute_result"
    }
   ],
   "source": [
    "# Looks like about 83.9% of employees stayed and 16.1% of employees left. \n",
    "# NOTE: When performing cross validation, its important to maintain this turnover ratio\n",
    "attrition_rate = df[\"Attrition\"].value_counts() / len(df)\n",
    "attrition_rate"
   ]
  },
  {
   "cell_type": "markdown",
   "metadata": {},
   "source": [
    "Tỷ lệ nhân viên ra đi là **16.1%**"
   ]
  },
  {
   "cell_type": "markdown",
   "metadata": {},
   "source": [
    "Theo cảm quan ta chọn ra một số features có thể ảnh hưởng đến Attrition và Satisfaction\n",
    "\n",
    "- Age (tuổi)\n",
    "- Distance (khoảng đường đi từ nhà đến chỗ làm)\n",
    "- Gender (giới tính)\n",
    "- Income (lương tháng)\n",
    "- Evaluation (đánh giá hiệu quả làm việc)\n",
    "- OverTime (làm quá giờ)\n",
    "- YearsAtCompany(số năm làm việc tại công ty)\n",
    "- Department (nhóm ngành)"
   ]
  },
  {
   "cell_type": "code",
   "execution_count": 12,
   "metadata": {},
   "outputs": [],
   "source": [
    "new_df = df[[\"Attrition\", \"Satisfaction\",\"Age\",\"Distance\",\"Gender\", \"Income\",\\\n",
    "            \"Evaluation\", \"OverTime\", \"YearsAtCompany\", \"Department\" ]]"
   ]
  },
  {
   "cell_type": "code",
   "execution_count": 13,
   "metadata": {},
   "outputs": [
    {
     "data": {
      "text/html": [
       "<div>\n",
       "<style scoped>\n",
       "    .dataframe tbody tr th:only-of-type {\n",
       "        vertical-align: middle;\n",
       "    }\n",
       "\n",
       "    .dataframe tbody tr th {\n",
       "        vertical-align: top;\n",
       "    }\n",
       "\n",
       "    .dataframe thead th {\n",
       "        text-align: right;\n",
       "    }\n",
       "</style>\n",
       "<table border=\"1\" class=\"dataframe\">\n",
       "  <thead>\n",
       "    <tr style=\"text-align: right;\">\n",
       "      <th></th>\n",
       "      <th>Gender</th>\n",
       "      <th>OverTime</th>\n",
       "      <th>Department</th>\n",
       "    </tr>\n",
       "  </thead>\n",
       "  <tbody>\n",
       "    <tr>\n",
       "      <th>count</th>\n",
       "      <td>1470</td>\n",
       "      <td>1470</td>\n",
       "      <td>1470</td>\n",
       "    </tr>\n",
       "    <tr>\n",
       "      <th>unique</th>\n",
       "      <td>2</td>\n",
       "      <td>2</td>\n",
       "      <td>3</td>\n",
       "    </tr>\n",
       "    <tr>\n",
       "      <th>top</th>\n",
       "      <td>Male</td>\n",
       "      <td>No</td>\n",
       "      <td>Research &amp; Development</td>\n",
       "    </tr>\n",
       "    <tr>\n",
       "      <th>freq</th>\n",
       "      <td>882</td>\n",
       "      <td>1054</td>\n",
       "      <td>961</td>\n",
       "    </tr>\n",
       "  </tbody>\n",
       "</table>\n",
       "</div>"
      ],
      "text/plain": [
       "       Gender OverTime              Department\n",
       "count    1470     1470                    1470\n",
       "unique      2        2                       3\n",
       "top      Male       No  Research & Development\n",
       "freq      882     1054                     961"
      ]
     },
     "execution_count": 13,
     "metadata": {},
     "output_type": "execute_result"
    }
   ],
   "source": [
    "# Display the statistical overview of the employees (category values)\n",
    "new_df.describe(include='O')"
   ]
  },
  {
   "cell_type": "markdown",
   "metadata": {},
   "source": [
    "Khoảng hơn 1 nửa nhân viên là **nam**<br>\n",
    "Hầu như nhân viên **không làm OT**<br>\n",
    "Nhóm ngành của nhân viên làm chủ yếu là trong **ngành R&D: nghiên cứu và phát triển**"
   ]
  },
  {
   "cell_type": "code",
   "execution_count": 14,
   "metadata": {
    "scrolled": true
   },
   "outputs": [
    {
     "data": {
      "text/html": [
       "<div>\n",
       "<style scoped>\n",
       "    .dataframe tbody tr th:only-of-type {\n",
       "        vertical-align: middle;\n",
       "    }\n",
       "\n",
       "    .dataframe tbody tr th {\n",
       "        vertical-align: top;\n",
       "    }\n",
       "\n",
       "    .dataframe thead th {\n",
       "        text-align: right;\n",
       "    }\n",
       "</style>\n",
       "<table border=\"1\" class=\"dataframe\">\n",
       "  <thead>\n",
       "    <tr style=\"text-align: right;\">\n",
       "      <th></th>\n",
       "      <th>Attrition</th>\n",
       "      <th>Satisfaction</th>\n",
       "      <th>Age</th>\n",
       "      <th>Distance</th>\n",
       "      <th>Income</th>\n",
       "      <th>Evaluation</th>\n",
       "      <th>YearsAtCompany</th>\n",
       "    </tr>\n",
       "  </thead>\n",
       "  <tbody>\n",
       "    <tr>\n",
       "      <th>count</th>\n",
       "      <td>1470.000000</td>\n",
       "      <td>1470.000000</td>\n",
       "      <td>1470.000000</td>\n",
       "      <td>1470.000000</td>\n",
       "      <td>1470.000000</td>\n",
       "      <td>1470.000000</td>\n",
       "      <td>1470.000000</td>\n",
       "    </tr>\n",
       "    <tr>\n",
       "      <th>mean</th>\n",
       "      <td>0.161224</td>\n",
       "      <td>2.728571</td>\n",
       "      <td>36.923810</td>\n",
       "      <td>9.192517</td>\n",
       "      <td>6502.931293</td>\n",
       "      <td>3.153741</td>\n",
       "      <td>7.008163</td>\n",
       "    </tr>\n",
       "    <tr>\n",
       "      <th>std</th>\n",
       "      <td>0.367863</td>\n",
       "      <td>1.102846</td>\n",
       "      <td>9.135373</td>\n",
       "      <td>8.106864</td>\n",
       "      <td>4707.956783</td>\n",
       "      <td>0.360824</td>\n",
       "      <td>6.126525</td>\n",
       "    </tr>\n",
       "    <tr>\n",
       "      <th>min</th>\n",
       "      <td>0.000000</td>\n",
       "      <td>1.000000</td>\n",
       "      <td>18.000000</td>\n",
       "      <td>1.000000</td>\n",
       "      <td>1009.000000</td>\n",
       "      <td>3.000000</td>\n",
       "      <td>0.000000</td>\n",
       "    </tr>\n",
       "    <tr>\n",
       "      <th>25%</th>\n",
       "      <td>0.000000</td>\n",
       "      <td>2.000000</td>\n",
       "      <td>30.000000</td>\n",
       "      <td>2.000000</td>\n",
       "      <td>2911.000000</td>\n",
       "      <td>3.000000</td>\n",
       "      <td>3.000000</td>\n",
       "    </tr>\n",
       "    <tr>\n",
       "      <th>50%</th>\n",
       "      <td>0.000000</td>\n",
       "      <td>3.000000</td>\n",
       "      <td>36.000000</td>\n",
       "      <td>7.000000</td>\n",
       "      <td>4919.000000</td>\n",
       "      <td>3.000000</td>\n",
       "      <td>5.000000</td>\n",
       "    </tr>\n",
       "    <tr>\n",
       "      <th>75%</th>\n",
       "      <td>0.000000</td>\n",
       "      <td>4.000000</td>\n",
       "      <td>43.000000</td>\n",
       "      <td>14.000000</td>\n",
       "      <td>8379.000000</td>\n",
       "      <td>3.000000</td>\n",
       "      <td>9.000000</td>\n",
       "    </tr>\n",
       "    <tr>\n",
       "      <th>max</th>\n",
       "      <td>1.000000</td>\n",
       "      <td>4.000000</td>\n",
       "      <td>60.000000</td>\n",
       "      <td>29.000000</td>\n",
       "      <td>19999.000000</td>\n",
       "      <td>4.000000</td>\n",
       "      <td>40.000000</td>\n",
       "    </tr>\n",
       "  </tbody>\n",
       "</table>\n",
       "</div>"
      ],
      "text/plain": [
       "         Attrition  Satisfaction          Age     Distance        Income  \\\n",
       "count  1470.000000   1470.000000  1470.000000  1470.000000   1470.000000   \n",
       "mean      0.161224      2.728571    36.923810     9.192517   6502.931293   \n",
       "std       0.367863      1.102846     9.135373     8.106864   4707.956783   \n",
       "min       0.000000      1.000000    18.000000     1.000000   1009.000000   \n",
       "25%       0.000000      2.000000    30.000000     2.000000   2911.000000   \n",
       "50%       0.000000      3.000000    36.000000     7.000000   4919.000000   \n",
       "75%       0.000000      4.000000    43.000000    14.000000   8379.000000   \n",
       "max       1.000000      4.000000    60.000000    29.000000  19999.000000   \n",
       "\n",
       "        Evaluation  YearsAtCompany  \n",
       "count  1470.000000     1470.000000  \n",
       "mean      3.153741        7.008163  \n",
       "std       0.360824        6.126525  \n",
       "min       3.000000        0.000000  \n",
       "25%       3.000000        3.000000  \n",
       "50%       3.000000        5.000000  \n",
       "75%       3.000000        9.000000  \n",
       "max       4.000000       40.000000  "
      ]
     },
     "execution_count": 14,
     "metadata": {},
     "output_type": "execute_result"
    }
   ],
   "source": [
    "# Display the statistical overview of the employees (numerical values)\n",
    "new_df.describe()"
   ]
  },
  {
   "cell_type": "markdown",
   "metadata": {},
   "source": [
    "Độ thỏa mãn trung bình của nhân viên là **2.73** (chấm theo thang từ 1 đến 4, trong đó 1 là low và 4 là very high)<br>\n",
    "Đánh giá dữ liệu không có gì bất thường (qua mean, min, max, 50%)."
   ]
  },
  {
   "cell_type": "code",
   "execution_count": 15,
   "metadata": {},
   "outputs": [
    {
     "data": {
      "text/html": [
       "<div>\n",
       "<style scoped>\n",
       "    .dataframe tbody tr th:only-of-type {\n",
       "        vertical-align: middle;\n",
       "    }\n",
       "\n",
       "    .dataframe tbody tr th {\n",
       "        vertical-align: top;\n",
       "    }\n",
       "\n",
       "    .dataframe thead th {\n",
       "        text-align: right;\n",
       "    }\n",
       "</style>\n",
       "<table border=\"1\" class=\"dataframe\">\n",
       "  <thead>\n",
       "    <tr style=\"text-align: right;\">\n",
       "      <th></th>\n",
       "      <th>Satisfaction</th>\n",
       "      <th>Age</th>\n",
       "      <th>Distance</th>\n",
       "      <th>Income</th>\n",
       "      <th>Evaluation</th>\n",
       "      <th>YearsAtCompany</th>\n",
       "    </tr>\n",
       "    <tr>\n",
       "      <th>Attrition</th>\n",
       "      <th></th>\n",
       "      <th></th>\n",
       "      <th></th>\n",
       "      <th></th>\n",
       "      <th></th>\n",
       "      <th></th>\n",
       "    </tr>\n",
       "  </thead>\n",
       "  <tbody>\n",
       "    <tr>\n",
       "      <th>0</th>\n",
       "      <td>2.778589</td>\n",
       "      <td>37.561233</td>\n",
       "      <td>8.915653</td>\n",
       "      <td>6832.739659</td>\n",
       "      <td>3.153285</td>\n",
       "      <td>7.369019</td>\n",
       "    </tr>\n",
       "    <tr>\n",
       "      <th>1</th>\n",
       "      <td>2.468354</td>\n",
       "      <td>33.607595</td>\n",
       "      <td>10.632911</td>\n",
       "      <td>4787.092827</td>\n",
       "      <td>3.156118</td>\n",
       "      <td>5.130802</td>\n",
       "    </tr>\n",
       "  </tbody>\n",
       "</table>\n",
       "</div>"
      ],
      "text/plain": [
       "           Satisfaction        Age   Distance       Income  Evaluation  \\\n",
       "Attrition                                                                \n",
       "0              2.778589  37.561233   8.915653  6832.739659    3.153285   \n",
       "1              2.468354  33.607595  10.632911  4787.092827    3.156118   \n",
       "\n",
       "           YearsAtCompany  \n",
       "Attrition                  \n",
       "0                7.369019  \n",
       "1                5.130802  "
      ]
     },
     "execution_count": 15,
     "metadata": {},
     "output_type": "execute_result"
    }
   ],
   "source": [
    "# Overview of summary (Attrition V.S. Non-attrition)\n",
    "attrition_Summary = new_df.groupby('Attrition')\n",
    "attrition_Summary.mean()"
   ]
  },
  {
   "cell_type": "markdown",
   "metadata": {},
   "source": [
    "Sau khi đánh giá sơ bộ về những người mang độ hụt giảm (attrition = Yes) và những người không có (attrition = No). Nhìn vào số liệu:\n",
    "- Độ thỏa mãn về công việc của người ở lại cao hơn người ra đi.\n",
    "- Độ tuổi càng cao thì nhân viên ít muốn nghỉ việc hơn.\n",
    "- Quãng đường từ nhà đến chỗ làm càng xa, thì nhân viên dễ ra đi hơn.\n",
    "- Những người ra đi, nhận mức lương (tháng) thấp hơn.\n",
    "- Mức đánh giá của người ra đi và người ở lại tương đương nhau -> có thể drop cột này đi.\n",
    "- Nhân viên làm lâu năm ở công ty thì họ muốn tiếp tục gắn bó hơn là ra đi."
   ]
  },
  {
   "cell_type": "markdown",
   "metadata": {},
   "source": [
    "## 2b. Correlation Matrix & Heatmap"
   ]
  },
  {
   "cell_type": "markdown",
   "metadata": {},
   "source": [
    "Các cột như Attrition, Satisfaction, Department, Gender, OverTime, Evaluation là loại dữ liệu category nên không thể dùng ma trận tương quan.<br>\n",
    "Ta dùng những cột còn lại là loại dữ liệu liên tục để phân tích tính tương quan giữa các features khác nhau."
   ]
  },
  {
   "cell_type": "code",
   "execution_count": 16,
   "metadata": {},
   "outputs": [
    {
     "data": {
      "text/html": [
       "<div>\n",
       "<style scoped>\n",
       "    .dataframe tbody tr th:only-of-type {\n",
       "        vertical-align: middle;\n",
       "    }\n",
       "\n",
       "    .dataframe tbody tr th {\n",
       "        vertical-align: top;\n",
       "    }\n",
       "\n",
       "    .dataframe thead th {\n",
       "        text-align: right;\n",
       "    }\n",
       "</style>\n",
       "<table border=\"1\" class=\"dataframe\">\n",
       "  <thead>\n",
       "    <tr style=\"text-align: right;\">\n",
       "      <th></th>\n",
       "      <th>Age</th>\n",
       "      <th>Distance</th>\n",
       "      <th>Income</th>\n",
       "      <th>YearsAtCompany</th>\n",
       "    </tr>\n",
       "  </thead>\n",
       "  <tbody>\n",
       "    <tr>\n",
       "      <th>Age</th>\n",
       "      <td>1.000000</td>\n",
       "      <td>-0.001686</td>\n",
       "      <td>0.497855</td>\n",
       "      <td>0.311309</td>\n",
       "    </tr>\n",
       "    <tr>\n",
       "      <th>Distance</th>\n",
       "      <td>-0.001686</td>\n",
       "      <td>1.000000</td>\n",
       "      <td>-0.017014</td>\n",
       "      <td>0.009508</td>\n",
       "    </tr>\n",
       "    <tr>\n",
       "      <th>Income</th>\n",
       "      <td>0.497855</td>\n",
       "      <td>-0.017014</td>\n",
       "      <td>1.000000</td>\n",
       "      <td>0.514285</td>\n",
       "    </tr>\n",
       "    <tr>\n",
       "      <th>YearsAtCompany</th>\n",
       "      <td>0.311309</td>\n",
       "      <td>0.009508</td>\n",
       "      <td>0.514285</td>\n",
       "      <td>1.000000</td>\n",
       "    </tr>\n",
       "  </tbody>\n",
       "</table>\n",
       "</div>"
      ],
      "text/plain": [
       "                     Age  Distance    Income  YearsAtCompany\n",
       "Age             1.000000 -0.001686  0.497855        0.311309\n",
       "Distance       -0.001686  1.000000 -0.017014        0.009508\n",
       "Income          0.497855 -0.017014  1.000000        0.514285\n",
       "YearsAtCompany  0.311309  0.009508  0.514285        1.000000"
      ]
     },
     "execution_count": 16,
     "metadata": {},
     "output_type": "execute_result"
    },
    {
     "data": {
      "image/png": "[encoded data removed]",
      "text/plain": [
       "<Figure size 432x288 with 2 Axes>"
      ]
     },
     "metadata": {
      "needs_background": "light"
     },
     "output_type": "display_data"
    }
   ],
   "source": [
    "#Correlation Matrix\n",
    "new_df1 = new_df[['Age', 'Distance', 'Income', 'YearsAtCompany']]\n",
    "corr = new_df1.corr()\n",
    "corr = (corr)\n",
    "sns.heatmap(corr, \n",
    "            xticklabels=corr.columns.values,\n",
    "            yticklabels=corr.columns.values,\n",
    "           annot=True, fmt=\".2f\")\n",
    "\n",
    "corr"
   ]
  },
  {
   "cell_type": "markdown",
   "metadata": {},
   "source": [
    "Những mối tương quan đồng biến:\n",
    "- Income vs Age: **0.5**\n",
    "- Income vs YearsAtCompany: **0.51**\n",
    "- Age vs YearsAtCompany: **0.31**\n",
    "\n",
    "Các features này có mối tương quan đồng biến trung bình.<br>\n",
    "Vì có những mối tương quan đồng biến trên nên ta kết luận được:\n",
    "- Nhân viên lớn tuổi thì lương cao hơn.\n",
    "- Thâm niên cao thì lương cao hơn.\n",
    "- Nhân viên lớn tuổi gắn bó với công ty hơn."
   ]
  },
  {
   "cell_type": "markdown",
   "metadata": {},
   "source": [
    "## 2c. Statistical Test for Correlation\n",
    "\n",
    "Pop1: những người ra đi<br>\n",
    "Pop2: những người ở lại\n",
    "\n",
    "Đây là 2 samples độc lập nên ta dùng **Independent Samples T-Test**\n",
    "\n",
    "**Hypothesis Testing 01:** Liệu có sự khác biệt về mức độ thỏa mãn(satisfaction) giữa những nhân viên ra đi (attrition = yes) và những nhân viên ở lại (attrition = no)?<br>\n",
    "- **Null Hypothesis (H0)**: Mức độ thỏa mãn giữa những người ra đi và những người ở lại là bằng nhau\n",
    "- **Alternate Hypothesis (H1):** Có sự khác biệt về mức độ thỏa mãn giữa những người ra đi và những người ở lại"
   ]
  },
  {
   "cell_type": "markdown",
   "metadata": {},
   "source": [
    "Chọn alpha =0.05 (với mức tin cậy 95%)"
   ]
  },
  {
   "cell_type": "code",
   "execution_count": 66,
   "metadata": {},
   "outputs": [
    {
     "data": {
      "text/plain": [
       "Ttest_indResult(statistic=-3.9862267630568273, pvalue=7.043066741731151e-05)"
      ]
     },
     "execution_count": 66,
     "metadata": {},
     "output_type": "execute_result"
    }
   ],
   "source": [
    "import scipy.stats as stats\n",
    "result = stats.ttest_ind(df[df[\"Attrition\"]==1]['Satisfaction'],\n",
    "                               df[df[\"Attrition\"]==0]['Satisfaction'])\n",
    "result"
   ]
  },
  {
   "cell_type": "code",
   "execution_count": 67,
   "metadata": {},
   "outputs": [],
   "source": [
    "alpha = 0.05\n",
    "def compare_pvalue(n):\n",
    "    \"\"\"So sánh t của result và t critical rồi đưa ra kết luận\"\"\"\n",
    "    if n.pvalue < alpha:\n",
    "        print(\"Reject H0\")\n",
    "    else:\n",
    "        print(\"Không có cơ sở để bác bỏ H0. Chấp nhận H0 với mức ý nghĩa\", n.pvalue)"
   ]
  },
  {
   "cell_type": "code",
   "execution_count": 68,
   "metadata": {},
   "outputs": [
    {
     "name": "stdout",
     "output_type": "stream",
     "text": [
      "Reject H0\n"
     ]
    }
   ],
   "source": [
    "compare_pvalue(result) #check"
   ]
  },
  {
   "cell_type": "markdown",
   "metadata": {},
   "source": [
    "**Kết luận:** Có sự khác biệt trong sự thỏa mãn công việc giữa người ra đi và người ở lại. Cụ thể: người ra đi thì có mức độ thỏa mãn thấp hơn những người ở lại (t statistic < 0), với mức tin cậy >95%"
   ]
  },
  {
   "cell_type": "markdown",
   "metadata": {},
   "source": [
    "**Hypothesis Testing 02:** Liệu có sự khác biệt về quãng đường đi làm (distance) giữa những nhân viên ra đi (attrition = yes) và những nhân viên ở lại (attrition = no)?<br>\n",
    "- **Null Hypothesis (H0)**: Quãng đường đi làm giữa những người ra đi và những người ở lại là bằng nhau.\n",
    "- **Alternate Hypothesis (H1):** Có sự khác biệt về quãng đường đi làm giữa những người ra đi và những người ở lại"
   ]
  },
  {
   "cell_type": "code",
   "execution_count": 69,
   "metadata": {},
   "outputs": [
    {
     "data": {
      "text/plain": [
       "Ttest_indResult(statistic=2.994708098265125, pvalue=0.0027930600802134266)"
      ]
     },
     "execution_count": 69,
     "metadata": {},
     "output_type": "execute_result"
    }
   ],
   "source": [
    "result = stats.ttest_ind(df[df[\"Attrition\"]==1]['Distance'],\n",
    "                               df[df[\"Attrition\"]==0]['Distance'])\n",
    "result"
   ]
  },
  {
   "cell_type": "code",
   "execution_count": 70,
   "metadata": {},
   "outputs": [
    {
     "name": "stdout",
     "output_type": "stream",
     "text": [
      "Reject H0\n"
     ]
    }
   ],
   "source": [
    "compare_pvalue(result) #check"
   ]
  },
  {
   "cell_type": "markdown",
   "metadata": {},
   "source": [
    "**Kết luận:** Có sự khác biệt về khoảng cách từ nhà đến nơi làm giữa những người ra đi và những người ở lại. Cụ thể khoảng cách từ nhà đến nơi làm của người muốn ra đi thì xa hơn (t statistic >0), với độ tin cậy >95%"
   ]
  },
  {
   "cell_type": "markdown",
   "metadata": {},
   "source": [
    "**Hypothesis Testing 03**: Liệu có sự khác biệt về tiền lương (Income) giữa những nhân viên ra đi (attrition = yes) và những nhân viên ở lại (attrition = no):\n",
    "\n",
    "- Null Hypothesis (H0): Tiền lương giữa những người ra đi và những người ở lại là bằng nhau.\n",
    "- Alternate Hypothesis (H1): Có sự khác biệt về tiền lương giữa những người ra đi và những người ở lại"
   ]
  },
  {
   "cell_type": "code",
   "execution_count": 71,
   "metadata": {},
   "outputs": [
    {
     "data": {
      "text/plain": [
       "Ttest_indResult(statistic=-6.203935765608938, pvalue=7.14736398535381e-10)"
      ]
     },
     "execution_count": 71,
     "metadata": {},
     "output_type": "execute_result"
    }
   ],
   "source": [
    "result = stats.ttest_ind(df[df[\"Attrition\"]==1]['Income'],\n",
    "                               df[df[\"Attrition\"]==0]['Income'])\n",
    "result"
   ]
  },
  {
   "cell_type": "code",
   "execution_count": 72,
   "metadata": {},
   "outputs": [
    {
     "name": "stdout",
     "output_type": "stream",
     "text": [
      "Reject H0\n"
     ]
    }
   ],
   "source": [
    "compare_pvalue(result) #check"
   ]
  },
  {
   "cell_type": "markdown",
   "metadata": {},
   "source": [
    "**Kết luận**: Có sự khác biệt về tiền lương giữa những người ra đi và những người ở lại. Cụ thể tiền lương của người ra đi thì thấp hơn (t statistic <0), với độ tin cậy >95%"
   ]
  },
  {
   "cell_type": "markdown",
   "metadata": {},
   "source": [
    "**Hypothesis Testing 04**: Liệu có sự khác biệt về độ tuổi (Age) giữa những nhân viên ra đi (attrition = yes) và những nhân viên ở lại (attrition = no):\n",
    "\n",
    "- Null Hypothesis (H0): Tuổi giữa những người ra đi và những người ở lại là bằng nhau.\n",
    "- Alternate Hypothesis (H1): Có sự khác biệt về tuổi giữa những người ra đi và những người ở lại"
   ]
  },
  {
   "cell_type": "code",
   "execution_count": 73,
   "metadata": {},
   "outputs": [
    {
     "data": {
      "text/plain": [
       "Ttest_indResult(statistic=-6.1786638353072165, pvalue=8.356308021103649e-10)"
      ]
     },
     "execution_count": 73,
     "metadata": {},
     "output_type": "execute_result"
    }
   ],
   "source": [
    "result = stats.ttest_ind(df[df[\"Attrition\"]==1]['Age'],\n",
    "                               df[df[\"Attrition\"]==0]['Age'])\n",
    "result"
   ]
  },
  {
   "cell_type": "code",
   "execution_count": 74,
   "metadata": {},
   "outputs": [
    {
     "name": "stdout",
     "output_type": "stream",
     "text": [
      "Reject H0\n"
     ]
    }
   ],
   "source": [
    "compare_pvalue(result) #check"
   ]
  },
  {
   "cell_type": "markdown",
   "metadata": {},
   "source": [
    "**Kết luận**: Có sự khác biệt về tuổi giữa những người ra đi và những người ở lại. Cụ thể tuổi của người ra đi thì trẻ hơn người ở lại (t statistic <0), với độ tin cậy >95%"
   ]
  },
  {
   "cell_type": "markdown",
   "metadata": {},
   "source": [
    "**Hypothesis Testing 05**: Liệu có sự khác biệt về thâm niên (YearsAtCompany) giữa những nhân viên ra đi (attrition = yes) và những nhân viên ở lại (attrition = no):\n",
    "\n",
    "- Null Hypothesis (H0): Thâm niên giữa những người ra đi và những người ở lại là bằng nhau.\n",
    "- Alternate Hypothesis (H1): Có sự khác biệt về thâm niên giữa những người ra đi và những người ở lại"
   ]
  },
  {
   "cell_type": "code",
   "execution_count": 75,
   "metadata": {},
   "outputs": [
    {
     "data": {
      "text/plain": [
       "Ttest_indResult(statistic=-5.1963086670254235, pvalue=2.3188716103863033e-07)"
      ]
     },
     "execution_count": 75,
     "metadata": {},
     "output_type": "execute_result"
    }
   ],
   "source": [
    "result = stats.ttest_ind(df[df[\"Attrition\"]==1]['YearsAtCompany'],\n",
    "                               df[df[\"Attrition\"]==0]['YearsAtCompany'])\n",
    "result"
   ]
  },
  {
   "cell_type": "code",
   "execution_count": 76,
   "metadata": {},
   "outputs": [
    {
     "name": "stdout",
     "output_type": "stream",
     "text": [
      "Reject H0\n"
     ]
    }
   ],
   "source": [
    "compare_pvalue(result) #check"
   ]
  },
  {
   "cell_type": "markdown",
   "metadata": {},
   "source": [
    "**Kết luận**: Có sự khác biệt về thâm niên giữa những người ra đi và những người ở lại. Cụ thể thâm niên của người ra đi thì thấp hơn người ở lại (t statistic <0), với độ tin cậy >95%"
   ]
  },
  {
   "cell_type": "markdown",
   "metadata": {},
   "source": [
    "**Hypothesis Testing 06**: Liệu có sự khác biệt về đánh giá năng lực (Evaluation) giữa những nhân viên ra đi (attrition = yes) và những nhân viên ở lại (attrition = no):\n",
    "\n",
    "- Null Hypothesis (H0): Đánh giá năng lực giữa những người ra đi và những người ở lại là bằng nhau. \n",
    "- Alternate Hypothesis (H1): Có sự khác biệt về đánh giá năng lực giữa những người ra đi và những người ở lại"
   ]
  },
  {
   "cell_type": "code",
   "execution_count": 77,
   "metadata": {},
   "outputs": [
    {
     "data": {
      "text/plain": [
       "Ttest_indResult(statistic=0.11068150493295091, pvalue=0.9118840421069003)"
      ]
     },
     "execution_count": 77,
     "metadata": {},
     "output_type": "execute_result"
    }
   ],
   "source": [
    "result = stats.ttest_ind(df[df[\"Attrition\"]==1]['Evaluation'],\n",
    "                               df[df[\"Attrition\"]==0]['Evaluation'])\n",
    "result"
   ]
  },
  {
   "cell_type": "code",
   "execution_count": 78,
   "metadata": {},
   "outputs": [
    {
     "name": "stdout",
     "output_type": "stream",
     "text": [
      "Không có cơ sở để bác bỏ H0. Chấp nhận H0 với mức ý nghĩa 0.9118840421069003\n"
     ]
    }
   ],
   "source": [
    "compare_pvalue(result) #check"
   ]
  },
  {
   "cell_type": "markdown",
   "metadata": {},
   "source": [
    "**Kết luận**: đánh giá về năng lực của người ra đi và ở lại là bằng nhau với mức ý nghĩa **91.2%**<br>\n",
    "-> vậy đây không phải là yếu tố đóng vai trò trong attrition rate."
   ]
  },
  {
   "cell_type": "markdown",
   "metadata": {},
   "source": [
    "## 2d. Distribution Plots (Satisfaction - Distance - Income)"
   ]
  },
  {
   "cell_type": "code",
   "execution_count": 79,
   "metadata": {
    "scrolled": true
   },
   "outputs": [
    {
     "data": {
      "text/plain": [
       "<matplotlib.axes._subplots.AxesSubplot at 0xc6fc358>"
      ]
     },
     "execution_count": 79,
     "metadata": {},
     "output_type": "execute_result"
    },
    {
     "data": {
      "image/png": "[encoded data removed]",
      "text/plain": [
       "<Figure size 432x288 with 1 Axes>"
      ]
     },
     "metadata": {
      "needs_background": "light"
     },
     "output_type": "display_data"
    }
   ],
   "source": [
    "plt.title('Phân phối giữa Attrition với Income')\n",
    "sns.distplot(df[df[\"Attrition\"]==1]['Income'], color=\"g\", kde=False);\n",
    "sns.distplot(df[df[\"Attrition\"]==0]['Income'], kde=False)"
   ]
  },
  {
   "cell_type": "markdown",
   "metadata": {},
   "source": [
    "Hầu hết những người ra đi, có mức thu nhập ở mức **2500** tức là thấp hơn mức thu nhập trung vị median **4919**. Điều này khá dễ hiểu, trả lương thấp thì người lao động muốn chuyển sang chỗ khác làm.<br>\n",
    "Nhưng vẫn có những người được trả lương cao, ở top đầu gần **20.000** vẫn muốn nghỉ. Vậy lý do ở đây là gì? Có thể vì áp lực công việc hoặc những người này nghĩ rằng họ có thể phát triển tiếp ở những nơi tốt hơn chăng?"
   ]
  },
  {
   "cell_type": "code",
   "execution_count": 1,
   "metadata": {},
   "outputs": [
    {
     "ename": "NameError",
     "evalue": "name 'plt' is not defined",
     "output_type": "error",
     "traceback": [
      "\u001b[1;31m---------------------------------------------------------------------------\u001b[0m",
      "\u001b[1;31mNameError\u001b[0m                                 Traceback (most recent call last)",
      "\u001b[1;32m<ipython-input-1-01114403f357>\u001b[0m in \u001b[0;36m<module>\u001b[1;34m\u001b[0m\n\u001b[1;32m----> 1\u001b[1;33m \u001b[0mplt\u001b[0m\u001b[1;33m.\u001b[0m\u001b[0mtitle\u001b[0m\u001b[1;33m(\u001b[0m\u001b[1;34m'Phân phối giữa Attrition với Distance'\u001b[0m\u001b[1;33m)\u001b[0m\u001b[1;33m\u001b[0m\u001b[1;33m\u001b[0m\u001b[0m\n\u001b[0m\u001b[0;32m      2\u001b[0m \u001b[0msns\u001b[0m\u001b[1;33m.\u001b[0m\u001b[0mdistplot\u001b[0m\u001b[1;33m(\u001b[0m\u001b[0mdf\u001b[0m\u001b[1;33m[\u001b[0m\u001b[0mdf\u001b[0m\u001b[1;33m[\u001b[0m\u001b[1;34m\"Attrition\"\u001b[0m\u001b[1;33m]\u001b[0m\u001b[1;33m==\u001b[0m\u001b[1;36m1\u001b[0m\u001b[1;33m]\u001b[0m\u001b[1;33m[\u001b[0m\u001b[1;34m'Distance'\u001b[0m\u001b[1;33m]\u001b[0m\u001b[1;33m,\u001b[0m \u001b[0mcolor\u001b[0m\u001b[1;33m=\u001b[0m\u001b[1;34m\"g\"\u001b[0m\u001b[1;33m,\u001b[0m \u001b[0mkde\u001b[0m\u001b[1;33m=\u001b[0m\u001b[1;32mFalse\u001b[0m\u001b[1;33m)\u001b[0m\u001b[1;33m;\u001b[0m\u001b[1;33m\u001b[0m\u001b[1;33m\u001b[0m\u001b[0m\n\u001b[0;32m      3\u001b[0m \u001b[0msns\u001b[0m\u001b[1;33m.\u001b[0m\u001b[0mdistplot\u001b[0m\u001b[1;33m(\u001b[0m\u001b[0mdf\u001b[0m\u001b[1;33m[\u001b[0m\u001b[0mdf\u001b[0m\u001b[1;33m[\u001b[0m\u001b[1;34m\"Attrition\"\u001b[0m\u001b[1;33m]\u001b[0m\u001b[1;33m==\u001b[0m\u001b[1;36m0\u001b[0m\u001b[1;33m]\u001b[0m\u001b[1;33m[\u001b[0m\u001b[1;34m'Distance'\u001b[0m\u001b[1;33m]\u001b[0m\u001b[1;33m,\u001b[0m \u001b[0mkde\u001b[0m\u001b[1;33m=\u001b[0m\u001b[1;32mFalse\u001b[0m\u001b[1;33m)\u001b[0m\u001b[1;33m\u001b[0m\u001b[1;33m\u001b[0m\u001b[0m\n",
      "\u001b[1;31mNameError\u001b[0m: name 'plt' is not defined"
     ]
    }
   ],
   "source": [
    "plt.title('Phân phối giữa Attrition với Distance')\n",
    "sns.distplot(df[df[\"Attrition\"]==1]['Distance'], color=\"g\", kde=False);\n",
    "sns.distplot(df[df[\"Attrition\"]==0]['Distance'], kde=False)"
   ]
  },
  {
   "cell_type": "markdown",
   "metadata": {},
   "source": [
    "Theo đồ thị thì ta thấy những người đi làm càng xa thì khả năng họ xin nghỉ càng cao. Cá biệt ở Distance từ **10-15 và 20-25** thì nhân viên nghỉ còn cao hơn cả nhân viên ở lại."
   ]
  },
  {
   "cell_type": "code",
   "execution_count": 81,
   "metadata": {},
   "outputs": [
    {
     "data": {
      "text/plain": [
       "<matplotlib.axes._subplots.AxesSubplot at 0xc528cf8>"
      ]
     },
     "execution_count": 81,
     "metadata": {},
     "output_type": "execute_result"
    },
    {
     "data": {
      "image/png": "[encoded data removed]",
      "text/plain": [
       "<Figure size 432x288 with 1 Axes>"
      ]
     },
     "metadata": {
      "needs_background": "light"
     },
     "output_type": "display_data"
    }
   ],
   "source": [
    "plt.title('Phân phối giữa Attrition với YearsAtCompany')\n",
    "sns.distplot(df[df[\"Attrition\"]==1]['YearsAtCompany'], color=\"r\", kde=False);\n",
    "sns.distplot(df[df[\"Attrition\"]==0]['YearsAtCompany'], kde=False)"
   ]
  },
  {
   "cell_type": "markdown",
   "metadata": {},
   "source": [
    "Theo đồ thị thì những người mới vào làm, với thâm niên từ 10 năm đổ lại thì tỷ lệ nghỉ là cao nhất."
   ]
  },
  {
   "cell_type": "markdown",
   "metadata": {},
   "source": [
    "## 2e. Department V.S. Attrition"
   ]
  },
  {
   "cell_type": "code",
   "execution_count": 82,
   "metadata": {},
   "outputs": [
    {
     "data": {
      "text/plain": [
       "(array([0, 1, 2]), <a list of 3 Text xticklabel objects>)"
      ]
     },
     "execution_count": 82,
     "metadata": {},
     "output_type": "execute_result"
    },
    {
     "data": {
      "image/png": "[encoded data removed]",
      "text/plain": [
       "<Figure size 432x288 with 1 Axes>"
      ]
     },
     "metadata": {
      "needs_background": "light"
     },
     "output_type": "display_data"
    }
   ],
   "source": [
    "sns.countplot(x='Department', data=new_df).set_title('Phân phối nghề nghiệp của nhân viên');\n",
    " \n",
    "# Rotate x-labels\n",
    "plt.xticks(rotation=-45)"
   ]
  },
  {
   "cell_type": "markdown",
   "metadata": {},
   "source": [
    "Chủ yếu họ làm trong mảng R&D: nghiên cứu và phát triển"
   ]
  },
  {
   "cell_type": "code",
   "execution_count": 83,
   "metadata": {},
   "outputs": [
    {
     "data": {
      "text/plain": [
       "20.63"
      ]
     },
     "execution_count": 83,
     "metadata": {},
     "output_type": "execute_result"
    }
   ],
   "source": [
    "nghilam_sale= len(new_df[(new_df['Attrition']== 1) & (new_df['Department'] == \"Sales\")])\n",
    "nhanvien_sale = len(new_df[new_df['Department'] == \"Sales\"])\n",
    "ratio = (nghilam_sale/nhanvien_sale)*100\n",
    "round(ratio, 2)"
   ]
  },
  {
   "cell_type": "code",
   "execution_count": 84,
   "metadata": {},
   "outputs": [
    {
     "data": {
      "text/plain": [
       "13.84"
      ]
     },
     "execution_count": 84,
     "metadata": {},
     "output_type": "execute_result"
    }
   ],
   "source": [
    "nghilam_rd= len(new_df[(new_df['Attrition']== 1) & (new_df['Department'] == \"Research & Development\")])\n",
    "nhanvien_rd = len(new_df[new_df['Department'] == \"Research & Development\"])\n",
    "ratio = (nghilam_rd/nhanvien_rd)*100\n",
    "round(ratio, 2)"
   ]
  },
  {
   "cell_type": "code",
   "execution_count": 85,
   "metadata": {},
   "outputs": [
    {
     "data": {
      "text/plain": [
       "19.05"
      ]
     },
     "execution_count": 85,
     "metadata": {},
     "output_type": "execute_result"
    }
   ],
   "source": [
    "nghilam_hr= len(new_df[(new_df['Attrition']== 1) & (new_df['Department'] == \"Human Resources\")])\n",
    "nhanvien_hr = len(new_df[new_df['Department'] == \"Human Resources\"])\n",
    "ratio = (nghilam_hr/nhanvien_hr)*100\n",
    "round(ratio, 2)"
   ]
  },
  {
   "cell_type": "markdown",
   "metadata": {},
   "source": [
    "Theo số liệu tỷ lệ người làm trong ngành sale nghỉ nhiều nhất, lên đến **20.63% trong cùng ngành đó** (thứ nhì là mảng HR chiếm tương đương sale, lên đến **19.05%**"
   ]
  },
  {
   "cell_type": "markdown",
   "metadata": {},
   "source": [
    "## 2f. Overtime V.S. Attrition"
   ]
  },
  {
   "cell_type": "code",
   "execution_count": 86,
   "metadata": {},
   "outputs": [
    {
     "data": {
      "image/png": "[encoded data removed]",
      "text/plain": [
       "<Figure size 1080x360 with 1 Axes>"
      ]
     },
     "metadata": {
      "needs_background": "light"
     },
     "output_type": "display_data"
    }
   ],
   "source": [
    "f, ax = plt.subplots(figsize=(15, 5))\n",
    "sns.countplot(y=\"OverTime\", hue='Attrition', data=new_df).set_title('Phân phối làm thêm giờ theo Attrition');"
   ]
  },
  {
   "cell_type": "markdown",
   "metadata": {},
   "source": [
    "Nhìn biểu đồ ta thấy số lượng nhân viên **ra đi** có làm ngoài giờ thì nhiều hơn hẳn so với những người ra đi mà không làm ngoài giờ. Chưa kể xét theo tổng thể của số nhân sự làm/không làm ngoài giờ."
   ]
  },
  {
   "cell_type": "code",
   "execution_count": 87,
   "metadata": {},
   "outputs": [
    {
     "data": {
      "text/plain": [
       "30.53"
      ]
     },
     "execution_count": 87,
     "metadata": {},
     "output_type": "execute_result"
    }
   ],
   "source": [
    "nghilam_co_ot = len(new_df[(new_df['Attrition']== 1) & (new_df['OverTime'] == \"Yes\")])\n",
    "nhanvien_ot = len(new_df[new_df['OverTime'] == \"Yes\"]['OverTime'])\n",
    "ratio = (nghilam_co_ot/nhanvien_ot)*100\n",
    "round(ratio, 2)"
   ]
  },
  {
   "cell_type": "code",
   "execution_count": 88,
   "metadata": {},
   "outputs": [
    {
     "data": {
      "text/plain": [
       "10.44"
      ]
     },
     "execution_count": 88,
     "metadata": {},
     "output_type": "execute_result"
    }
   ],
   "source": [
    "nghilam_ko_ot = len(new_df[(new_df[\"Attrition\"]== 1) & (new_df['OverTime']== \"No\")])\n",
    "nhanvien_ko_ot= len(new_df[new_df['OverTime'] == \"No\"])\n",
    "ratio = (nghilam_ko_ot/nhanvien_ko_ot)*100\n",
    "round(ratio,2)"
   ]
  },
  {
   "cell_type": "markdown",
   "metadata": {},
   "source": [
    "Sau khi dùng các thông tin số liệu tính tỷ lệ ra thì ta có: nhân viên ra đi **có làm OT** chiếm đến **30.53%** so với tổng số người làm OT.<br> \n",
    "Còn nhân viên ra đi **không làm OT** chỉ chiếm 10.44% trong tổng số người **không làm OT**"
   ]
  },
  {
   "cell_type": "markdown",
   "metadata": {},
   "source": [
    "## 2f. Gender V.S. Attrition"
   ]
  },
  {
   "cell_type": "code",
   "execution_count": 89,
   "metadata": {},
   "outputs": [
    {
     "data": {
      "image/png": "[encoded data removed]",
      "text/plain": [
       "<Figure size 1080x360 with 1 Axes>"
      ]
     },
     "metadata": {
      "needs_background": "light"
     },
     "output_type": "display_data"
    }
   ],
   "source": [
    "f, ax = plt.subplots(figsize=(15, 5))\n",
    "sns.countplot(y=\"Gender\", hue='Attrition', data=new_df).set_title('Phân phối giới tính theo Attrition');"
   ]
  },
  {
   "cell_type": "code",
   "execution_count": 90,
   "metadata": {},
   "outputs": [
    {
     "data": {
      "text/plain": [
       "17.01"
      ]
     },
     "execution_count": 90,
     "metadata": {},
     "output_type": "execute_result"
    }
   ],
   "source": [
    "nghilam_la_nam = len(new_df[(new_df['Attrition']== 1) & (new_df['Gender']== \"Male\")])\n",
    "nhanvien_nam = len(new_df[new_df['Gender'] == \"Male\"])\n",
    "ratio = (nghilam_la_nam/nhanvien_nam)*100\n",
    "round(ratio, 2)"
   ]
  },
  {
   "cell_type": "code",
   "execution_count": 91,
   "metadata": {},
   "outputs": [
    {
     "data": {
      "text/plain": [
       "14.8"
      ]
     },
     "execution_count": 91,
     "metadata": {},
     "output_type": "execute_result"
    }
   ],
   "source": [
    "nghilam_la_nu = len(new_df[(new_df['Attrition']== 1)& (new_df['Gender'] ==\"Female\")])\n",
    "nhanvien_nu = len(new_df[new_df['Gender']== \"Female\"])\n",
    "ratio = (nghilam_la_nu/nhanvien_nu)*100\n",
    "round(ratio, 2)"
   ]
  },
  {
   "cell_type": "markdown",
   "metadata": {},
   "source": [
    "Về giới tính thì nam nghỉ nhiều hơn nữ. Cứ 100 nam thì có 17 người nghỉ. Trong khi ở giới tính là nữ thì ít hơn."
   ]
  },
  {
   "cell_type": "markdown",
   "metadata": {},
   "source": [
    "## 2g. Statistical Test for Correlation (Satisfaction)"
   ]
  },
  {
   "cell_type": "code",
   "execution_count": 92,
   "metadata": {},
   "outputs": [
    {
     "name": "stderr",
     "output_type": "stream",
     "text": [
      "C:\\Users\\Administrator\\Anaconda3\\lib\\site-packages\\ipykernel_launcher.py:4: SettingWithCopyWarning: \n",
      "A value is trying to be set on a copy of a slice from a DataFrame.\n",
      "Try using .loc[row_indexer,col_indexer] = value instead\n",
      "\n",
      "See the caveats in the documentation: http://pandas.pydata.org/pandas-docs/stable/indexing.html#indexing-view-versus-copy\n",
      "  after removing the cwd from sys.path.\n"
     ]
    },
    {
     "data": {
      "text/html": [
       "<div>\n",
       "<style scoped>\n",
       "    .dataframe tbody tr th:only-of-type {\n",
       "        vertical-align: middle;\n",
       "    }\n",
       "\n",
       "    .dataframe tbody tr th {\n",
       "        vertical-align: top;\n",
       "    }\n",
       "\n",
       "    .dataframe thead th {\n",
       "        text-align: right;\n",
       "    }\n",
       "</style>\n",
       "<table border=\"1\" class=\"dataframe\">\n",
       "  <thead>\n",
       "    <tr style=\"text-align: right;\">\n",
       "      <th></th>\n",
       "      <th>Attrition</th>\n",
       "      <th>Satisfaction</th>\n",
       "      <th>Age</th>\n",
       "      <th>Distance</th>\n",
       "      <th>Gender</th>\n",
       "      <th>Income</th>\n",
       "      <th>Evaluation</th>\n",
       "      <th>OverTime</th>\n",
       "      <th>YearsAtCompany</th>\n",
       "      <th>Department</th>\n",
       "    </tr>\n",
       "  </thead>\n",
       "  <tbody>\n",
       "    <tr>\n",
       "      <th>0</th>\n",
       "      <td>1</td>\n",
       "      <td>Cao</td>\n",
       "      <td>41</td>\n",
       "      <td>1</td>\n",
       "      <td>Female</td>\n",
       "      <td>5993</td>\n",
       "      <td>3</td>\n",
       "      <td>Yes</td>\n",
       "      <td>6</td>\n",
       "      <td>Sales</td>\n",
       "    </tr>\n",
       "    <tr>\n",
       "      <th>1</th>\n",
       "      <td>0</td>\n",
       "      <td>Thấp</td>\n",
       "      <td>49</td>\n",
       "      <td>8</td>\n",
       "      <td>Male</td>\n",
       "      <td>5130</td>\n",
       "      <td>4</td>\n",
       "      <td>No</td>\n",
       "      <td>10</td>\n",
       "      <td>Research &amp; Development</td>\n",
       "    </tr>\n",
       "    <tr>\n",
       "      <th>2</th>\n",
       "      <td>1</td>\n",
       "      <td>Cao</td>\n",
       "      <td>37</td>\n",
       "      <td>2</td>\n",
       "      <td>Male</td>\n",
       "      <td>2090</td>\n",
       "      <td>3</td>\n",
       "      <td>Yes</td>\n",
       "      <td>0</td>\n",
       "      <td>Research &amp; Development</td>\n",
       "    </tr>\n",
       "    <tr>\n",
       "      <th>3</th>\n",
       "      <td>0</td>\n",
       "      <td>Cao</td>\n",
       "      <td>33</td>\n",
       "      <td>3</td>\n",
       "      <td>Female</td>\n",
       "      <td>2909</td>\n",
       "      <td>3</td>\n",
       "      <td>Yes</td>\n",
       "      <td>8</td>\n",
       "      <td>Research &amp; Development</td>\n",
       "    </tr>\n",
       "    <tr>\n",
       "      <th>4</th>\n",
       "      <td>0</td>\n",
       "      <td>Thấp</td>\n",
       "      <td>27</td>\n",
       "      <td>2</td>\n",
       "      <td>Male</td>\n",
       "      <td>3468</td>\n",
       "      <td>3</td>\n",
       "      <td>No</td>\n",
       "      <td>2</td>\n",
       "      <td>Research &amp; Development</td>\n",
       "    </tr>\n",
       "  </tbody>\n",
       "</table>\n",
       "</div>"
      ],
      "text/plain": [
       "   Attrition Satisfaction  Age  Distance  Gender  Income  Evaluation OverTime  \\\n",
       "0          1          Cao   41         1  Female    5993           3      Yes   \n",
       "1          0         Thấp   49         8    Male    5130           4       No   \n",
       "2          1          Cao   37         2    Male    2090           3      Yes   \n",
       "3          0          Cao   33         3  Female    2909           3      Yes   \n",
       "4          0         Thấp   27         2    Male    3468           3       No   \n",
       "\n",
       "   YearsAtCompany              Department  \n",
       "0               6                   Sales  \n",
       "1              10  Research & Development  \n",
       "2               0  Research & Development  \n",
       "3               8  Research & Development  \n",
       "4               2  Research & Development  "
      ]
     },
     "execution_count": 92,
     "metadata": {},
     "output_type": "execute_result"
    }
   ],
   "source": [
    "# Define a dictionary for the target mapping\n",
    "target_map = {1: \"Thấp\", 2:\"Thấp\", 3:\"Cao\", 4: \"Cao\"}\n",
    "# Use the pandas apply method to group into 2 types caregory value\n",
    "new_df[\"Satisfaction\"] = new_df[\"Satisfaction\"].apply(lambda x: target_map[x])\n",
    "new_df.head()"
   ]
  },
  {
   "cell_type": "code",
   "execution_count": 93,
   "metadata": {},
   "outputs": [
    {
     "data": {
      "text/html": [
       "<div>\n",
       "<style scoped>\n",
       "    .dataframe tbody tr th:only-of-type {\n",
       "        vertical-align: middle;\n",
       "    }\n",
       "\n",
       "    .dataframe tbody tr th {\n",
       "        vertical-align: top;\n",
       "    }\n",
       "\n",
       "    .dataframe thead th {\n",
       "        text-align: right;\n",
       "    }\n",
       "</style>\n",
       "<table border=\"1\" class=\"dataframe\">\n",
       "  <thead>\n",
       "    <tr style=\"text-align: right;\">\n",
       "      <th></th>\n",
       "      <th>Attrition</th>\n",
       "      <th>Age</th>\n",
       "      <th>Distance</th>\n",
       "      <th>Income</th>\n",
       "      <th>Evaluation</th>\n",
       "      <th>YearsAtCompany</th>\n",
       "    </tr>\n",
       "    <tr>\n",
       "      <th>Satisfaction</th>\n",
       "      <th></th>\n",
       "      <th></th>\n",
       "      <th></th>\n",
       "      <th></th>\n",
       "      <th></th>\n",
       "      <th></th>\n",
       "    </tr>\n",
       "  </thead>\n",
       "  <tbody>\n",
       "    <tr>\n",
       "      <th>Cao</th>\n",
       "      <td>0.138735</td>\n",
       "      <td>36.906770</td>\n",
       "      <td>9.220866</td>\n",
       "      <td>6476.540511</td>\n",
       "      <td>3.149834</td>\n",
       "      <td>6.983352</td>\n",
       "    </tr>\n",
       "    <tr>\n",
       "      <th>Thấp</th>\n",
       "      <td>0.196837</td>\n",
       "      <td>36.950791</td>\n",
       "      <td>9.147627</td>\n",
       "      <td>6544.720562</td>\n",
       "      <td>3.159930</td>\n",
       "      <td>7.047452</td>\n",
       "    </tr>\n",
       "  </tbody>\n",
       "</table>\n",
       "</div>"
      ],
      "text/plain": [
       "              Attrition        Age  Distance       Income  Evaluation  \\\n",
       "Satisfaction                                                            \n",
       "Cao            0.138735  36.906770  9.220866  6476.540511    3.149834   \n",
       "Thấp           0.196837  36.950791  9.147627  6544.720562    3.159930   \n",
       "\n",
       "              YearsAtCompany  \n",
       "Satisfaction                  \n",
       "Cao                 6.983352  \n",
       "Thấp                7.047452  "
      ]
     },
     "execution_count": 93,
     "metadata": {},
     "output_type": "execute_result"
    }
   ],
   "source": [
    "# Overview of summary (Satisfaction thấp V.S. Satisfaction cao\n",
    "satisfaction_Summary = new_df.groupby('Satisfaction')\n",
    "satisfaction_Summary.mean()"
   ]
  },
  {
   "cell_type": "markdown",
   "metadata": {},
   "source": [
    "Pop1: những người có độ thỏa mãn cao<br>\n",
    "Pop2: những người có độ thỏa mãn thấp<br>\n",
    "Vì đây là 2 mẫu độc lập nên ta dùng **Independent samples t-test**<br>\n",
    "\n",
    "**Hypothesis Testing 07**: Liệu có sự khác biệt về tuổi tác (Age) giữa người có mức độ thỏa mãn cao và người có mức độ thỏa mãn thấp?"
   ]
  },
  {
   "cell_type": "code",
   "execution_count": 94,
   "metadata": {},
   "outputs": [
    {
     "data": {
      "text/plain": [
       "Ttest_indResult(statistic=-0.08995864315506355, pvalue=0.9283323511534929)"
      ]
     },
     "execution_count": 94,
     "metadata": {},
     "output_type": "execute_result"
    }
   ],
   "source": [
    "result = stats.ttest_ind(new_df[new_df['Satisfaction'] == \"Cao\"]['Age'], new_df[new_df['Satisfaction'] == \"Thấp\"]['Age'])\n",
    "result"
   ]
  },
  {
   "cell_type": "code",
   "execution_count": 95,
   "metadata": {},
   "outputs": [
    {
     "name": "stdout",
     "output_type": "stream",
     "text": [
      "Không có cơ sở để bác bỏ H0. Chấp nhận H0 với mức ý nghĩa 0.9283323511534929\n"
     ]
    }
   ],
   "source": [
    "compare_pvalue(result) #check"
   ]
  },
  {
   "cell_type": "markdown",
   "metadata": {},
   "source": [
    "**Kết luận**: Đây không phải là yếu tố đóng vai trò trong satisfaction rate"
   ]
  },
  {
   "cell_type": "markdown",
   "metadata": {},
   "source": [
    "**Hypothesis Testing 08**: Liệu có sự khác biệt về quảng đường đi làm (Distance) giữa người có mức độ thỏa mãn cao và người có mức độ thỏa mãn thấp?"
   ]
  },
  {
   "cell_type": "code",
   "execution_count": 96,
   "metadata": {},
   "outputs": [
    {
     "data": {
      "text/plain": [
       "Ttest_indResult(statistic=0.16865587468067636, pvalue=0.8660905622730832)"
      ]
     },
     "execution_count": 96,
     "metadata": {},
     "output_type": "execute_result"
    }
   ],
   "source": [
    "result = stats.ttest_ind(new_df[new_df['Satisfaction'] == \"Cao\"]['Distance'], new_df[new_df['Satisfaction'] == \"Thấp\"]['Distance'])\n",
    "result"
   ]
  },
  {
   "cell_type": "code",
   "execution_count": 97,
   "metadata": {},
   "outputs": [
    {
     "name": "stdout",
     "output_type": "stream",
     "text": [
      "Không có cơ sở để bác bỏ H0. Chấp nhận H0 với mức ý nghĩa 0.8660905622730832\n"
     ]
    }
   ],
   "source": [
    "compare_pvalue(result) #check"
   ]
  },
  {
   "cell_type": "markdown",
   "metadata": {},
   "source": [
    "**Kết luận**: Đây không phải là yếu tố đóng vai trò trong satisfaction rate"
   ]
  },
  {
   "cell_type": "markdown",
   "metadata": {},
   "source": [
    "**Hypothesis Testing 09**: Liệu có sự khác biệt về tiền lương (Income) giữa người có mức độ thỏa mãn cao và người có mức độ thỏa mãn thấp?"
   ]
  },
  {
   "cell_type": "code",
   "execution_count": 98,
   "metadata": {},
   "outputs": [
    {
     "data": {
      "text/plain": [
       "Ttest_indResult(statistic=-0.270363252837717, pvalue=0.7869188116459493)"
      ]
     },
     "execution_count": 98,
     "metadata": {},
     "output_type": "execute_result"
    }
   ],
   "source": [
    "result = stats.ttest_ind(new_df[new_df['Satisfaction'] == \"Cao\"]['Income'], new_df[new_df['Satisfaction'] == \"Thấp\"]['Income'])\n",
    "result"
   ]
  },
  {
   "cell_type": "code",
   "execution_count": 99,
   "metadata": {},
   "outputs": [
    {
     "name": "stdout",
     "output_type": "stream",
     "text": [
      "Không có cơ sở để bác bỏ H0. Chấp nhận H0 với mức ý nghĩa 0.7869188116459493\n"
     ]
    }
   ],
   "source": [
    "compare_pvalue(result)"
   ]
  },
  {
   "cell_type": "markdown",
   "metadata": {},
   "source": [
    "**Kết luận**: Đây không phải là yếu tố đóng vai trò trong satisfaction rate"
   ]
  },
  {
   "cell_type": "markdown",
   "metadata": {},
   "source": [
    "**Hypothesis Testing 10**: Liệu có sự khác biệt về thâm niên (YearsAtCompany) giữa người có mức độ thỏa mãn cao và người có mức độ thỏa mãn thấp?"
   ]
  },
  {
   "cell_type": "code",
   "execution_count": 100,
   "metadata": {},
   "outputs": [
    {
     "data": {
      "text/plain": [
       "Ttest_indResult(statistic=-0.19532613101943727, pvalue=0.8451646718567182)"
      ]
     },
     "execution_count": 100,
     "metadata": {},
     "output_type": "execute_result"
    }
   ],
   "source": [
    "result = stats.ttest_ind(new_df[new_df['Satisfaction'] == \"Cao\"]['YearsAtCompany'], new_df[new_df['Satisfaction'] == \"Thấp\"]['YearsAtCompany'])\n",
    "result"
   ]
  },
  {
   "cell_type": "code",
   "execution_count": 101,
   "metadata": {},
   "outputs": [
    {
     "name": "stdout",
     "output_type": "stream",
     "text": [
      "Không có cơ sở để bác bỏ H0. Chấp nhận H0 với mức ý nghĩa 0.8451646718567182\n"
     ]
    }
   ],
   "source": [
    "compare_pvalue(result)"
   ]
  },
  {
   "cell_type": "markdown",
   "metadata": {},
   "source": [
    "**Kết luận**: Đây không phải là yếu tố đóng vai trò trong satisfaction rate"
   ]
  },
  {
   "cell_type": "markdown",
   "metadata": {},
   "source": [
    "# III. Conclusions\n",
    "\n",
    "Qua các phần đánh giá số liệu ở trên, ta nhận thấy:<br>\n",
    "- Người muốn ra đi có độ thỏa mãn (satisfaction) thấp hơn người ở lại. (t-test)\n",
    "- Người muốn ra đi có quãng đường từ nhà đến nơi làm (distance) cao hơn người ở lại. (t-test)\n",
    "- Người muốn ra đi có lương (income) thấp hơn người ở lại. (t-test)\n",
    "- Người muốn ra đi có độ tuổi (age) trẻ hơn người ở lại. (t-test)\n",
    "- Người muốn ra đi có thâm niên (YearsAtCompany) thấp hơn người ở lại. (t-test)\n",
    "- Không có sự khác biệt giữa mức độ đánh giá năng lực (evaluation) có người muốn ra đi và người ở lại. Với độ tin cậy > 90%.\n",
    "\n",
    "\n",
    "- Theo số liệu nhân viên làm trong ngành **R&D** là nhiều nhất (visualization). Nhưng số nhân viên nghỉ nhiều nhất rơi vào ngành **sales** chiếm **20.63%** trong cùng ngành, và tiếp theo là ngành **HR**, nhân viên nghỉ chiếm **19.05%** trong cùng ngành. Kết luận: nhóm ngành đối mặt với áp lực dễ ra đi nhất là bên **Sales**\n",
    "- Những nhân sự hay làm thêm giờ (overtime) thì ra đi nhiều hơn hẳn những người không làm thêm giờ. Những người ra đi có làm OT chiếm đến **30.53%** trong những người làm OT. Trong khi con số này với những người không làm OT chỉ có 10.44%. Kết luận: làm quá nhiều thì nhân viên có xu hướng ra đi.\n",
    "- Về giới tính, thì nam nghỉ nhiều hơn là nữ. Nam ra đi chiếm **17.01%** so với tổng thể nam. Cứ 100 nam thì 17 người muốn ra đi. Kết luận: nam sẵn sàng ra đi tìm bến đỗ mới hơn là nữ. \n",
    "- Về tiền lương thì có mức chênh lệch cao, min **1.009** max **20.000** mode **4.919** (data describe)\n",
    "\n",
    "Và kết luận từ một số đặc điểm tương quan sau: (Correlation Matrix & Heatmap)\n",
    "- Nhân viên lớn tuổi thì lương cao hơn.\n",
    "- Thâm niên cao thì lương cao hơn.\n",
    "- Nhân viên lớn tuổi gắn bó với công ty hơn."
   ]
  },
  {
   "cell_type": "markdown",
   "metadata": {},
   "source": [
    "Ta kết luận những nhân tố đóng vai trò trong:<br>\n",
    "Độ hụt giảm(Attrition) gồm: Satisfaction, Distance, Income,Age, YearsAtCompany<br>\n",
    "Độ thỏa mãn(Satisfaction) gồm: Attrition\n"
   ]
  },
  {
   "cell_type": "markdown",
   "metadata": {},
   "source": [
    "# IV. References\n",
    "[Predicting Employee Kernelover](https://www.kaggle.com/randylaosat/predicting-employee-kernelover)<br>\n",
    "[Data Analysis - Tại sao nhân viên bỏ việc](https://viblo.asia/p/data-analysis-tai-sao-nhan-vien-bo-viec-ByEZkW6gZQ0)"
   ]
  }
 ],
 "metadata": {
  "kernelspec": {
   "display_name": "Python 3",
   "language": "python",
   "name": "python3"
  },
  "language_info": {
   "codemirror_mode": {
    "name": "ipython",
    "version": 3
   },
   "file_extension": ".py",
   "mimetype": "text/x-python",
   "name": "python",
   "nbconvert_exporter": "python",
   "pygments_lexer": "ipython3",
   "version": "3.7.9"
  }
 },
 "nbformat": 4,
 "nbformat_minor": 2
}
